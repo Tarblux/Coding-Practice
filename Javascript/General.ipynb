{
 "cells": [
  {
   "cell_type": "markdown",
   "metadata": {},
   "source": [
    "**Basics**"
   ]
  },
  {
   "cell_type": "code",
   "execution_count": 2,
   "metadata": {},
   "outputs": [
    {
     "name": "stdout",
     "output_type": "stream",
     "text": [
      "Hello Squirrel\n",
      "maverick\n",
      "willy\n",
      "4\n"
     ]
    }
   ],
   "source": [
    "console.log(\"Hello Squirrel\");\n",
    "\n",
    "let firstname = 'maverick'\n",
    "\n",
    "console.log(firstname);\n",
    "\n",
    "let lastname = 'willy'\n",
    "console.log(lastname)\n",
    "\n",
    "const test = 4\n",
    "console.log(test)"
   ]
  },
  {
   "cell_type": "code",
   "execution_count": 1,
   "metadata": {},
   "outputs": [
    {
     "name": "stdout",
     "output_type": "stream",
     "text": [
      "0.3\n"
     ]
    }
   ],
   "source": [
    "//Constants\n",
    "const interestRate = 0.3;\n",
    "// interestRate = 9 , This will throw an error since we can't reassign a constant.\n",
    "console.log(interestRate)\n",
    "\n"
   ]
  },
  {
   "cell_type": "code",
   "execution_count": null,
   "metadata": {},
   "outputs": [],
   "source": [
    "//Primitives\n",
    "\n",
    "let age = 30 ; // Number Literal\n",
    "let name2 = 'Tariq' ; //String Literal\n",
    "let isApproved = false ; // Boolean Literal \n",
    "let firstName; // If we don't initialize it by default it will be undefined \n",
    "let lastName = null ; // This clears  the value stored in a variable "
   ]
  },
  {
   "cell_type": "code",
   "execution_count": 3,
   "metadata": {},
   "outputs": [
    {
     "name": "stdout",
     "output_type": "stream",
     "text": [
      "Hello JohnSmith\n",
      "Hello Maryundefined\n"
     ]
    }
   ],
   "source": [
    "//functions \n",
    "\n",
    "function greet(name , lastName) {\n",
    "    console.log('Hello ' + name + lastName )\n",
    "}\n",
    "\n",
    "greet('John' , 'Smith')\n",
    "\n",
    "function add(a,b) {\n",
    "\n",
    "sum = a + b \n",
    "return sum\n",
    "\n",
    "}\n",
    "\n",
    "// Notice that this prints undefined , that's becuase we didn't pass a second argument to the function so the last name parameter in the function ended up\n",
    "// being undefined\n",
    "\n",
    "greet('Mary')\n"
   ]
  },
  {
   "cell_type": "code",
   "execution_count": null,
   "metadata": {},
   "outputs": [],
   "source": [
    "// Function that calculates a value \n",
    "\n",
    "function square(number) {\n",
    "    return number * number ;     \n",
    " }\n",
    " \n",
    " \n",
    " function factorial(number) {\n",
    "         \n",
    "         if (number === 0) {\n",
    "                 return 1;\n",
    "         }\n",
    "         return number * factorial(number - 1);\n",
    " }\n",
    " \n",
    " console.log(square(9))"
   ]
  }
 ],
 "metadata": {
  "kernelspec": {
   "display_name": "Deno",
   "language": "typescript",
   "name": "deno"
  },
  "language_info": {
   "codemirror_mode": "typescript",
   "file_extension": ".ts",
   "mimetype": "text/x.typescript",
   "name": "typescript",
   "nbconvert_exporter": "script",
   "pygments_lexer": "typescript",
   "version": "5.5.2"
  }
 },
 "nbformat": 4,
 "nbformat_minor": 2
}
