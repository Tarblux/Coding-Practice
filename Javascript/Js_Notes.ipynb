{
 "cells": [
  {
   "cell_type": "markdown",
   "metadata": {},
   "source": [
    "# Basics\n",
    "\n",
    "console.log acts like a print statement in python\n",
    "\n",
    "**The Primitives are as follows :**\n",
    "\n",
    "\n",
    "let age = 30 ; - Number Literal \\\n",
    "let name2 = 'Tariq' ; - String Literal \\\n",
    "let isApproved = false ; - Boolean Literal \\\n",
    "let firstName; - If we don't initialize it by default it will be undefined \\\n",
    "let lastName = null ; - This clears  the value stored in a variable \\\n",
    "\n",
    "**Functions**\n",
    "\n",
    "Works the same as they do in python but with a slightly diffrent buzz yzt \n",
    "\n"
   ]
  },
  {
   "cell_type": "code",
   "execution_count": 4,
   "metadata": {
    "vscode": {
     "languageId": "javascript"
    }
   },
   "outputs": [
    {
     "ename": "SyntaxError",
     "evalue": "invalid syntax (525904901.py, line 1)",
     "output_type": "error",
     "traceback": [
      "\u001b[0;36m  Cell \u001b[0;32mIn[4], line 1\u001b[0;36m\u001b[0m\n\u001b[0;31m    function greet(name , lastName) {\u001b[0m\n\u001b[0m             ^\u001b[0m\n\u001b[0;31mSyntaxError\u001b[0m\u001b[0;31m:\u001b[0m invalid syntax\n"
     ]
    }
   ],
   "source": [
    "function greet(name , lastName) {\n",
    "        console.log('Hello ' + name + lastName )\n",
    "}\n",
    "\n",
    "greet('John', 'Smith')\n",
    "\n",
    "// Notice that this prints undefined , that's becuase we didn't pass a second argument to the function \n",
    "// so the last name parameter in the function ended up being undefined\n",
    "\n",
    "greet('Mary')\n",
    "\n",
    "// Function that calculates a value \n",
    "\n",
    "function square(number) {\n",
    "   return number * number ;     \n",
    "}\n",
    "\n",
    "console.log(square(9))"
   ]
  }
 ],
 "metadata": {
  "kernelspec": {
   "display_name": "Python 3",
   "language": "python",
   "name": "python3"
  },
  "language_info": {
   "codemirror_mode": {
    "name": "ipython",
    "version": 3
   },
   "file_extension": ".py",
   "mimetype": "text/x-python",
   "name": "python",
   "nbconvert_exporter": "python",
   "pygments_lexer": "ipython3",
   "version": "3.9.6"
  },
  "orig_nbformat": 4
 },
 "nbformat": 4,
 "nbformat_minor": 2
}
