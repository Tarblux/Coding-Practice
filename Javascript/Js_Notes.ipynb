{
 "cells": [
  {
   "cell_type": "markdown",
   "metadata": {},
   "source": [
    "# Basics\n",
    "\n",
    "console.log acts like a print statement in python\n",
    "\n",
    "**The Primitives are as follows :**\n",
    "\n",
    "\n",
    "let age = 30 ; - Number Literal \\\n",
    "let name2 = 'Tariq' ; - String Literal \\\n",
    "let isApproved = false ; - Boolean Literal \\\n",
    "let firstName; - If we don't initialize it by default it will be undefined \\\n",
    "let lastName = null ; - This clears  the value stored in a variable \\\n",
    "\n",
    "**Functions**\n",
    "\n",
    "Works the same as they do in python but with a slightly diffrent buzz yzt \n",
    "\n"
   ]
  },
  {
   "cell_type": "code",
   "execution_count": 1,
   "metadata": {
    "vscode": {
     "languageId": "javascript"
    }
   },
   "outputs": [
    {
     "name": "stdout",
     "output_type": "stream",
     "text": [
      "Hello JohnSmith\n",
      "Hello Maryundefined\n",
      "81\n"
     ]
    }
   ],
   "source": [
    "function greet(name , lastName) {\n",
    "        console.log('Hello ' + name + lastName )\n",
    "}\n",
    "\n",
    "greet('John', 'Smith')\n",
    "\n",
    "// Notice that this prints undefined , that's becuase we didn't pass a second argument to the function \n",
    "// so the last name parameter in the function ended up being undefined\n",
    "\n",
    "greet('Mary')\n",
    "\n",
    "// Function that calculates a value \n",
    "\n",
    "function square(number) {\n",
    "   return number * number ;     \n",
    "}\n",
    "\n",
    "console.log(square(9))"
   ]
  },
  {
   "cell_type": "markdown",
   "metadata": {},
   "source": [
    "\n",
    "## JavaScript Variable Declarations: `const`, `var`, and `let`\n",
    "\n",
    "In JavaScript, `const`, `var`, and `let` are used for declaring variables, and they have different scopes and behaviors.\n",
    "\n",
    "### `var`\n",
    "\n",
    "- **Scope**: Function Scope\n",
    "- **Hoisting**: Variables declared with `var` are hoisted to the top of their containing function or the global scope. This means you can use a `var` variable before it's declared, but it will be `undefined` until it's assigned a value.\n",
    "\n",
    "Example:\n",
    "```javascript\n",
    "function example() {\n",
    "    if (true) {\n",
    "        var x = 10;\n",
    "    }\n",
    "    console.log(x); // x is accessible here, and it logs 10\n",
    "}\n",
    "```\n",
    "\n",
    "### `let`\n",
    "\n",
    "- **Scope**: Block Scope\n",
    "- **No Hoisting**: Variables declared with `let` are not hoisted to the top of their scope. They are not accessible before the line where they are declared.\n",
    "\n",
    "Example:\n",
    "```javascript\n",
    "function example() {\n",
    "    if (true) {\n",
    "        let y = 20;\n",
    "    }\n",
    "    console.log(y); // This will result in an error because y is not defined here\n",
    "}\n",
    "```\n",
    "\n",
    "### `const`\n",
    "\n",
    "- **Scope**: Block Scope\n",
    "- **Constant Value**: Variables declared with `const` are constant, meaning their values cannot be reassigned after they are initially assigned. However, the contents of objects and arrays declared with `const` can be modified.\n",
    "\n",
    "Example:\n",
    "```javascript\n",
    "const PI = 3.14159; // PI is a constant\n",
    "PI = 3.14; // This will result in an error because you can't reassign a constant variable\n",
    "\n",
    "const colors = ['red', 'green', 'blue'];\n",
    "colors.push('yellow'); // This is allowed because it's modifying the contents, not reassigning the variable itself\n",
    "```\n",
    "\n",
    "In modern JavaScript, it's generally recommended to use `const` by default for variables that should not be reassigned and fall back to `let` when you need a variable that can be changed within a block. `var` is used less often in modern JavaScript due to its function scope and hoisting behavior, which can lead to unexpected results and bugs in larger and more complex codebases.\n"
   ]
  }
 ],
 "metadata": {
  "kernelspec": {
   "display_name": "Python 3",
   "language": "python",
   "name": "python3"
  },
  "language_info": {
   "file_extension": ".js",
   "mimetype": "application/javascript",
   "name": "python",
   "version": "3.9.6"
  },
  "orig_nbformat": 4
 },
 "nbformat": 4,
 "nbformat_minor": 2
}
