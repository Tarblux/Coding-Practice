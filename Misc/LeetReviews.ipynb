{
 "cells": [
  {
   "cell_type": "markdown",
   "metadata": {},
   "source": [
    "## TIC TAC TOE "
   ]
  },
  {
   "cell_type": "code",
   "execution_count": null,
   "metadata": {},
   "outputs": [],
   "source": [
    "class Solution:\n",
    "    \n",
    "    def tictactoe(self, moves: List[List[int]]) -> str:\n",
    "\n",
    "        row_dict  , col_dict = {} , {}\n",
    "\n",
    "        diag1 , diag2 = '' , ''\n",
    "\n",
    "        X , O = 'XXX' , 'OOO'\n",
    "\n",
    "\n",
    "        for i , [row,col] in enumerate(moves): \n",
    "\n",
    "            symbol = 'X' if i % 2 == 0 else 'O'\n",
    "\n",
    "            row_dict[row] = row_dict.get(row, '') + symbol\n",
    "\n",
    "            col_dict[col] = col_dict.get(col, '') + symbol\n",
    "\n",
    "            if row == col : \n",
    "\n",
    "                diag1 += symbol \n",
    "\n",
    "            if row + col == 2 : \n",
    "\n",
    "                diag2 += symbol\n",
    "\n",
    "            if X in (row_dict[row], col_dict[col], diag1, diag2):\n",
    "\n",
    "                return \"A\"\n",
    "\n",
    "            if O in (row_dict[row], col_dict[col], diag1, diag2):\n",
    "\n",
    "                return \"B\"\n",
    "\n",
    "\n",
    "        if len(moves) == 9:\n",
    "\n",
    "            return \"Draw\"\n",
    "\n",
    "        else:\n",
    "\n",
    "            return \"Pending\""
   ]
  }
 ],
 "metadata": {
  "language_info": {
   "name": "python"
  }
 },
 "nbformat": 4,
 "nbformat_minor": 2
}
