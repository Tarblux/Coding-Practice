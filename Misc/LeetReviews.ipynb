{
 "cells": [
  {
   "cell_type": "markdown",
   "metadata": {},
   "source": [
    "## Container With Most Water"
   ]
  },
  {
   "cell_type": "markdown",
   "metadata": {},
   "source": [
    "You are given an integer array height of length n. There are n vertical lines drawn such that the two endpoints of the ith line are (i, 0) and (i, height[i]).\n",
    "\n",
    "Find two lines that together with the x-axis form a container, such that the container contains the most water.\n",
    "\n",
    "Return the maximum amount of water a container can store.\n",
    "\n",
    "Notice that you may not slant the container.\n",
    "\n",
    " \n",
    "\n",
    "Example 1:\n",
    "\n",
    "Input: height = [1,8,6,2,5,4,8,3,7]\n",
    "Output: 49\n",
    "Explanation: The above vertical lines are represented by array [1,8,6,2,5,4,8,3,7]. In this case, the max area of water (blue section) the container can contain is 49.\n",
    "\n",
    "Example 2:\n",
    "\n",
    "Input: height = [1,1]\n",
    "Output: 1\n",
    "\n",
    " \n",
    "\n",
    "Constraints:\n",
    "\n",
    "    n == height.length\n",
    "    2 <= n <= 105\n",
    "    0 <= height[i] <= 104\n",
    "\n"
   ]
  },
  {
   "cell_type": "code",
   "execution_count": null,
   "metadata": {},
   "outputs": [],
   "source": [
    "class Solution:\n",
    "    def maxArea(self, height: List[int]) -> int:\n",
    "\n",
    "\n",
    "        right = len(height) - 1\n",
    "\n",
    "        left = 0 \n",
    "\n",
    "        max_area = 0 \n",
    "\n",
    "        while left < right : \n",
    "\n",
    "            area = min(height[left],height[right]) * (right - left)\n",
    "\n",
    "            max_area = max(area,max_area)\n",
    "\n",
    "            if height[left] > height[right] : \n",
    "\n",
    "                right -= 1\n",
    "\n",
    "                continue \n",
    "\n",
    "            \n",
    "\n",
    "            if height[left] < height[right] : \n",
    "\n",
    "                left += 1 \n",
    "\n",
    "                continue \n",
    "\n",
    "            if height[left] == height[right] : \n",
    "\n",
    "                right -= 1\n",
    "\n",
    "                continue \n",
    "        \n",
    "        return max_area"
   ]
  }
 ],
 "metadata": {
  "language_info": {
   "name": "python"
  }
 },
 "nbformat": 4,
 "nbformat_minor": 2
}
