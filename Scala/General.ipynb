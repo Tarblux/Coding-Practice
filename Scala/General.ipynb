{
 "cells": [
  {
   "cell_type": "markdown",
   "metadata": {},
   "source": [
    "# Basics"
   ]
  },
  {
   "cell_type": "code",
   "execution_count": 3,
   "metadata": {},
   "outputs": [
    {
     "name": "stdout",
     "output_type": "stream",
     "text": [
      "Hello Squirrel\n"
     ]
    },
    {
     "data": {
      "text/plain": [
       "\u001b[36mmsg\u001b[39m: \u001b[32mString\u001b[39m = \u001b[32m\"Hello Squirrel\"\u001b[39m"
      ]
     },
     "execution_count": 3,
     "metadata": {},
     "output_type": "execute_result"
    }
   ],
   "source": [
    "val msg:String = \"Hello Squirrel\"\n",
    "println(msg)"
   ]
  },
  {
   "cell_type": "code",
   "execution_count": 10,
   "metadata": {},
   "outputs": [
    {
     "data": {
      "text/plain": [
       "defined \u001b[32mfunction\u001b[39m \u001b[36mmax\u001b[39m\n",
       "\u001b[36mbigger\u001b[39m: \u001b[32mInt\u001b[39m = \u001b[32m81\u001b[39m"
      ]
     },
     "execution_count": 10,
     "metadata": {},
     "output_type": "execute_result"
    }
   ],
   "source": [
    "def max(x:Int , y:Int): Int = {\n",
    "\n",
    "    if (x > y)\n",
    "        x\n",
    "    else\n",
    "        y\n",
    "}\n",
    "\n",
    "var bigger:Int = max(40,5)\n",
    "bigger += 41"
   ]
  },
  {
   "cell_type": "code",
   "execution_count": 13,
   "metadata": {},
   "outputs": [
    {
     "name": "stdout",
     "output_type": "stream",
     "text": [
      "0123456789"
     ]
    },
    {
     "data": {
      "text/plain": [
       "\u001b[36mi\u001b[39m: \u001b[32mInt\u001b[39m = \u001b[32m10\u001b[39m"
      ]
     },
     "execution_count": 13,
     "metadata": {},
     "output_type": "execute_result"
    }
   ],
   "source": [
    "var i:Int = 0 \n",
    "while (i < 10){\n",
    "    print(i)\n",
    "    i += 1\n",
    "}"
   ]
  }
 ],
 "metadata": {
  "kernelspec": {
   "display_name": "Scala",
   "language": "scala",
   "name": "scala"
  },
  "language_info": {
   "codemirror_mode": "text/x-scala",
   "file_extension": ".sc",
   "mimetype": "text/x-scala",
   "name": "scala",
   "nbconvert_exporter": "script",
   "version": "2.13.16"
  }
 },
 "nbformat": 4,
 "nbformat_minor": 4
}
