{
 "cells": [
  {
   "cell_type": "code",
   "execution_count": 2,
   "metadata": {
    "vscode": {
     "languageId": "rust"
    }
   },
   "outputs": [],
   "source": [
    "fn main() {\n",
    "    let mut x: Box<i32> = Box::new(1);\n",
    "    let a: i32 = *x;         // *x reads the heap value, so a = 1\n",
    "    *x += 1;                 // *x on the left-side modifies the heap value,\n",
    "                             //     so x points to the value 2\n",
    "    \n",
    "    let r1: &Box<i32> = &x;  // r1 points to x on the stack\n",
    "    let b: i32 = **r1;       // two dereferences get us to the heap value\n",
    "    \n",
    "    let r2: &i32 = &*x;      // r2 points to the heap value directly\n",
    "    let c: i32 = *r2;    // so only one dereference is needed to read it\n",
    "    }"
   ]
  }
 ],
 "metadata": {
  "kernelspec": {
   "display_name": "Rust",
   "language": "rust",
   "name": "rust"
  },
  "language_info": {
   "codemirror_mode": "rust",
   "file_extension": ".rs",
   "mimetype": "text/rust",
   "name": "Rust",
   "pygment_lexer": "rust",
   "version": ""
  }
 },
 "nbformat": 4,
 "nbformat_minor": 2
}
