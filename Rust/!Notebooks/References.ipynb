{
 "cells": [
  {
   "cell_type": "code",
   "execution_count": 5,
   "metadata": {},
   "outputs": [
    {
     "name": "stdout",
     "output_type": "stream",
     "text": [
      "1\n"
     ]
    },
    {
     "data": {
      "text/plain": [
       "()"
      ]
     },
     "execution_count": 5,
     "metadata": {},
     "output_type": "execute_result"
    }
   ],
   "source": [
    "fn main() {\n",
    "    let mut x: Box<i32> = Box::new(1);\n",
    "    let a: i32 = *x;         // *x reads the heap value, so a = 1\n",
    "    *x += 1;                 // *x on the left-side modifies the heap value,\n",
    "                             //     so x points to the value 2\n",
    "    \n",
    "    let r1: &Box<i32> = &x;  // r1 points to x on the stack\n",
    "    println!(\"{a}\");\n",
    "    let b: i32 = **r1;       // two dereferences get us to the heap value\n",
    "    \n",
    "    let r2: &i32 = &*x;      // r2 points to the heap value directly\n",
    "    let c: i32 = *r2;    // so only one dereference is needed to read it\n",
    "    }\n",
    "main()"
   ]
  },
  {
   "cell_type": "code",
   "execution_count": 8,
   "metadata": {},
   "outputs": [
    {
     "name": "stdout",
     "output_type": "stream",
     "text": [
      "0 0\n"
     ]
    },
    {
     "data": {
      "text/plain": [
       "()"
      ]
     },
     "execution_count": 8,
     "metadata": {},
     "output_type": "execute_result"
    }
   ],
   "source": [
    "fn main() {\n",
    "    let x = 0;\n",
    "    let mut x_ref = &x; \n",
    "    println!(\"{x_ref} {x}\");\n",
    "}\n",
    "main()"
   ]
  },
  {
   "cell_type": "markdown",
   "metadata": {
    "vscode": {
     "languageId": "raw"
    }
   },
   "source": [
    "# Understanding References in Rust\n",
    "\n",
    "References are one of Rust's most powerful features. They allow you to:\n",
    "- Access data without taking ownership\n",
    "- Share data between different parts of your program\n",
    "- Modify data in place when needed\n",
    "\n",
    "Let's explore the key concepts:\n"
   ]
  },
  {
   "cell_type": "code",
   "execution_count": null,
   "metadata": {},
   "outputs": [],
   "source": [
    "fn main() {\n",
    "    // 1. Basic References\n",
    "    let x = 5;\n",
    "    let ref_to_x = &x;  // Create an immutable reference\n",
    "    \n",
    "    println!(\"Value of x: {}\", x);\n",
    "    println!(\"Value referenced by ref_to_x: {}\", *ref_to_x);  // Dereference to get the value\n",
    "    \n",
    "    // 2. Mutable References\n",
    "    let mut y = 10;\n",
    "    let ref_to_y = &mut y;  // Create a mutable reference\n",
    "    *ref_to_y += 5;  // Modify the value through the reference\n",
    "    \n",
    "    println!(\"\\nAfter modification:\");\n",
    "    println!(\"Value of y: {}\", y);  // Will print 15\n",
    "}\n",
    "main()\n"
   ]
  },
  {
   "cell_type": "markdown",
   "metadata": {
    "vscode": {
     "languageId": "raw"
    }
   },
   "source": [
    "## Borrowing Rules\n",
    "\n",
    "Rust has strict borrowing rules that prevent data races:\n",
    "\n",
    "1. At any given time, you can have either:\n",
    "   - One mutable reference\n",
    "   - Any number of immutable references\n",
    "\n",
    "2. References must always be valid (no dangling references)\n",
    "\n",
    "Let's see these rules in action:\n"
   ]
  },
  {
   "cell_type": "code",
   "execution_count": null,
   "metadata": {},
   "outputs": [],
   "source": [
    "fn main() {\n",
    "    let mut value = 10;\n",
    "    \n",
    "    // Multiple immutable references are OK\n",
    "    let ref1 = &value;\n",
    "    let ref2 = &value;\n",
    "    let ref3 = &value;\n",
    "    \n",
    "    println!(\"All references see the same value:\");\n",
    "    println!(\"ref1: {}, ref2: {}, ref3: {}\", ref1, ref2, ref3);\n",
    "    \n",
    "    // But you can't have a mutable reference while immutable ones exist\n",
    "    // This would cause an error:\n",
    "    // let mut_ref = &mut value;  // Error!\n",
    "    // println!(\"ref1: {}, mut_ref: {}\", ref1, mut_ref);\n",
    "    \n",
    "    // After the immutable references are no longer used,\n",
    "    // we can create a mutable reference\n",
    "    let mut_ref = &mut value;\n",
    "    *mut_ref = 20;\n",
    "    \n",
    "    println!(\"\\nAfter mutation:\");\n",
    "    println!(\"value is now: {}\", value);\n",
    "}\n",
    "main()\n"
   ]
  },
  {
   "cell_type": "markdown",
   "metadata": {
    "vscode": {
     "languageId": "raw"
    }
   },
   "source": [
    "## References in Functions\n",
    "\n",
    "References are commonly used in function parameters to:\n",
    "1. Avoid taking ownership of values\n",
    "2. Allow functions to modify their arguments\n",
    "3. Improve performance by avoiding copies\n",
    "\n",
    "Here's how to use references in functions:\n"
   ]
  },
  {
   "cell_type": "code",
   "execution_count": null,
   "metadata": {},
   "outputs": [],
   "source": [
    "// Function that takes an immutable reference\n",
    "fn calculate_length(s: &String) -> usize {\n",
    "    s.len()  // s is borrowed, original string is not moved\n",
    "}\n",
    "\n",
    "// Function that takes a mutable reference\n",
    "fn append_world(s: &mut String) {\n",
    "    s.push_str(\" world\");  // Modifies the original string\n",
    "}\n",
    "\n",
    "fn main() {\n",
    "    let mut my_string = String::from(\"hello\");\n",
    "    \n",
    "    // Using immutable reference\n",
    "    let length = calculate_length(&my_string);\n",
    "    println!(\"Length of '{}' is {}\", my_string, length);\n",
    "    \n",
    "    // Using mutable reference\n",
    "    append_world(&mut my_string);\n",
    "    println!(\"After modification: '{}'\", my_string);\n",
    "    \n",
    "    // Original string is still valid and usable here\n",
    "    println!(\"String is still owned by main: '{}'\", my_string);\n",
    "}\n",
    "main()\n"
   ]
  },
  {
   "cell_type": "markdown",
   "metadata": {
    "vscode": {
     "languageId": "raw"
    }
   },
   "source": [
    "## Slices\n",
    "\n",
    "Slices are a special kind of reference that refer to a sequence of elements in a collection. They're useful for:\n",
    "- Referring to part of a string\n",
    "- Working with portions of arrays or vectors\n",
    "- Preventing buffer overflows\n",
    "\n",
    "Here's how to use slices:\n"
   ]
  },
  {
   "cell_type": "code",
   "execution_count": null,
   "metadata": {},
   "outputs": [],
   "source": [
    "fn main() {\n",
    "    // String slices\n",
    "    let message = String::from(\"Hello World\");\n",
    "    let hello = &message[0..5];  // or &message[..5]\n",
    "    let world = &message[6..11]; // or &message[6..]\n",
    "    \n",
    "    println!(\"First word: {}\", hello);\n",
    "    println!(\"Second word: {}\", world);\n",
    "    \n",
    "    // Array slices\n",
    "    let numbers = [1, 2, 3, 4, 5];\n",
    "    let slice = &numbers[1..4];\n",
    "    \n",
    "    println!(\"\\nArray slice: {:?}\", slice);\n",
    "    \n",
    "    // Using slices in functions\n",
    "    fn first_word(s: &str) -> &str {  // &str is a string slice\n",
    "        let bytes = s.as_bytes();\n",
    "        \n",
    "        for (i, &item) in bytes.iter().enumerate() {\n",
    "            if item == b' ' {\n",
    "                return &s[0..i];\n",
    "            }\n",
    "        }\n",
    "        \n",
    "        &s[..]\n",
    "    }\n",
    "    \n",
    "    let first = first_word(&message);\n",
    "    println!(\"\\nFirst word using function: {}\", first);\n",
    "}\n",
    "main()\n"
   ]
  },
  {
   "cell_type": "markdown",
   "metadata": {
    "vscode": {
     "languageId": "raw"
    }
   },
   "source": [
    "## Common Reference Patterns\n",
    "\n",
    "Here are some common patterns you'll see when working with references:\n",
    "1. Method calls with `self` references\n",
    "2. Iterating over collections with references\n",
    "3. Working with smart pointers like `Box<T>`\n",
    "\n",
    "Let's look at these patterns:\n"
   ]
  },
  {
   "cell_type": "code",
   "execution_count": null,
   "metadata": {},
   "outputs": [],
   "source": [
    "// Define a struct with methods\n",
    "struct Person {\n",
    "    name: String,\n",
    "    age: u32,\n",
    "}\n",
    "\n",
    "impl Person {\n",
    "    // Method taking immutable reference to self\n",
    "    fn describe(&self) -> String {\n",
    "        format!(\"{} is {} years old\", self.name, self.age)\n",
    "    }\n",
    "    \n",
    "    // Method taking mutable reference to self\n",
    "    fn have_birthday(&mut self) {\n",
    "        self.age += 1;\n",
    "    }\n",
    "}\n",
    "\n",
    "fn main() {\n",
    "    // 1. Using methods with self references\n",
    "    let mut person = Person {\n",
    "        name: String::from(\"Alice\"),\n",
    "        age: 30,\n",
    "    };\n",
    "    \n",
    "    println!(\"Initially: {}\", person.describe());\n",
    "    person.have_birthday();\n",
    "    println!(\"After birthday: {}\", person.describe());\n",
    "    \n",
    "    // 2. Iterating with references\n",
    "    let numbers = vec![1, 2, 3, 4, 5];\n",
    "    \n",
    "    // Iterate over references to avoid moving values\n",
    "    for num in &numbers {\n",
    "        println!(\"Got number: {}\", num);\n",
    "    }\n",
    "    \n",
    "    // numbers is still valid here\n",
    "    println!(\"Vector is: {:?}\", numbers);\n",
    "    \n",
    "    // 3. Working with Box<T>\n",
    "    let boxed_num = Box::new(42);\n",
    "    let reference = &boxed_num;\n",
    "    \n",
    "    println!(\"\\nValue in box: {}\", boxed_num);\n",
    "    println!(\"Same value through reference: {}\", reference);\n",
    "}\n",
    "main()\n"
   ]
  },
  {
   "cell_type": "code",
   "execution_count": null,
   "metadata": {},
   "outputs": [],
   "source": [
    "fn main() {\n",
    "    // 1. Basic References\n",
    "    let x = 5;\n",
    "    let ref_to_x = &x;  // Create an immutable reference\n",
    "    \n",
    "    println!(\"Value of x: {}\", x);\n",
    "    println!(\"Value referenced by ref_to_x: {}\", *ref_to_x);  // Dereference to get the value\n",
    "    \n",
    "    // 2. Mutable References\n",
    "    let mut y = 10;\n",
    "    let ref_to_y = &mut y;  // Create a mutable reference\n",
    "    *ref_to_y += 5;  // Modify the value through the reference\n",
    "    \n",
    "    println!(\"\\nAfter modification:\");\n",
    "    println!(\"Value of y: {}\", y);  // Will print 15\n",
    "}\n",
    "main()\n"
   ]
  }
 ],
 "metadata": {
  "kernelspec": {
   "display_name": "Rust",
   "language": "rust",
   "name": "rust"
  },
  "language_info": {
   "codemirror_mode": "rust",
   "file_extension": ".rs",
   "mimetype": "text/rust",
   "name": "rust",
   "pygment_lexer": "rust",
   "version": ""
  }
 },
 "nbformat": 4,
 "nbformat_minor": 2
}
