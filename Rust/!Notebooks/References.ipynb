{
 "cells": [
  {
   "cell_type": "code",
   "execution_count": null,
   "metadata": {},
   "outputs": [
    {
     "ename": "",
     "evalue": "",
     "output_type": "error",
     "traceback": [
      "\u001b[1;31mFailed to start the Kernel. \n",
      "\u001b[1;31mError: Failed to load the project at /var/folders/p_/j0vk6mrj48qdfvr0p6lslxyc0000gn/T/.tmpQs4sqA/Cargo.toml. \n",
      "\u001b[1;31mView Jupyter <a href='command:jupyter.viewOutput'>log</a> for further details."
     ]
    }
   ],
   "source": [
    "fn main() {\n",
    "    let mut x: Box<i32> = Box::new(1);\n",
    "    let a: i32 = *x;         // *x reads the heap value, so a = 1\n",
    "    *x += 1;                 // *x on the left-side modifies the heap value,\n",
    "                             //     so x points to the value 2\n",
    "    \n",
    "    let r1: &Box<i32> = &x;  // r1 points to x on the stack\n",
    "    println!(\"{a}\");\n",
    "    let b: i32 = **r1;       // two dereferences get us to the heap value\n",
    "    \n",
    "    let r2: &i32 = &*x;      // r2 points to the heap value directly\n",
    "    let c: i32 = *r2;    // so only one dereference is needed to read it\n",
    "    }\n",
    "main()"
   ]
  },
  {
   "cell_type": "code",
   "execution_count": 8,
   "metadata": {},
   "outputs": [
    {
     "name": "stdout",
     "output_type": "stream",
     "text": [
      "0 0\n"
     ]
    },
    {
     "data": {
      "text/plain": [
       "()"
      ]
     },
     "execution_count": 8,
     "metadata": {},
     "output_type": "execute_result"
    }
   ],
   "source": [
    "fn main() {\n",
    "    let x = 0;\n",
    "    let mut x_ref = &x; \n",
    "    println!(\"{x_ref} {x}\");\n",
    "}\n",
    "main()"
   ]
  }
 ],
 "metadata": {
  "kernelspec": {
   "display_name": "Rust",
   "language": "rust",
   "name": "rust"
  },
  "language_info": {
   "codemirror_mode": "rust",
   "file_extension": ".rs",
   "mimetype": "text/rust",
   "name": "rust",
   "pygment_lexer": "rust",
   "version": ""
  }
 },
 "nbformat": 4,
 "nbformat_minor": 2
}
