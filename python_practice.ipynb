{
    "cells": [
        {
            "cell_type": "markdown",
            "metadata": {},
            "source": [
                "**Factorial**"
            ]
        },
        {
            "cell_type": "code",
            "execution_count": 9,
            "metadata": {},
            "outputs": [
                {
                    "name": "stdout",
                    "output_type": "stream",
                    "text": [
                        "6\n",
                        "120\n"
                    ]
                }
            ],
            "source": [
                "#Finding the factorial of a number \n",
                "\n",
                "number = int(input('Give me a number'))\n",
                "\n",
                "factorial = 1\n",
                "\n",
                "if number == 1 or number == 0 :\n",
                "    factorial == 1\n",
                "else: \n",
                "    for i in range (number,0,-1):\n",
                "        factorial = factorial * i\n",
                "        \n",
                "print(factorial) \n",
                "\n",
                "# This can be even simpler\n",
                "\n",
                "number = int(input('Give me a number'))\n",
                "\n",
                "factorial_2 = 1 \n",
                "\n",
                "for i in range (number,0,-1):\n",
                "    factorial_2 *= i\n",
                "    \n",
                "print(factorial_2)\n",
                "\n",
                "\n",
                "    \n"
            ]
        },
        {
            "cell_type": "code",
            "execution_count": null,
            "metadata": {},
            "outputs": [],
            "source": [
                "# Create a Factorial function using recursion \n",
                "\n",
                "def factorial (number):\n",
                "    if number == 1 or number == 0 : \n",
                "        return 1\n",
                "    else : \n",
                "        result = number * factorial(number-1) \n",
                "        return result\n",
                "\n",
                "\n",
                "print (factorial(5)) "
            ]
        },
        {
            "cell_type": "markdown",
            "metadata": {},
            "source": [
                "**Counting number of vowels in a string**"
            ]
        },
        {
            "cell_type": "code",
            "execution_count": 12,
            "metadata": {},
            "outputs": [
                {
                    "name": "stdout",
                    "output_type": "stream",
                    "text": [
                        "There are 6  vowels in  aeiiii\n"
                    ]
                }
            ],
            "source": [
                "user_input = input('Enter a word')\n",
                "\n",
                "vowels = ['a','e','i','o','u']\n",
                "\n",
                "vowels_count = 0\n",
                "\n",
                "split_string = list(user_input)\n",
                "\n",
                "for char in split_string : \n",
                "    if char in vowels : \n",
                "        vowels_count += 1\n",
                "    else : \n",
                "        vowels_count += 0\n",
                "        \n",
                "print('There are' , vowels_count , ' vowels in ', user_input ) \n",
                "\n"
            ]
        },
        {
            "cell_type": "markdown",
            "metadata": {},
            "source": [
                "**Calculating the average of a list of numbers**"
            ]
        },
        {
            "cell_type": "code",
            "execution_count": 6,
            "metadata": {},
            "outputs": [
                {
                    "name": "stdout",
                    "output_type": "stream",
                    "text": [
                        "The average of these numbers is  4.666666666666667\n"
                    ]
                }
            ],
            "source": [
                "# Accept input and split numbers \n",
                "\n",
                "user_input = input('Enter a list of numbers , separated by a space')\n",
                "\n",
                "split_input = user_input.split()\n",
                "\n",
                "numbers = []\n",
                "\n",
                "# Convert numbers to integers and add them to array\n",
                "\n",
                "for num in split_input : \n",
                "    numbers.append(int(num))\n",
                "\n",
                "# Add numbers and count \n",
                "\n",
                "sum = 0\n",
                "\n",
                "for num in numbers :\n",
                "    sum += num\n",
                "\n",
                "quantity = len(numbers)\n",
                "\n",
                "average = sum / quantity\n",
                "\n",
                "print('The average of these numbers is ' , average)\n"
            ]
        },
        {
            "cell_type": "markdown",
            "metadata": {},
            "source": [
                "**Calculating average using a function**"
            ]
        },
        {
            "cell_type": "code",
            "execution_count": 13,
            "metadata": {},
            "outputs": [
                {
                    "name": "stdout",
                    "output_type": "stream",
                    "text": [
                        "Average is 4.0\n"
                    ]
                }
            ],
            "source": [
                "# Define Function \n",
                "\n",
                "def calculate_average (numbers) : \n",
                "    sum = 0 \n",
                "    quantity = len(numbers)\n",
                "    for num in numbers : \n",
                "        sum += num\n",
                "    average = sum / quantity\n",
                "    return average\n",
                "\n",
                "# Accept user input and pass the input to the function as an argument \n",
                "\n",
                "user_input = input('Enter a list of numbers separated by a space')\n",
                "\n",
                "split_input = user_input.split()\n",
                "\n",
                "numbers = []\n",
                "\n",
                "for num in split_input : \n",
                "    numbers.append(int(num))\n",
                "\n",
                "average = calculate_average(numbers)\n",
                "\n",
                "print ('Average is', average)"
            ]
        },
        {
            "cell_type": "markdown",
            "metadata": {},
            "source": [
                "**Sum only even numbers in a list of numbers**"
            ]
        },
        {
            "cell_type": "code",
            "execution_count": 14,
            "metadata": {},
            "outputs": [
                {
                    "name": "stdout",
                    "output_type": "stream",
                    "text": [
                        "The sum of the even numbers is 12\n"
                    ]
                }
            ],
            "source": [
                "# Prompt input and split into individual numbers \n",
                "\n",
                "user_input = input (\"type out a list of numbers , separated by a space\")\n",
                "\n",
                "user_input_split = user_input.split()\n",
                "\n",
                "number_list = []\n",
                "\n",
                "# Convert each string into an integer \n",
                "\n",
                "for num in user_input_split : \n",
                "    number_list.append(int(num))\n",
                "\n",
                "# Check if even and add to another list where applicable \n",
                "\n",
                "even_numbers = 0\n",
                "\n",
                "for num in number_list : \n",
                "    if num % 2 == 0 : \n",
                "        even_numbers += num\n",
                "\n",
                "print ('The sum of the even numbers is' , even_numbers)\n",
                "\n",
                "\n",
                "\n",
                "\n",
                "    \n"
            ]
        },
        {
            "cell_type": "markdown",
            "metadata": {},
            "source": [
                "**Counting the frequency of each word in a sentence**"
            ]
        },
        {
            "cell_type": "code",
            "execution_count": 15,
            "metadata": {},
            "outputs": [
                {
                    "name": "stdout",
                    "output_type": "stream",
                    "text": [
                        "hanis 1\n",
                        "is 1\n",
                        "a 2\n",
                        "esyde 1\n",
                        "anis 1\n"
                    ]
                }
            ],
            "source": [
                "user_input = input(\"Enter a Sentence\")\n",
                "\n",
                "word_list = []\n",
                "word_list = user_input.split()\n",
                "\n",
                "sentence_dic = {}\n",
                "\n",
                "for word in word_list : \n",
                "    if word not in sentence_dic : \n",
                "        sentence_dic[word] = 1\n",
                "    else :\n",
                "        sentence_dic[word] += 1\n",
                "        \n",
                "for word in sentence_dic :\n",
                "    print (word , sentence_dic[word])\n",
                "\n"
            ]
        },
        {
            "cell_type": "markdown",
            "metadata": {},
            "source": [
                "**While Loop**"
            ]
        },
        {
            "cell_type": "code",
            "execution_count": 5,
            "metadata": {},
            "outputs": [
                {
                    "name": "stdout",
                    "output_type": "stream",
                    "text": [
                        "Esyde Rule The Earth\n",
                        "Esyde Rule The Earth\n",
                        "Esyde Rule The Earth\n",
                        "Esyde Rule The Earth\n",
                        "Esyde Rule The Earth\n",
                        "Esyde Rule The Earth\n",
                        "Esyde Rule The Earth\n",
                        "Esyde Rule The Earth\n"
                    ]
                }
            ],
            "source": [
                "esyde = 2 \n",
                "\n",
                "while esyde < 10  : \n",
                "    print ('Esyde Rule The Earth')\n",
                "    esyde += 1 \n"
            ]
        },
        {
            "cell_type": "markdown",
            "metadata": {},
            "source": [
                "**Importing Modules**"
            ]
        },
        {
            "cell_type": "code",
            "execution_count": 20,
            "metadata": {},
            "outputs": [
                {
                    "name": "stdout",
                    "output_type": "stream",
                    "text": [
                        "5\n",
                        "1\n"
                    ]
                }
            ],
            "source": [
                "import random \n",
                "\n",
                "for i in range (5,3,-1) :\n",
                "    print (random.randint(1,10))"
            ]
        },
        {
            "cell_type": "markdown",
            "metadata": {},
            "source": [
                "**Guessing Random Numbers**"
            ]
        },
        {
            "cell_type": "code",
            "execution_count": 15,
            "metadata": {},
            "outputs": [
                {
                    "name": "stdout",
                    "output_type": "stream",
                    "text": [
                        "I am thinking of a number between 1 and 20.\n",
                        "Take a guess.\n",
                        "Your guess is too high.\n",
                        "Take a guess.\n",
                        "Your guess is too high.\n",
                        "Take a guess.\n",
                        "Your guess is too high.\n",
                        "Take a guess.\n",
                        "Good job! You guessed my number in 4guesses!\n"
                    ]
                }
            ],
            "source": [
                "# This is a guess the number game.\n",
                "import random\n",
                "secretNumber = random.randint(1, 20)\n",
                "print('I am thinking of a number between 1 and 20.')\n",
                "\n",
                "# Ask the player to guess 6 times.\n",
                "for guessesTaken in range(1, 7):\n",
                "    print('Take a guess.')\n",
                "    guess = int(input())\n",
                "\n",
                "    if guess < secretNumber:\n",
                "        print('Your guess is too low.')\n",
                "    elif guess > secretNumber:\n",
                "        print('Your guess is too high.')\n",
                "    else:\n",
                "        break    # This condition is the correct guess!\n",
                "\n",
                "if guess == secretNumber:\n",
                "    print('Good job! You guessed my number in ' + str(guessesTaken) + ' guesses!')\n",
                "else:\n",
                "    print('Nope. The number I was thinking of was ' + str(secretNumber))"
            ]
        },
        {
            "cell_type": "markdown",
            "metadata": {},
            "source": [
                "**Using Try and Except**"
            ]
        },
        {
            "cell_type": "code",
            "execution_count": 22,
            "metadata": {},
            "outputs": [
                {
                    "name": "stdout",
                    "output_type": "stream",
                    "text": [
                        "********\n",
                        " ********\n",
                        "  ********\n",
                        "   ********\n",
                        "    ********\n",
                        "     ********\n",
                        "      ********\n",
                        "       ********\n",
                        "        ********\n",
                        "         ********\n",
                        "          ********\n",
                        "           ********\n",
                        "            ********\n",
                        "             ********\n",
                        "              ********\n",
                        "               ********\n",
                        "                ********\n",
                        "                 ********\n",
                        "                  ********\n",
                        "                   ********\n",
                        "                    ********\n",
                        "                   ********\n",
                        "                  ********\n",
                        "                 ********\n",
                        "                ********\n",
                        "               ********\n",
                        "              ********\n",
                        "             ********\n",
                        "            ********\n",
                        "           ********\n",
                        "          ********\n",
                        "         ********\n",
                        "        ********\n",
                        "       ********\n",
                        "      ********\n",
                        "     ********\n",
                        "    ********\n",
                        "   ********\n",
                        "  ********\n",
                        " ********\n",
                        "********\n",
                        " ********\n",
                        "  ********\n",
                        "   ********\n",
                        "    ********\n",
                        "     ********\n",
                        "      ********\n",
                        "       ********\n",
                        "        ********\n",
                        "         ********\n",
                        "          ********\n",
                        "           ********\n",
                        "            ********\n",
                        "             ********\n",
                        "              ********\n",
                        "               ********\n",
                        "                ********\n",
                        "                 ********\n",
                        "                  ********\n",
                        "                   ********\n",
                        "                    ********\n",
                        "                   ********\n",
                        "                  ********\n",
                        "                 ********\n",
                        "                ********\n",
                        "               ********\n",
                        "              ********\n",
                        "             ********\n",
                        "            ********\n",
                        "           ********\n",
                        "          ********\n",
                        "         ********\n",
                        "        ********\n",
                        "       ********\n",
                        "      ********\n",
                        "     ********\n",
                        "    ********\n",
                        "   ********\n",
                        "  ********\n",
                        " ********\n",
                        "********\n",
                        " ********\n",
                        "  ********\n",
                        "   ********\n",
                        "    ********\n",
                        "     ********\n",
                        "      ********\n",
                        "       ********\n",
                        "        ********\n",
                        "         ********\n",
                        "          ********\n",
                        "           ********\n",
                        "            ********\n",
                        "             ********\n",
                        "              ********\n",
                        "               ********\n",
                        "                ********\n",
                        "                 ********\n",
                        "                  ********\n",
                        "                   ********\n",
                        "                    ********\n",
                        "                   ********\n",
                        "                  ********\n",
                        "                 ********\n"
                    ]
                },
                {
                    "ename": "AttributeError",
                    "evalue": "'tuple' object has no attribute 'tb_frame'",
                    "output_type": "error",
                    "traceback": [
                        "\u001b[0;31m---------------------------------------------------------------------------\u001b[0m",
                        "\u001b[0;31mKeyboardInterrupt\u001b[0m                         Traceback (most recent call last)",
                        "Cell \u001b[0;32mIn[22], line 11\u001b[0m\n\u001b[1;32m     10\u001b[0m \u001b[39mprint\u001b[39m(\u001b[39m'\u001b[39m\u001b[39m********\u001b[39m\u001b[39m'\u001b[39m)\n\u001b[0;32m---> 11\u001b[0m time\u001b[39m.\u001b[39;49msleep(\u001b[39m0.1\u001b[39;49m) \u001b[39m# Pause for 1/10 of a second.\u001b[39;00m\n\u001b[1;32m     13\u001b[0m \u001b[39mif\u001b[39;00m indentIncreasing:\n\u001b[1;32m     14\u001b[0m     \u001b[39m# Increase the number of spaces:\u001b[39;00m\n",
                        "\u001b[0;31mKeyboardInterrupt\u001b[0m: ",
                        "\nDuring handling of the above exception, another exception occurred:\n",
                        "\u001b[0;31mSystemExit\u001b[0m                                Traceback (most recent call last)",
                        "    \u001b[0;31m[... skipping hidden 1 frame]\u001b[0m\n",
                        "Cell \u001b[0;32mIn[22], line 27\u001b[0m\n\u001b[1;32m     26\u001b[0m \u001b[39mexcept\u001b[39;00m \u001b[39mKeyboardInterrupt\u001b[39;00m:\n\u001b[0;32m---> 27\u001b[0m     sys\u001b[39m.\u001b[39;49mexit()\n",
                        "\u001b[0;31mSystemExit\u001b[0m: ",
                        "\nDuring handling of the above exception, another exception occurred:\n",
                        "\u001b[0;31mAttributeError\u001b[0m                            Traceback (most recent call last)",
                        "    \u001b[0;31m[... skipping hidden 1 frame]\u001b[0m\n",
                        "File \u001b[0;32m~/Library/Python/3.9/lib/python/site-packages/IPython/core/interactiveshell.py:2095\u001b[0m, in \u001b[0;36mInteractiveShell.showtraceback\u001b[0;34m(self, exc_tuple, filename, tb_offset, exception_only, running_compiled_code)\u001b[0m\n\u001b[1;32m   2092\u001b[0m \u001b[39mif\u001b[39;00m exception_only:\n\u001b[1;32m   2093\u001b[0m     stb \u001b[39m=\u001b[39m [\u001b[39m'\u001b[39m\u001b[39mAn exception has occurred, use \u001b[39m\u001b[39m%\u001b[39m\u001b[39mtb to see \u001b[39m\u001b[39m'\u001b[39m\n\u001b[1;32m   2094\u001b[0m            \u001b[39m'\u001b[39m\u001b[39mthe full traceback.\u001b[39m\u001b[39m\\n\u001b[39;00m\u001b[39m'\u001b[39m]\n\u001b[0;32m-> 2095\u001b[0m     stb\u001b[39m.\u001b[39mextend(\u001b[39mself\u001b[39;49m\u001b[39m.\u001b[39;49mInteractiveTB\u001b[39m.\u001b[39;49mget_exception_only(etype,\n\u001b[1;32m   2096\u001b[0m                                                      value))\n\u001b[1;32m   2097\u001b[0m \u001b[39melse\u001b[39;00m:\n\u001b[1;32m   2098\u001b[0m     \u001b[39mtry\u001b[39;00m:\n\u001b[1;32m   2099\u001b[0m         \u001b[39m# Exception classes can customise their traceback - we\u001b[39;00m\n\u001b[1;32m   2100\u001b[0m         \u001b[39m# use this in IPython.parallel for exceptions occurring\u001b[39;00m\n\u001b[1;32m   2101\u001b[0m         \u001b[39m# in the engines. This should return a list of strings.\u001b[39;00m\n",
                        "File \u001b[0;32m~/Library/Python/3.9/lib/python/site-packages/IPython/core/ultratb.py:710\u001b[0m, in \u001b[0;36mListTB.get_exception_only\u001b[0;34m(self, etype, value)\u001b[0m\n\u001b[1;32m    702\u001b[0m \u001b[39mdef\u001b[39;00m \u001b[39mget_exception_only\u001b[39m(\u001b[39mself\u001b[39m, etype, value):\n\u001b[1;32m    703\u001b[0m \u001b[39m    \u001b[39m\u001b[39m\"\"\"Only print the exception type and message, without a traceback.\u001b[39;00m\n\u001b[1;32m    704\u001b[0m \n\u001b[1;32m    705\u001b[0m \u001b[39m    Parameters\u001b[39;00m\n\u001b[0;32m   (...)\u001b[0m\n\u001b[1;32m    708\u001b[0m \u001b[39m    value : exception value\u001b[39;00m\n\u001b[1;32m    709\u001b[0m \u001b[39m    \"\"\"\u001b[39;00m\n\u001b[0;32m--> 710\u001b[0m     \u001b[39mreturn\u001b[39;00m ListTB\u001b[39m.\u001b[39;49mstructured_traceback(\u001b[39mself\u001b[39;49m, etype, value)\n",
                        "File \u001b[0;32m~/Library/Python/3.9/lib/python/site-packages/IPython/core/ultratb.py:568\u001b[0m, in \u001b[0;36mListTB.structured_traceback\u001b[0;34m(self, etype, evalue, etb, tb_offset, context)\u001b[0m\n\u001b[1;32m    565\u001b[0m     chained_exc_ids\u001b[39m.\u001b[39madd(\u001b[39mid\u001b[39m(exception[\u001b[39m1\u001b[39m]))\n\u001b[1;32m    566\u001b[0m     chained_exceptions_tb_offset \u001b[39m=\u001b[39m \u001b[39m0\u001b[39m\n\u001b[1;32m    567\u001b[0m     out_list \u001b[39m=\u001b[39m (\n\u001b[0;32m--> 568\u001b[0m         \u001b[39mself\u001b[39;49m\u001b[39m.\u001b[39;49mstructured_traceback(\n\u001b[1;32m    569\u001b[0m             etype,\n\u001b[1;32m    570\u001b[0m             evalue,\n\u001b[1;32m    571\u001b[0m             (etb, chained_exc_ids),  \u001b[39m# type: ignore\u001b[39;49;00m\n\u001b[1;32m    572\u001b[0m             chained_exceptions_tb_offset,\n\u001b[1;32m    573\u001b[0m             context,\n\u001b[1;32m    574\u001b[0m         )\n\u001b[1;32m    575\u001b[0m         \u001b[39m+\u001b[39m chained_exception_message\n\u001b[1;32m    576\u001b[0m         \u001b[39m+\u001b[39m out_list)\n\u001b[1;32m    578\u001b[0m \u001b[39mreturn\u001b[39;00m out_list\n",
                        "File \u001b[0;32m~/Library/Python/3.9/lib/python/site-packages/IPython/core/ultratb.py:1428\u001b[0m, in \u001b[0;36mAutoFormattedTB.structured_traceback\u001b[0;34m(self, etype, evalue, etb, tb_offset, number_of_lines_of_context)\u001b[0m\n\u001b[1;32m   1426\u001b[0m \u001b[39melse\u001b[39;00m:\n\u001b[1;32m   1427\u001b[0m     \u001b[39mself\u001b[39m\u001b[39m.\u001b[39mtb \u001b[39m=\u001b[39m etb\n\u001b[0;32m-> 1428\u001b[0m \u001b[39mreturn\u001b[39;00m FormattedTB\u001b[39m.\u001b[39;49mstructured_traceback(\n\u001b[1;32m   1429\u001b[0m     \u001b[39mself\u001b[39;49m, etype, evalue, etb, tb_offset, number_of_lines_of_context\n\u001b[1;32m   1430\u001b[0m )\n",
                        "File \u001b[0;32m~/Library/Python/3.9/lib/python/site-packages/IPython/core/ultratb.py:1319\u001b[0m, in \u001b[0;36mFormattedTB.structured_traceback\u001b[0;34m(self, etype, value, tb, tb_offset, number_of_lines_of_context)\u001b[0m\n\u001b[1;32m   1316\u001b[0m mode \u001b[39m=\u001b[39m \u001b[39mself\u001b[39m\u001b[39m.\u001b[39mmode\n\u001b[1;32m   1317\u001b[0m \u001b[39mif\u001b[39;00m mode \u001b[39min\u001b[39;00m \u001b[39mself\u001b[39m\u001b[39m.\u001b[39mverbose_modes:\n\u001b[1;32m   1318\u001b[0m     \u001b[39m# Verbose modes need a full traceback\u001b[39;00m\n\u001b[0;32m-> 1319\u001b[0m     \u001b[39mreturn\u001b[39;00m VerboseTB\u001b[39m.\u001b[39;49mstructured_traceback(\n\u001b[1;32m   1320\u001b[0m         \u001b[39mself\u001b[39;49m, etype, value, tb, tb_offset, number_of_lines_of_context\n\u001b[1;32m   1321\u001b[0m     )\n\u001b[1;32m   1322\u001b[0m \u001b[39melif\u001b[39;00m mode \u001b[39m==\u001b[39m \u001b[39m'\u001b[39m\u001b[39mMinimal\u001b[39m\u001b[39m'\u001b[39m:\n\u001b[1;32m   1323\u001b[0m     \u001b[39mreturn\u001b[39;00m ListTB\u001b[39m.\u001b[39mget_exception_only(\u001b[39mself\u001b[39m, etype, value)\n",
                        "File \u001b[0;32m~/Library/Python/3.9/lib/python/site-packages/IPython/core/ultratb.py:1172\u001b[0m, in \u001b[0;36mVerboseTB.structured_traceback\u001b[0;34m(self, etype, evalue, etb, tb_offset, number_of_lines_of_context)\u001b[0m\n\u001b[1;32m   1163\u001b[0m \u001b[39mdef\u001b[39;00m \u001b[39mstructured_traceback\u001b[39m(\n\u001b[1;32m   1164\u001b[0m     \u001b[39mself\u001b[39m,\n\u001b[1;32m   1165\u001b[0m     etype: \u001b[39mtype\u001b[39m,\n\u001b[0;32m   (...)\u001b[0m\n\u001b[1;32m   1169\u001b[0m     number_of_lines_of_context: \u001b[39mint\u001b[39m \u001b[39m=\u001b[39m \u001b[39m5\u001b[39m,\n\u001b[1;32m   1170\u001b[0m ):\n\u001b[1;32m   1171\u001b[0m \u001b[39m    \u001b[39m\u001b[39m\"\"\"Return a nice text document describing the traceback.\"\"\"\u001b[39;00m\n\u001b[0;32m-> 1172\u001b[0m     formatted_exception \u001b[39m=\u001b[39m \u001b[39mself\u001b[39;49m\u001b[39m.\u001b[39;49mformat_exception_as_a_whole(etype, evalue, etb, number_of_lines_of_context,\n\u001b[1;32m   1173\u001b[0m                                                            tb_offset)\n\u001b[1;32m   1175\u001b[0m     colors \u001b[39m=\u001b[39m \u001b[39mself\u001b[39m\u001b[39m.\u001b[39mColors  \u001b[39m# just a shorthand + quicker name lookup\u001b[39;00m\n\u001b[1;32m   1176\u001b[0m     colorsnormal \u001b[39m=\u001b[39m colors\u001b[39m.\u001b[39mNormal  \u001b[39m# used a lot\u001b[39;00m\n",
                        "File \u001b[0;32m~/Library/Python/3.9/lib/python/site-packages/IPython/core/ultratb.py:1062\u001b[0m, in \u001b[0;36mVerboseTB.format_exception_as_a_whole\u001b[0;34m(self, etype, evalue, etb, number_of_lines_of_context, tb_offset)\u001b[0m\n\u001b[1;32m   1059\u001b[0m \u001b[39massert\u001b[39;00m \u001b[39misinstance\u001b[39m(tb_offset, \u001b[39mint\u001b[39m)\n\u001b[1;32m   1060\u001b[0m head \u001b[39m=\u001b[39m \u001b[39mself\u001b[39m\u001b[39m.\u001b[39mprepare_header(\u001b[39mstr\u001b[39m(etype), \u001b[39mself\u001b[39m\u001b[39m.\u001b[39mlong_header)\n\u001b[1;32m   1061\u001b[0m records \u001b[39m=\u001b[39m (\n\u001b[0;32m-> 1062\u001b[0m     \u001b[39mself\u001b[39;49m\u001b[39m.\u001b[39;49mget_records(etb, number_of_lines_of_context, tb_offset) \u001b[39mif\u001b[39;00m etb \u001b[39melse\u001b[39;00m []\n\u001b[1;32m   1063\u001b[0m )\n\u001b[1;32m   1065\u001b[0m frames \u001b[39m=\u001b[39m []\n\u001b[1;32m   1066\u001b[0m skipped \u001b[39m=\u001b[39m \u001b[39m0\u001b[39m\n",
                        "File \u001b[0;32m~/Library/Python/3.9/lib/python/site-packages/IPython/core/ultratb.py:1130\u001b[0m, in \u001b[0;36mVerboseTB.get_records\u001b[0;34m(self, etb, number_of_lines_of_context, tb_offset)\u001b[0m\n\u001b[1;32m   1128\u001b[0m \u001b[39mwhile\u001b[39;00m cf \u001b[39mis\u001b[39;00m \u001b[39mnot\u001b[39;00m \u001b[39mNone\u001b[39;00m:\n\u001b[1;32m   1129\u001b[0m     \u001b[39mtry\u001b[39;00m:\n\u001b[0;32m-> 1130\u001b[0m         mod \u001b[39m=\u001b[39m inspect\u001b[39m.\u001b[39mgetmodule(cf\u001b[39m.\u001b[39;49mtb_frame)\n\u001b[1;32m   1131\u001b[0m         \u001b[39mif\u001b[39;00m mod \u001b[39mis\u001b[39;00m \u001b[39mnot\u001b[39;00m \u001b[39mNone\u001b[39;00m:\n\u001b[1;32m   1132\u001b[0m             mod_name \u001b[39m=\u001b[39m mod\u001b[39m.\u001b[39m\u001b[39m__name__\u001b[39m\n",
                        "\u001b[0;31mAttributeError\u001b[0m: 'tuple' object has no attribute 'tb_frame'"
                    ]
                }
            ],
            "source": [
                "#Printing a Zig Zag Continuously\n",
                "\n",
                "# Ctrl + C should stop this \n",
                "\n",
                "import time, sys\n",
                "indent = 0 # How many spaces to indent.\n",
                "indentIncreasing = True # Whether the indentation is increasing or not.\n",
                "\n",
                "try:\n",
                "    while True: # The main program loop.\n",
                "        print(' ' * indent, end='')\n",
                "        print('********')\n",
                "        time.sleep(0.1) # Pause for 1/10 of a second.\n",
                "\n",
                "        if indentIncreasing:\n",
                "            # Increase the number of spaces:\n",
                "            indent = indent + 1\n",
                "            if indent == 20:\n",
                "                # Change direction:\n",
                "                indentIncreasing = False\n",
                "\n",
                "        else:\n",
                "            # Decrease the number of spaces:\n",
                "            indent = indent - 1\n",
                "            if indent == 0:\n",
                "                # Change direction:\n",
                "                indentIncreasing = True\n",
                "except KeyboardInterrupt:\n",
                "    sys.exit()"
            ]
        }
    ],
    "metadata": {
        "kernelspec": {
            "display_name": "Python 3",
            "language": "python",
            "name": "python3"
        },
        "language_info": {
            "codemirror_mode": {
                "name": "ipython",
                "version": 3
            },
            "file_extension": ".py",
            "mimetype": "text/x-python",
            "name": "python",
            "nbconvert_exporter": "python",
            "pygments_lexer": "ipython3",
            "version": "3.9.6"
        },
        "orig_nbformat": 4
    },
    "nbformat": 4,
    "nbformat_minor": 2
}
