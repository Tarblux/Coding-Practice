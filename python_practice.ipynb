{
    "cells": [
        {
            "cell_type": "markdown",
            "metadata": {},
            "source": [
                "**Factorial**"
            ]
        },
        {
            "cell_type": "code",
            "execution_count": 9,
            "metadata": {},
            "outputs": [
                {
                    "name": "stdout",
                    "output_type": "stream",
                    "text": [
                        "6\n",
                        "120\n"
                    ]
                }
            ],
            "source": [
                "#Finding the factorial of a number \n",
                "\n",
                "number = int(input('Give me a number'))\n",
                "\n",
                "factorial = 1\n",
                "\n",
                "if number == 1 or number == 0 :\n",
                "    factorial == 1\n",
                "else: \n",
                "    for i in range (number,0,-1):\n",
                "        factorial = factorial * i\n",
                "        \n",
                "print(factorial) \n",
                "\n",
                "# This can be even simpler\n",
                "\n",
                "number = int(input('Give me a number'))\n",
                "\n",
                "factorial_2 = 1 \n",
                "\n",
                "for i in range (number,0,-1):\n",
                "    factorial_2 *= i\n",
                "    \n",
                "print(factorial_2)\n",
                "\n",
                "\n",
                "    \n"
            ]
        },
        {
            "cell_type": "code",
            "execution_count": null,
            "metadata": {},
            "outputs": [],
            "source": [
                "# Create a Factorial function using recursion \n",
                "\n",
                "def factorial (number):\n",
                "    if number == 1 or number == 0 : \n",
                "        return 1\n",
                "    else : \n",
                "        result = number * factorial(number-1) \n",
                "        return result\n",
                "\n",
                "\n",
                "print (factorial(5)) "
            ]
        },
        {
            "cell_type": "markdown",
            "metadata": {},
            "source": [
                "**Counting number of vowels in a string**"
            ]
        },
        {
            "cell_type": "code",
            "execution_count": 12,
            "metadata": {},
            "outputs": [
                {
                    "name": "stdout",
                    "output_type": "stream",
                    "text": [
                        "There are 6  vowels in  aeiiii\n"
                    ]
                }
            ],
            "source": [
                "user_input = input('Enter a word')\n",
                "\n",
                "vowels = ['a','e','i','o','u']\n",
                "\n",
                "vowels_count = 0\n",
                "\n",
                "split_string = list(user_input)\n",
                "\n",
                "for char in split_string : \n",
                "    if char in vowels : \n",
                "        vowels_count += 1\n",
                "    else : \n",
                "        vowels_count += 0\n",
                "        \n",
                "print('There are' , vowels_count , ' vowels in ', user_input ) \n",
                "\n"
            ]
        },
        {
            "cell_type": "markdown",
            "metadata": {},
            "source": [
                "**Calculating the average of a list of numbers**"
            ]
        },
        {
            "cell_type": "code",
            "execution_count": 6,
            "metadata": {},
            "outputs": [
                {
                    "name": "stdout",
                    "output_type": "stream",
                    "text": [
                        "The average of these numbers is  4.666666666666667\n"
                    ]
                }
            ],
            "source": [
                "# Accept input and split numbers \n",
                "\n",
                "user_input = input('Enter a list of numbers , separated by a space')\n",
                "\n",
                "split_input = user_input.split()\n",
                "\n",
                "numbers = []\n",
                "\n",
                "# Convert numbers to integers and add them to array\n",
                "\n",
                "for num in split_input : \n",
                "    numbers.append(int(num))\n",
                "\n",
                "# Add numbers and count \n",
                "\n",
                "sum = 0\n",
                "\n",
                "for num in numbers :\n",
                "    sum += num\n",
                "\n",
                "quantity = len(numbers)\n",
                "\n",
                "average = sum / quantity\n",
                "\n",
                "print('The average of these numbers is ' , average)\n"
            ]
        },
        {
            "cell_type": "markdown",
            "metadata": {},
            "source": [
                "**Calculating average using a function**"
            ]
        },
        {
            "cell_type": "code",
            "execution_count": 13,
            "metadata": {},
            "outputs": [
                {
                    "name": "stdout",
                    "output_type": "stream",
                    "text": [
                        "Average is 4.0\n"
                    ]
                }
            ],
            "source": [
                "# Define Function \n",
                "\n",
                "def calculate_average (numbers) : \n",
                "    sum = 0 \n",
                "    quantity = len(numbers)\n",
                "    for num in numbers : \n",
                "        sum += num\n",
                "    average = sum / quantity\n",
                "    return average\n",
                "\n",
                "# Accept user input and pass the input to the function as an argument \n",
                "\n",
                "user_input = input('Enter a list of numbers separated by a space')\n",
                "\n",
                "split_input = user_input.split()\n",
                "\n",
                "numbers = []\n",
                "\n",
                "for num in split_input : \n",
                "    numbers.append(int(num))\n",
                "\n",
                "average = calculate_average(numbers)\n",
                "\n",
                "print ('Average is', average)"
            ]
        },
        {
            "cell_type": "markdown",
            "metadata": {},
            "source": [
                "**Sum only even numbers in a list of numbers**"
            ]
        },
        {
            "cell_type": "code",
            "execution_count": 14,
            "metadata": {},
            "outputs": [
                {
                    "name": "stdout",
                    "output_type": "stream",
                    "text": [
                        "The sum of the even numbers is 12\n"
                    ]
                }
            ],
            "source": [
                "# Prompt input and split into individual numbers \n",
                "\n",
                "user_input = input (\"type out a list of numbers , separated by a space\")\n",
                "\n",
                "user_input_split = user_input.split()\n",
                "\n",
                "number_list = []\n",
                "\n",
                "# Convert each string into an integer \n",
                "\n",
                "for num in user_input_split : \n",
                "    number_list.append(int(num))\n",
                "\n",
                "# Check if even and add to another list where applicable \n",
                "\n",
                "even_numbers = 0\n",
                "\n",
                "for num in number_list : \n",
                "    if num % 2 == 0 : \n",
                "        even_numbers += num\n",
                "\n",
                "print ('The sum of the even numbers is' , even_numbers)\n",
                "\n",
                "\n",
                "\n",
                "\n",
                "    \n"
            ]
        },
        {
            "cell_type": "markdown",
            "metadata": {},
            "source": [
                "**Counting the frequency of each word in a sentence**"
            ]
        },
        {
            "cell_type": "code",
            "execution_count": 15,
            "metadata": {},
            "outputs": [
                {
                    "name": "stdout",
                    "output_type": "stream",
                    "text": [
                        "hanis 1\n",
                        "is 1\n",
                        "a 2\n",
                        "esyde 1\n",
                        "anis 1\n"
                    ]
                }
            ],
            "source": [
                "user_input = input(\"Enter a Sentence\")\n",
                "\n",
                "word_list = []\n",
                "word_list = user_input.split()\n",
                "\n",
                "sentence_dic = {}\n",
                "\n",
                "for word in word_list : \n",
                "    if word not in sentence_dic : \n",
                "        sentence_dic[word] = 1\n",
                "    else :\n",
                "        sentence_dic[word] += 1\n",
                "        \n",
                "for word in sentence_dic :\n",
                "    print (word , sentence_dic[word])\n",
                "\n"
            ]
        },
        {
            "cell_type": "markdown",
            "metadata": {},
            "source": [
                "**While Loop**"
            ]
        },
        {
            "cell_type": "code",
            "execution_count": 5,
            "metadata": {},
            "outputs": [
                {
                    "name": "stdout",
                    "output_type": "stream",
                    "text": [
                        "Esyde Rule The Earth\n",
                        "Esyde Rule The Earth\n",
                        "Esyde Rule The Earth\n",
                        "Esyde Rule The Earth\n",
                        "Esyde Rule The Earth\n",
                        "Esyde Rule The Earth\n",
                        "Esyde Rule The Earth\n",
                        "Esyde Rule The Earth\n"
                    ]
                }
            ],
            "source": [
                "esyde = 2 \n",
                "\n",
                "while esyde < 10  : \n",
                "    print ('Esyde Rule The Earth')\n",
                "    esyde += 1 \n"
            ]
        },
        {
            "cell_type": "markdown",
            "metadata": {},
            "source": [
                "**Importing Modules**"
            ]
        },
        {
            "cell_type": "code",
            "execution_count": 20,
            "metadata": {},
            "outputs": [
                {
                    "name": "stdout",
                    "output_type": "stream",
                    "text": [
                        "5\n",
                        "1\n"
                    ]
                }
            ],
            "source": [
                "import random \n",
                "\n",
                "for i in range (5,3,-1) :\n",
                "    print (random.randint(1,10))"
            ]
        },
        {
            "cell_type": "markdown",
            "metadata": {},
            "source": [
                "**Guessing Random Numbers**"
            ]
        },
        {
            "cell_type": "code",
            "execution_count": 15,
            "metadata": {},
            "outputs": [
                {
                    "name": "stdout",
                    "output_type": "stream",
                    "text": [
                        "I am thinking of a number between 1 and 20.\n",
                        "Take a guess.\n",
                        "Your guess is too high.\n",
                        "Take a guess.\n",
                        "Your guess is too high.\n",
                        "Take a guess.\n",
                        "Your guess is too high.\n",
                        "Take a guess.\n",
                        "Good job! You guessed my number in 4guesses!\n"
                    ]
                }
            ],
            "source": [
                "# This is a guess the number game.\n",
                "import random\n",
                "secretNumber = random.randint(1, 20)\n",
                "print('I am thinking of a number between 1 and 20.')\n",
                "\n",
                "# Ask the player to guess 6 times.\n",
                "for guessesTaken in range(1, 7):\n",
                "    print('Take a guess.')\n",
                "    guess = int(input())\n",
                "\n",
                "    if guess < secretNumber:\n",
                "        print('Your guess is too low.')\n",
                "    elif guess > secretNumber:\n",
                "        print('Your guess is too high.')\n",
                "    else:\n",
                "        break    # This condition is the correct guess!\n",
                "\n",
                "if guess == secretNumber:\n",
                "    print('Good job! You guessed my number in ' + str(guessesTaken) + ' guesses!')\n",
                "else:\n",
                "    print('Nope. The number I was thinking of was ' + str(secretNumber))"
            ]
        },
        {
            "cell_type": "markdown",
            "metadata": {},
            "source": [
                "**Using Try and Except**"
            ]
        },
        {
            "cell_type": "code",
            "execution_count": null,
            "metadata": {},
            "outputs": [],
            "source": [
                "#Printing a Zig Zag Continuously\n",
                "\n",
                "# Ctrl + C should stop this \n",
                "\n",
                "import time, sys\n",
                "indent = 0 # How many spaces to indent.\n",
                "indentIncreasing = True # Whether the indentation is increasing or not.\n",
                "\n",
                "try:\n",
                "    while True: # The main program loop.\n",
                "        print(' ' * indent, end='')\n",
                "        print('********')\n",
                "        time.sleep(0.1) # Pause for 1/10 of a second.\n",
                "\n",
                "        if indentIncreasing:\n",
                "            # Increase the number of spaces:\n",
                "            indent = indent + 1\n",
                "            if indent == 20:\n",
                "                # Change direction:\n",
                "                indentIncreasing = False\n",
                "\n",
                "        else:\n",
                "            # Decrease the number of spaces:\n",
                "            indent = indent - 1\n",
                "            if indent == 0:\n",
                "                # Change direction:\n",
                "                indentIncreasing = True\n",
                "except KeyboardInterrupt:\n",
                "    sys.exit()"
            ]
        },
        {
            "cell_type": "markdown",
            "metadata": {},
            "source": [
                "**List Practice**"
            ]
        },
        {
            "cell_type": "code",
            "execution_count": 41,
            "metadata": {},
            "outputs": [
                {
                    "name": "stdout",
                    "output_type": "stream",
                    "text": [
                        ".\n",
                        ".\n",
                        ".\n",
                        "Esyde Rule The Earth\n",
                        ".\n"
                    ]
                }
            ],
            "source": [
                "import random\n",
                "\n",
                "syde = [ 'esyde' , 'tipksi' , 'whipski' , 'hanis' , 'leo']\n",
                "\n",
                "index_num = random.randint(0,4)\n",
                "\n",
                "for item in syde : \n",
                "    if item == 'hanis':\n",
                "     print ('Esyde Rule The Earth')\n",
                "    else : \n",
                "     print('.')\n",
                "\n"
            ]
        },
        {
            "cell_type": "code",
            "execution_count": 3,
            "metadata": {},
            "outputs": [
                {
                    "name": "stdout",
                    "output_type": "stream",
                    "text": [
                        "1 tipgod\n",
                        "2 ['tipgod', 'whiplaski', 'guzu']\n",
                        "['tipgod', 'whiplaski', 'guzu', 'wang']\n",
                        "['tipgod', 'whipski', 'guzu', 'wang', 'omogey', 'bayka', 'rajah', 'ratbat', 'sydz', 'copa']\n",
                        "['tipgod', 'whipski', 'guzu', 'wang', 'omogey', 'tipgod', 'whipski', 'guzu', 'wang', 'omogey', 'tipgod', 'whipski', 'guzu', 'wang', 'omogey']\n",
                        "tipgod\n",
                        "whiplaski\n",
                        "guzu\n",
                        "wang\n"
                    ]
                }
            ],
            "source": [
                "#List Manipulation and Operations\n",
                "\n",
                "esyde = ['tipgod' , 'whipski' , 'guzu' , 'wang' , 'omogey' ]\n",
                "\n",
                "mobster = ['bayka', 'rajah' , 'ratbat' , 'sydz' , 'copa']\n",
                "\n",
                "combined_crew = esyde + mobster\n",
                "esyde_3 = esyde * 3 \n",
                " \n",
                "#Change value in list \n",
                "\n",
                "esyde[1] = 'whiplaski'\n",
                "\n",
                "print('1', esyde[0])\n",
                "print('2', esyde[0:3])\n",
                "print(esyde[0:-1]) # Up to the last value\n",
                "\n",
                "print(esyde[0:len(esyde)])\n",
                "\n",
                "print(combined_crew)\n",
                "print(esyde_3)\n",
                "\n",
                "#For Loop \n",
                "\n",
                "for i in range(len(esyde) - 1) :\n",
                "    print(esyde[i])\n",
                "\n"
            ]
        }
    ],
    "metadata": {
        "kernelspec": {
            "display_name": "Python 3",
            "language": "python",
            "name": "python3"
        },
        "language_info": {
            "codemirror_mode": {
                "name": "ipython",
                "version": 3
            },
            "file_extension": ".py",
            "mimetype": "text/x-python",
            "name": "python",
            "nbconvert_exporter": "python",
            "pygments_lexer": "ipython3",
            "version": "3.9.6"
        },
        "orig_nbformat": 4
    },
    "nbformat": 4,
    "nbformat_minor": 2
}
