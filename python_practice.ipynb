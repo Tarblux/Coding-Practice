{
    "cells": [
        {
            "cell_type": "markdown",
            "metadata": {},
            "source": [
                "**Factorial**"
            ]
        },
        {
            "cell_type": "code",
            "execution_count": 9,
            "metadata": {},
            "outputs": [
                {
                    "name": "stdout",
                    "output_type": "stream",
                    "text": [
                        "6\n",
                        "120\n"
                    ]
                }
            ],
            "source": [
                "#Finding the factorial of a number \n",
                "\n",
                "number = int(input('Give me a number'))\n",
                "\n",
                "factorial = 1\n",
                "\n",
                "if number == 1 or number == 0 :\n",
                "    factorial == 1\n",
                "else: \n",
                "    for i in range (number,0,-1):\n",
                "        factorial = factorial * i\n",
                "        \n",
                "print(factorial) \n",
                "\n",
                "# This can be even simpler\n",
                "\n",
                "number = int(input('Give me a number'))\n",
                "\n",
                "factorial_2 = 1 \n",
                "\n",
                "for i in range (number,0,-1):\n",
                "    factorial_2 *= i\n",
                "    \n",
                "print(factorial_2)\n",
                "\n",
                "\n",
                "    \n"
            ]
        },
        {
            "cell_type": "code",
            "execution_count": null,
            "metadata": {},
            "outputs": [],
            "source": [
                "# Create a Factorial function using recursion \n",
                "\n",
                "def factorial (number):\n",
                "    if number == 1 or number == 0 : \n",
                "        return 1\n",
                "    else : \n",
                "        result = number * factorial(number-1) \n",
                "        return result\n",
                "\n",
                "\n",
                "print (factorial(5)) "
            ]
        },
        {
            "cell_type": "markdown",
            "metadata": {},
            "source": [
                "**Counting number of vowels in a string**"
            ]
        },
        {
            "cell_type": "code",
            "execution_count": 12,
            "metadata": {},
            "outputs": [
                {
                    "name": "stdout",
                    "output_type": "stream",
                    "text": [
                        "There are 6  vowels in  aeiiii\n"
                    ]
                }
            ],
            "source": [
                "user_input = input('Enter a word')\n",
                "\n",
                "vowels = ['a','e','i','o','u']\n",
                "\n",
                "vowels_count = 0\n",
                "\n",
                "split_string = list(user_input)\n",
                "\n",
                "for char in split_string : \n",
                "    if char in vowels : \n",
                "        vowels_count += 1\n",
                "    else : \n",
                "        vowels_count += 0\n",
                "        \n",
                "print('There are' , vowels_count , ' vowels in ', user_input ) \n",
                "\n"
            ]
        },
        {
            "cell_type": "markdown",
            "metadata": {},
            "source": [
                "**Calculating the average of a list of numbers**"
            ]
        },
        {
            "cell_type": "code",
            "execution_count": 6,
            "metadata": {},
            "outputs": [
                {
                    "name": "stdout",
                    "output_type": "stream",
                    "text": [
                        "The average of these numbers is  4.666666666666667\n"
                    ]
                }
            ],
            "source": [
                "# Accept input and split numbers \n",
                "\n",
                "user_input = input('Enter a list of numbers , separated by a space')\n",
                "\n",
                "split_input = user_input.split()\n",
                "\n",
                "numbers = []\n",
                "\n",
                "# Convert numbers to integers and add them to array\n",
                "\n",
                "for num in split_input : \n",
                "    numbers.append(int(num))\n",
                "\n",
                "# Add numbers and count \n",
                "\n",
                "sum = 0\n",
                "\n",
                "for num in numbers :\n",
                "    sum += num\n",
                "\n",
                "quantity = len(numbers)\n",
                "\n",
                "average = sum / quantity\n",
                "\n",
                "print('The average of these numbers is ' , average)\n"
            ]
        },
        {
            "cell_type": "markdown",
            "metadata": {},
            "source": [
                "**Calculating average using a function**"
            ]
        },
        {
            "cell_type": "code",
            "execution_count": 13,
            "metadata": {},
            "outputs": [
                {
                    "name": "stdout",
                    "output_type": "stream",
                    "text": [
                        "Average is 4.0\n"
                    ]
                }
            ],
            "source": [
                "# Define Function \n",
                "\n",
                "def calculate_average (numbers) : \n",
                "    sum = 0 \n",
                "    quantity = len(numbers)\n",
                "    for num in numbers : \n",
                "        sum += num\n",
                "    average = sum / quantity\n",
                "    return average\n",
                "\n",
                "# Accept user input and pass the input to the function as an argument \n",
                "\n",
                "user_input = input('Enter a list of numbers separated by a space')\n",
                "\n",
                "split_input = user_input.split()\n",
                "\n",
                "numbers = []\n",
                "\n",
                "for num in split_input : \n",
                "    numbers.append(int(num))\n",
                "\n",
                "average = calculate_average(numbers)\n",
                "\n",
                "print ('Average is', average)"
            ]
        },
        {
            "cell_type": "markdown",
            "metadata": {},
            "source": [
                "**Sum only even numbers in a list of numbers**"
            ]
        },
        {
            "cell_type": "code",
            "execution_count": 14,
            "metadata": {},
            "outputs": [
                {
                    "name": "stdout",
                    "output_type": "stream",
                    "text": [
                        "The sum of the even numbers is 12\n"
                    ]
                }
            ],
            "source": [
                "# Prompt input and split into individual numbers \n",
                "\n",
                "user_input = input (\"type out a list of numbers , separated by a space\")\n",
                "\n",
                "user_input_split = user_input.split()\n",
                "\n",
                "number_list = []\n",
                "\n",
                "# Convert each string into an integer \n",
                "\n",
                "for num in user_input_split : \n",
                "    number_list.append(int(num))\n",
                "\n",
                "# Check if even and add to another list where applicable \n",
                "\n",
                "even_numbers = 0\n",
                "\n",
                "for num in number_list : \n",
                "    if num % 2 == 0 : \n",
                "        even_numbers += num\n",
                "\n",
                "print ('The sum of the even numbers is' , even_numbers)\n",
                "\n",
                "\n",
                "    \n"
            ]
        },
        {
            "cell_type": "markdown",
            "metadata": {},
            "source": [
                "**Counting the frequency of each word in a sentence**"
            ]
        },
        {
            "cell_type": "code",
            "execution_count": 15,
            "metadata": {},
            "outputs": [
                {
                    "name": "stdout",
                    "output_type": "stream",
                    "text": [
                        "hanis 1\n",
                        "is 1\n",
                        "a 2\n",
                        "esyde 1\n",
                        "anis 1\n"
                    ]
                }
            ],
            "source": [
                "user_input = input(\"Enter a Sentence\")\n",
                "\n",
                "word_list = []\n",
                "word_list = user_input.split()\n",
                "\n",
                "sentence_dic = {}\n",
                "\n",
                "for word in word_list : \n",
                "    if word not in sentence_dic : \n",
                "        sentence_dic[word] = 1\n",
                "    else :\n",
                "        sentence_dic[word] += 1\n",
                "        \n",
                "for word in sentence_dic :\n",
                "    print (word , sentence_dic[word])\n",
                "\n"
            ]
        }
    ],
    "metadata": {
        "kernelspec": {
            "display_name": "Python 3",
            "language": "python",
            "name": "python3"
        },
        "language_info": {
            "codemirror_mode": {
                "name": "ipython",
                "version": 3
            },
            "file_extension": ".py",
            "mimetype": "text/x-python",
            "name": "python",
            "nbconvert_exporter": "python",
            "pygments_lexer": "ipython3",
            "version": "3.9.6"
        },
        "orig_nbformat": 4
    },
    "nbformat": 4,
    "nbformat_minor": 2
}
