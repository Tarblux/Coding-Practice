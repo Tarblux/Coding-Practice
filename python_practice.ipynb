{
    "cells": [
        {
            "cell_type": "markdown",
            "metadata": {},
            "source": [
                "**Factorial**"
            ]
        },
        {
            "cell_type": "code",
            "execution_count": 9,
            "metadata": {},
            "outputs": [
                {
                    "name": "stdout",
                    "output_type": "stream",
                    "text": [
                        "6\n",
                        "120\n"
                    ]
                }
            ],
            "source": [
                "#Finding the factorial of a number \n",
                "\n",
                "number = int(input('Give me a number'))\n",
                "\n",
                "factorial = 1\n",
                "\n",
                "if number == 1 or number == 0 :\n",
                "    factorial == 1\n",
                "else: \n",
                "    for i in range (number,0,-1):\n",
                "        factorial = factorial * i\n",
                "        \n",
                "print(factorial) \n",
                "\n",
                "# This can be even simpler\n",
                "\n",
                "number = int(input('Give me a number'))\n",
                "\n",
                "factorial_2 = 1 \n",
                "\n",
                "for i in range (number,0,-1):\n",
                "    factorial_2 *= i\n",
                "    \n",
                "print(factorial_2)\n",
                "\n",
                "\n",
                "    \n"
            ]
        },
        {
            "cell_type": "code",
            "execution_count": null,
            "metadata": {},
            "outputs": [],
            "source": [
                "# Create a Factorial function using recursion \n",
                "\n",
                "def factorial (number):\n",
                "    if number == 1 or number == 0 : \n",
                "        return 1\n",
                "    else : \n",
                "        result = number * factorial(number-1) \n",
                "        return result\n",
                "\n",
                "\n",
                "print (factorial(5)) "
            ]
        },
        {
            "cell_type": "markdown",
            "metadata": {},
            "source": [
                "**Counting number of vowels in a string**"
            ]
        },
        {
            "cell_type": "code",
            "execution_count": 12,
            "metadata": {},
            "outputs": [
                {
                    "name": "stdout",
                    "output_type": "stream",
                    "text": [
                        "There are 6  vowels in  aeiiii\n"
                    ]
                }
            ],
            "source": [
                "user_input = input('Enter a word')\n",
                "\n",
                "vowels = ['a','e','i','o','u']\n",
                "\n",
                "vowels_count = 0\n",
                "\n",
                "split_string = list(user_input)\n",
                "\n",
                "for char in split_string : \n",
                "    if char in vowels : \n",
                "        vowels_count += 1\n",
                "    else : \n",
                "        vowels_count += 0\n",
                "        \n",
                "print('There are' , vowels_count , ' vowels in ', user_input ) \n",
                "\n"
            ]
        }
    ],
    "metadata": {
        "kernelspec": {
            "display_name": "Python 3",
            "language": "python",
            "name": "python3"
        },
        "language_info": {
            "codemirror_mode": {
                "name": "ipython",
                "version": 3
            },
            "file_extension": ".py",
            "mimetype": "text/x-python",
            "name": "python",
            "nbconvert_exporter": "python",
            "pygments_lexer": "ipython3",
            "version": "3.9.13"
        },
        "orig_nbformat": 4
    },
    "nbformat": 4,
    "nbformat_minor": 2
}
