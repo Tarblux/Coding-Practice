{
 "cells": [
  {
   "cell_type": "markdown",
   "metadata": {},
   "source": [
    "---\n",
    "\n",
    "You are given a **0-indexed** array of integers `nums` of length `n`. You are initially positioned at `nums[0]`.\n",
    "\n",
    "Each element `nums[i]` represents the maximum length of a forward jump from index `i`. In other words, if you are at `nums[i]`, you can jump to any `nums[i + j]` where:\n",
    "\n",
    "- `0 <= j <= nums[i]` and\n",
    "- `i + j < n`\n",
    "\n",
    "Return *the minimum number of jumps to reach* `nums[n - 1]`. The test cases are generated such that you can reach `nums[n - 1]`."
   ]
  },
  {
   "cell_type": "code",
   "execution_count": 10,
   "metadata": {},
   "outputs": [
    {
     "data": {
      "text/plain": [
       "2"
      ]
     },
     "execution_count": 10,
     "metadata": {},
     "output_type": "execute_result"
    }
   ],
   "source": [
    "from typing import List\n",
    "\n",
    "class Solution:\n",
    "    def minJump(self,nums:List[int]) -> int :\n",
    "        \n",
    "        local_max = nums[0] \n",
    "        global_max = 0\n",
    "        min_jumps = 0\n",
    "        \n",
    "        for i in range(len(nums)):\n",
    "            \n",
    "            landing_position = nums[i] + i\n",
    "            global_max = max(global_max,landing_position)\n",
    "            \n",
    "            if i >= local_max:\n",
    "                \n",
    "                min_jumps += 1\n",
    "                local_max = global_max\n",
    "            \n",
    "        return min_jumps\n",
    "    \n",
    "A = Solution()\n",
    "\n",
    "nums = [2,3,1,1,4]\n",
    "\n",
    "A.minJump(nums)\n",
    "            \n",
    "        "
   ]
  }
 ],
 "metadata": {
  "kernelspec": {
   "display_name": "Python 3",
   "language": "python",
   "name": "python3"
  },
  "language_info": {
   "codemirror_mode": {
    "name": "ipython",
    "version": 3
   },
   "file_extension": ".py",
   "mimetype": "text/x-python",
   "name": "python",
   "nbconvert_exporter": "python",
   "pygments_lexer": "ipython3",
   "version": "3.11.7"
  }
 },
 "nbformat": 4,
 "nbformat_minor": 2
}
