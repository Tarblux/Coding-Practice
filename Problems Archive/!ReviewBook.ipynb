{
 "cells": [
  {
   "cell_type": "markdown",
   "metadata": {},
   "source": [
    "A sequence of numbers is called an **arithmetic progression** if the difference between any two consecutive elements is the same.\n",
    "\n",
    "Given an array of numbers `arr`, return `true` *if the array can be rearranged to form an **arithmetic progression**. Otherwise, return* `false`.\n",
    "\n",
    "**Example 1:**\n",
    "\n",
    "```\n",
    "Input: arr = [3,5,1]\n",
    "Output: true\n",
    "Explanation:We can reorder the elements as [1,3,5] or [5,3,1] with differences 2 and -2 respectively, between each consecutive elements.\n",
    "```\n",
    "\n",
    "**Example 2:**\n",
    "\n",
    "```\n",
    "Input: arr = [1,2,4]\n",
    "Output: false\n",
    "Explanation:There is no way to reorder the elements to obtain an arithmetic progression.\n",
    "```\n",
    "\n",
    "**Constraints:**\n",
    "\n",
    "- `2 <= arr.length <= 1000`\n",
    "- `106 <= arr[i] <= 106`"
   ]
  },
  {
   "cell_type": "code",
   "execution_count": 7,
   "metadata": {},
   "outputs": [
    {
     "data": {
      "text/plain": [
       "False"
      ]
     },
     "execution_count": 7,
     "metadata": {},
     "output_type": "execute_result"
    }
   ],
   "source": [
    "from typing import List \n",
    "\n",
    "class Solution:\n",
    "    @staticmethod\n",
    "    def canMakeArithmeticProgression(arr:List[int]) -> bool:\n",
    "        \n",
    "        if len(arr) < 2:\n",
    "            return False\n",
    "        \n",
    "        arr.sort()\n",
    "        diff = arr[1] - arr[0]\n",
    "        \n",
    "        for i in range(1,len(arr)):\n",
    "            \n",
    "            if arr[i] - arr[i-1] != diff:\n",
    "                \n",
    "                return False \n",
    "            \n",
    "        return True\n",
    "    \n",
    "Solution.canMakeArithmeticProgression([1,2,4])\n",
    "                \n",
    "                "
   ]
  }
 ],
 "metadata": {
  "kernelspec": {
   "display_name": "Python 3",
   "language": "python",
   "name": "python3"
  },
  "language_info": {
   "codemirror_mode": {
    "name": "ipython",
    "version": 3
   },
   "file_extension": ".py",
   "mimetype": "text/x-python",
   "name": "python",
   "nbconvert_exporter": "python",
   "pygments_lexer": "ipython3",
   "version": "3.11.7"
  }
 },
 "nbformat": 4,
 "nbformat_minor": 2
}
