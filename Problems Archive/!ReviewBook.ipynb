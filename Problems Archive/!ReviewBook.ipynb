{
 "cells": [
  {
   "cell_type": "markdown",
   "metadata": {},
   "source": [
    "Reverse Linked List "
   ]
  },
  {
   "cell_type": "code",
   "execution_count": 2,
   "metadata": {},
   "outputs": [],
   "source": [
    "from typing import Optional\n",
    "\n",
    "class ListNode():\n",
    "    def __init__(self,val:int = 0,next=None):\n",
    "        self.val = val\n",
    "        self.next = next\n",
    "        \n",
    "class Solution:\n",
    "    def reverseList(self,head:Optional[ListNode]) -> Optional[ListNode]:\n",
    "        \n",
    "        current = head \n",
    "        prev = None\n",
    "        \n",
    "        while current:\n",
    "            \n",
    "            temp = current.next\n",
    "            current.next = prev\n",
    "            prev = current\n",
    "            current = temp\n",
    "            \n",
    "        return prev\n",
    "\n",
    "\n",
    "headie_one = ListNode(0)\n",
    "\n",
    "for i in range(1,5):\n",
    "    \n",
    "    if i == 1 : \n",
    "        \n",
    "        headie_one =\n",
    "    \n",
    "    cur_node = ListNode(i)"
   ]
  }
 ],
 "metadata": {
  "kernelspec": {
   "display_name": "Python 3",
   "language": "python",
   "name": "python3"
  },
  "language_info": {
   "codemirror_mode": {
    "name": "ipython",
    "version": 3
   },
   "file_extension": ".py",
   "mimetype": "text/x-python",
   "name": "python",
   "nbconvert_exporter": "python",
   "pygments_lexer": "ipython3",
   "version": "3.11.7"
  }
 },
 "nbformat": 4,
 "nbformat_minor": 2
}
