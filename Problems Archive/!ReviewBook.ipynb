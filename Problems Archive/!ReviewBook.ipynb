{
 "cells": [
  {
   "cell_type": "markdown",
   "metadata": {},
   "source": [
    "Binary Search"
   ]
  },
  {
   "cell_type": "code",
   "execution_count": 5,
   "metadata": {},
   "outputs": [
    {
     "data": {
      "text/plain": [
       "0"
      ]
     },
     "execution_count": 5,
     "metadata": {},
     "output_type": "execute_result"
    }
   ],
   "source": [
    "from typing import List\n",
    "\n",
    "class Solution:\n",
    "    def binarySearch(self,array:List[int],target:int) -> int:\n",
    "        \n",
    "        left = 0\n",
    "        right = len(array) - 1\n",
    "        \n",
    "        while left <= right :\n",
    "            \n",
    "            mid = (left+right) // 2\n",
    "            \n",
    "            if target == array[mid] :\n",
    "                return mid \n",
    "            elif target > array[mid]:\n",
    "                left = mid + 1\n",
    "                continue\n",
    "            elif target < array[mid]:\n",
    "                right = mid - 1\n",
    "                \n",
    "        return -1\n",
    "    \n",
    "    \n",
    "array = [0,5,13,19,22,41,55,68,72,81,98]\n",
    "\n",
    "narf = Solution()\n",
    "\n",
    "narf.binarySearch(array,0)"
   ]
  }
 ],
 "metadata": {
  "kernelspec": {
   "display_name": "Python 3",
   "language": "python",
   "name": "python3"
  },
  "language_info": {
   "codemirror_mode": {
    "name": "ipython",
    "version": 3
   },
   "file_extension": ".py",
   "mimetype": "text/x-python",
   "name": "python",
   "nbconvert_exporter": "python",
   "pygments_lexer": "ipython3",
   "version": "3.12.5"
  }
 },
 "nbformat": 4,
 "nbformat_minor": 2
}
