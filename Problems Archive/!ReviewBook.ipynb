{
 "cells": [
  {
   "cell_type": "markdown",
   "metadata": {},
   "source": [
    "Reverse bits of a given 32 bits unsigned integer.\n",
    "\n",
    "**Note:**\n",
    "\n",
    "- Note that in some languages, such as Java, there is no unsigned\n",
    "  integer type. In this case, both input and output will be given as a\n",
    "  signed integer type. They should not affect your implementation, as the\n",
    "  integer's internal binary representation is the same, whether it is\n",
    "  signed or unsigned.\n",
    "- In Java, the compiler represents the signed integers using [2&#39;s complement notation](https://en.wikipedia.org/wiki/Two%27s_complement). Therefore, in **Example 2** above, the input represents the signed integer `3` and the output represents the signed integer `1073741825`.\n",
    "\n",
    "**Example 1:**\n",
    "\n",
    "```\n",
    "Input: n = 00000010100101000001111010011100\n",
    "Output:    964176192 (00111001011110000010100101000000)\n",
    "Explanation:The input binary string00000010100101000001111010011100 represents the unsigned integer 43261596, so return 964176192 which its binary representation is00111001011110000010100101000000.\n",
    "```\n",
    "\n",
    "**Example 2:**\n",
    "\n",
    "```\n",
    "Input: n = 11111111111111111111111111111101\n",
    "Output:   3221225471 (10111111111111111111111111111111)\n",
    "Explanation:The input binary string11111111111111111111111111111101 represents the unsigned integer 4294967293, so return 3221225471 which its binary representation is10111111111111111111111111111111.\n",
    "```\n",
    "\n",
    "**Constraints:**\n",
    "\n",
    "- The input must be a **binary string** of length `32`\n",
    "\n",
    "**Follow up:** If this function is called many times, how would you optimize it?"
   ]
  },
  {
   "cell_type": "code",
   "execution_count": 7,
   "metadata": {},
   "outputs": [
    {
     "data": {
      "text/plain": [
       "4294967293"
      ]
     },
     "execution_count": 7,
     "metadata": {},
     "output_type": "execute_result"
    }
   ],
   "source": [
    "class Solution: \n",
    "    def reverseBits(self, n:int) -> int:\n",
    "        \n",
    "        power = 31\n",
    "        reversed_bits = 0\n",
    "        \n",
    "        while n:\n",
    "                \n",
    "            reversed_bits += (n&1) << power \n",
    "                \n",
    "            power -= 1\n",
    "            n >>= 1\n",
    "            \n",
    "        return reversed_bits\n",
    "    \n",
    "test = Solution()\n",
    "test.reverseBits(3221225471)"
   ]
  }
 ],
 "metadata": {
  "kernelspec": {
   "display_name": "Python 3",
   "language": "python",
   "name": "python3"
  },
  "language_info": {
   "codemirror_mode": {
    "name": "ipython",
    "version": 3
   },
   "file_extension": ".py",
   "mimetype": "text/x-python",
   "name": "python",
   "nbconvert_exporter": "python",
   "pygments_lexer": "ipython3",
   "version": "3.11.7"
  }
 },
 "nbformat": 4,
 "nbformat_minor": 2
}
