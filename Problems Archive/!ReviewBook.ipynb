{
 "cells": [
  {
   "cell_type": "markdown",
   "metadata": {},
   "source": [
    "Given an array of `points` where `points[i] = [xi, yi]` represents a point on the **X-Y** plane and an integer `k`, return the `k` closest points to the origin `(0, 0)`.\n",
    "\n",
    "The distance between two points on the **X-Y** plane is the Euclidean distance (i.e., `√(x1 - x2)2 + (y1 - y2)2`).\n",
    "\n",
    "You may return the answer in **any order**. The answer is **guaranteed** to be **unique** (except for the order that it is in)."
   ]
  },
  {
   "cell_type": "code",
   "execution_count": 17,
   "metadata": {},
   "outputs": [
    {
     "data": {
      "text/plain": [
       "[[-2, 2]]"
      ]
     },
     "execution_count": 17,
     "metadata": {},
     "output_type": "execute_result"
    }
   ],
   "source": [
    "from typing import List\n",
    "\n",
    "import math\n",
    "\n",
    "class Solution:\n",
    "    \n",
    "    def euclidean(self,point:List[int]) -> int:\n",
    "        \n",
    "        x , y  = point\n",
    "        \n",
    "        distance = math.sqrt((x-0)**2 + (y-0)**2)\n",
    "        \n",
    "        return distance \n",
    "        \n",
    "\n",
    "    def closestPoints(self,points:List[List[int]], k:int) -> List[List[int]]:\n",
    "        \n",
    "        distances = [0]*len(points)\n",
    "        closest = []\n",
    "        \n",
    "        for i in range(len(points)):\n",
    "            \n",
    "            distance = self.euclidean(points[i])\n",
    "            distances[i] = [i,distance]\n",
    "            \n",
    "        distances.sort(key= lambda point : point[1] , reverse=False)\n",
    "        \n",
    "        for i in range(k):\n",
    "            \n",
    "            index  = distances[i][0]\n",
    "            \n",
    "            closest.append(points[index])\n",
    "            \n",
    "        return closest\n",
    "        "
   ]
  }
 ],
 "metadata": {
  "kernelspec": {
   "display_name": "Python 3",
   "language": "python",
   "name": "python3"
  },
  "language_info": {
   "codemirror_mode": {
    "name": "ipython",
    "version": 3
   },
   "file_extension": ".py",
   "mimetype": "text/x-python",
   "name": "python",
   "nbconvert_exporter": "python",
   "pygments_lexer": "ipython3",
   "version": "3.11.7"
  }
 },
 "nbformat": 4,
 "nbformat_minor": 2
}
