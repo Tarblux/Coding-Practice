{
 "cells": [
  {
   "cell_type": "markdown",
   "metadata": {},
   "source": [
    "There are `n` people in a line queuing to buy tickets, where the `0th` person is at the **front** of the line and the `(n - 1)th` person is at the **back** of the line.\n",
    "\n",
    "You are given a **0-indexed** integer array `tickets` of length `n` where the number of tickets that the `ith` person would like to buy is `tickets[i]`.\n",
    "\n",
    "Each person takes **exactly 1 second** to buy a ticket. A person can only buy **1 ticket at a time** and has to go back to **the end** of the line (which happens **instantaneously**) in order to buy more tickets. If a person does not have any tickets left to buy, the person will **leave** the line.\n",
    "\n",
    "Return *the **time taken** for the person at position* `k` ***(0-indexed)*** *to finish buying tickets*."
   ]
  },
  {
   "cell_type": "code",
   "execution_count": 15,
   "metadata": {},
   "outputs": [
    {
     "data": {
      "text/plain": [
       "8"
      ]
     },
     "execution_count": 15,
     "metadata": {},
     "output_type": "execute_result"
    }
   ],
   "source": [
    "from typing import List\n",
    "\n",
    "class Solution : \n",
    "    \n",
    "    def timeRequiredToBuy(self, tickets:List[int], k:int) -> int :\n",
    "        \n",
    "        time = 0\n",
    "        \n",
    "        while tickets[k] > 0 : \n",
    "            \n",
    "            for i in range(len(tickets)) : \n",
    "                \n",
    "                if tickets[i] == 0 : \n",
    "                    \n",
    "                    continue\n",
    "                \n",
    "                tickets[i] -= 1 \n",
    "                time += 1\n",
    "                \n",
    "                if tickets[k] == 0 \n",
    "                \n",
    "                    break\n",
    "                \n",
    "        return time \n",
    "    \n",
    "A = Solution()\n",
    "\n",
    "tickets = [5,1,1,1]\n",
    "k = 0\n",
    "\n",
    "A.timeRequiredToBuy(tickets,k)"
   ]
  }
 ],
 "metadata": {
  "kernelspec": {
   "display_name": "Python 3",
   "language": "python",
   "name": "python3"
  },
  "language_info": {
   "codemirror_mode": {
    "name": "ipython",
    "version": 3
   },
   "file_extension": ".py",
   "mimetype": "text/x-python",
   "name": "python",
   "nbconvert_exporter": "python",
   "pygments_lexer": "ipython3",
   "version": "3.11.7"
  }
 },
 "nbformat": 4,
 "nbformat_minor": 2
}
