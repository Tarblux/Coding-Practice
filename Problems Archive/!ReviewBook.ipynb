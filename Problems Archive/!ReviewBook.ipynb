{
 "cells": [
  {
   "cell_type": "markdown",
   "metadata": {},
   "source": [
    "A binary tree is named **Even-Odd** if it meets the following conditions:\n",
    "\n",
    "- The root of the binary tree is at level index `0`, its children are at level index `1`, their children are at level index `2`, etc.\n",
    "- For every **even-indexed** level, all nodes at the level have **odd** integer values in **strictly increasing** order (from left to right).\n",
    "- For every **odd-indexed** level, all nodes at the level have **even** integer values in **strictly decreasing** order (from left to right).\n",
    "\n",
    "Given the `root` of a binary tree, *return* `true` *if the binary tree is **Even-Odd**, otherwise return* `false`*.*"
   ]
  },
  {
   "cell_type": "code",
   "execution_count": 15,
   "metadata": {},
   "outputs": [
    {
     "data": {
      "text/plain": [
       "8"
      ]
     },
     "execution_count": 15,
     "metadata": {},
     "output_type": "execute_result"
    }
   ],
   "source": [
    "class TreeNode:\n",
    "    def __init__(self, val=0, left=None, right=None):\n",
    "        self.val = val\n",
    "        self.left = left\n",
    "        self.right = right\n",
    "\n",
    "from typing import Optional , TreeNode\n",
    "\n",
    "class Solution:\n",
    "    def traversalbfs(self, node, dictionary,level):\n",
    "        \n",
    "        if not node:\n",
    "            return\n",
    "        \n",
    "        dictionary[level] = dictionary.get(level,[]).append(node.val)\n",
    "        \n",
    "        self.traversalbfs(node.left, dictionary, level+1)\n",
    "        self.traversalbfs(node.right,dictionary,level+1)\n",
    "        \n",
    "        return dictionary\n",
    "    \n",
    "    def isEvenOdd(self, root:Optional[TreeNode]) -> bool:\n",
    "        \n",
    "        dict = {}\n",
    "        level_dict = self.traversalbfs(root,dict,0)\n",
    "        \n",
    "        for key in level_dict.keys():\n",
    "            \n",
    "            cur_level = level_dict[key]\n",
    "            \n",
    "            if key % 2 == 0:\n",
    "                \n",
    "                for i in range(1,len(cur_level)):\n",
    "                    \n",
    "                    if cur_level[i-1] > cur_level[i]:\n",
    "                        \n",
    "                        return False\n",
    "                    \n",
    "                    if cur_level[i]\n",
    "            \n",
    "        \n",
    "        \n",
    "        "
   ]
  }
 ],
 "metadata": {
  "kernelspec": {
   "display_name": "Python 3",
   "language": "python",
   "name": "python3"
  },
  "language_info": {
   "codemirror_mode": {
    "name": "ipython",
    "version": 3
   },
   "file_extension": ".py",
   "mimetype": "text/x-python",
   "name": "python",
   "nbconvert_exporter": "python",
   "pygments_lexer": "ipython3",
   "version": "3.11.7"
  }
 },
 "nbformat": 4,
 "nbformat_minor": 2
}
