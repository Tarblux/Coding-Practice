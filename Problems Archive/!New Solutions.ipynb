{
 "cells": [
  {
   "cell_type": "code",
   "execution_count": 6,
   "metadata": {},
   "outputs": [
    {
     "name": "stdout",
     "output_type": "stream",
     "text": [
      "[[3, 3], [-2, 4]]\n"
     ]
    }
   ],
   "source": [
    "# 973. K Closest Points\n",
    "\n",
    "from typing import List\n",
    "\n",
    "import math\n",
    "\n",
    "class Solution:\n",
    "    \n",
    "    def euclidean(self,point:List[int]) -> int:\n",
    "        \n",
    "        x , y  = point\n",
    "        \n",
    "        distance = math.sqrt((x-0)**2 + (y-0)**2)\n",
    "        \n",
    "        return distance \n",
    "        \n",
    "\n",
    "    def closestPoints(self,points:List[List[int]], k:int) -> List[List[int]]:\n",
    "        \n",
    "        distances = [(index,self.euclidean(point)) for index , point in enumerate(points)]\n",
    "        \n",
    "        distances.sort(key= lambda point : point[1] , reverse=False)\n",
    "        \n",
    "        closest = [points[index] for index , distance in distances[:k]]\n",
    "           \n",
    "        return closest\n",
    "    \n",
    "    \n",
    "A = Solution()\n",
    "print(A.closestPoints([[3,3],[5,-1],[-2,4]],2))"
   ]
  },
  {
   "cell_type": "code",
   "execution_count": 5,
   "metadata": {},
   "outputs": [
    {
     "data": {
      "text/plain": [
       "True"
      ]
     },
     "execution_count": 5,
     "metadata": {},
     "output_type": "execute_result"
    }
   ],
   "source": [
    "#36 Valid Sudoku\n",
    "\n",
    "board = [\n",
    " [\"5\",\"3\",\".\",\".\",\"7\",\".\",\".\",\".\",\".\"]\n",
    ",[\"6\",\".\",\".\",\"1\",\"9\",\"5\",\".\",\".\",\".\"]\n",
    ",[\".\",\"9\",\"8\",\".\",\".\",\".\",\".\",\"6\",\".\"]\n",
    ",[\"8\",\".\",\".\",\".\",\"6\",\".\",\".\",\".\",\"3\"]\n",
    ",[\"4\",\".\",\".\",\"8\",\".\",\"3\",\".\",\".\",\"1\"]\n",
    ",[\"7\",\".\",\".\",\".\",\"2\",\".\",\".\",\".\",\"6\"]\n",
    ",[\".\",\"6\",\".\",\".\",\".\",\".\",\"2\",\"8\",\".\"]\n",
    ",[\".\",\".\",\".\",\"4\",\"1\",\"9\",\".\",\".\",\"5\"]\n",
    ",[\".\",\".\",\".\",\".\",\"8\",\".\",\".\",\"7\",\"9\"]]\n",
    "\n",
    "\n",
    "from collections import defaultdict\n",
    "from typing import List\n",
    "\n",
    "class Solution:\n",
    "    \n",
    "    def isValidSudoku(self, board: List[List[int]]) -> bool:\n",
    "        \n",
    "        column = defaultdict(list)\n",
    "        row = defaultdict(list)\n",
    "        grid = defaultdict(list)\n",
    "        \n",
    "        for i in range(9):\n",
    "            for j in range(9):\n",
    "                \n",
    "                cur_grid = str(i//3) + str(j//3)\n",
    "                val = board[i][j]\n",
    "                \n",
    "                if val in row[i] or val in column[j] or val in grid[cur_grid]:\n",
    "                        return False\n",
    "                \n",
    "                if val != '.':\n",
    "    \n",
    "                    row[i].append(val)\n",
    "                    column[j].append(val)\n",
    "                    grid[cur_grid].append(val)\n",
    "                    \n",
    "        return True\n",
    "\n",
    "                \n",
    "A = Solution()\n",
    "\n",
    "A.isValidSudoku(board)"
   ]
  },
  {
   "cell_type": "code",
   "execution_count": null,
   "metadata": {},
   "outputs": [],
   "source": []
  }
 ],
 "metadata": {
  "kernelspec": {
   "display_name": "Python 3",
   "language": "python",
   "name": "python3"
  },
  "language_info": {
   "codemirror_mode": {
    "name": "ipython",
    "version": 3
   },
   "file_extension": ".py",
   "mimetype": "text/x-python",
   "name": "python",
   "nbconvert_exporter": "python",
   "pygments_lexer": "ipython3",
   "version": "3.11.7"
  }
 },
 "nbformat": 4,
 "nbformat_minor": 2
}
