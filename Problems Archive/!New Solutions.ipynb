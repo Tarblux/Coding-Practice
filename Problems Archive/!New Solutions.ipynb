{
 "cells": [
  {
   "cell_type": "code",
   "execution_count": 6,
   "metadata": {},
   "outputs": [
    {
     "name": "stdout",
     "output_type": "stream",
     "text": [
      "[[3, 3], [-2, 4]]\n"
     ]
    }
   ],
   "source": [
    "# 973. K Closest Points\n",
    "\n",
    "from typing import List\n",
    "\n",
    "import math\n",
    "\n",
    "class Solution:\n",
    "    \n",
    "    def euclidean(self,point:List[int]) -> int:\n",
    "        \n",
    "        x , y  = point\n",
    "        \n",
    "        distance = math.sqrt((x-0)**2 + (y-0)**2)\n",
    "        \n",
    "        return distance \n",
    "        \n",
    "\n",
    "    def closestPoints(self,points:List[List[int]], k:int) -> List[List[int]]:\n",
    "        \n",
    "        distances = [(index,self.euclidean(point)) for index , point in enumerate(points)]\n",
    "        \n",
    "        distances.sort(key= lambda point : point[1] , reverse=False)\n",
    "        \n",
    "        closest = [points[index] for index , distance in distances[:k]]\n",
    "           \n",
    "        return closest\n",
    "    \n",
    "    \n",
    "A = Solution()\n",
    "print(A.closestPoints([[3,3],[5,-1],[-2,4]],2))"
   ]
  }
 ],
 "metadata": {
  "kernelspec": {
   "display_name": "Python 3",
   "language": "python",
   "name": "python3"
  },
  "language_info": {
   "codemirror_mode": {
    "name": "ipython",
    "version": 3
   },
   "file_extension": ".py",
   "mimetype": "text/x-python",
   "name": "python",
   "nbconvert_exporter": "python",
   "pygments_lexer": "ipython3",
   "version": "3.11.7"
  }
 },
 "nbformat": 4,
 "nbformat_minor": 2
}
