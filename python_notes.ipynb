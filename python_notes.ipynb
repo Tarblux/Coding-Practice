{
 "cells": [
  {
   "cell_type": "markdown",
   "metadata": {},
   "source": [
    "Basics to remember \n",
    "\n",
    "+ Always remember that \" = \" means that something is storing that value and not that it is equal. \"==\" means that it is equal \n",
    "\n",
    "+ When a + is used on an integer or a float it works as normal plus sign but when it is applied to two strings it works a concatenation operator and it joins the strings together. + operator CANNOT be used on a string and an integer.\n",
    "\n",
    "+ The operator (*) multiplies two integer or floating point values but when used on a string and an integer it becomes the string replication operator and repeats the string n times where n is an integer.\n",
    "\n"
   ]
  },
  {
   "cell_type": "code",
   "execution_count": 7,
   "metadata": {},
   "outputs": [
    {
     "name": "stdout",
     "output_type": "stream",
     "text": [
      "buduchop\n",
      "budubudubudubudubudu\n"
     ]
    }
   ],
   "source": [
    "#Examples \n",
    "\n",
    "print ('budu' + 'chop' )\n",
    "\n",
    "print ('budu' * 5)"
   ]
  },
  {
   "cell_type": "markdown",
   "metadata": {},
   "source": [
    "# Math Operators \n",
    "\n",
    "| Operators   | Operation   |\n",
    "| ----------- | ----------- | \n",
    "| **          | Exponent    |\n",
    "| %           | Modulus (Remainder after division)    |\n",
    "| /           | Division    |\n",
    "| //          | Floor Division (Divides and rounds to the nearest Integer, just toss the decimal : )| \n",
    "| *           | Multiplication|\n",
    "| -           |Subtraction |\n",
    "| +           | Addition | \n",
    "\n"
   ]
  },
  {
   "cell_type": "code",
   "execution_count": 12,
   "metadata": {},
   "outputs": [
    {
     "name": "stdout",
     "output_type": "stream",
     "text": [
      "81 1 3.142857142857143 3 15 3 4\n"
     ]
    }
   ],
   "source": [
    "#Examples \n",
    "\n",
    "A = 3**4\n",
    "\n",
    "B = 22%7\n",
    "\n",
    "C = 22/7\n",
    "\n",
    "D = 22//7\n",
    "\n",
    "E = 3*5\n",
    "\n",
    "F = 5-2\n",
    "\n",
    "G = 2+2\n",
    "\n",
    "print(A , B , C , D , E , F , G)"
   ]
  },
  {
   "cell_type": "markdown",
   "metadata": {},
   "source": [
    "The Order of precedence is ** , * , / , // , % , + , - \n",
    "In general Python follows PEMDAS \n",
    "P - Parentheses\n",
    "E - Exponents \n",
    "M - Multiplication  \n",
    "D - Division \n",
    "A - Addition \n",
    "S - Subtraction \n",
    "\n"
   ]
  },
  {
   "cell_type": "markdown",
   "metadata": {},
   "source": [
    "# Functions\n",
    "\n",
    "The line print('Hello, world!') means “Print out the text in the string 'Hello, world!'.” When Python executes this line, you say that Python is calling the print() function and the string value is being passed to the function. A value that is passed to a function call is an argument. Notice that the quotes are not printed to the screen. They just mark where the string begins and ends; they are not part of the string value.\n",
    "\n",
    "In Python, a function is a reusable block of code that performs a specific task. It's like a mini-program within your program that you can call whenever you need to perform that task. Functions help organize your code into manageable and reusable pieces, making your codebase more modular and easier to understand.\n",
    "\n",
    "Here's a simple breakdown of the key components of a function:\n",
    "\n",
    "1. **Function Definition:** This is where you define the function, giving it a name and specifying its parameters (inputs) and an optional return type.\n",
    "\n",
    "2. **Parameters:** Parameters are variables that you define in the function's parentheses. They act as placeholders for values that you pass into the function when you call it. Functions can have zero or more parameters.\n",
    "\n",
    "3. **Function Body:** The body of the function consists of the code that gets executed when the function is called. It contains the instructions for performing the specific task the function is designed for.\n",
    "\n",
    "4. **Return Statement:** If a function is supposed to produce a result, you can use the `return` statement to send a value back to the code that called the function. This value can then be used or stored as needed.\n",
    "\n",
    "Here's a simple example of a function that adds two numbers together and returns the result:\n"
   ]
  },
  {
   "cell_type": "code",
   "execution_count": 8,
   "metadata": {},
   "outputs": [
    {
     "name": "stdout",
     "output_type": "stream",
     "text": [
      "Sum: 8\n"
     ]
    }
   ],
   "source": [
    "\n",
    "def add_numbers(a, b):\n",
    "    result = a + b\n",
    "    return result\n",
    "\n",
    "# Call the function\n",
    "sum_result = add_numbers(5, 3)\n",
    "print(\"Sum:\", sum_result)  # Output: Sum: 8\n"
   ]
  },
  {
   "cell_type": "markdown",
   "metadata": {},
   "source": [
    "\n",
    "# The input() Function\n",
    "\n",
    "\n",
    "The input() function waits for the user to type some text on the keyboard and press ENTER.\n",
    "➌ myName = input()\n",
    "\n",
    "This function call evaluates to a string equal to the user’s text, and the line of code assigns the myName variable to this string value.\n",
    "You can think of the input() function call as an expression that evaluates to whatever string the user typed in. If the user entered 'Al', then the expression would evaluate to myName = 'Al'.\n",
    "\n",
    "**The len() Function**\n",
    "\n",
    "You can pass the len() function a string value (or a variable containing a string), and the function evaluates to the integer value of the number of characters in that string.\n",
    "\n",
    "\n",
    "we can Call the str(), int(), and float() functions and pass them values of the other data types to obtain a string, integer, or floating-point form of those values.\n",
    "\n",
    "The str() function is handy when you have an integer or float that you want to concatenate to a string. The int() function is also helpful if you have a number as a string value that you want to use in some mathematics. For example, the input() function always returns a string, even if the user enters a number.\n",
    "\n",
    "The int() function is also useful if you need to round a floating-point number down :\n",
    "\n",
    "int(7.7)\n",
    "\n",
    "7\n",
    "\n",
    "int(7.7) + 1\n",
    "\n",
    "8"
   ]
  },
  {
   "cell_type": "markdown",
   "metadata": {},
   "source": [
    "\n",
    "In this example:\n",
    "- `def add_numbers(a, b):` defines the function named `add_numbers` with two parameters `a` and `b`.\n",
    "- `result = a + b` calculates the sum of the two input numbers.\n",
    "- `return result` sends the calculated sum back to the code that called the function.\n",
    "- `add_numbers(5, 3)` is the function call, passing `5` and `3` as arguments to the function.\n",
    "- `sum_result` stores the returned value from the function call.\n",
    "\n",
    "By using functions, you can write code more efficiently, avoid duplicating code, and make your codebase more organized and maintainable."
   ]
  },
  {
   "cell_type": "markdown",
   "metadata": {},
   "source": [
    "# Arrays/List\n",
    "\n",
    "eg. names = [\"Esyde\" , \"Wang\" , \"Guzu\"]\n",
    "\n",
    "Python uses 0 indexing so counting starts at 0. Therefore wang is in position 1 and esyde is in position 0\n",
    "\n",
    "If you print name[-1] it prints the last element in the array as it steps through the array backwards.\n",
    "\n",
    "You can select and change an element in an array like this : \n",
    "\n",
    "names [0] = 'Hanis'\n",
    "\n",
    "or you can select a range of values like this \n",
    "\n",
    "names [0:3]\n",
    "\n",
    "the range() function sets a variable to a range of numbers.\n",
    "\n",
    "eg : range(5) --> Sets numbers starting from 0 to 5 \n",
    "\n",
    "range(5,10) --> sets from 5 to 9 because the second argument isn't inclusive \n",
    "\n",
    "range (5,10,2)--> sets from 5 to 9 but 5,7,9 because it is only stepping by 2."
   ]
  }
 ],
 "metadata": {
  "kernelspec": {
   "display_name": "Python 3",
   "language": "python",
   "name": "python3"
  },
  "language_info": {
   "codemirror_mode": {
    "name": "ipython",
    "version": 3
   },
   "file_extension": ".py",
   "mimetype": "text/x-python",
   "name": "python",
   "nbconvert_exporter": "python",
   "pygments_lexer": "ipython3",
   "version": "3.9.6"
  },
  "orig_nbformat": 4
 },
 "nbformat": 4,
 "nbformat_minor": 2
}
