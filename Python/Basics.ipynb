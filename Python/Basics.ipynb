{
    "cells": [
        {
            "cell_type": "markdown",
            "metadata": {},
            "source": [
                "# General "
            ]
        },
        {
            "cell_type": "code",
            "execution_count": null,
            "metadata": {},
            "outputs": [],
            "source": [
                "# Math Operations Practice\n",
                "\n",
                "print(5**3)\n",
                "\n",
                "print(5//3)\n",
                "\n",
                "print(5 % 3)"
            ]
        },
        {
            "cell_type": "code",
            "execution_count": null,
            "metadata": {},
            "outputs": [],
            "source": [
                "def sum(a, b):\n",
                "    sum = a + b\n",
                "    return sum\n",
                "\n",
                "print(sum(4, 6))"
            ]
        },
        {
            "cell_type": "code",
            "execution_count": null,
            "metadata": {},
            "outputs": [],
            "source": [
                "# Remember that the reverse method on arrays only does an in place reversal and does not return anything explicitly \n",
                "\n",
                "A = [3, 5, 6, 7, 8]\n",
                "\n",
                "A.reverse()\n",
                "\n",
                "print(A)\n",
                "\n",
                "print(A.reverse())"
            ]
        },
        {
            "cell_type": "markdown",
            "metadata": {},
            "source": [
                "**Strings**"
            ]
        },
        {
            "cell_type": "code",
            "execution_count": null,
            "metadata": {},
            "outputs": [],
            "source": [
                "# formatted(f) strings\n",
                "\n",
                "cats = ['garfield' , 'Caba' , 'Lengy' , 'Spang']\n",
                "\n",
                "for index , cat in enumerate(cats , 1) : \n",
                "    \n",
                "    print(f\"{index} is {cat}\")"
            ]
        },
        {
            "cell_type": "markdown",
            "metadata": {},
            "source": [
                "# Loops "
            ]
        },
        {
            "cell_type": "markdown",
            "metadata": {},
            "source": [
                "**For Loop**"
            ]
        },
        {
            "cell_type": "code",
            "execution_count": null,
            "metadata": {},
            "outputs": [],
            "source": [
                "for i in range (21) : \n",
                "    \n",
                "    if i % 2 != 0 : \n",
                "        \n",
                "        print(i)\n",
                "        \n",
                "print(\"Aren't we quite the odd bunch\")"
            ]
        },
        {
            "cell_type": "markdown",
            "metadata": {},
            "source": [
                "**While Loop**\n"
            ]
        },
        {
            "cell_type": "code",
            "execution_count": null,
            "metadata": {},
            "outputs": [],
            "source": [
                "esyde = 2\n",
                "\n",
                "while esyde < 10:\n",
                "    print('Esyde Rule The Earth')\n",
                "    esyde += 1"
            ]
        },
        {
            "cell_type": "markdown",
            "metadata": {},
            "source": [
                "# Modules "
            ]
        },
        {
            "cell_type": "markdown",
            "metadata": {},
            "source": [
                "**Importing Modules**\n"
            ]
        },
        {
            "cell_type": "code",
            "execution_count": null,
            "metadata": {},
            "outputs": [],
            "source": [
                "import random\n",
                "\n",
                "for i in range(5, 3, -1):\n",
                "    print(random.randint(1, 10))"
            ]
        },
        {
            "cell_type": "code",
            "execution_count": null,
            "metadata": {},
            "outputs": [],
            "source": [
                "# Trying Random Module\n",
                "\n",
                "import random\n",
                "\n",
                "A = random.randint(0, 5)\n",
                "\n",
                "B = random.randint(0, 10)\n",
                "\n",
                "A += B\n",
                "\n",
                "print(A)"
            ]
        },
        {
            "cell_type": "markdown",
            "metadata": {},
            "source": [
                "**Random Module Practice**"
            ]
        },
        {
            "cell_type": "code",
            "execution_count": null,
            "metadata": {},
            "outputs": [],
            "source": [
                "import random\n",
                "\n",
                "syde = ['esyde', 'tipksi', 'whipski', 'hanis', 'leo']\n",
                "\n",
                "index_num = random.randint(0, 4)\n",
                "\n",
                "random_name = random.choice(syde)\n",
                "\n",
                "print(random_name)\n",
                "\n",
                "#\n",
                "random.shuffle(syde)\n",
                "\n",
                "syde\n",
                "\n",
                "# note that random shuffle does not return a shuffled list but instead it shuffles the list in place and so we see that if we try\n",
                "# to print it we get the value none\n",
                "\n",
                "print(random.shuffle(syde))"
            ]
        },
        {
            "cell_type": "markdown",
            "metadata": {},
            "source": [
                "**Numpy Practice**"
            ]
        },
        {
            "cell_type": "code",
            "execution_count": null,
            "metadata": {},
            "outputs": [],
            "source": [
                "import numpy\n",
                "\n",
                "A = numpy.average([1, 2, 3, 4, 5, 6, 7, 8, 9, 10])\n",
                "\n",
                "print(A)\n",
                "\n",
                "# Wild how above I made a whole function to calculate the average of a list of numbers and here I can just use the numpy library to do it in one line"
            ]
        },
        {
            "cell_type": "code",
            "execution_count": null,
            "metadata": {},
            "outputs": [],
            "source": [
                "# Showing the difference between doing average and numpy average\n",
                "\n",
                "import numpy as np\n",
                "\n",
                "\n",
                "def average(numlist):\n",
                "    sum = 0\n",
                "\n",
                "    for i in numlist:\n",
                "        sum += i\n",
                "\n",
                "    quantity = len(numlist)\n",
                "\n",
                "    average = sum / quantity\n",
                "\n",
                "    return average\n",
                "\n",
                "\n",
                "A = [5, 4, 7, 9]\n",
                "\n",
                "B = [4, 3, 0, 9]\n",
                "\n",
                "print(average(A))\n",
                "\n",
                "# We can skip that nonsense and invoke the power of the pump pump pie\n",
                "\n",
                "print(np.average(B))"
            ]
        },
        {
            "cell_type": "markdown",
            "metadata": {},
            "source": [
                "# Intermediate Topics "
            ]
        },
        {
            "cell_type": "markdown",
            "metadata": {},
            "source": [
                "**Using Try and Except**\n"
            ]
        },
        {
            "cell_type": "code",
            "execution_count": null,
            "metadata": {},
            "outputs": [],
            "source": [
                "# Printing a Zig Zag Continuously\n",
                "\n",
                "# Ctrl + C should stop this\n",
                "\n",
                "import time\n",
                "import sys\n",
                "indent = 0  # How many spaces to indent.\n",
                "indentIncreasing = True  # Whether the indentation is increasing or not.\n",
                "\n",
                "try:\n",
                "    while True:  # The main program loop.\n",
                "        print(' ' * indent, end='')\n",
                "        print('********')\n",
                "        time.sleep(0.1)  # Pause for 1/10 of a second.\n",
                "\n",
                "        if indentIncreasing:\n",
                "            # Increase the number of spaces:\n",
                "            indent = indent + 1\n",
                "            if indent == 20:\n",
                "                # Change direction:\n",
                "                indentIncreasing = False\n",
                "\n",
                "        else:\n",
                "            # Decrease the number of spaces:\n",
                "            indent = indent - 1\n",
                "            if indent == 0:\n",
                "                # Change direction:\n",
                "                indentIncreasing = True\n",
                "except KeyboardInterrupt:\n",
                "    sys.exit()"
            ]
        },
        {
            "cell_type": "markdown",
            "metadata": {},
            "source": [
                "**List Practice**\n"
            ]
        },
        {
            "cell_type": "code",
            "execution_count": null,
            "metadata": {},
            "outputs": [],
            "source": [
                "# For each in range loop in Reverse\n",
                "\n",
                "for i in range(10, 0, -1):\n",
                "    print(i)"
            ]
        },
        {
            "cell_type": "code",
            "execution_count": null,
            "metadata": {},
            "outputs": [],
            "source": [
                "# List Manipulation and Operations\n",
                "\n",
                "esyde = ['tipgod', 'whipski', 'guzu', 'wang', 'omogey']\n",
                "\n",
                "mobster = ['bayka', 'rajah', 'ratbat', 'sydz', 'copa']\n",
                "\n",
                "combined_crew = esyde + mobster\n",
                "esyde_3 = esyde * 3\n",
                "\n",
                "print(esyde[-0])\n",
                "\n",
                "# Change value in list\n",
                "\n",
                "# esyde[1] = 'whiplaski'\n",
                "\n",
                "# print('1', esyde[0])\n",
                "# print('2', esyde[0:3])\n",
                "# print(esyde[0:-1]) # Up to the last value\n",
                "\n",
                "# print(esyde[0:len(esyde)])\n",
                "\n",
                "# print(combined_crew)\n",
                "# print(esyde_3)\n",
                "\n",
                "# #For Loop\n",
                "\n",
                "# for i in range(len(esyde) - 1) :\n",
                "#     print(esyde[i])"
            ]
        },
        {
            "cell_type": "code",
            "execution_count": null,
            "metadata": {},
            "outputs": [],
            "source": [
                "# del function practice\n",
                "\n",
                "flexqas = ['brandon', 'tomski', 'andrew', 'tariq']\n",
                "\n",
                "print()\n",
                "\n",
                "del (flexqas[2])\n",
                "\n",
                "print(flexqas)"
            ]
        },
        {
            "cell_type": "code",
            "execution_count": null,
            "metadata": {},
            "outputs": [],
            "source": [
                "# Array Multiplication Practice \n",
                "\n",
                "n = 10\n",
                "\n",
                "nums_skull = [1] * n\n",
                "\n",
                "print(nums_skull)"
            ]
        },
        {
            "cell_type": "markdown",
            "metadata": {},
            "source": [
                "**Advanced List Practice**\n"
            ]
        },
        {
            "cell_type": "code",
            "execution_count": null,
            "metadata": {},
            "outputs": [],
            "source": [
                "choppas = ['chilo', 'classic', 'gayan', 'boomski', 'macko']\n",
                "\n",
                "\n",
                "for index, item in enumerate(choppas):\n",
                "    print('Index ' + str(index) + ' in supplies is: ' + item)"
            ]
        },
        {
            "cell_type": "code",
            "execution_count": null,
            "metadata": {},
            "outputs": [],
            "source": [
                "# Array Slicing Practice\n",
                "\n",
                "A = [2, 3, 4, 5, 6, 7, 8, 9]\n",
                "\n",
                "print(A[2:1:-1])"
            ]
        },
        {
            "cell_type": "code",
            "execution_count": null,
            "metadata": {},
            "outputs": [],
            "source": [
                "# Enumerate Practice\n",
                "\n",
                "# enumerate(iterable ,start )\n",
                "\n",
                "names = [\"Adam\",[\"Bob\",[\"Chet\",\"Cat\",],\"Barb\",\"Bert\"],\"Alex\",[\"Bea\",\"Bill\"],\"Ann\"]\n",
                "\n",
                "# This prints a memory address becuase the enumerate function creates an iterator\n",
                "print(enumerate(names))\n",
                "\n",
                "\n",
                "for index , value in enumerate(names,start = -4) : \n",
                "    \n",
                "    print(index,\"--->\",value)\n",
                "    \n"
            ]
        },
        {
            "cell_type": "code",
            "execution_count": null,
            "metadata": {},
            "outputs": [],
            "source": [
                "A = ['A' , 'B' , 'C' , 'D' , 'E']\n",
                "\n",
                "for index , value in enumerate(A , 1) : \n",
                "    \n",
                "   print (str(index) + value)"
            ]
        },
        {
            "cell_type": "code",
            "execution_count": null,
            "metadata": {},
            "outputs": [],
            "source": [
                "fruits = ['banana' , 'apple' , 'guinep']\n",
                "\n",
                "for index , fruit in enumerate(fruits) :\n",
                "    \n",
                "    if fruit == 'guinep' : \n",
                "        \n",
                "        print('Yaad Fruit Deh ' , index )\n",
                "        \n"
            ]
        },
        {
            "cell_type": "code",
            "execution_count": null,
            "metadata": {},
            "outputs": [],
            "source": [
                "# Enumerate and Dictionaries \n",
                "\n",
                "fruits = ['banana' , 'apple' , 'guinep']\n",
                "\n",
                "fruit_dict = { index : fruit for index , fruit in enumerate(fruits)}\n",
                "\n",
                "print (fruit_dict)\n"
            ]
        },
        {
            "cell_type": "code",
            "execution_count": null,
            "metadata": {},
            "outputs": [],
            "source": [
                "# Enumertae and List Unpacking \n",
                "\n",
                "points = [[1,2] , [3,4] , [5,6] , [7,8]]\n",
                "\n",
                "for index , [x,y] in enumerate(points) : \n",
                "    \n",
                "    print('At index :' , index , 'x = ' , x , 'y = ' , y )\n",
                "    \n",
                "# Notice how we are able to unpack and assign the values from the matrix into x and y , i.e : \n",
                "\n",
                "[x,y] = [10,20]  \n",
                "\n",
                "print (x)\n",
                "\n",
                "print (y)\n"
            ]
        },
        {
            "cell_type": "code",
            "execution_count": null,
            "metadata": {},
            "outputs": [],
            "source": [
                "points = [[1,2] , [3,4] , [5,6] , [7,8]]\n",
                "\n",
                "for index , point in enumerate(points) : \n",
                "    \n",
                "    print('At index :' , index , 'point = ', point )"
            ]
        },
        {
            "cell_type": "markdown",
            "metadata": {},
            "source": [
                "**Multiple Assignment Trick**\n"
            ]
        },
        {
            "cell_type": "code",
            "execution_count": null,
            "metadata": {},
            "outputs": [],
            "source": [
                "# The multiple assignment trick (technically called tuple unpacking) is a shortcut that lets you assign multiple\n",
                "# variables with the values in a list in one line of code. So instead of doing this:\n",
                "cat = ['fat', 'gray', 'loud']\n",
                "size = cat[0]\n",
                "color = cat[1]\n",
                "disposition = cat[2]\n",
                "\n",
                "# you could type this line of code:\n",
                "cat = ['fat', 'gray', 'loud']\n",
                "size, color, disposition = cat\n",
                "\n",
                "# Note well that the multiple assignment trick will create multiple variables and assign them each with a value from the list in the corresponding order\n",
                "\n",
                "# cat is still the same list but look what happens when we print size , it is now assigned the value fat from the cat list\n",
                "\n",
                "print(cat)\n",
                "\n",
                "print(size)"
            ]
        },
        {
            "cell_type": "markdown",
            "metadata": {},
            "source": [
                "## Visualizing Iterations\n"
            ]
        },
        {
            "cell_type": "code",
            "execution_count": null,
            "metadata": {},
            "outputs": [],
            "source": [
                "for i in range(3):\n",
                "    print(f\"Outer Loop - Iteration {i}\")\n",
                "\n",
                "    for j in range(2):\n",
                "        print(f\"  Middle Loop - Iteration {j}\")\n",
                "\n",
                "        for k in range(4):\n",
                "            print(f\"    Innermost Loop - Iteration {k}\")"
            ]
        },
        {
            "cell_type": "code",
            "execution_count": null,
            "metadata": {},
            "outputs": [],
            "source": [
                "# Using i as part of second loop \n",
                "\n",
                "Rows = 5\n",
                "\n",
                "for i in range (1,Rows) : \n",
                "\n",
                "    for j in range (1,i) : \n",
                "        \n",
                "        print(j)"
            ]
        },
        {
            "cell_type": "markdown",
            "metadata": {},
            "source": [
                "## List Comprehension Practice "
            ]
        },
        {
            "cell_type": "code",
            "execution_count": null,
            "metadata": {},
            "outputs": [],
            "source": [
                "x = list(range(10))\n",
                "\n",
                "y = [val ** 2 for val in x if val%2 == 0 ]\n",
                "\n",
                "print(y)\n",
                "\n"
            ]
        },
        {
            "cell_type": "code",
            "execution_count": null,
            "metadata": {},
            "outputs": [],
            "source": [
                "names = ['bluxter' , 'esyde' , 'hanis' , 'Audi' , 'Giant']\n",
                "\n",
                "a_names = [pain + '1' for pain in names if 'a' in pain ]\n",
                "\n",
                "print (a_names)"
            ]
        },
        {
            "cell_type": "code",
            "execution_count": null,
            "metadata": {},
            "outputs": [],
            "source": [
                "\n",
                "string_list = [c.upper() for c in \"hello\"]\n",
                "print(string_list)\n"
            ]
        },
        {
            "cell_type": "code",
            "execution_count": null,
            "metadata": {},
            "outputs": [],
            "source": [
                "names = ['bluxter' , 'esyde' , 'hanis' , 'Audi' , 'Giant']\n",
                "\n",
                "up_names = [name[0].upper() + name[1:] for name in names if name[0] != name[0].upper()]\n",
                "\n",
                "print(up_names)"
            ]
        },
        {
            "cell_type": "code",
            "execution_count": null,
            "metadata": {},
            "outputs": [],
            "source": [
                "# We can also do list comprehension using a for each index loop : \n",
                "\n",
                "# This is heavily used in DP\n",
                "\n",
                "\n",
                "grid_1 = [0 for i in range(5)]\n",
                "\n",
                "print('grid_1 : ' , grid_1)\n",
                "\n",
                "grid_2 = [[1 for i in range(3)] for i in range(5)]\n",
                "\n",
                "print('grid_2 : ' , grid_2)\n"
            ]
        }
    ],
    "metadata": {
        "kernelspec": {
            "display_name": "Python 3",
            "language": "python",
            "name": "python3"
        },
        "language_info": {
            "codemirror_mode": {
                "name": "ipython",
                "version": 3
            },
            "file_extension": ".py",
            "mimetype": "text/x-python",
            "name": "python",
            "nbconvert_exporter": "python",
            "pygments_lexer": "ipython3",
            "version": "3.9.6"
        },
        "orig_nbformat": 4
    },
    "nbformat": 4,
    "nbformat_minor": 2
}
