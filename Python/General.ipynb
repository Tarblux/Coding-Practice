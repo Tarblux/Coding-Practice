{
    "cells": [
        {
            "cell_type": "markdown",
            "metadata": {},
            "source": [
                "# General "
            ]
        },
        {
            "cell_type": "code",
            "execution_count": 8,
            "metadata": {
                "dotnet_interactive": {
                    "language": "http"
                },
                "polyglot_notebook": {
                    "kernelName": "http"
                }
            },
            "outputs": [
                {
                    "name": "stdout",
                    "output_type": "stream",
                    "text": [
                        "125\n",
                        "1\n",
                        "2\n"
                    ]
                }
            ],
            "source": [
                "# Math Operations Practice\n",
                "\n",
                "print(5**3)\n",
                "\n",
                "print(5//3)\n",
                "\n",
                "print(5 % 3)"
            ]
        },
        {
            "cell_type": "code",
            "execution_count": null,
            "metadata": {},
            "outputs": [],
            "source": [
                "def sum(a, b):\n",
                "    sum = a + b\n",
                "    return sum\n",
                "\n",
                "print(sum(4, 6))"
            ]
        },
        {
            "cell_type": "code",
            "execution_count": null,
            "metadata": {},
            "outputs": [],
            "source": [
                "# Advanced Modulo Practice , Apparently it is not as simple as a remainder when dealing with negatives\n",
                "\n",
                "print (-10 % 3) #output = 2 becuase mod(a/b) = a - [(a//b)-b] = -10 - [math.floor(-10//3) * -3]\n",
                "\n"
            ]
        },
        {
            "cell_type": "code",
            "execution_count": null,
            "metadata": {},
            "outputs": [],
            "source": [
                "-5%4"
            ]
        },
        {
            "cell_type": "code",
            "execution_count": null,
            "metadata": {},
            "outputs": [],
            "source": [
                "# Remember that the reverse method on arrays only does an in place reversal and does not return anything explicitly \n",
                "\n",
                "A = [3, 5, 6, 7, 8]\n",
                "\n",
                "A.reverse()\n",
                "\n",
                "print(A)\n",
                "\n",
                "print(A.reverse())"
            ]
        },
        {
            "cell_type": "markdown",
            "metadata": {},
            "source": [
                "**Array**"
            ]
        },
        {
            "cell_type": "code",
            "execution_count": null,
            "metadata": {},
            "outputs": [],
            "source": [
                "# Trying to add arrays together\n",
                "\n",
                "A = [1, 2, 3, 4, 5]\n",
                "B = [6, 7, 8, 9, 10]\n",
                "\n",
                "C = B + A\n",
                "\n",
                "print(C)\n",
                "\n",
                "print(A + B)"
            ]
        },
        {
            "cell_type": "code",
            "execution_count": null,
            "metadata": {},
            "outputs": [],
            "source": [
                "# Trying to add arrays together using the append method\n",
                "\n",
                "A = [1, 2, 3, 4, 5]\n",
                "B = [6, 7, 8, 9, 10]\n",
                "\n",
                "for i in B:\n",
                "    A.append(i)\n",
                "\n",
                "print(A)"
            ]
        },
        {
            "cell_type": "code",
            "execution_count": null,
            "metadata": {},
            "outputs": [],
            "source": [
                "# Trying to add arrays together using the extend method\n",
                "\n",
                "A = [1, 2, 3, 4, 5]\n",
                "B = [6, 7, 8, 9, 10]\n",
                "\n",
                "A.extend(B)\n",
                "\n",
                "print(A)"
            ]
        },
        {
            "cell_type": "code",
            "execution_count": null,
            "metadata": {},
            "outputs": [],
            "source": [
                "# Trying to subtract arrays together\n",
                "\n",
                "A = [1, 2, 3, 4, 5]\n",
                "B = [6, 7, 8, 9, 10]\n",
                "\n",
                "# Not Feasible in Python\n",
                "C = B - A\n",
                "print(C)"
            ]
        },
        {
            "cell_type": "markdown",
            "metadata": {},
            "source": [
                "**Strings**"
            ]
        },
        {
            "cell_type": "code",
            "execution_count": null,
            "metadata": {},
            "outputs": [],
            "source": [
                "# formatted(f) strings\n",
                "\n",
                "cats = ['garfield' , 'Caba' , 'Lengy' , 'Spang']\n",
                "\n",
                "for index , cat in enumerate(cats , 1) : \n",
                "    \n",
                "    print(f\"{index} is {cat}\")"
            ]
        },
        {
            "cell_type": "code",
            "execution_count": null,
            "metadata": {},
            "outputs": [],
            "source": [
                "import math\n",
                "\n",
                "pi = math.pi\n",
                "\n",
                "print(pi)\n",
                "\n",
                "formatted = f'{pi:.2f} at two significant digits'\n",
                "\n",
                "print(formatted)\n"
            ]
        },
        {
            "cell_type": "code",
            "execution_count": null,
            "metadata": {},
            "outputs": [],
            "source": [
                "# more f strings practice\n",
                "\n",
                "nums  = [21,14,7,35,4,7]\n",
                "Guclasi = [5,3,12,31,9]\n",
                "\n",
                "for a,b in zip(nums,Guclasi):\n",
                "    \n",
                "    print(f'{a} is from nums and {b} is the guclasi correspondent')\n"
            ]
        },
        {
            "cell_type": "code",
            "execution_count": null,
            "metadata": {},
            "outputs": [],
            "source": [
                "# It doesn't have to be just loops , it can be done in general as well\n",
                "\n",
                "name = \"Alice\"\n",
                "age = 30\n",
                "print(f\"My name is {name} and I am {age} years old.\")\n",
                "\n",
                "\n"
            ]
        },
        {
            "cell_type": "code",
            "execution_count": null,
            "metadata": {},
            "outputs": [],
            "source": [
                "# We can do operations inside as well \n",
                "\n",
                "a = 5\n",
                "b = 7\n",
                "\n",
                "print(f\"The sum of {a} and {b} is {a + b}.\")\n",
                "print(f'rangski is {[[0 for _ in range(a)] for _ in range(b)]}')"
            ]
        },
        {
            "cell_type": "code",
            "execution_count": null,
            "metadata": {},
            "outputs": [],
            "source": [
                "# Also useful to specify formatting \n",
                "\n",
                "pi = 3.14159\n",
                "print(f\"Pi value: {pi:.2f}\")  # Output: Pi value: 3.14\n",
                "\n"
            ]
        },
        {
            "cell_type": "markdown",
            "metadata": {},
            "source": [
                "**String.join() method vs Simple String Concatenation**"
            ]
        },
        {
            "cell_type": "code",
            "execution_count": null,
            "metadata": {},
            "outputs": [],
            "source": [
                "# Define a list of strings\n",
                "words = ['Hello', 'world', 'Python', 'is', 'awesome']\n",
                "\n",
                "# Using join() method\n",
                "sentence = ' '.join(words)\n",
                "\n",
                "# Using simple string concatenation\n",
                "sentence_concat = ''\n",
                "for word in words:\n",
                "    sentence_concat += word + ' '\n",
                "    \n",
                "    \n",
                "letters = ['A','B','C','D']\n",
                "\n",
                "esyde = '-'.join(letters)\n",
                "\n",
                "print(esyde)\n",
                "\n"
            ]
        },
        {
            "cell_type": "code",
            "execution_count": null,
            "metadata": {},
            "outputs": [],
            "source": [
                "# .join() with integers , Note : Only works with strings\n",
                "\n",
                "numbers = [1,2,3,4,5]\n",
                "\n",
                "result = ' '.join([str(num) for num in numbers])\n",
                "\n",
                "print(result)"
            ]
        },
        {
            "cell_type": "markdown",
            "metadata": {},
            "source": [
                "# Loops "
            ]
        },
        {
            "cell_type": "markdown",
            "metadata": {},
            "source": [
                "**For Loop**"
            ]
        },
        {
            "cell_type": "code",
            "execution_count": null,
            "metadata": {},
            "outputs": [],
            "source": [
                "for i in range (21) : \n",
                "    \n",
                "    if i % 2 != 0 : \n",
                "        \n",
                "        print(i)\n",
                "        \n",
                "print(\"Aren't we quite the odd bunch\")"
            ]
        },
        {
            "cell_type": "markdown",
            "metadata": {},
            "source": [
                "**While Loop**\n"
            ]
        },
        {
            "cell_type": "code",
            "execution_count": null,
            "metadata": {},
            "outputs": [],
            "source": [
                "esyde = 2\n",
                "\n",
                "while esyde < 10:\n",
                "    print('Esyde Rule The Earth')\n",
                "    esyde += 1"
            ]
        },
        {
            "cell_type": "markdown",
            "metadata": {},
            "source": [
                "# Modules "
            ]
        },
        {
            "cell_type": "markdown",
            "metadata": {},
            "source": [
                "**Importing Modules**\n"
            ]
        },
        {
            "cell_type": "code",
            "execution_count": null,
            "metadata": {},
            "outputs": [],
            "source": [
                "import random\n",
                "\n",
                "for i in range(5, 3, -1):\n",
                "    print(random.randint(1, 10))"
            ]
        },
        {
            "cell_type": "code",
            "execution_count": null,
            "metadata": {},
            "outputs": [],
            "source": [
                "# Trying Random Module\n",
                "\n",
                "import random\n",
                "\n",
                "A = random.randint(0, 5)\n",
                "\n",
                "B = random.randint(0, 10)\n",
                "\n",
                "A += B\n",
                "\n",
                "print(A)"
            ]
        },
        {
            "cell_type": "markdown",
            "metadata": {},
            "source": [
                "**Random Module Practice**"
            ]
        },
        {
            "cell_type": "code",
            "execution_count": null,
            "metadata": {},
            "outputs": [],
            "source": [
                "import random\n",
                "\n",
                "syde = ['esyde', 'tipksi', 'whipski', 'hanis', 'leo']\n",
                "\n",
                "index_num = random.randint(0, 4)\n",
                "\n",
                "random_name = random.choice(syde)\n",
                "\n",
                "print(random_name)\n",
                "\n",
                "#\n",
                "random.shuffle(syde)\n",
                "\n",
                "syde\n",
                "\n",
                "# note that random shuffle does not return a shuffled list but instead it shuffles the list in place and so we see that if we try\n",
                "# to print it we get the value none\n",
                "\n",
                "print(random.shuffle(syde))"
            ]
        },
        {
            "cell_type": "markdown",
            "metadata": {},
            "source": [
                "**Numpy Practice**"
            ]
        },
        {
            "cell_type": "code",
            "execution_count": null,
            "metadata": {},
            "outputs": [],
            "source": [
                "import numpy\n",
                "\n",
                "A = numpy.average([1, 2, 3, 4, 5, 6, 7, 8, 9, 10])\n",
                "\n",
                "print(A)\n",
                "\n",
                "# Wild how above I made a whole function to calculate the average of a list of numbers and here I can just use the numpy library to do it in one line"
            ]
        },
        {
            "cell_type": "code",
            "execution_count": null,
            "metadata": {},
            "outputs": [],
            "source": [
                "# Showing the difference between doing average and numpy average\n",
                "\n",
                "import numpy as np\n",
                "\n",
                "\n",
                "def average(numlist):\n",
                "    sum = 0\n",
                "\n",
                "    for i in numlist:\n",
                "        sum += i\n",
                "\n",
                "    quantity = len(numlist)\n",
                "\n",
                "    average = sum / quantity\n",
                "\n",
                "    return average\n",
                "\n",
                "\n",
                "A = [5, 4, 7, 9]\n",
                "\n",
                "B = [4, 3, 0, 9]\n",
                "\n",
                "print(average(A))\n",
                "\n",
                "# We can skip that nonsense and invoke the power of the pump pump pie\n",
                "\n",
                "print(np.average(B))"
            ]
        },
        {
            "cell_type": "markdown",
            "metadata": {},
            "source": [
                "# Intermediate Topics "
            ]
        },
        {
            "cell_type": "markdown",
            "metadata": {},
            "source": [
                "**Using Try and Except**\n"
            ]
        },
        {
            "cell_type": "code",
            "execution_count": null,
            "metadata": {},
            "outputs": [],
            "source": [
                "# Printing a Zig Zag Continuously\n",
                "\n",
                "# Ctrl + C should stop this\n",
                "\n",
                "import time\n",
                "import sys\n",
                "indent = 0  # How many spaces to indent.\n",
                "indentIncreasing = True  # Whether the indentation is increasing or not.\n",
                "\n",
                "try:\n",
                "    while True:  # The main program loop.\n",
                "        print(' ' * indent, end='')\n",
                "        print('********')\n",
                "        time.sleep(0.1)  # Pause for 1/10 of a second.\n",
                "\n",
                "        if indentIncreasing:\n",
                "            # Increase the number of spaces:\n",
                "            indent = indent + 1\n",
                "            if indent == 20:\n",
                "                # Change direction:\n",
                "                indentIncreasing = False\n",
                "\n",
                "        else:\n",
                "            # Decrease the number of spaces:\n",
                "            indent = indent - 1\n",
                "            if indent == 0:\n",
                "                # Change direction:\n",
                "                indentIncreasing = True\n",
                "except KeyboardInterrupt:\n",
                "    sys.exit()"
            ]
        },
        {
            "cell_type": "markdown",
            "metadata": {},
            "source": [
                "**List Practice**\n"
            ]
        },
        {
            "cell_type": "code",
            "execution_count": null,
            "metadata": {},
            "outputs": [],
            "source": [
                "# For each in range loop in Reverse\n",
                "\n",
                "for i in range(10, 0, -1):\n",
                "    print(i)"
            ]
        },
        {
            "cell_type": "code",
            "execution_count": 7,
            "metadata": {},
            "outputs": [
                {
                    "name": "stdout",
                    "output_type": "stream",
                    "text": [
                        "tipgod\n"
                    ]
                }
            ],
            "source": [
                "# List Manipulation and Operations\n",
                "\n",
                "esyde = ['tipgod', 'whipski', 'guzu', 'wang', 'omogey']\n",
                "\n",
                "mobster = ['bayka', 'rajah', 'ratbat', 'sydz', 'copa']\n",
                "\n",
                "combined_crew = esyde + mobster\n",
                "esyde_3 = esyde * 3\n",
                "\n",
                "print(esyde[-0])\n",
                "\n",
                "# Change value in list\n",
                "\n",
                "# esyde[1] = 'whiplaski'\n",
                "\n",
                "# print('1', esyde[0])\n",
                "# print('2', esyde[0:3])\n",
                "# print(esyde[0:-1]) # Up to the last value\n",
                "\n",
                "# print(esyde[0:len(esyde)])\n",
                "\n",
                "# print(combined_crew)\n",
                "# print(esyde_3)\n",
                "\n",
                "# #For Loop\n",
                "\n",
                "# for i in range(len(esyde) - 1) :\n",
                "#     print(esyde[i])"
            ]
        },
        {
            "cell_type": "code",
            "execution_count": null,
            "metadata": {},
            "outputs": [],
            "source": [
                "# del function practice\n",
                "\n",
                "flexqas = ['brandon', 'tomski', 'andrew', 'tariq']\n",
                "\n",
                "print()\n",
                "\n",
                "del (flexqas[2])\n",
                "\n",
                "print(flexqas)"
            ]
        },
        {
            "cell_type": "code",
            "execution_count": null,
            "metadata": {},
            "outputs": [],
            "source": [
                "# Array Multiplication Practice \n",
                "\n",
                "n = 10\n",
                "\n",
                "nums_skull = [1] * n\n",
                "\n",
                "print(nums_skull)"
            ]
        },
        {
            "cell_type": "markdown",
            "metadata": {},
            "source": [
                "**Lambda Funtions**"
            ]
        },
        {
            "cell_type": "code",
            "execution_count": null,
            "metadata": {},
            "outputs": [],
            "source": [
                "# Lambda Functions \n",
                "\n",
                "operation = lambda x , y , z : (x+y)**z\n",
                "\n",
                "print(operation(1,1,2))"
            ]
        },
        {
            "cell_type": "code",
            "execution_count": null,
            "metadata": {},
            "outputs": [],
            "source": [
                "# Lambda Function W/ Sorted Function \n",
                "\n",
                "points = [[5,4],[8,10],[1,2],[3,4],[4,1]]\n",
                "\n",
                "# We can pass a lambda functionn to the sorted function to sort by the first num in the points for example \n",
                "\n",
                "points.sort(key = lambda point : point[0] )\n",
                "\n",
                "print(points)\n",
                "\n",
                "# Another way to do this is by straight up defining the function and then passing it in \n",
                "\n",
                "def pick_second(point): \n",
                "    \n",
                "    return point[1]\n",
                "\n",
                "points.sort(key = pick_second)\n",
                "\n",
                "print (points)\n"
            ]
        },
        {
            "cell_type": "code",
            "execution_count": null,
            "metadata": {},
            "outputs": [],
            "source": [
                "# More Practice \n",
                "\n",
                "Adder = lambda x , y : x+y\n",
                "\n",
                "print(Adder(4,5))\n",
                "\n",
                "Beast = [1,3,5,6,8,9]\n",
                "\n",
                "Beast.sort(reverse = True , key = lambda x : x + 1)\n",
                "\n",
                "print(Beast)\n"
            ]
        },
        {
            "cell_type": "markdown",
            "metadata": {},
            "source": [
                "**Sort Function Vs Sort Method**"
            ]
        },
        {
            "cell_type": "code",
            "execution_count": null,
            "metadata": {},
            "outputs": [],
            "source": [
                "# You can sort a list using the sort function like this : \n",
                "\n",
                "A = [7,9,0,4,3,2,1,32,-3,-5]\n",
                "\n",
                "B = sorted(A)\n",
                "\n",
                "print(B)\n",
                "\n",
                "# Alternatively you can use the .sort method to sort in place like this : \n",
                "\n",
                "C = [4,-1,0,8,5,3,12]\n",
                "\n",
                "C.sort()\n",
                "\n",
                "print(C)"
            ]
        },
        {
            "cell_type": "markdown",
            "metadata": {},
            "source": [
                "**Advanced List Practice**\n"
            ]
        },
        {
            "cell_type": "code",
            "execution_count": null,
            "metadata": {},
            "outputs": [],
            "source": [
                "choppas = ['chilo', 'classic', 'gayan', 'boomski', 'macko']\n",
                "\n",
                "\n",
                "for index, item in enumerate(choppas):\n",
                "    print('Index ' + str(index) + ' in supplies is: ' + item)"
            ]
        },
        {
            "cell_type": "code",
            "execution_count": null,
            "metadata": {},
            "outputs": [],
            "source": [
                "# Array Slicing Practice\n",
                "\n",
                "A = [2, 3, 4, 5, 6, 7, 8, 9]\n",
                "\n",
                "print(A[2:1:-1])"
            ]
        },
        {
            "cell_type": "code",
            "execution_count": null,
            "metadata": {},
            "outputs": [],
            "source": [
                "# Enumerate Practice\n",
                "\n",
                "# enumerate(iterable ,start )\n",
                "\n",
                "names = [\"Adam\",[\"Bob\",[\"Chet\",\"Cat\",],\"Barb\",\"Bert\"],\"Alex\",[\"Bea\",\"Bill\"],\"Ann\"]\n",
                "\n",
                "# This prints a memory address becuase the enumerate function creates an iterator\n",
                "print(enumerate(names))\n",
                "\n",
                "\n",
                "for index , value in enumerate(names,start = -4) : \n",
                "    \n",
                "    print(index,\"--->\",value)\n",
                "    \n"
            ]
        },
        {
            "cell_type": "code",
            "execution_count": null,
            "metadata": {},
            "outputs": [],
            "source": [
                "A = ['A' , 'B' , 'C' , 'D' , 'E']\n",
                "\n",
                "for index , letter in enumerate(A , 1) : \n",
                "    \n",
                "   print (str(index) + letter)"
            ]
        },
        {
            "cell_type": "code",
            "execution_count": null,
            "metadata": {},
            "outputs": [],
            "source": [
                "fruits = ['banana' , 'apple' , 'guinep']\n",
                "\n",
                "for index , fruit in enumerate(fruits) :\n",
                "    \n",
                "    if fruit == 'guinep' : \n",
                "        \n",
                "        print('Yaad Fruit Deh ' , index )\n",
                "        \n"
            ]
        },
        {
            "cell_type": "code",
            "execution_count": null,
            "metadata": {},
            "outputs": [],
            "source": [
                "# Enumerate and Dictionaries \n",
                "\n",
                "fruits = ['banana' , 'apple' , 'guinep']\n",
                "\n",
                "fruit_dict = { index : fruit for index , fruit in enumerate(fruits)}\n",
                "\n",
                "print (fruit_dict)\n"
            ]
        },
        {
            "cell_type": "code",
            "execution_count": null,
            "metadata": {},
            "outputs": [],
            "source": [
                "# Enumertae and List Unpacking \n",
                "\n",
                "points = [[1,2] , [3,4] , [5,6] , [7,8]]\n",
                "\n",
                "for index , [x,y] in enumerate(points) : \n",
                "    \n",
                "    print('At index :' , index , 'x = ' , x , 'y = ' , y )\n",
                "    \n",
                "# Notice how we are able to unpack and assign the values from the matrix into x and y , i.e : \n",
                "\n",
                "[x,y] = [10,20]  \n",
                "\n",
                "print (x)\n",
                "\n",
                "print (y)\n"
            ]
        },
        {
            "cell_type": "code",
            "execution_count": null,
            "metadata": {},
            "outputs": [],
            "source": [
                "points = [[1,2] , [3,4] , [5,6] , [7,8]]\n",
                "\n",
                "for index , point in enumerate(points) : \n",
                "    \n",
                "    print('At index :' , index , 'point = ', point )"
            ]
        },
        {
            "cell_type": "markdown",
            "metadata": {},
            "source": [
                "**Multiple Assignment Trick**\n"
            ]
        },
        {
            "cell_type": "code",
            "execution_count": null,
            "metadata": {},
            "outputs": [],
            "source": [
                "# The multiple assignment trick (technically called tuple unpacking) is a shortcut that lets you assign multiple\n",
                "# variables with the values in a list in one line of code. So instead of doing this:\n",
                "cat = ['fat', 'gray', 'loud']\n",
                "size = cat[0]\n",
                "color = cat[1]\n",
                "disposition = cat[2]\n",
                "\n",
                "# you could type this line of code:\n",
                "cat = ['fat', 'gray', 'loud']\n",
                "size, color, disposition = cat\n",
                "\n",
                "# Note well that the multiple assignment trick will create multiple variables and assign them each with a value from the list in the corresponding order\n",
                "\n",
                "# cat is still the same list but look what happens when we print size , it is now assigned the value fat from the cat list\n",
                "\n",
                "print(cat)\n",
                "\n",
                "print(size)"
            ]
        },
        {
            "cell_type": "markdown",
            "metadata": {},
            "source": [
                "**List Unpacking**"
            ]
        },
        {
            "cell_type": "code",
            "execution_count": null,
            "metadata": {},
            "outputs": [],
            "source": [
                "# Notice the difference \n",
                "\n",
                "A = [0,1,2,4,5,6]\n",
                "\n",
                "# This Swaps the values \n",
                "\n",
                "# A[0] , A[2] = A[2] , A[0]\n",
                "\n",
                "# This won't do the same : \n",
                "\n",
                "A[0] = A[2]\n",
                "\n",
                "A[2] = A[0]\n",
                "\n",
                "print (A)\n",
                "\n"
            ]
        },
        {
            "cell_type": "markdown",
            "metadata": {},
            "source": [
                "## Visualizing Iterations\n"
            ]
        },
        {
            "cell_type": "code",
            "execution_count": null,
            "metadata": {},
            "outputs": [],
            "source": [
                "for i in range(3):\n",
                "    print(f\"Outer Loop - Iteration {i}\")\n",
                "\n",
                "    for j in range(2):\n",
                "        print(f\"  Middle Loop - Iteration {j}\")\n",
                "\n",
                "        for k in range(4):\n",
                "            print(f\"    Innermost Loop - Iteration {k}\")"
            ]
        },
        {
            "cell_type": "code",
            "execution_count": null,
            "metadata": {},
            "outputs": [],
            "source": [
                "# Using i as part of second loop \n",
                "\n",
                "Rows = 5\n",
                "\n",
                "for i in range (1,Rows) : \n",
                "\n",
                "    for j in range (1,i) : \n",
                "        \n",
                "        print(j)"
            ]
        },
        {
            "cell_type": "markdown",
            "metadata": {},
            "source": [
                "## List Comprehension Practice "
            ]
        },
        {
            "cell_type": "code",
            "execution_count": null,
            "metadata": {},
            "outputs": [],
            "source": [
                "x = list(range(10))\n",
                "\n",
                "y = [val ** 2 for val in x if val%2 == 0 ]\n",
                "\n",
                "print(y)\n",
                "\n"
            ]
        },
        {
            "cell_type": "code",
            "execution_count": null,
            "metadata": {},
            "outputs": [],
            "source": [
                "names = ['bluxter' , 'esyde' , 'hanis' , 'Audi' , 'Giant']\n",
                "\n",
                "a_names = [pain + '1' for pain in names if 'a' in pain ]\n",
                "\n",
                "print (a_names)"
            ]
        },
        {
            "cell_type": "code",
            "execution_count": null,
            "metadata": {},
            "outputs": [],
            "source": [
                "\n",
                "string_list = [c.upper() for c in \"hello\"]\n",
                "print(string_list)\n"
            ]
        },
        {
            "cell_type": "code",
            "execution_count": null,
            "metadata": {},
            "outputs": [],
            "source": [
                "names = ['bluxter' , 'esyde' , 'hanis' , 'Audi' , 'Giant']\n",
                "\n",
                "up_names = [name[0].upper() + name[1:] for name in names if name[0] != name[0].upper()]\n",
                "\n",
                "print(up_names)"
            ]
        },
        {
            "cell_type": "code",
            "execution_count": null,
            "metadata": {},
            "outputs": [],
            "source": [
                "# We can also do list comprehension using a for each index loop : \n",
                "\n",
                "# This is heavily used in DP\n",
                "\n",
                "\n",
                "grid_1 = [0 for i in range(5)]\n",
                "\n",
                "print('grid_1 : ' , grid_1)\n",
                "\n",
                "grid_2 = [[1 for i in range(3)] for i in range(5)]\n",
                "\n",
                "print('grid_2 : ' , grid_2)\n"
            ]
        },
        {
            "cell_type": "code",
            "execution_count": null,
            "metadata": {},
            "outputs": [],
            "source": [
                "# Double Layer List Comprehension , Very Useful in DP\n",
                "\n",
                "# This is a 2D array that has 3 rows and 4 columns\n",
                "# The rows are numbered from 0 to 2, and the columns are numbered from 0 to 3\n",
                "# The grid looks like this:\n",
                "# [[0, 0, 0, 0],\n",
                "#  [0, 0, 0, 0],\n",
                "#  [0, 0, 0, 0]]\n",
                "\n",
                "grid = [[0 for col in range(4)] for row in range(3)]\n",
                "\n",
                "print(grid)\n",
                "\n"
            ]
        },
        {
            "cell_type": "markdown",
            "metadata": {},
            "source": [
                "# Dictionary Comprehension"
            ]
        },
        {
            "cell_type": "code",
            "execution_count": null,
            "metadata": {},
            "outputs": [],
            "source": [
                "cgm = {'bluwu': 7, 'wuski': 3, 'waps': 1}\n",
                "\n",
                "print(cgm.items())\n",
                "\n",
                "# Iterate over key-value pairs using cgm.items()\n",
                "pyrex = {key: value + 1 for key, value in cgm.items()}\n",
                "\n",
                "# print(pyrex)\n"
            ]
        },
        {
            "cell_type": "code",
            "execution_count": null,
            "metadata": {},
            "outputs": [],
            "source": [
                "# Original dictionary\n",
                "scores = {'Alice': 80, 'Bob': 75, 'Charlie': 90, 'David': 85}\n",
                "\n",
                "# Dictionary comprehension to filter scores above 80\n",
                "high_scores = {name: score for name, score in scores.items() if score > 80}\n",
                "\n",
                "print(high_scores)  # Output: {'Charlie': 90, 'David': 85}"
            ]
        },
        {
            "cell_type": "code",
            "execution_count": null,
            "metadata": {},
            "outputs": [],
            "source": [
                "# List of strings\n",
                "words = ['apple', 'banana', 'cherry', 'date']\n",
                "\n",
                "# Dictionary comprehension to map strings to their lengths\n",
                "word_lengths = {word: len(word) for word in words}\n",
                "\n",
                "print(word_lengths)  # Output: {'apple': 5, 'banana': 6, 'cherry': 6, 'date': 4}"
            ]
        },
        {
            "cell_type": "code",
            "execution_count": null,
            "metadata": {},
            "outputs": [],
            "source": [
                "# Original dictionary\n",
                "my_dict = {'a': 1, 'b': 2, 'c': 3}\n",
                "\n",
                "# Dictionary comprehension to swap keys and values\n",
                "swapped_dict = {value: key for key, value in my_dict.items()}\n",
                "\n",
                "print(swapped_dict)  # Output: {1: 'a', 2: 'b', 3: 'c'}"
            ]
        },
        {
            "cell_type": "markdown",
            "metadata": {},
            "source": [
                "**Bitwise Operations**"
            ]
        },
        {
            "cell_type": "code",
            "execution_count": null,
            "metadata": {},
            "outputs": [],
            "source": [
                "a = 5 \n",
                "\n",
                "b = 1\n",
                "\n",
                "print(a|b)"
            ]
        },
        {
            "cell_type": "code",
            "execution_count": null,
            "metadata": {},
            "outputs": [],
            "source": [
                "a = 5\n",
                "\n",
                "b = 4\n",
                "\n",
                "print(a&b)"
            ]
        },
        {
            "cell_type": "code",
            "execution_count": null,
            "metadata": {},
            "outputs": [],
            "source": [
                "a = 16\n",
                "\n",
                "b = 2\n",
                "\n",
                "print(a^b)"
            ]
        },
        {
            "cell_type": "code",
            "execution_count": null,
            "metadata": {},
            "outputs": [],
            "source": [
                "a = 16 \n",
                "\n",
                "print(a >> 3)"
            ]
        },
        {
            "cell_type": "code",
            "execution_count": null,
            "metadata": {},
            "outputs": [],
            "source": [
                "a = 33\n",
                "\n",
                "print(a << 1)"
            ]
        },
        {
            "cell_type": "code",
            "execution_count": null,
            "metadata": {},
            "outputs": [],
            "source": [
                "a = 9\n",
                "\n",
                "b  = ~a \n",
                "\n",
                "print(b)"
            ]
        },
        {
            "cell_type": "code",
            "execution_count": null,
            "metadata": {},
            "outputs": [],
            "source": [
                "# Learning to count bits in an integer \n",
                "\n",
                "num_1 = 14\n",
                "\n",
                "# Checks if there is a 1 bit in the least significant bit position and then shifts right to keep checking \n",
                "\n",
                "def countBits(num): \n",
                "    \n",
                "    count = 0\n",
                "    \n",
                "    while num : \n",
                "        \n",
                "        if num&1 : \n",
                "            \n",
                "            count += 1\n",
                "            \n",
                "        num >>= 1\n",
                "        \n",
                "    return count \n",
                "\n",
                "print('1bits : ' , countBits(num_1))\n",
                "\n",
                "\n",
                "num_2 = 4\n",
                "\n",
                "# Checks if there is a 2 bit in the 2^1 bit position and then shifts right to keep checking \n",
                "\n",
                "# This honestly actually just look at the  number of bits that padd through the 2 bit when shifting right I think\n",
                "\n",
                "def countBits1(num): \n",
                "    \n",
                "    count = 0\n",
                "    \n",
                "    while num : \n",
                "        \n",
                "        if num&2: \n",
                "            \n",
                "            count += 1\n",
                "            \n",
                "        num >>= 1\n",
                "        \n",
                "    return count \n",
                "\n",
                "print('2bits : ' , countBits1(num_2))\n",
                "    "
            ]
        },
        {
            "cell_type": "markdown",
            "metadata": {},
            "source": [
                "**Type Hinting Practice**"
            ]
        },
        {
            "cell_type": "code",
            "execution_count": null,
            "metadata": {},
            "outputs": [],
            "source": [
                "class Solution:\n",
                "    \n",
                "    def addTwoNumbers(self, num1: str, num2: str) -> str:\n",
                "        \n",
                "        # Convert strings to integers, perform addition, and then convert back to string\n",
                "        result = int(num1) + int(num2)\n",
                "        return str(result)\n",
                "\n",
                "    \n",
                "test = Solution()\n",
                "\n",
                "test.addTwoNumbers(1,2)"
            ]
        },
        {
            "cell_type": "markdown",
            "metadata": {},
            "source": [
                "**Zip Function and Zip Object Practice**"
            ]
        },
        {
            "cell_type": "code",
            "execution_count": 24,
            "metadata": {},
            "outputs": [
                {
                    "name": "stdout",
                    "output_type": "stream",
                    "text": [
                        "The 1 of decimals is the letter a\n",
                        "The 2 of decimals is the letter b\n",
                        "The 3 of decimals is the letter c\n",
                        "The 4 of decimals is the letter d\n",
                        "The 5 of decimals is the letter e\n"
                    ]
                }
            ],
            "source": [
                "list_1 = [1,2,3,4,5,6,7]\n",
                "list_2 = ['a','b','c','d','e']\n",
                "list_3 = ['buzzkill']\n",
                "\n",
                "zipski = zip(list_1,list_2)\n",
                "\n",
                "for index,letter in zipski:\n",
                "    \n",
                "    print(f\"The {index} of decimals is the letter {letter}\")\n",
                "    "
            ]
        },
        {
            "cell_type": "code",
            "execution_count": null,
            "metadata": {},
            "outputs": [],
            "source": [
                "names = ['Alice', 'Bob', 'Charlie']\n",
                "ages = [30, 25, 35]\n",
                "for name, age in zip(names, ages):\n",
                "    print(name, age)"
            ]
        },
        {
            "cell_type": "markdown",
            "metadata": {},
            "source": [
                "**Transposing matrix rows**"
            ]
        },
        {
            "cell_type": "code",
            "execution_count": 27,
            "metadata": {},
            "outputs": [
                {
                    "name": "stdout",
                    "output_type": "stream",
                    "text": [
                        "[[1, 4, 7], [2, 5, 8], [3, 6, 9]]\n"
                    ]
                }
            ],
            "source": [
                "matrix = [\n",
                "    [1, 2, 3],\n",
                "    [4, 5, 6],\n",
                "    [7, 8, 9]\n",
                "]\n",
                "transposed = list(zip(*matrix))\n",
                "transposed = [list(column) for column in transposed]\n",
                "\n",
                "print(transposed)"
            ]
        },
        {
            "cell_type": "code",
            "execution_count": 30,
            "metadata": {},
            "outputs": [
                {
                    "name": "stdout",
                    "output_type": "stream",
                    "text": [
                        "[[1, 9, 0], [2, 9, 0], [3, 9, 0]]\n",
                        "9\n"
                    ]
                }
            ],
            "source": [
                "row_matrix = [[1,2,3],[9,9,9],[0,0,0]]\n",
                "\n",
                "col_matrixt = list(zip(*row_matrix))\n",
                "\n",
                "col_matrixl = [list(row) for row in col_matrixt]\n",
                "\n",
                "print(col_matrixl)\n",
                "\n",
                "print(col_matrixt[0][1])"
            ]
        },
        {
            "cell_type": "markdown",
            "metadata": {},
            "source": [
                "**Making Dictionaries**"
            ]
        },
        {
            "cell_type": "code",
            "execution_count": 32,
            "metadata": {},
            "outputs": [
                {
                    "name": "stdout",
                    "output_type": "stream",
                    "text": [
                        "{'a': 1, 'b': 2, 'c': 3}\n"
                    ]
                }
            ],
            "source": [
                "keys = ['a', 'b', 'c']\n",
                "values = [1, 2, 3]\n",
                "dictionary = dict(zip(keys, values))\n",
                "\n",
                "print(dictionary)"
            ]
        },
        {
            "cell_type": "markdown",
            "metadata": {},
            "source": [
                "**Unzipping tuples back into separate lists / Tuples**"
            ]
        },
        {
            "cell_type": "code",
            "execution_count": 33,
            "metadata": {},
            "outputs": [
                {
                    "name": "stdout",
                    "output_type": "stream",
                    "text": [
                        "('a', 'b', 'c')\n",
                        "(1, 2, 3)\n"
                    ]
                }
            ],
            "source": [
                "data = [('a', 1), ('b', 2), ('c', 3)]\n",
                "letters, numbers = zip(*data)\n",
                "\n",
                "print(letters)\n",
                "\n",
                "print(numbers)"
            ]
        },
        {
            "cell_type": "markdown",
            "metadata": {},
            "source": [
                "# Doc Strings"
            ]
        },
        {
            "cell_type": "code",
            "execution_count": 7,
            "metadata": {},
            "outputs": [
                {
                    "name": "stdout",
                    "output_type": "stream",
                    "text": [
                        "\n",
                        "    Greets the user with the provided name.\n",
                        "\n",
                        "    Parameters:\n",
                        "        name (str): The name of the person to greet.\n",
                        "\n",
                        "    Returns:\n",
                        "        str: A greeting message including the provided name.\n",
                        "    \n"
                    ]
                }
            ],
            "source": [
                "def meet(name:str) -> str:\n",
                "    \"\"\"\n",
                "    Greets the user with the provided name.\n",
                "\n",
                "    Parameters:\n",
                "        name (str): The name of the person to greet.\n",
                "\n",
                "    Returns:\n",
                "        str: A greeting message including the provided name.\n",
                "    \"\"\"\n",
                "    return f\"Hello, {name}!\"\n",
                "\n",
                "# Now, when you use the greet() function in your code, VSCode will show the docstring in IntelliSense pop-ups.\n",
                "\n",
                "A = meet.__doc__\n",
                "print(A)"
            ]
        },
        {
            "cell_type": "code",
            "execution_count": 8,
            "metadata": {},
            "outputs": [
                {
                    "name": "stdout",
                    "output_type": "stream",
                    "text": [
                        "\n",
                        "    Calculate the area of a circle.\n",
                        "\n",
                        "    Parameters:\n",
                        "    radius (float): The radius of the circle.\n",
                        "\n",
                        "    Returns:\n",
                        "    float: The area of the circle.\n",
                        "\n",
                        "    Example:\n",
                        "    >>> calculate_area(3)\n",
                        "    28.274333882308138\n",
                        "    \n",
                        "28.27431\n"
                    ]
                }
            ],
            "source": [
                "def calculate_area(radius):\n",
                "    \"\"\"\n",
                "    Calculate the area of a circle.\n",
                "\n",
                "    Parameters:\n",
                "    radius (float): The radius of the circle.\n",
                "\n",
                "    Returns:\n",
                "    float: The area of the circle.\n",
                "\n",
                "    Example:\n",
                "    >>> calculate_area(3)\n",
                "    28.274333882308138\n",
                "    \"\"\"\n",
                "    return 3.14159 * radius ** 2\n",
                "\n",
                "# Accessing the docstring\n",
                "print(calculate_area.__doc__)\n",
                "\n",
                "# Testing the function\n",
                "print(calculate_area(3))\n"
            ]
        },
        {
            "cell_type": "markdown",
            "metadata": {},
            "source": [
                "**Size of Common Data Structures**"
            ]
        },
        {
            "cell_type": "code",
            "execution_count": 11,
            "metadata": {},
            "outputs": [
                {
                    "name": "stdout",
                    "output_type": "stream",
                    "text": [
                        "The size of a int in memory is 28 bytes\n",
                        "The size of a float in memory is 24 bytes\n",
                        "The size of a dict in memory is 64 bytes\n",
                        "The size of a set in memory is 216 bytes\n",
                        "The size of a tuple in memory is 40 bytes\n",
                        "The size of a list in memory is 56 bytes\n",
                        "The size of a str in memory is 50 bytes\n",
                        "The size of a object in memory is 16 bytes\n",
                        "The size of a counter in memory is 88 bytes\n",
                        "The size of a deque in memory is 760 bytes\n"
                    ]
                }
            ],
            "source": [
                "import sys\n",
                "import collections \n",
                "\n",
                "structures = {\n",
                "    \"int\": 0, \n",
                "    \"float\" : 0.0, \n",
                "    \"dict\": dict(),\n",
                "    \"set\": set(),\n",
                "    \"tuple\": tuple(),\n",
                "    \"list\": list(),\n",
                "    \"str\": 'T',\n",
                "    \"object\": object(),\n",
                "    \"counter\":collections.Counter(),\n",
                "    \"deque\":collections.deque()}\n",
                "\n",
                "for name , struct in structures.items() :\n",
                "    \n",
                "    print (f\"The size of a {name} in memory is {sys.getsizeof(struct)} bytes\")"
            ]
        },
        {
            "cell_type": "markdown",
            "metadata": {},
            "source": [
                "**defaultdict**"
            ]
        },
        {
            "cell_type": "code",
            "execution_count": 38,
            "metadata": {},
            "outputs": [
                {
                    "name": "stdout",
                    "output_type": "stream",
                    "text": [
                        "defaultdict(<class 'int'>, {'esyde': 1, 'yaad': 1, 'juvy': 1, 'brim': 1})\n",
                        "0\n",
                        "defaultdict(<class 'int'>, {'esyde': 1, 'yaad': 1, 'juvy': 1, 'brim': 1, 'tariq': 0})\n"
                    ]
                }
            ],
            "source": [
                "import collections\n",
                "\n",
                "words = ['esyde', 'yaad', 'juvy', 'brim' ]\n",
                "\n",
                "words_dict = collections.defaultdict(int)\n",
                "\n",
                "for word in words :\n",
                "    \n",
                "    words_dict[word] += 1\n",
                "        \n",
                "print(words_dict)\n",
                "\n",
                "# Notice that this is added to the dictionary after it is called even though we have no such word in the dictionary\n",
                "\n",
                "print(words_dict['tariq'])\n",
                "\n",
                "print(words_dict)\n"
            ]
        },
        {
            "cell_type": "code",
            "execution_count": null,
            "metadata": {},
            "outputs": [],
            "source": [
                "# Converting Regular dictionary to default dictionary\n",
                "\n",
                "some_iterable = list()\n",
                "default_value_type = 'int() or list() or lambda : 4 .......'\n",
                "\n",
                "from collections import defaultdict\n",
                "\n",
                "# Create a regular dictionary using dictionary comprehension\n",
                "regular_dict = {key: value for key, value in some_iterable}\n",
                "\n",
                "# Convert the regular dictionary to a defaultdict\n",
                "default_dict = defaultdict(default_value_type, regular_dict)\n"
            ]
        },
        {
            "cell_type": "markdown",
            "metadata": {},
            "source": [
                "**QUEUE**"
            ]
        },
        {
            "cell_type": "code",
            "execution_count": 1,
            "metadata": {},
            "outputs": [
                {
                    "name": "stdout",
                    "output_type": "stream",
                    "text": [
                        "deque([4, 1])\n"
                    ]
                }
            ],
            "source": [
                "import collections\n",
                "\n",
                "nums = [n for n in range(1,11)]\n",
                "\n",
                "queue = collections.deque(nums)\n",
                "\n",
                "t_queue = collections.deque()\n",
                "\n",
                "t_queue.appendleft(1)\n",
                "t_queue.appendleft(4)\n",
                "\n",
                "\n",
                "print(t_queue)"
            ]
        },
        {
            "cell_type": "markdown",
            "metadata": {},
            "source": [
                "**Map Function**"
            ]
        },
        {
            "cell_type": "code",
            "execution_count": 5,
            "metadata": {},
            "outputs": [
                {
                    "name": "stdout",
                    "output_type": "stream",
                    "text": [
                        "[0, 1, 2, 3, 4, 5, 6, 7, 8, 9]\n",
                        "(-1, 0)\n",
                        "(0, 1)\n",
                        "(1, 2)\n",
                        "(2, 3)\n",
                        "(3, 4)\n",
                        "(4, 5)\n",
                        "(5, 6)\n",
                        "(6, 7)\n",
                        "(7, 8)\n",
                        "(8, 9)\n"
                    ]
                }
            ],
            "source": [
                "a = [num for num in range(10)]\n",
                "\n",
                "def before(num):\n",
                "    \n",
                "    tupski = (num -1,num)\n",
                "    \n",
                "    return tupski\n",
                "\n",
                "b = map(before, a)\n",
                "\n",
                "print(a)\n",
                "\n",
                "for num in b:\n",
                "    \n",
                "    print(num)"
            ]
        },
        {
            "cell_type": "markdown",
            "metadata": {},
            "source": [
                "**Map() With Multiple Iterbales**\n",
                "\n",
                "If you supply multiple iterables to map(), then the transformation function must take as many arguments as iterables you pass in. Each iteration of map() will pass one value from each iterable as an argument to function. The iteration stops at the end of the shortest iterable."
            ]
        },
        {
            "cell_type": "code",
            "execution_count": null,
            "metadata": {},
            "outputs": [],
            "source": [
                "first_it = [1, 2, 3]\n",
                "second_it = [4, 5, 6, 7]\n",
                "\n",
                "combo = list(map(pow, first_it, second_it))\n",
                "\n",
                "print(combo)"
            ]
        },
        {
            "cell_type": "markdown",
            "metadata": {},
            "source": [
                "**Filter Function**"
            ]
        },
        {
            "cell_type": "code",
            "execution_count": 2,
            "metadata": {},
            "outputs": [
                {
                    "name": "stdout",
                    "output_type": "stream",
                    "text": [
                        "[6, 7, 8, 9]\n"
                    ]
                }
            ],
            "source": [
                "a = [num for num in range(10)]\n",
                "\n",
                "b = filter(lambda x : x > 5 , a)\n",
                "\n",
                "print(list(b))"
            ]
        },
        {
            "cell_type": "markdown",
            "metadata": {},
            "source": [
                "**Hashing**"
            ]
        },
        {
            "cell_type": "code",
            "execution_count": 3,
            "metadata": {},
            "outputs": [
                {
                    "name": "stdout",
                    "output_type": "stream",
                    "text": [
                        "529344067295497451\n"
                    ]
                }
            ],
            "source": [
                "t = (1,2,3)\n",
                "\n",
                "print(hash(t))"
            ]
        },
        {
            "cell_type": "markdown",
            "metadata": {},
            "source": [
                "**Set and Dictionary Operators**"
            ]
        },
        {
            "cell_type": "code",
            "execution_count": 4,
            "metadata": {},
            "outputs": [],
            "source": [
                "# Set Operators\n",
                "\n",
                "# Union \n",
                "\n",
                "set1 = {1, 2, 3}\n",
                "set2 = {3, 4, 5}\n",
                "union_set = set1 | set2  # {1, 2, 3, 4, 5}\n",
                "union_set = set1.union(set2)  # {1, 2, 3, 4, 5}\n",
                "\n",
                "# Intersection \n",
                "\n",
                "set1 = {1, 2, 3}\n",
                "set2 = {3, 4, 5}\n",
                "intersection_set = set1 & set2  # {3}\n",
                "intersection_set = set1.intersection(set2)  # {3}\n",
                "\n",
                "# Difference\n",
                "set1 = {1, 2, 3}\n",
                "set2 = {3, 4, 5}\n",
                "difference_set = set1 - set2  # {1, 2}\n",
                "difference_set = set1.difference(set2)  # {1, 2}\n",
                "\n",
                "# Symmetric Difference\n",
                "\n",
                "set1 = {1, 2, 3}\n",
                "set2 = {3, 4, 5}\n",
                "sym_diff_set = set1 ^ set2  # {1, 2, 4, 5}\n",
                "sym_diff_set = set1.symmetric_difference(set2)  # {1, 2, 4, 5}\n",
                "\n",
                "# Subset\n",
                "set1 = {1, 2}\n",
                "set2 = {1, 2, 3}\n",
                "is_subset = set1 <= set2  # True\n",
                "is_subset = set1.issubset(set2)  # True\n",
                "\n",
                "\n",
                "# Superset\n",
                "\n",
                "set1 = {1, 2, 3}\n",
                "set2 = {1, 2}\n",
                "is_superset = set1 >= set2  # True\n",
                "is_superset = set1.issuperset(set2)  # True\n"
            ]
        },
        {
            "cell_type": "code",
            "execution_count": 7,
            "metadata": {},
            "outputs": [
                {
                    "name": "stdout",
                    "output_type": "stream",
                    "text": [
                        "False False True True\n"
                    ]
                }
            ],
            "source": [
                "s1 = {2, 5, 3, 7, 'c', 'a', 8} \n",
                "s2 = {3, 7, 8, 'c'} \n",
                "  \n",
                "# subset check \n",
                "w = s1 <= s2 \n",
                "  \n",
                "# proper subset check \n",
                "x = s1 < s2 \n",
                "  \n",
                "# superset check \n",
                "y = s1 >= s2 \n",
                "  \n",
                "# proper superset check \n",
                "z = s1 > s2 \n",
                "print(w, x, y, z)"
            ]
        },
        {
            "cell_type": "code",
            "execution_count": 15,
            "metadata": {},
            "outputs": [
                {
                    "name": "stdout",
                    "output_type": "stream",
                    "text": [
                        "[1, 1, 1, 3, 3, 3, 7, 8, 90, 78, 2, 2, 4]\n"
                    ]
                }
            ],
            "source": [
                "from collections import Counter\n",
                "\n",
                "nums = [1,3,7,8,90 ,78,1,2,3,4,1,2,3]\n",
                "nums_count = Counter(nums)\n",
                "\n",
                "print(list(nums_count.elements()))"
            ]
        },
        {
            "cell_type": "code",
            "execution_count": 9,
            "metadata": {},
            "outputs": [
                {
                    "name": "stdout",
                    "output_type": "stream",
                    "text": [
                        "sorting by y: [[21, 0], [1, 2], [4, 7], [8, 9], [9, 12]]\n",
                        "[6, 3, 1, 1, 5, 5, 5, 4, 4, 4, 2, 2, 2]\n",
                        "[21, 6, 33, 1, 1, 2, 2, 4, 4, 4, 5, 5, 5]\n"
                    ]
                }
            ],
            "source": [
                "# Sorting using multiple keys (Comparators)\n",
                "\n",
                "# Basic \n",
                "\n",
                "intervals = [[1,2],[8,9],[4,7],[21,0],[9,12]]\n",
                "intervals.sort(key = lambda x : x[1])\n",
                "print(f'sorting by y: {intervals}')\n",
                "\n",
                "# Advanced \n",
                "from collections import Counter\n",
                "\n",
                "# Sample list\n",
                "data = [4, 5, 6, 5, 4, 3, 2, 4, 5, 2, 1, 2, 1]\n",
                "\n",
                "# Count the frequency of each element\n",
                "frequency = Counter(data)\n",
                "\n",
                "# Sort by frequency (ascending), then by value (descending)\n",
                "sorted_data = sorted(data, key=lambda x: (frequency[x], -x))\n",
                "\n",
                "# Print the sorted list\n",
                "print(sorted_data)\n",
                "\n",
                "#Super Advanced \n",
                "\n",
                "from collections import Counter\n",
                "\n",
                "# Function to calculate the sum of digits of a number\n",
                "def sum_of_digits(n):\n",
                "    return sum(int(digit) for digit in str(n))\n",
                "\n",
                "# Sample list\n",
                "data = [4, 5, 6, 5, 4, 33, 21, 4, 5, 2, 1, 2, 1]\n",
                "\n",
                "# Count the frequency of each element\n",
                "frequency = Counter(data)\n",
                "\n",
                "# Sort by frequency, then by sum of digits, then by value\n",
                "sorted_data = sorted(data, key=lambda x: (frequency[x], sum_of_digits(x), x))\n",
                "\n",
                "# Print the sorted list\n",
                "print(sorted_data)\n",
                "\n"
            ]
        },
        {
            "cell_type": "markdown",
            "metadata": {},
            "source": [
                "**Generator Pattern**\n"
            ]
        },
        {
            "cell_type": "code",
            "execution_count": 13,
            "metadata": {},
            "outputs": [
                {
                    "name": "stdout",
                    "output_type": "stream",
                    "text": [
                        "0\n",
                        "2\n",
                        "4\n",
                        "6\n",
                        "8\n",
                        "10\n"
                    ]
                }
            ],
            "source": [
                "def even_numbers(n):\n",
                "    \n",
                "    current  = 0\n",
                "    \n",
                "    while current <= n :\n",
                "        yield current\n",
                "        current  += 2\n",
                "    \n",
                "for num in even_numbers(10):\n",
                "    print(num)"
            ]
        },
        {
            "cell_type": "code",
            "execution_count": 18,
            "metadata": {},
            "outputs": [
                {
                    "name": "stdout",
                    "output_type": "stream",
                    "text": [
                        "5\n",
                        "6\n"
                    ]
                }
            ],
            "source": [
                "def my_gen(n):\n",
                "    yield n \n",
                "    yield n + 1\n",
                "    \n",
                "g = my_gen(5)\n",
                "\n",
                "for num in g:\n",
                "    print(num)"
            ]
        },
        {
            "cell_type": "code",
            "execution_count": 20,
            "metadata": {},
            "outputs": [
                {
                    "name": "stdout",
                    "output_type": "stream",
                    "text": [
                        "These\n",
                        "words\n",
                        "come\n",
                        "one\n",
                        "at\n",
                        "a\n",
                        "time\n"
                    ]
                }
            ],
            "source": [
                "def myGenerator():\n",
                "    yield 'These'\n",
                "    yield 'words'\n",
                "    yield 'come'\n",
                "    yield 'one'\n",
                "    yield 'at'\n",
                "    yield 'a'\n",
                "    yield 'time'\n",
                "    \n",
                "for word in myGenerator():\n",
                "    print(word)\n",
                "    "
            ]
        },
        {
            "cell_type": "code",
            "execution_count": 21,
            "metadata": {},
            "outputs": [
                {
                    "name": "stdout",
                    "output_type": "stream",
                    "text": [
                        "0\n",
                        "1\n",
                        "4\n",
                        "9\n",
                        "16\n",
                        "25\n",
                        "36\n",
                        "49\n",
                        "64\n",
                        "81\n"
                    ]
                }
            ],
            "source": [
                "def squares(start, stop):\n",
                "    for i in range(start, stop):\n",
                "        yield i * i\n",
                "\n",
                "for sq in squares(0,10):\n",
                "    print(sq)"
            ]
        },
        {
            "cell_type": "markdown",
            "metadata": {},
            "source": [
                "# Sorting Algorithms"
            ]
        },
        {
            "cell_type": "code",
            "execution_count": 7,
            "metadata": {},
            "outputs": [
                {
                    "data": {
                        "text/plain": [
                            "[0, 2, 3, 5, 9]"
                        ]
                    },
                    "execution_count": 7,
                    "metadata": {},
                    "output_type": "execute_result"
                }
            ],
            "source": [
                "# Bubble Sort\n",
                "\n",
                "from typing import List \n",
                "\n",
                "def bubbleSort(array:List[int]) -> List[int]:\n",
                "    \n",
                "    for i in range(len(array)):\n",
                "        \n",
                "        for j in range(1,len(array) - i):\n",
                "            \n",
                "            if array[j-1] > array[j]:\n",
                "                \n",
                "                array[j-1] , array[j] = array[j] , array[j-1]\n",
                "                \n",
                "    return array\n",
                "\n",
                "\n",
                "nums  = [0,9,5,2,3]\n",
                "\n",
                "bubbleSort(nums)"
            ]
        },
        {
            "cell_type": "code",
            "execution_count": null,
            "metadata": {},
            "outputs": [],
            "source": [
                "# Optimized Bubble Sort \n",
                "\n",
                "from typing import List\n",
                "\n",
                "def bubbleSort(array:List[int]) -> List[int]:\n",
                "    \n",
                "    for i in range(len(array)):\n",
                "        \n",
                "        swapped = False \n",
                "        \n",
                "        for j in range(0,len(array)-i):\n",
                "            \n",
                "            if array[j-1] > array[j]:\n",
                "                \n",
                "                array[j-1] , array[j] = array[j] , array[j-1]\n",
                "                swapped = True\n",
                "                \n",
                "        if not swapped:\n",
                "            return array\n",
                "        \n",
                "    return array\n",
                "                "
            ]
        },
        {
            "cell_type": "code",
            "execution_count": 21,
            "metadata": {},
            "outputs": [
                {
                    "data": {
                        "text/plain": [
                            "[-9, -2, 0, 11, 45]"
                        ]
                    },
                    "execution_count": 21,
                    "metadata": {},
                    "output_type": "execute_result"
                }
            ],
            "source": [
                "# Selection Sort\n",
                "\n",
                "def selectionSort(array):\n",
                "    \n",
                "    min_idx = 0\n",
                "    \n",
                "    for pos in range(len(array)):\n",
                "        \n",
                "        min_idx = pos \n",
                "        # Search for the minimum\n",
                "        for i in range(pos+1,len(array)):\n",
                "            \n",
                "            if array[i] < array[min_idx]:\n",
                "                min_idx = i\n",
                "        \n",
                "        # Put the minimum in the position being considered        \n",
                "        array[min_idx] , array [pos] = array[pos] , array[min_idx]\n",
                "        \n",
                "    return array\n",
                "            \n",
                "            \n",
                "\n",
                "data = [-2, 45, 0, 11, -9]\n",
                "selectionSort(data)"
            ]
        },
        {
            "cell_type": "code",
            "execution_count": 13,
            "metadata": {},
            "outputs": [
                {
                    "data": {
                        "text/plain": [
                            "[-1, 0, 1, 4, 6, 34]"
                        ]
                    },
                    "execution_count": 13,
                    "metadata": {},
                    "output_type": "execute_result"
                }
            ],
            "source": [
                "# Quick Sort\n",
                "\n",
                "from typing import List\n",
                "\n",
                "def partition(array,start:int,end:int) -> int:\n",
                "    \n",
                "    pivot = array[end]\n",
                "    split = start - 1\n",
                "    \n",
                "    for i in range(start,end):\n",
                "        \n",
                "        if array[i] <= pivot:\n",
                "            \n",
                "            split += 1\n",
                "            \n",
                "            array[i] , array[split] = array[split] , array[i]\n",
                "            \n",
                "    array[split+1] , array[end] = array[end] , array[split+1]\n",
                "    \n",
                "    return split + 1\n",
                "\n",
                "def quicksort(array,start:int,end:int) -> List[int]:\n",
                "    \n",
                "    if start >= end:\n",
                "        return\n",
                "    \n",
                "    pivot = partition(array,start,end)\n",
                "    quicksort(array,pivot + 1 , end)\n",
                "    quicksort(array,start,pivot - 1)\n",
                "    \n",
                "    return array\n",
                "\n",
                "data = [4,-1,6,34,1,0]\n",
                "quicksort(data,0,len(data)-1)"
            ]
        },
        {
            "cell_type": "code",
            "execution_count": null,
            "metadata": {},
            "outputs": [],
            "source": [
                "# Merge Sort\n",
                "\n"
            ]
        },
        {
            "cell_type": "markdown",
            "metadata": {},
            "source": [
                "# Heap"
            ]
        },
        {
            "cell_type": "code",
            "execution_count": 14,
            "metadata": {},
            "outputs": [
                {
                    "name": "stdout",
                    "output_type": "stream",
                    "text": [
                        "[-21, -12, -8, -9, -1, -4, -5, 0]\n"
                    ]
                }
            ],
            "source": [
                "# Basics\n",
                "\n",
                "import heapq\n",
                "\n",
                "nums = [-1,-9,-8,-21,-12,-4,-5]\n",
                "heapq.heapify(nums)\n",
                "\n",
                "heapq.heappush(nums,0)\n",
                "print(nums)\n",
                "\n",
                "heapq.heappop()\n",
                "print(nums)"
            ]
        },
        {
            "cell_type": "code",
            "execution_count": 15,
            "metadata": {},
            "outputs": [
                {
                    "name": "stdout",
                    "output_type": "stream",
                    "text": [
                        "[10, 8, 7]\n",
                        "[1, 2]\n"
                    ]
                }
            ],
            "source": [
                "# Finding the n largest or smallest numbers\n",
                "\n",
                "import heapq\n",
                "\n",
                "nums = [1, 8, 3, 7, 2, 5, 10, 6]\n",
                "\n",
                "# Find the 3 largest numbers\n",
                "largest_nums = heapq.nlargest(3, nums)\n",
                "\n",
                "print(largest_nums)  # Output: [10, 8, 7]\n",
                "\n",
                "# Find the 2 smallest numbers \n",
                "smallest_nums = heapq.nsmallest(2,nums)\n",
                "\n",
                "print(smallest_nums)\n"
            ]
        },
        {
            "cell_type": "code",
            "execution_count": 16,
            "metadata": {},
            "outputs": [
                {
                    "name": "stdout",
                    "output_type": "stream",
                    "text": [
                        "[{'name': 'laptop', 'price': 1200}, {'name': 'smartphone', 'price': 800}]\n"
                    ]
                }
            ],
            "source": [
                "# nlargest with a key \n",
                "\n",
                "import heapq\n",
                "\n",
                "products = [\n",
                "    {'name': 'laptop', 'price': 1200},\n",
                "    {'name': 'smartphone', 'price': 800},\n",
                "    {'name': 'tablet', 'price': 400},\n",
                "    {'name': 'monitor', 'price': 300},\n",
                "]\n",
                "\n",
                "# Find the 2 most expensive products based on price\n",
                "most_expensive = heapq.nlargest(2, products, key=lambda x: x['price'])\n",
                "\n",
                "print(most_expensive)\n"
            ]
        },
        {
            "cell_type": "code",
            "execution_count": 17,
            "metadata": {},
            "outputs": [
                {
                    "name": "stdout",
                    "output_type": "stream",
                    "text": [
                        "[[0, 0], [4, 1]]\n"
                    ]
                }
            ],
            "source": [
                "# nsmallest with a key\n",
                "\n",
                "import heapq\n",
                "\n",
                "intervals = [[1,2],[0,0],[5,2],[4,1]]\n",
                "\n",
                "# finding the two closest to the origin on the y axis \n",
                "\n",
                "closest = heapq.nsmallest(2,intervals,key= lambda x : x[1])\n",
                "\n",
                "print(closest)\n"
            ]
        },
        {
            "cell_type": "code",
            "execution_count": null,
            "metadata": {},
            "outputs": [],
            "source": [
                "import heapq\n",
                "\n",
                "strings = [\"apple\", \"banana\", \"grapefruit\", \"kiwi\"]\n",
                "\n",
                "# Find the 2 longest strings\n",
                "longest_strings = heapq.nlargest(2, strings, key=len)\n",
                "\n",
                "print(longest_strings)  # Output: ['grapefruit', 'banana']\n"
            ]
        }
    ],
    "metadata": {
        "kernelspec": {
            "display_name": "Python 3",
            "language": "python",
            "name": "python3"
        },
        "language_info": {
            "codemirror_mode": {
                "name": "ipython",
                "version": 3
            },
            "file_extension": ".py",
            "mimetype": "text/x-python",
            "name": "python",
            "nbconvert_exporter": "python",
            "pygments_lexer": "ipython3",
            "version": "3.12.3"
        },
        "orig_nbformat": 4,
        "polyglot_notebook": {
            "kernelInfo": {
                "defaultKernelName": "csharp",
                "items": [
                    {
                        "aliases": [],
                        "name": "csharp"
                    }
                ]
            }
        }
    },
    "nbformat": 4,
    "nbformat_minor": 2
}
