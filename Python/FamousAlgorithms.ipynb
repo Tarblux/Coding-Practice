{
 "cells": [
  {
   "cell_type": "markdown",
   "id": "29a6f41f",
   "metadata": {},
   "source": [
    "# String Algos"
   ]
  },
  {
   "cell_type": "markdown",
   "id": "7480fb27",
   "metadata": {},
   "source": [
    "**Knuth Morris Pratt Algorithm**"
   ]
  },
  {
   "cell_type": "markdown",
   "id": "99dc5f69",
   "metadata": {},
   "source": [
    "Knuth–Morris–Pratt algorithm (or KMP algorithm) is a string-searching algorithm that searches for occurrences of a \"word\" W within a main \"text string\" S by employing the observation that when a mismatch occurs, the word itself embodies sufficient information to determine where the next match could begin, thus bypassing re-examination of previously matched characters."
   ]
  },
  {
   "cell_type": "code",
   "execution_count": null,
   "id": "b12f1ad6",
   "metadata": {},
   "outputs": [],
   "source": []
  }
 ],
 "metadata": {
  "kernelspec": {
   "display_name": "Python 3",
   "language": "python",
   "name": "python3"
  },
  "language_info": {
   "name": "python",
   "version": "3.11.11"
  }
 },
 "nbformat": 4,
 "nbformat_minor": 5
}
