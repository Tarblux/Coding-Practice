{
 "cells": [
  {
   "cell_type": "code",
   "execution_count": null,
   "metadata": {},
   "outputs": [],
   "source": [
    "class Person:\n",
    "    def __init__(self, name, age):\n",
    "        self.name = name  # Instance variable for storing the person's name\n",
    "        self.age = age    # Instance variable for storing the person's age\n",
    "\n",
    "    def greet(self):\n",
    "        print(f\"Hello, my name is {self.name} and I am {self.age} years old.\")\n",
    "\n",
    "\n",
    "# Creating instances (objects) of the Person class\n",
    "person1 = Person(\"Alice\", 30)\n",
    "person2 = Person(\"Bob\", 25)\n",
    "\n",
    "person1.name = 'Hackadat'\n",
    "\n",
    "# Accessing instance variables\n",
    "print(person1.name)  # Output: \"Alice\"\n",
    "print(person2.age)   # Output: 25\n",
    "\n",
    "# Calling a method that uses instance variables\n",
    "person1.greet()  # Output: \"Hello, my name is Alice and I am 30 years old.\"\n",
    "person2.greet()  # Output: \"Hello, my name is Bob and I am 25 years old.\""
   ]
  },
  {
   "cell_type": "code",
   "execution_count": null,
   "metadata": {},
   "outputs": [],
   "source": [
    "class MyClass:\n",
    "    def __init__(self, value):\n",
    "        self.menu = value\n",
    "\n",
    "    def set_value(self, new_value):\n",
    "\n",
    "        self.menu = new_value\n",
    "\n",
    "    def get_value(self):\n",
    "\n",
    "        return self.menu\n",
    "\n",
    "\n",
    "# Creating an instance of MyClass\n",
    "obj = MyClass(42)\n",
    "\n",
    "# Attempting to set a new value without 'self'\n",
    "obj.set_value(10)\n",
    "\n",
    "# Attempting to retrieve the value\n",
    "print(obj.get_value())  # Output: 42 (value was not updated)"
   ]
  },
  {
   "cell_type": "code",
   "execution_count": null,
   "metadata": {},
   "outputs": [],
   "source": [
    "class ShoppingCart:\n",
    "\n",
    "    def __init__(self):\n",
    "        self.items = []\n",
    "\n",
    "    def add_item(self, product_name, price, quantity):\n",
    "        self.items.append(\n",
    "            {\"product\": product_name, \"price\": price, \"quantity\": quantity})\n",
    "\n",
    "    def calculate_total(self, tax_rate):\n",
    "        subtotal = sum(item[\"price\"] * item[\"quantity\"] for item in self.items)\n",
    "        total = subtotal + (subtotal * tax_rate)\n",
    "        return total\n",
    "\n",
    "\n",
    "# Creating a shopping cart and adding items\n",
    "cart = ShoppingCart()\n",
    "\n",
    "cart.add_item(\"Widget\", 10.0, 2)\n",
    "\n",
    "cart.add_item(\"Gadget\", 20.0, 1)\n",
    "\n",
    "print(cart.items)\n",
    "\n",
    "# # Calculating the total with a tax rate\n",
    "# total_cost = cart.calculate_total(0.1)\n",
    "# print(f\"Total cost: ${total_cost:.2f}\")"
   ]
  }
 ],
 "metadata": {
  "language_info": {
   "name": "python"
  }
 },
 "nbformat": 4,
 "nbformat_minor": 2
}
