{
 "cells": [
  {
   "cell_type": "code",
   "execution_count": null,
   "metadata": {},
   "outputs": [],
   "source": [
    "class Person:\n",
    "    def __init__(self, name, age):\n",
    "        self.name = name  # Instance variable for storing the person's name\n",
    "        self.age = age    # Instance variable for storing the person's age\n",
    "\n",
    "    def greet(self):\n",
    "        print(f\"Hello, my name is {self.name} and I am {self.age} years old.\")\n",
    "\n",
    "\n",
    "# Creating instances (objects) of the Person class\n",
    "person1 = Person(\"Alice\", 30)\n",
    "person2 = Person(\"Bob\", 25)\n",
    "\n",
    "person1.name = 'Hackadat'\n",
    "\n",
    "# Accessing instance variables\n",
    "print(person1.name)  # Output: \"Alice\"\n",
    "print(person2.age)   # Output: 25\n",
    "\n",
    "# Calling a method that uses instance variables\n",
    "person1.greet()  # Output: \"Hello, my name is Alice and I am 30 years old.\"\n",
    "person2.greet()  # Output: \"Hello, my name is Bob and I am 25 years old.\""
   ]
  },
  {
   "cell_type": "code",
   "execution_count": null,
   "metadata": {},
   "outputs": [],
   "source": [
    "class MyClass:\n",
    "    def __init__(self, value):\n",
    "        self.menu = value\n",
    "\n",
    "    def set_value(self, new_value):\n",
    "\n",
    "        self.menu = new_value\n",
    "\n",
    "    def get_value(self):\n",
    "\n",
    "        return self.menu\n",
    "\n",
    "\n",
    "# Creating an instance of MyClass\n",
    "obj = MyClass(42)\n",
    "\n",
    "# Attempting to set a new value without 'self'\n",
    "obj.set_value(10)\n",
    "\n",
    "# Attempting to retrieve the value\n",
    "print(obj.get_value())  # Output: 42 (value was not updated)"
   ]
  },
  {
   "cell_type": "code",
   "execution_count": null,
   "metadata": {},
   "outputs": [],
   "source": [
    "class ShoppingCart:\n",
    "\n",
    "    def __init__(self):\n",
    "        self.items = []\n",
    "\n",
    "    def add_item(self, product_name, price, quantity):\n",
    "        self.items.append(\n",
    "            {\"product\": product_name, \"price\": price, \"quantity\": quantity})\n",
    "\n",
    "    def calculate_total(self, tax_rate):\n",
    "        subtotal = sum(item[\"price\"] * item[\"quantity\"] for item in self.items)\n",
    "        total = subtotal + (subtotal * tax_rate)\n",
    "        return total\n",
    "\n",
    "\n",
    "# Creating a shopping cart and adding items\n",
    "cart = ShoppingCart()\n",
    "\n",
    "cart.add_item(\"Widget\", 10.0, 2)\n",
    "\n",
    "cart.add_item(\"Gadget\", 20.0, 1)\n",
    "\n",
    "print(cart.items)\n",
    "\n",
    "# # Calculating the total with a tax rate\n",
    "# total_cost = cart.calculate_total(0.1)\n",
    "# print(f\"Total cost: ${total_cost:.2f}\")"
   ]
  },
  {
   "cell_type": "markdown",
   "metadata": {},
   "source": [
    "**Instance Method Vs Class Method Vs Static Method**"
   ]
  },
  {
   "cell_type": "code",
   "execution_count": 1,
   "metadata": {},
   "outputs": [
    {
     "name": "stdout",
     "output_type": "stream",
     "text": [
      "Total cost for Alice : 70\n",
      "Total cost for Bob : 25\n",
      "Tax amount for Alice : 5.6000000000000005\n"
     ]
    }
   ],
   "source": [
    "class ShoppingCart:\n",
    "    shipping_cost_per_item = 2  # Class variable\n",
    "\n",
    "    def __init__(self, customer_name):\n",
    "        self.customer_name = customer_name\n",
    "        self.items = []\n",
    "\n",
    "    def add_item(self, item, price):\n",
    "        self.items.append((item, price))\n",
    "\n",
    "    def total_cost(self):\n",
    "        return sum(price for _, price in self.items)\n",
    "\n",
    "    @classmethod\n",
    "    def set_shipping_cost(cls, cost):\n",
    "        cls.shipping_cost_per_item = cost\n",
    "\n",
    "    @staticmethod\n",
    "    def calculate_tax(amount, tax_rate):\n",
    "        return amount * tax_rate\n",
    "\n",
    "# Creating instances of ShoppingCart\n",
    "cart1 = ShoppingCart(\"Alice\")\n",
    "cart2 = ShoppingCart(\"Bob\")\n",
    "\n",
    "# Adding items to cart1\n",
    "cart1.add_item(\"Shirt\", 20)\n",
    "cart1.add_item(\"Shoes\", 50)\n",
    "\n",
    "# Adding items to cart2\n",
    "cart2.add_item(\"Book\", 15)\n",
    "cart2.add_item(\"Hat\", 10)\n",
    "\n",
    "# Total cost for each cart\n",
    "print(\"Total cost for\", cart1.customer_name, \":\", cart1.total_cost())\n",
    "print(\"Total cost for\", cart2.customer_name, \":\", cart2.total_cost())\n",
    "\n",
    "# Setting a new shipping cost using class method\n",
    "ShoppingCart.set_shipping_cost(3)\n",
    "\n",
    "# Calculating tax using static method\n",
    "tax_amount = ShoppingCart.calculate_tax(cart1.total_cost(), 0.08)\n",
    "print(\"Tax amount for\", cart1.customer_name, \":\", tax_amount)"
   ]
  },
  {
   "cell_type": "markdown",
   "metadata": {},
   "source": [
    "In this example:\n",
    "\n",
    "- `ShoppingCart` class represents a shopping cart with instance methods to add items, calculate total cost, a class method to set shipping cost, and a static method to calculate tax.\n",
    "- `add_item()` and `total_cost()` are instance methods that operate on instance-specific data.\n",
    "- `set_shipping_cost()` is a class method that modifies a class variable `shipping_cost_per_item`.\n",
    "- `calculate_tax()` is a static method that does not depend on instance or class-specific data.\n",
    "- We create two instances of `ShoppingCart`, `cart1` and `cart2`, and add items to each.\n",
    "- We calculate the total cost for each cart and demonstrate changing the shipping cost and calculating tax using class and static methods, respectively."
   ]
  },
  {
   "cell_type": "markdown",
   "metadata": {},
   "source": [
    "**Method type examples with chess as an example**"
   ]
  },
  {
   "cell_type": "code",
   "execution_count": null,
   "metadata": {},
   "outputs": [],
   "source": [
    "class Chess:\n",
    "    # Class variable\n",
    "    total_players = 0\n",
    "\n",
    "    def __init__(self, player_name):\n",
    "        # Instance variables\n",
    "        self.player_name = player_name\n",
    "        self.score = 0\n",
    "        Chess.total_players += 1\n",
    "\n",
    "    def play_move(self, move):\n",
    "        # Instance method\n",
    "        print(f\"{self.player_name} plays move {move}\")\n",
    "        self.score += 1\n",
    "\n",
    "    def get_score(self):\n",
    "        # Instance method\n",
    "        return self.score\n",
    "\n",
    "    @classmethod\n",
    "    def total_active_players(cls):\n",
    "        # Class method\n",
    "        return cls.total_players\n",
    "\n",
    "    @staticmethod\n",
    "    def validate_move(move):\n",
    "        # Static method\n",
    "        if len(move) == 2 and move[0] in 'abcdefgh' and move[1] in '12345678':\n",
    "            return True\n",
    "        return False\n",
    "\n",
    "# Creating instances of Chess\n",
    "player1 = Chess(\"Alice\")\n",
    "player2 = Chess(\"Bob\")\n",
    "\n",
    "# Playing moves\n",
    "player1.play_move(\"e4\")\n",
    "player2.play_move(\"Nf6\")\n",
    "\n",
    "# Getting scores\n",
    "print(f\"{player1.player_name}'s score: {player1.get_score()}\")\n",
    "print(f\"{player2.player_name}'s score: {player2.get_score()}\")\n",
    "\n",
    "# Total active players\n",
    "print(\"Total active players:\", Chess.total_active_players())\n",
    "\n",
    "# Validating moves\n",
    "print(\"Is 'e4' a valid move?\", Chess.validate_move(\"e4\"))\n",
    "print(\"Is 'x9' a valid move?\", Chess.validate_move(\"x9\"))"
   ]
  },
  {
   "cell_type": "markdown",
   "metadata": {},
   "source": [
    "In this example:\n",
    "\n",
    "- `Chess` class represents a chess game with instance methods to play moves and get scores, a class method to get the total number of active players, and a static method to validate moves.\n",
    "- `play_move()` and `get_score()` are instance methods that operate on instance-specific data.\n",
    "- `total_active_players()` is a class method that accesses and modifies a class variable `total_players`.\n",
    "- `validate_move()` is a static method that does not depend on instance or class-specific data.\n",
    "- We create two instances of `Chess`, `player1` and `player2`, and simulate playing moves.\n",
    "- We get the scores for each player, check the total active players, and validate moves using class and static methods, respectively."
   ]
  }
 ],
 "metadata": {
  "kernelspec": {
   "display_name": "Python 3",
   "language": "python",
   "name": "python3"
  },
  "language_info": {
   "codemirror_mode": {
    "name": "ipython",
    "version": 3
   },
   "file_extension": ".py",
   "mimetype": "text/x-python",
   "name": "python",
   "nbconvert_exporter": "python",
   "pygments_lexer": "ipython3",
   "version": "3.11.7"
  }
 },
 "nbformat": 4,
 "nbformat_minor": 2
}
