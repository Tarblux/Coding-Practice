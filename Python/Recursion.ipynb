{
 "cells": [
  {
   "cell_type": "code",
   "execution_count": null,
   "metadata": {},
   "outputs": [],
   "source": [
    "# Create a Factorial function using recursion\n",
    "\n",
    "def factorial(number):\n",
    "    if number == 1 or number == 0:\n",
    "        return 1\n",
    "    else:\n",
    "        result = number * factorial(number-1)\n",
    "        return result\n",
    "\n",
    "\n",
    "print(factorial(5))"
   ]
  },
  {
   "cell_type": "code",
   "execution_count": null,
   "metadata": {},
   "outputs": [],
   "source": [
    "# Basic Recursive Function \n",
    "\n",
    "def walk(final, i) : \n",
    "    \n",
    "    if final == 0 : \n",
    "        \n",
    "        print('You are at the location')\n",
    "        \n",
    "        return \n",
    "    \n",
    "    else : \n",
    "        \n",
    "        print('You are at step ' , i )\n",
    "        \n",
    "        walk(final-1, i + 1)\n",
    "        \n",
    "        print(i)\n",
    "        \n",
    "        \n",
    "        \n",
    "walk(10, 0)"
   ]
  },
  {
   "cell_type": "code",
   "execution_count": null,
   "metadata": {},
   "outputs": [],
   "source": [
    "# Basic Count Down To Zero Recursive Function\n",
    "\n",
    "def CountToZero (n):\n",
    "    \n",
    "    print(n)\n",
    "    \n",
    "    if n == 0 : \n",
    "        \n",
    "        return\n",
    "    \n",
    "    CountToZero(n-1)\n",
    "    \n",
    "CountToZero(10)"
   ]
  },
  {
   "cell_type": "code",
   "execution_count": null,
   "metadata": {},
   "outputs": [],
   "source": [
    "# Counting Sub-Arrays Using Recursion\n",
    "\n",
    "names = [\"Adam\",[\"Bob\",[\"Chet\",\"Cat\",],\"Barb\",\"Bert\"],\"Alex\",[\"Bea\",\"Bill\"],\"Ann\"]\n",
    "\n",
    "def count_names(names) : \n",
    "    \n",
    "    count = 0\n",
    "    \n",
    "    for name in names : \n",
    "        \n",
    "        if isinstance(name,list) : \n",
    "            \n",
    "            count = count_names(name)\n",
    "        \n",
    "        else : \n",
    "            \n",
    "            count += 1\n",
    "            \n",
    "    return count \n",
    "            \n",
    "count_names(names)\n",
    "    \n",
    "    \n",
    "    "
   ]
  }
 ],
 "metadata": {
  "kernelspec": {
   "display_name": "Python 3",
   "language": "python",
   "name": "python3"
  },
  "language_info": {
   "codemirror_mode": {
    "name": "ipython",
    "version": 3
   },
   "file_extension": ".py",
   "mimetype": "text/x-python",
   "name": "python",
   "nbconvert_exporter": "python",
   "pygments_lexer": "ipython3",
   "version": "3.9.13"
  }
 },
 "nbformat": 4,
 "nbformat_minor": 2
}
