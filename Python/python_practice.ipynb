{
    "cells": [
        {
            "cell_type": "code",
            "execution_count": 12,
            "metadata": {},
            "outputs": [
                {
                    "name": "stdout",
                    "output_type": "stream",
                    "text": [
                        "125\n",
                        "1\n",
                        "2\n",
                        "The Exponents of 2 is [2, 4, 8, 16, 32, 64, 128, 256, 512]\n"
                    ]
                }
            ],
            "source": [
                "#Math Operations Practice \n",
                "\n",
                "print (5**3)\n",
                "\n",
                "print(5//3)\n",
                "\n",
                "print (5%3)\n",
                "\n",
                "\n",
                "# Finding the exponents of a number and adding them to a list and printing it \n",
                "\n",
                "user_input = int(input('Enter a number'))\n",
                "\n",
                "exponents = []\n",
                "\n",
                "for i in range (1,10) :\n",
                "    exponents.append(user_input**i)\n",
                "\n",
                "print ('The Exponents of ' + str(user_input) + ' is ' + str(exponents))\n",
                "\n",
                "\n"
            ]
        },
        {
            "cell_type": "code",
            "execution_count": 6,
            "metadata": {},
            "outputs": [
                {
                    "name": "stdout",
                    "output_type": "stream",
                    "text": [
                        "10\n"
                    ]
                }
            ],
            "source": [
                "def sum (a,b) : \n",
                "    sum = a + b\n",
                "    return sum\n",
                "    \n",
                "    \n",
                "print (sum(4,6))"
            ]
        },
        {
            "cell_type": "markdown",
            "metadata": {},
            "source": [
                "**Factorial**"
            ]
        },
        {
            "cell_type": "code",
            "execution_count": 9,
            "metadata": {},
            "outputs": [
                {
                    "name": "stdout",
                    "output_type": "stream",
                    "text": [
                        "6\n",
                        "120\n"
                    ]
                }
            ],
            "source": [
                "#Finding the factorial of a number \n",
                "\n",
                "number = int(input('Give me a number'))\n",
                "\n",
                "factorial = 1\n",
                "\n",
                "if number == 1 or number == 0 :\n",
                "    factorial == 1\n",
                "else: \n",
                "    for i in range (number,0,-1):\n",
                "        factorial = factorial * i\n",
                "        \n",
                "print(factorial) \n",
                "\n",
                "# This can be even simpler\n",
                "\n",
                "number = int(input('Give me a number'))\n",
                "\n",
                "factorial_2 = 1 \n",
                "\n",
                "for i in range (number,0,-1):\n",
                "    factorial_2 *= i\n",
                "    \n",
                "print(factorial_2)\n",
                "\n",
                "\n",
                "    \n"
            ]
        },
        {
            "cell_type": "code",
            "execution_count": null,
            "metadata": {},
            "outputs": [],
            "source": [
                "# Create a Factorial function using recursion \n",
                "\n",
                "def factorial (number):\n",
                "    if number == 1 or number == 0 : \n",
                "        return 1\n",
                "    else : \n",
                "        result = number * factorial(number-1) \n",
                "        return result\n",
                "\n",
                "\n",
                "print (factorial(5)) "
            ]
        },
        {
            "cell_type": "markdown",
            "metadata": {},
            "source": [
                "**Counting number of vowels in a string**"
            ]
        },
        {
            "cell_type": "code",
            "execution_count": 12,
            "metadata": {},
            "outputs": [
                {
                    "name": "stdout",
                    "output_type": "stream",
                    "text": [
                        "There are 6  vowels in  aeiiii\n"
                    ]
                }
            ],
            "source": [
                "user_input = input('Enter a word')\n",
                "\n",
                "vowels = ['a','e','i','o','u']\n",
                "\n",
                "vowels_count = 0\n",
                "\n",
                "split_string = list(user_input)\n",
                "\n",
                "for char in split_string : \n",
                "    if char in vowels : \n",
                "        vowels_count += 1\n",
                "    else : \n",
                "        vowels_count += 0\n",
                "        \n",
                "print('There are' , vowels_count , ' vowels in ', user_input ) \n",
                "\n"
            ]
        },
        {
            "cell_type": "markdown",
            "metadata": {},
            "source": [
                "**Calculating the average of a list of numbers**"
            ]
        },
        {
            "cell_type": "code",
            "execution_count": 6,
            "metadata": {},
            "outputs": [
                {
                    "name": "stdout",
                    "output_type": "stream",
                    "text": [
                        "The average of these numbers is  4.666666666666667\n"
                    ]
                }
            ],
            "source": [
                "# Accept input and split numbers \n",
                "\n",
                "user_input = input('Enter a list of numbers , separated by a space')\n",
                "\n",
                "split_input = user_input.split()\n",
                "\n",
                "numbers = []\n",
                "\n",
                "# Convert numbers to integers and add them to array\n",
                "\n",
                "for num in split_input : \n",
                "    numbers.append(int(num))\n",
                "\n",
                "# Add numbers and count \n",
                "\n",
                "sum = 0\n",
                "\n",
                "for num in numbers :\n",
                "    sum += num\n",
                "\n",
                "quantity = len(numbers)\n",
                "\n",
                "average = sum / quantity\n",
                "\n",
                "print('The average of these numbers is ' , average)\n"
            ]
        },
        {
            "cell_type": "markdown",
            "metadata": {},
            "source": [
                "**Calculating average using a function**"
            ]
        },
        {
            "cell_type": "code",
            "execution_count": 13,
            "metadata": {},
            "outputs": [
                {
                    "name": "stdout",
                    "output_type": "stream",
                    "text": [
                        "Average is 4.0\n"
                    ]
                }
            ],
            "source": [
                "# Define Function \n",
                "\n",
                "def calculate_average (numbers) : \n",
                "    sum = 0 \n",
                "    quantity = len(numbers)\n",
                "    for num in numbers : \n",
                "        sum += num\n",
                "    average = sum / quantity\n",
                "    return average\n",
                "\n",
                "# Accept user input and pass the input to the function as an argument \n",
                "\n",
                "user_input = input('Enter a list of numbers separated by a space')\n",
                "\n",
                "split_input = user_input.split()\n",
                "\n",
                "numbers = []\n",
                "\n",
                "for num in split_input : \n",
                "    numbers.append(int(num))\n",
                "\n",
                "average = calculate_average(numbers)\n",
                "\n",
                "print ('Average is', average)"
            ]
        },
        {
            "cell_type": "markdown",
            "metadata": {},
            "source": [
                "**Sum only even numbers in a list of numbers**"
            ]
        },
        {
            "cell_type": "code",
            "execution_count": 14,
            "metadata": {},
            "outputs": [
                {
                    "name": "stdout",
                    "output_type": "stream",
                    "text": [
                        "The sum of the even numbers is 12\n"
                    ]
                }
            ],
            "source": [
                "# Prompt input and split into individual numbers \n",
                "\n",
                "user_input = input (\"type out a list of numbers , separated by a space\")\n",
                "\n",
                "user_input_split = user_input.split()\n",
                "\n",
                "number_list = []\n",
                "\n",
                "# Convert each string into an integer \n",
                "\n",
                "for num in user_input_split : \n",
                "    number_list.append(int(num))\n",
                "\n",
                "# Check if even and add to another list where applicable \n",
                "\n",
                "even_numbers = 0\n",
                "\n",
                "for num in number_list : \n",
                "    if num % 2 == 0 : \n",
                "        even_numbers += num\n",
                "\n",
                "print ('The sum of the even numbers is' , even_numbers)\n",
                "\n",
                "\n",
                "\n",
                "\n",
                "    \n"
            ]
        },
        {
            "cell_type": "markdown",
            "metadata": {},
            "source": [
                "**Counting the frequency of each word in a sentence**"
            ]
        },
        {
            "cell_type": "code",
            "execution_count": 15,
            "metadata": {},
            "outputs": [
                {
                    "name": "stdout",
                    "output_type": "stream",
                    "text": [
                        "hanis 1\n",
                        "is 1\n",
                        "a 2\n",
                        "esyde 1\n",
                        "anis 1\n"
                    ]
                }
            ],
            "source": [
                "user_input = input(\"Enter a Sentence\")\n",
                "\n",
                "word_list = []\n",
                "word_list = user_input.split()\n",
                "\n",
                "sentence_dic = {}\n",
                "\n",
                "for word in word_list : \n",
                "    if word not in sentence_dic : \n",
                "        sentence_dic[word] = 1\n",
                "    else :\n",
                "        sentence_dic[word] += 1\n",
                "        \n",
                "for word in sentence_dic :\n",
                "    print (word , sentence_dic[word])\n",
                "\n"
            ]
        },
        {
            "cell_type": "markdown",
            "metadata": {},
            "source": [
                "**While Loop**"
            ]
        },
        {
            "cell_type": "code",
            "execution_count": 5,
            "metadata": {},
            "outputs": [
                {
                    "name": "stdout",
                    "output_type": "stream",
                    "text": [
                        "Esyde Rule The Earth\n",
                        "Esyde Rule The Earth\n",
                        "Esyde Rule The Earth\n",
                        "Esyde Rule The Earth\n",
                        "Esyde Rule The Earth\n",
                        "Esyde Rule The Earth\n",
                        "Esyde Rule The Earth\n",
                        "Esyde Rule The Earth\n"
                    ]
                }
            ],
            "source": [
                "esyde = 2 \n",
                "\n",
                "while esyde < 10  : \n",
                "    print ('Esyde Rule The Earth')\n",
                "    esyde += 1 \n"
            ]
        },
        {
            "cell_type": "markdown",
            "metadata": {},
            "source": [
                "**Importing Modules**"
            ]
        },
        {
            "cell_type": "code",
            "execution_count": null,
            "metadata": {},
            "outputs": [
                {
                    "name": "stdout",
                    "output_type": "stream",
                    "text": [
                        "5\n",
                        "1\n"
                    ]
                }
            ],
            "source": [
                "import random \n",
                "\n",
                "for i in range (5,3,-1) :\n",
                "    print (random.randint(1,10))"
            ]
        },
        {
            "cell_type": "code",
            "execution_count": 29,
            "metadata": {},
            "outputs": [
                {
                    "name": "stdout",
                    "output_type": "stream",
                    "text": [
                        "9\n"
                    ]
                }
            ],
            "source": [
                "#Trying Random Module \n",
                "\n",
                "import random\n",
                "\n",
                "A = random.randint(0,5)\n",
                "\n",
                "B = random.randint(0,10)\n",
                "\n",
                "A += B\n",
                "\n",
                "print (A)\n"
            ]
        },
        {
            "cell_type": "markdown",
            "metadata": {},
            "source": [
                "**Guessing Random Numbers**"
            ]
        },
        {
            "cell_type": "code",
            "execution_count": 15,
            "metadata": {},
            "outputs": [
                {
                    "name": "stdout",
                    "output_type": "stream",
                    "text": [
                        "I am thinking of a number between 1 and 20.\n",
                        "Take a guess.\n",
                        "Your guess is too high.\n",
                        "Take a guess.\n",
                        "Your guess is too high.\n",
                        "Take a guess.\n",
                        "Your guess is too high.\n",
                        "Take a guess.\n",
                        "Good job! You guessed my number in 4guesses!\n"
                    ]
                }
            ],
            "source": [
                "# This is a guess the number game.\n",
                "import random\n",
                "secretNumber = random.randint(1, 20)\n",
                "print('I am thinking of a number between 1 and 20.')\n",
                "\n",
                "# Ask the player to guess 6 times.\n",
                "for guessesTaken in range(1, 7):\n",
                "    print('Take a guess.')\n",
                "    guess = int(input())\n",
                "\n",
                "    if guess < secretNumber:\n",
                "        print('Your guess is too low.')\n",
                "    elif guess > secretNumber:\n",
                "        print('Your guess is too high.')\n",
                "    else:\n",
                "        break    # This condition is the correct guess!\n",
                "\n",
                "if guess == secretNumber:\n",
                "    print('Good job! You guessed my number in ' + str(guessesTaken) + ' guesses!')\n",
                "else:\n",
                "    print('Nope. The number I was thinking of was ' + str(secretNumber))"
            ]
        },
        {
            "cell_type": "markdown",
            "metadata": {},
            "source": [
                "**Using Try and Except**"
            ]
        },
        {
            "cell_type": "code",
            "execution_count": null,
            "metadata": {},
            "outputs": [],
            "source": [
                "#Printing a Zig Zag Continuously\n",
                "\n",
                "# Ctrl + C should stop this \n",
                "\n",
                "import time, sys\n",
                "indent = 0 # How many spaces to indent.\n",
                "indentIncreasing = True # Whether the indentation is increasing or not.\n",
                "\n",
                "try:\n",
                "    while True: # The main program loop.\n",
                "        print(' ' * indent, end='')\n",
                "        print('********')\n",
                "        time.sleep(0.1) # Pause for 1/10 of a second.\n",
                "\n",
                "        if indentIncreasing:\n",
                "            # Increase the number of spaces:\n",
                "            indent = indent + 1\n",
                "            if indent == 20:\n",
                "                # Change direction:\n",
                "                indentIncreasing = False\n",
                "\n",
                "        else:\n",
                "            # Decrease the number of spaces:\n",
                "            indent = indent - 1\n",
                "            if indent == 0:\n",
                "                # Change direction:\n",
                "                indentIncreasing = True\n",
                "except KeyboardInterrupt:\n",
                "    sys.exit()"
            ]
        },
        {
            "cell_type": "markdown",
            "metadata": {},
            "source": [
                "**List Practice**"
            ]
        },
        {
            "cell_type": "code",
            "execution_count": 30,
            "metadata": {},
            "outputs": [
                {
                    "name": "stdout",
                    "output_type": "stream",
                    "text": [
                        "10\n",
                        "9\n",
                        "8\n",
                        "7\n",
                        "6\n",
                        "5\n",
                        "4\n",
                        "3\n",
                        "2\n",
                        "1\n"
                    ]
                }
            ],
            "source": [
                "for i in range (10,0,-1) :\n",
                "    print(i)"
            ]
        },
        {
            "cell_type": "code",
            "execution_count": 38,
            "metadata": {},
            "outputs": [
                {
                    "name": "stdout",
                    "output_type": "stream",
                    "text": [
                        "tipgod\n"
                    ]
                }
            ],
            "source": [
                "#List Manipulation and Operations\n",
                "\n",
                "esyde = ['tipgod' , 'whipski' , 'guzu' , 'wang' , 'omogey' ]\n",
                "\n",
                "mobster = ['bayka', 'rajah' , 'ratbat' , 'sydz' , 'copa']\n",
                "\n",
                "combined_crew = esyde + mobster\n",
                "esyde_3 = esyde * 3 \n",
                "\n",
                "print(esyde[-0])\n",
                " \n",
                "#Change value in list \n",
                "\n",
                "# esyde[1] = 'whiplaski'\n",
                "\n",
                "# print('1', esyde[0])\n",
                "# print('2', esyde[0:3])\n",
                "# print(esyde[0:-1]) # Up to the last value\n",
                "\n",
                "# print(esyde[0:len(esyde)])\n",
                "\n",
                "# print(combined_crew)\n",
                "# print(esyde_3)\n",
                "\n",
                "# #For Loop \n",
                "\n",
                "# for i in range(len(esyde) - 1) :\n",
                "#     print(esyde[i])\n",
                "\n"
            ]
        },
        {
            "cell_type": "code",
            "execution_count": 3,
            "metadata": {},
            "outputs": [
                {
                    "name": "stdout",
                    "output_type": "stream",
                    "text": [
                        "1\n",
                        "['brandon', 'tomski', 'tariq']\n"
                    ]
                }
            ],
            "source": [
                "#del function practice\n",
                "\n",
                "flexqas = ['brandon' , 'tomski' , 'andrew' , 'tariq']\n",
                "\n",
                "print()\n",
                "\n",
                "del(flexqas[2])\n",
                "\n",
                "print(flexqas)\n",
                "\n",
                "\n",
                "\n",
                "\n"
            ]
        },
        {
            "cell_type": "markdown",
            "metadata": {},
            "source": [
                "**Advanced List Practice**"
            ]
        },
        {
            "cell_type": "code",
            "execution_count": 46,
            "metadata": {},
            "outputs": [
                {
                    "name": "stdout",
                    "output_type": "stream",
                    "text": [
                        "Index 0 in supplies is: chilo\n",
                        "Index 1 in supplies is: classic\n",
                        "Index 2 in supplies is: gayan\n",
                        "Index 3 in supplies is: boomski\n",
                        "Index 4 in supplies is: macko\n"
                    ]
                }
            ],
            "source": [
                "choppas = ['chilo' , 'classic' , 'gayan' , 'boomski' , 'macko']\n",
                "\n",
                "\n",
                "for index, item in enumerate(choppas):\n",
                "   print('Index ' + str(index) + ' in supplies is: ' + item)\n",
                "    \n"
            ]
        },
        {
            "cell_type": "markdown",
            "metadata": {},
            "source": [
                "**Multiple Assignment Trick**"
            ]
        },
        {
            "cell_type": "code",
            "execution_count": 50,
            "metadata": {},
            "outputs": [
                {
                    "name": "stdout",
                    "output_type": "stream",
                    "text": [
                        "['fat', 'gray', 'loud']\n",
                        "fat\n"
                    ]
                }
            ],
            "source": [
                "# The multiple assignment trick (technically called tuple unpacking) is a shortcut that lets you assign multiple \n",
                "# variables with the values in a list in one line of code. So instead of doing this:\n",
                "cat = ['fat', 'gray', 'loud']\n",
                "size = cat[0]\n",
                "color = cat[1]\n",
                "disposition = cat[2]\n",
                "\n",
                "#you could type this line of code:\n",
                "cat = ['fat', 'gray', 'loud']\n",
                "size, color, disposition = cat\n",
                "\n",
                "# Note well that the multiple assignment trick will create multiple variables and assign them each with a value from the list in the corresponding order \n",
                "\n",
                "# cat is still the same list but look what happens when we print size , it is now assigned the value fat from the cat list\n",
                "\n",
                "print(cat)\n",
                "\n",
                "print(size)\n"
            ]
        },
        {
            "cell_type": "markdown",
            "metadata": {},
            "source": [
                "**Random Module Practice**"
            ]
        },
        {
            "cell_type": "code",
            "execution_count": 65,
            "metadata": {},
            "outputs": [
                {
                    "name": "stdout",
                    "output_type": "stream",
                    "text": [
                        "tipksi\n"
                    ]
                },
                {
                    "data": {
                        "text/plain": [
                            "['tipksi', 'leo', 'esyde', 'hanis', 'whipski']"
                        ]
                    },
                    "execution_count": 65,
                    "metadata": {},
                    "output_type": "execute_result"
                }
            ],
            "source": [
                "import random\n",
                "\n",
                "syde = [ 'esyde' , 'tipksi' , 'whipski' , 'hanis' , 'leo']\n",
                "\n",
                "index_num = random.randint(0,4)\n",
                "\n",
                "random_name = random.choice(syde)\n",
                "\n",
                "print(random_name)\n",
                "\n",
                "#\n",
                "random.shuffle(syde)\n",
                "\n",
                "syde\n",
                "\n",
                "# note that random shuffle does not return a shuffled list but instead it shuffles the list in place and so we see that if we try \n",
                "# to print it we get the value none \n",
                "     \n",
                "print (random.shuffle(syde))\n",
                "\n",
                "\n",
                "\n"
            ]
        },
        {
            "cell_type": "markdown",
            "metadata": {},
            "source": [
                "**Numpy Practice**"
            ]
        },
        {
            "cell_type": "code",
            "execution_count": 5,
            "metadata": {},
            "outputs": [
                {
                    "name": "stdout",
                    "output_type": "stream",
                    "text": [
                        "5.5\n"
                    ]
                }
            ],
            "source": [
                "import numpy \n",
                "\n",
                "A = numpy.average([1,2,3,4,5,6,7,8,9,10])\n",
                "\n",
                "print(A)\n",
                "\n",
                "# Wild how above I made a whole function to calculate the average of a list of numbers and here I can just use the numpy library to do it in one line"
            ]
        },
        {
            "cell_type": "code",
            "execution_count": 8,
            "metadata": {},
            "outputs": [
                {
                    "name": "stdout",
                    "output_type": "stream",
                    "text": [
                        "6.25\n",
                        "4.0\n"
                    ]
                }
            ],
            "source": [
                "#Showing the difference between doing average and numpy average \n",
                "\n",
                "import numpy as np\n",
                "\n",
                "def average (numlist) :\n",
                "    sum = 0 \n",
                "    \n",
                "    for i in numlist :\n",
                "        sum += i\n",
                "    \n",
                "    quantity = len(numlist)\n",
                "    \n",
                "    average = sum / quantity\n",
                "    \n",
                "    return average\n",
                "\n",
                "\n",
                "A = [ 5 , 4 , 7 , 9]\n",
                "\n",
                "B = [ 4 , 3 , 0 , 9]\n",
                "\n",
                "print (average(A))\n",
                "\n",
                "# We can skip that nonsense and invoke the power of the pump pump pie \n",
                "\n",
                "print(np.average(B))\n",
                "\n",
                "\n",
                "    "
            ]
        },
        {
            "cell_type": "markdown",
            "metadata": {},
            "source": [
                "## Visualizing Iterations "
            ]
        },
        {
            "cell_type": "code",
            "execution_count": 14,
            "metadata": {},
            "outputs": [
                {
                    "name": "stdout",
                    "output_type": "stream",
                    "text": [
                        "Outer Loop - Iteration 0\n",
                        "  Middle Loop - Iteration 0\n",
                        "    Innermost Loop - Iteration 0\n",
                        "    Innermost Loop - Iteration 1\n",
                        "    Innermost Loop - Iteration 2\n",
                        "    Innermost Loop - Iteration 3\n",
                        "  Middle Loop - Iteration 1\n",
                        "    Innermost Loop - Iteration 0\n",
                        "    Innermost Loop - Iteration 1\n",
                        "    Innermost Loop - Iteration 2\n",
                        "    Innermost Loop - Iteration 3\n",
                        "Outer Loop - Iteration 1\n",
                        "  Middle Loop - Iteration 0\n",
                        "    Innermost Loop - Iteration 0\n",
                        "    Innermost Loop - Iteration 1\n",
                        "    Innermost Loop - Iteration 2\n",
                        "    Innermost Loop - Iteration 3\n",
                        "  Middle Loop - Iteration 1\n",
                        "    Innermost Loop - Iteration 0\n",
                        "    Innermost Loop - Iteration 1\n",
                        "    Innermost Loop - Iteration 2\n",
                        "    Innermost Loop - Iteration 3\n",
                        "Outer Loop - Iteration 2\n",
                        "  Middle Loop - Iteration 0\n",
                        "    Innermost Loop - Iteration 0\n",
                        "    Innermost Loop - Iteration 1\n",
                        "    Innermost Loop - Iteration 2\n",
                        "    Innermost Loop - Iteration 3\n",
                        "  Middle Loop - Iteration 1\n",
                        "    Innermost Loop - Iteration 0\n",
                        "    Innermost Loop - Iteration 1\n",
                        "    Innermost Loop - Iteration 2\n",
                        "    Innermost Loop - Iteration 3\n"
                    ]
                }
            ],
            "source": [
                "for i in range(3):\n",
                "    print(f\"Outer Loop - Iteration {i}\")\n",
                "    \n",
                "    for j in range(2):\n",
                "        print(f\"  Middle Loop - Iteration {j}\")\n",
                "        \n",
                "        for k in range(4):\n",
                "            print(f\"    Innermost Loop - Iteration {k}\")\n",
                "\n",
                "\n",
                "\n"
            ]
        },
        {
            "cell_type": "code",
            "execution_count": 68,
            "metadata": {},
            "outputs": [
                {
                    "name": "stdout",
                    "output_type": "stream",
                    "text": [
                        "[1, 0]\n"
                    ]
                }
            ],
            "source": [
                "A = [9,5,4,5,9,9]\n",
                "B = [9]\n",
                "C = []\n",
                "D = [5,4,3]\n",
                "E = [9,9,9]\n",
                "\n",
                "def PlusOne (array) :\n",
                "    \n",
                "    if not array :\n",
                "        \n",
                "        return 0\n",
                "    \n",
                "    for i in range (len(array)-1 , -1 , -1) :\n",
                "        \n",
                "        if array[i] == 9 and i != 0 : \n",
                "            \n",
                "            array[i] = 0\n",
                "                \n",
                "        elif array[i] == 9 and i == 0 :\n",
                "            \n",
                "            array [i] = 0 \n",
                "            \n",
                "            array.insert(0,1)\n",
                "        \n",
                "        else : \n",
                "            \n",
                "            array[i] += 1\n",
                "            \n",
                "            break\n",
                "            \n",
                "    return array\n",
                "            \n",
                "\n",
                "print(PlusOne(B))\n"
            ]
        },
        {
            "cell_type": "code",
            "execution_count": 67,
            "metadata": {},
            "outputs": [
                {
                    "name": "stdout",
                    "output_type": "stream",
                    "text": [
                        "[9, 5, 4, 6, 9, 9]\n"
                    ]
                }
            ],
            "source": [
                "A = [9,5,4,5,9,9]\n",
                "B = [9]\n",
                "C = []\n",
                "D = [5,4,3]\n",
                "E = [9,9,9]\n",
                "\n",
                "\n",
                "def plusOne (digits) :\n",
                "    \n",
                "    for i in range (len(digits) -1 , -1 , -1) :\n",
                "        \n",
                "        if digits [i] < 9 :\n",
                "            \n",
                "            digits[i] += 1 \n",
                "            return digits \n",
                "        \n",
                "        digits[0]\n",
                "        \n",
                "    return [1] + digits\n",
                "    \n",
                "print(plusOne(A))"
            ]
        },
        {
            "cell_type": "code",
            "execution_count": 83,
            "metadata": {},
            "outputs": [
                {
                    "name": "stdout",
                    "output_type": "stream",
                    "text": [
                        "anagramnagaram\n",
                        "{'a': 0, 'n': 0, 'g': 0, 'r': 0, 'm': 0}\n",
                        "True\n"
                    ]
                }
            ],
            "source": [
                "def Anagram (s,t) :\n",
                "    \n",
                "    dict = {}\n",
                "    \n",
                "    if len(s) != len(t) :\n",
                "        \n",
                "        return False \n",
                "    \n",
                "    for i in range (0,len(s)) :\n",
                "        \n",
                "        if s[i] not in dict :\n",
                "            \n",
                "            dict[s[i]] = 1          \n",
                "        else : \n",
                "            \n",
                "            dict[s[i]] += 1\n",
                "            \n",
                "    for i in range (0,len(t)): \n",
                "        \n",
                "        if t[i] not in dict : \n",
                "            \n",
                "            return False \n",
                "        \n",
                "        else : \n",
                "            \n",
                "            dict[t[i]] -= 1\n",
                "            \n",
                "                \n",
                "    print (dict)\n",
                "            \n",
                "    for key in dict.keys(): \n",
                "        \n",
                "        if dict[key] != 0 :\n",
                "            \n",
                "            return False \n",
                "        \n",
                "    return True\n",
                "    \n",
                "    \n",
                "s = 'anagram'\n",
                "\n",
                "t = 'nagaram'\n",
                "\n",
                "print(s+t)\n",
                "\n",
                "print(Anagram(s,t))"
            ]
        },
        {
            "cell_type": "code",
            "execution_count": null,
            "metadata": {},
            "outputs": [],
            "source": [
                "def reverse_linked_list(head):\n",
                "\n",
                "    prev = None \n",
                "    current  = head\n",
                "    \n",
                "    while current : \n",
                "        \n",
                "        next_node = current.next\n",
                "        current.next = prev \n",
                "        prev = current\n",
                "        current = next_node\n",
                "        \n",
                "    return prev\n",
                "        \n",
                "        \n",
                "        \n",
                "    "
            ]
        },
        {
            "cell_type": "code",
            "execution_count": 84,
            "metadata": {},
            "outputs": [],
            "source": [
                "#Palindrome linked list \n",
                "\n",
                "def is_palindrome_linked_list(head):\n",
                "    values = []\n",
                "    \n",
                "    \n",
                "    current = head\n",
                "    \n",
                "    while current:\n",
                "        values.append(current.val)\n",
                "        current = current.next\n",
                "    \n",
                "    \n",
                "    return values == values[::-1]\n",
                "        \n",
                "        "
            ]
        }
    ],
    "metadata": {
        "kernelspec": {
            "display_name": "Python 3",
            "language": "python",
            "name": "python3"
        },
        "language_info": {
            "codemirror_mode": {
                "name": "ipython",
                "version": 3
            },
            "file_extension": ".py",
            "mimetype": "text/x-python",
            "name": "python",
            "nbconvert_exporter": "python",
            "pygments_lexer": "ipython3",
            "version": "3.9.6"
        },
        "orig_nbformat": 4
    },
    "nbformat": 4,
    "nbformat_minor": 2
}
