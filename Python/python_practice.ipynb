{
    "cells": [
        {
            "cell_type": "code",
            "execution_count": 12,
            "metadata": {},
            "outputs": [
                {
                    "name": "stdout",
                    "output_type": "stream",
                    "text": [
                        "125\n",
                        "1\n",
                        "2\n",
                        "The Exponents of 2 is [2, 4, 8, 16, 32, 64, 128, 256, 512]\n"
                    ]
                }
            ],
            "source": [
                "# Math Operations Practice\n",
                "\n",
                "print(5**3)\n",
                "\n",
                "print(5//3)\n",
                "\n",
                "print(5 % 3)\n",
                "\n",
                "\n",
                "# Finding the exponents of a number and adding them to a list and printing it\n",
                "\n",
                "user_input = int(input('Enter a number'))\n",
                "\n",
                "exponents = []\n",
                "\n",
                "for i in range(1, 10):\n",
                "    exponents.append(user_input**i)\n",
                "\n",
                "print('The Exponents of ' + str(user_input) + ' is ' + str(exponents))"
            ]
        },
        {
            "cell_type": "code",
            "execution_count": 6,
            "metadata": {},
            "outputs": [
                {
                    "name": "stdout",
                    "output_type": "stream",
                    "text": [
                        "10\n"
                    ]
                }
            ],
            "source": [
                "def sum(a, b):\n",
                "    sum = a + b\n",
                "    return sum\n",
                "\n",
                "\n",
                "print(sum(4, 6))"
            ]
        },
        {
            "cell_type": "markdown",
            "metadata": {},
            "source": [
                "**Factorial**\n"
            ]
        },
        {
            "cell_type": "code",
            "execution_count": 9,
            "metadata": {},
            "outputs": [
                {
                    "name": "stdout",
                    "output_type": "stream",
                    "text": [
                        "6\n",
                        "120\n"
                    ]
                }
            ],
            "source": [
                "# Finding the factorial of a number\n",
                "\n",
                "number = int(input('Give me a number'))\n",
                "\n",
                "factorial = 1\n",
                "\n",
                "if number == 1 or number == 0:\n",
                "    factorial == 1\n",
                "else:\n",
                "    for i in range(number, 0, -1):\n",
                "        factorial = factorial * i\n",
                "\n",
                "print(factorial)\n",
                "\n",
                "# This can be even simpler\n",
                "\n",
                "number = int(input('Give me a number'))\n",
                "\n",
                "factorial_2 = 1\n",
                "\n",
                "for i in range(number, 0, -1):\n",
                "    factorial_2 *= i\n",
                "\n",
                "print(factorial_2)"
            ]
        },
        {
            "cell_type": "code",
            "execution_count": null,
            "metadata": {},
            "outputs": [],
            "source": [
                "# Create a Factorial function using recursion\n",
                "\n",
                "def factorial(number):\n",
                "    if number == 1 or number == 0:\n",
                "        return 1\n",
                "    else:\n",
                "        result = number * factorial(number-1)\n",
                "        return result\n",
                "\n",
                "\n",
                "print(factorial(5))"
            ]
        },
        {
            "cell_type": "markdown",
            "metadata": {},
            "source": [
                "**Counting number of vowels in a string**\n"
            ]
        },
        {
            "cell_type": "code",
            "execution_count": 12,
            "metadata": {},
            "outputs": [
                {
                    "name": "stdout",
                    "output_type": "stream",
                    "text": [
                        "There are 6  vowels in  aeiiii\n"
                    ]
                }
            ],
            "source": [
                "user_input = input('Enter a word')\n",
                "\n",
                "vowels = ['a', 'e', 'i', 'o', 'u']\n",
                "\n",
                "vowels_count = 0\n",
                "\n",
                "split_string = list(user_input)\n",
                "\n",
                "for char in split_string:\n",
                "    if char in vowels:\n",
                "        vowels_count += 1\n",
                "    else:\n",
                "        vowels_count += 0\n",
                "\n",
                "print('There are', vowels_count, ' vowels in ', user_input)"
            ]
        },
        {
            "cell_type": "markdown",
            "metadata": {},
            "source": [
                "**Calculating the average of a list of numbers**\n"
            ]
        },
        {
            "cell_type": "code",
            "execution_count": 2,
            "metadata": {},
            "outputs": [
                {
                    "name": "stdout",
                    "output_type": "stream",
                    "text": [
                        "The average of these numbers is  5.75\n"
                    ]
                }
            ],
            "source": [
                "# Accept input and split numbers\n",
                "\n",
                "user_input = input('Enter a list of numbers , separated by a space')\n",
                "\n",
                "split_input = user_input.split()\n",
                "\n",
                "numbers = []\n",
                "\n",
                "# Convert numbers to integers and add them to array\n",
                "\n",
                "for num in split_input:\n",
                "    numbers.append(int(num))\n",
                "\n",
                "# Add numbers and count\n",
                "\n",
                "sum = 0\n",
                "\n",
                "for num in numbers:\n",
                "    sum += num\n",
                "\n",
                "quantity = len(numbers)\n",
                "\n",
                "average = sum / quantity\n",
                "\n",
                "print('The average of these numbers is ', average)"
            ]
        },
        {
            "cell_type": "markdown",
            "metadata": {},
            "source": [
                "**Calculating average using a function**\n"
            ]
        },
        {
            "cell_type": "code",
            "execution_count": 13,
            "metadata": {},
            "outputs": [
                {
                    "name": "stdout",
                    "output_type": "stream",
                    "text": [
                        "Average is 4.0\n"
                    ]
                }
            ],
            "source": [
                "# Define Function\n",
                "\n",
                "def calculate_average(numbers):\n",
                "    sum = 0\n",
                "    quantity = len(numbers)\n",
                "    for num in numbers:\n",
                "        sum += num\n",
                "    average = sum / quantity\n",
                "    return average\n",
                "\n",
                "# Accept user input and pass the input to the function as an argument\n",
                "\n",
                "\n",
                "user_input = input('Enter a list of numbers separated by a space')\n",
                "\n",
                "split_input = user_input.split()\n",
                "\n",
                "numbers = []\n",
                "\n",
                "for num in split_input:\n",
                "    numbers.append(int(num))\n",
                "\n",
                "average = calculate_average(numbers)\n",
                "\n",
                "print('Average is', average)"
            ]
        },
        {
            "cell_type": "markdown",
            "metadata": {},
            "source": [
                "**Sum only even numbers in a list of numbers**\n"
            ]
        },
        {
            "cell_type": "code",
            "execution_count": 14,
            "metadata": {},
            "outputs": [
                {
                    "name": "stdout",
                    "output_type": "stream",
                    "text": [
                        "The sum of the even numbers is 12\n"
                    ]
                }
            ],
            "source": [
                "# Prompt input and split into individual numbers\n",
                "\n",
                "user_input = input(\"type out a list of numbers , separated by a space\")\n",
                "\n",
                "user_input_split = user_input.split()\n",
                "\n",
                "number_list = []\n",
                "\n",
                "# Convert each string into an integer\n",
                "\n",
                "for num in user_input_split:\n",
                "    number_list.append(int(num))\n",
                "\n",
                "# Check if even and add to another list where applicable\n",
                "\n",
                "even_numbers = 0\n",
                "\n",
                "for num in number_list:\n",
                "    if num % 2 == 0:\n",
                "        even_numbers += num\n",
                "\n",
                "print('The sum of the even numbers is', even_numbers)"
            ]
        },
        {
            "cell_type": "markdown",
            "metadata": {},
            "source": [
                "**Counting the frequency of each word in a sentence**\n"
            ]
        },
        {
            "cell_type": "code",
            "execution_count": 15,
            "metadata": {},
            "outputs": [
                {
                    "name": "stdout",
                    "output_type": "stream",
                    "text": [
                        "hanis 1\n",
                        "is 1\n",
                        "a 2\n",
                        "esyde 1\n",
                        "anis 1\n"
                    ]
                }
            ],
            "source": [
                "user_input = input(\"Enter a Sentence\")\n",
                "\n",
                "word_list = []\n",
                "word_list = user_input.split()\n",
                "\n",
                "sentence_dic = {}\n",
                "\n",
                "for word in word_list:\n",
                "    if word not in sentence_dic:\n",
                "        sentence_dic[word] = 1\n",
                "    else:\n",
                "        sentence_dic[word] += 1\n",
                "\n",
                "for word in sentence_dic:\n",
                "    print(word, sentence_dic[word])"
            ]
        },
        {
            "cell_type": "markdown",
            "metadata": {},
            "source": [
                "**While Loop**\n"
            ]
        },
        {
            "cell_type": "code",
            "execution_count": 5,
            "metadata": {},
            "outputs": [
                {
                    "name": "stdout",
                    "output_type": "stream",
                    "text": [
                        "Esyde Rule The Earth\n",
                        "Esyde Rule The Earth\n",
                        "Esyde Rule The Earth\n",
                        "Esyde Rule The Earth\n",
                        "Esyde Rule The Earth\n",
                        "Esyde Rule The Earth\n",
                        "Esyde Rule The Earth\n",
                        "Esyde Rule The Earth\n"
                    ]
                }
            ],
            "source": [
                "esyde = 2\n",
                "\n",
                "while esyde < 10:\n",
                "    print('Esyde Rule The Earth')\n",
                "    esyde += 1"
            ]
        },
        {
            "cell_type": "markdown",
            "metadata": {},
            "source": [
                "**Importing Modules**\n"
            ]
        },
        {
            "cell_type": "code",
            "execution_count": null,
            "metadata": {},
            "outputs": [
                {
                    "name": "stdout",
                    "output_type": "stream",
                    "text": [
                        "5\n",
                        "1\n"
                    ]
                }
            ],
            "source": [
                "import random\n",
                "\n",
                "for i in range(5, 3, -1):\n",
                "    print(random.randint(1, 10))"
            ]
        },
        {
            "cell_type": "code",
            "execution_count": 29,
            "metadata": {},
            "outputs": [
                {
                    "name": "stdout",
                    "output_type": "stream",
                    "text": [
                        "9\n"
                    ]
                }
            ],
            "source": [
                "# Trying Random Module\n",
                "\n",
                "import random\n",
                "\n",
                "A = random.randint(0, 5)\n",
                "\n",
                "B = random.randint(0, 10)\n",
                "\n",
                "A += B\n",
                "\n",
                "print(A)"
            ]
        },
        {
            "cell_type": "markdown",
            "metadata": {},
            "source": [
                "**Guessing Random Numbers**\n"
            ]
        },
        {
            "cell_type": "code",
            "execution_count": 15,
            "metadata": {},
            "outputs": [
                {
                    "name": "stdout",
                    "output_type": "stream",
                    "text": [
                        "I am thinking of a number between 1 and 20.\n",
                        "Take a guess.\n",
                        "Your guess is too high.\n",
                        "Take a guess.\n",
                        "Your guess is too high.\n",
                        "Take a guess.\n",
                        "Your guess is too high.\n",
                        "Take a guess.\n",
                        "Good job! You guessed my number in 4guesses!\n"
                    ]
                }
            ],
            "source": [
                "# This is a guess the number game.\n",
                "import random\n",
                "secretNumber = random.randint(1, 20)\n",
                "print('I am thinking of a number between 1 and 20.')\n",
                "\n",
                "# Ask the player to guess 6 times.\n",
                "for guessesTaken in range(1, 7):\n",
                "    print('Take a guess.')\n",
                "    guess = int(input())\n",
                "\n",
                "    if guess < secretNumber:\n",
                "        print('Your guess is too low.')\n",
                "    elif guess > secretNumber:\n",
                "        print('Your guess is too high.')\n",
                "    else:\n",
                "        break    # This condition is the correct guess!\n",
                "\n",
                "if guess == secretNumber:\n",
                "    print('Good job! You guessed my number in ' +\n",
                "          str(guessesTaken) + ' guesses!')\n",
                "else:\n",
                "    print('Nope. The number I was thinking of was ' + str(secretNumber))"
            ]
        },
        {
            "cell_type": "markdown",
            "metadata": {},
            "source": [
                "**Using Try and Except**\n"
            ]
        },
        {
            "cell_type": "code",
            "execution_count": null,
            "metadata": {},
            "outputs": [],
            "source": [
                "# Printing a Zig Zag Continuously\n",
                "\n",
                "# Ctrl + C should stop this\n",
                "\n",
                "import time\n",
                "import sys\n",
                "indent = 0  # How many spaces to indent.\n",
                "indentIncreasing = True  # Whether the indentation is increasing or not.\n",
                "\n",
                "try:\n",
                "    while True:  # The main program loop.\n",
                "        print(' ' * indent, end='')\n",
                "        print('********')\n",
                "        time.sleep(0.1)  # Pause for 1/10 of a second.\n",
                "\n",
                "        if indentIncreasing:\n",
                "            # Increase the number of spaces:\n",
                "            indent = indent + 1\n",
                "            if indent == 20:\n",
                "                # Change direction:\n",
                "                indentIncreasing = False\n",
                "\n",
                "        else:\n",
                "            # Decrease the number of spaces:\n",
                "            indent = indent - 1\n",
                "            if indent == 0:\n",
                "                # Change direction:\n",
                "                indentIncreasing = True\n",
                "except KeyboardInterrupt:\n",
                "    sys.exit()"
            ]
        },
        {
            "cell_type": "markdown",
            "metadata": {},
            "source": [
                "**List Practice**\n"
            ]
        },
        {
            "cell_type": "code",
            "execution_count": 30,
            "metadata": {},
            "outputs": [
                {
                    "name": "stdout",
                    "output_type": "stream",
                    "text": [
                        "10\n",
                        "9\n",
                        "8\n",
                        "7\n",
                        "6\n",
                        "5\n",
                        "4\n",
                        "3\n",
                        "2\n",
                        "1\n"
                    ]
                }
            ],
            "source": [
                "for i in range(10, 0, -1):\n",
                "    print(i)"
            ]
        },
        {
            "cell_type": "code",
            "execution_count": 38,
            "metadata": {},
            "outputs": [
                {
                    "name": "stdout",
                    "output_type": "stream",
                    "text": [
                        "tipgod\n"
                    ]
                }
            ],
            "source": [
                "# List Manipulation and Operations\n",
                "\n",
                "esyde = ['tipgod', 'whipski', 'guzu', 'wang', 'omogey']\n",
                "\n",
                "mobster = ['bayka', 'rajah', 'ratbat', 'sydz', 'copa']\n",
                "\n",
                "combined_crew = esyde + mobster\n",
                "esyde_3 = esyde * 3\n",
                "\n",
                "print(esyde[-0])\n",
                "\n",
                "# Change value in list\n",
                "\n",
                "# esyde[1] = 'whiplaski'\n",
                "\n",
                "# print('1', esyde[0])\n",
                "# print('2', esyde[0:3])\n",
                "# print(esyde[0:-1]) # Up to the last value\n",
                "\n",
                "# print(esyde[0:len(esyde)])\n",
                "\n",
                "# print(combined_crew)\n",
                "# print(esyde_3)\n",
                "\n",
                "# #For Loop\n",
                "\n",
                "# for i in range(len(esyde) - 1) :\n",
                "#     print(esyde[i])"
            ]
        },
        {
            "cell_type": "code",
            "execution_count": 3,
            "metadata": {},
            "outputs": [
                {
                    "name": "stdout",
                    "output_type": "stream",
                    "text": [
                        "1\n",
                        "['brandon', 'tomski', 'tariq']\n"
                    ]
                }
            ],
            "source": [
                "# del function practice\n",
                "\n",
                "flexqas = ['brandon', 'tomski', 'andrew', 'tariq']\n",
                "\n",
                "print()\n",
                "\n",
                "del (flexqas[2])\n",
                "\n",
                "print(flexqas)"
            ]
        },
        {
            "cell_type": "markdown",
            "metadata": {},
            "source": [
                "**Advanced List Practice**\n"
            ]
        },
        {
            "cell_type": "code",
            "execution_count": 46,
            "metadata": {},
            "outputs": [
                {
                    "name": "stdout",
                    "output_type": "stream",
                    "text": [
                        "Index 0 in supplies is: chilo\n",
                        "Index 1 in supplies is: classic\n",
                        "Index 2 in supplies is: gayan\n",
                        "Index 3 in supplies is: boomski\n",
                        "Index 4 in supplies is: macko\n"
                    ]
                }
            ],
            "source": [
                "choppas = ['chilo', 'classic', 'gayan', 'boomski', 'macko']\n",
                "\n",
                "\n",
                "for index, item in enumerate(choppas):\n",
                "    print('Index ' + str(index) + ' in supplies is: ' + item)"
            ]
        },
        {
            "cell_type": "markdown",
            "metadata": {},
            "source": [
                "**Multiple Assignment Trick**\n"
            ]
        },
        {
            "cell_type": "code",
            "execution_count": 50,
            "metadata": {},
            "outputs": [
                {
                    "name": "stdout",
                    "output_type": "stream",
                    "text": [
                        "['fat', 'gray', 'loud']\n",
                        "fat\n"
                    ]
                }
            ],
            "source": [
                "# The multiple assignment trick (technically called tuple unpacking) is a shortcut that lets you assign multiple\n",
                "# variables with the values in a list in one line of code. So instead of doing this:\n",
                "cat = ['fat', 'gray', 'loud']\n",
                "size = cat[0]\n",
                "color = cat[1]\n",
                "disposition = cat[2]\n",
                "\n",
                "# you could type this line of code:\n",
                "cat = ['fat', 'gray', 'loud']\n",
                "size, color, disposition = cat\n",
                "\n",
                "# Note well that the multiple assignment trick will create multiple variables and assign them each with a value from the list in the corresponding order\n",
                "\n",
                "# cat is still the same list but look what happens when we print size , it is now assigned the value fat from the cat list\n",
                "\n",
                "print(cat)\n",
                "\n",
                "print(size)"
            ]
        },
        {
            "cell_type": "markdown",
            "metadata": {},
            "source": [
                "**Random Module Practice**\n"
            ]
        },
        {
            "cell_type": "code",
            "execution_count": 65,
            "metadata": {},
            "outputs": [
                {
                    "name": "stdout",
                    "output_type": "stream",
                    "text": [
                        "tipksi\n"
                    ]
                },
                {
                    "data": {
                        "text/plain": [
                            "['tipksi', 'leo', 'esyde', 'hanis', 'whipski']"
                        ]
                    },
                    "execution_count": 65,
                    "metadata": {},
                    "output_type": "execute_result"
                }
            ],
            "source": [
                "import random\n",
                "\n",
                "syde = ['esyde', 'tipksi', 'whipski', 'hanis', 'leo']\n",
                "\n",
                "index_num = random.randint(0, 4)\n",
                "\n",
                "random_name = random.choice(syde)\n",
                "\n",
                "print(random_name)\n",
                "\n",
                "#\n",
                "random.shuffle(syde)\n",
                "\n",
                "syde\n",
                "\n",
                "# note that random shuffle does not return a shuffled list but instead it shuffles the list in place and so we see that if we try\n",
                "# to print it we get the value none\n",
                "\n",
                "print(random.shuffle(syde))"
            ]
        },
        {
            "cell_type": "markdown",
            "metadata": {},
            "source": [
                "**Numpy Practice**\n"
            ]
        },
        {
            "cell_type": "code",
            "execution_count": 5,
            "metadata": {},
            "outputs": [
                {
                    "name": "stdout",
                    "output_type": "stream",
                    "text": [
                        "5.5\n"
                    ]
                }
            ],
            "source": [
                "import numpy\n",
                "\n",
                "A = numpy.average([1, 2, 3, 4, 5, 6, 7, 8, 9, 10])\n",
                "\n",
                "print(A)\n",
                "\n",
                "# Wild how above I made a whole function to calculate the average of a list of numbers and here I can just use the numpy library to do it in one line"
            ]
        },
        {
            "cell_type": "code",
            "execution_count": 8,
            "metadata": {},
            "outputs": [
                {
                    "name": "stdout",
                    "output_type": "stream",
                    "text": [
                        "6.25\n",
                        "4.0\n"
                    ]
                }
            ],
            "source": [
                "# Showing the difference between doing average and numpy average\n",
                "\n",
                "import numpy as np\n",
                "\n",
                "\n",
                "def average(numlist):\n",
                "    sum = 0\n",
                "\n",
                "    for i in numlist:\n",
                "        sum += i\n",
                "\n",
                "    quantity = len(numlist)\n",
                "\n",
                "    average = sum / quantity\n",
                "\n",
                "    return average\n",
                "\n",
                "\n",
                "A = [5, 4, 7, 9]\n",
                "\n",
                "B = [4, 3, 0, 9]\n",
                "\n",
                "print(average(A))\n",
                "\n",
                "# We can skip that nonsense and invoke the power of the pump pump pie\n",
                "\n",
                "print(np.average(B))"
            ]
        },
        {
            "cell_type": "markdown",
            "metadata": {},
            "source": [
                "## Visualizing Iterations\n"
            ]
        },
        {
            "cell_type": "code",
            "execution_count": 14,
            "metadata": {},
            "outputs": [
                {
                    "name": "stdout",
                    "output_type": "stream",
                    "text": [
                        "Outer Loop - Iteration 0\n",
                        "  Middle Loop - Iteration 0\n",
                        "    Innermost Loop - Iteration 0\n",
                        "    Innermost Loop - Iteration 1\n",
                        "    Innermost Loop - Iteration 2\n",
                        "    Innermost Loop - Iteration 3\n",
                        "  Middle Loop - Iteration 1\n",
                        "    Innermost Loop - Iteration 0\n",
                        "    Innermost Loop - Iteration 1\n",
                        "    Innermost Loop - Iteration 2\n",
                        "    Innermost Loop - Iteration 3\n",
                        "Outer Loop - Iteration 1\n",
                        "  Middle Loop - Iteration 0\n",
                        "    Innermost Loop - Iteration 0\n",
                        "    Innermost Loop - Iteration 1\n",
                        "    Innermost Loop - Iteration 2\n",
                        "    Innermost Loop - Iteration 3\n",
                        "  Middle Loop - Iteration 1\n",
                        "    Innermost Loop - Iteration 0\n",
                        "    Innermost Loop - Iteration 1\n",
                        "    Innermost Loop - Iteration 2\n",
                        "    Innermost Loop - Iteration 3\n",
                        "Outer Loop - Iteration 2\n",
                        "  Middle Loop - Iteration 0\n",
                        "    Innermost Loop - Iteration 0\n",
                        "    Innermost Loop - Iteration 1\n",
                        "    Innermost Loop - Iteration 2\n",
                        "    Innermost Loop - Iteration 3\n",
                        "  Middle Loop - Iteration 1\n",
                        "    Innermost Loop - Iteration 0\n",
                        "    Innermost Loop - Iteration 1\n",
                        "    Innermost Loop - Iteration 2\n",
                        "    Innermost Loop - Iteration 3\n"
                    ]
                }
            ],
            "source": [
                "for i in range(3):\n",
                "    print(f\"Outer Loop - Iteration {i}\")\n",
                "\n",
                "    for j in range(2):\n",
                "        print(f\"  Middle Loop - Iteration {j}\")\n",
                "\n",
                "        for k in range(4):\n",
                "            print(f\"    Innermost Loop - Iteration {k}\")"
            ]
        },
        {
            "cell_type": "code",
            "execution_count": 6,
            "metadata": {},
            "outputs": [
                {
                    "name": "stdout",
                    "output_type": "stream",
                    "text": [
                        "0\n",
                        "2\n",
                        "4\n",
                        "6\n",
                        "8\n"
                    ]
                }
            ],
            "source": [
                "for i in range(10):\n",
                "\n",
                "    if i % 2 == 0:\n",
                "\n",
                "        print(i)"
            ]
        },
        {
            "cell_type": "code",
            "execution_count": 68,
            "metadata": {},
            "outputs": [
                {
                    "name": "stdout",
                    "output_type": "stream",
                    "text": [
                        "[1, 0]\n"
                    ]
                }
            ],
            "source": [
                "A = [9, 5, 4, 5, 9, 9]\n",
                "B = [9]\n",
                "C = []\n",
                "D = [5, 4, 3]\n",
                "E = [9, 9, 9]\n",
                "\n",
                "\n",
                "def PlusOne(array):\n",
                "\n",
                "    if not array:\n",
                "\n",
                "        return 0\n",
                "\n",
                "    for i in range(len(array)-1, -1, -1):\n",
                "\n",
                "        if array[i] == 9 and i != 0:\n",
                "\n",
                "            array[i] = 0\n",
                "\n",
                "        elif array[i] == 9 and i == 0:\n",
                "\n",
                "            array[i] = 0\n",
                "\n",
                "            array.insert(0, 1)\n",
                "\n",
                "        else:\n",
                "\n",
                "            array[i] += 1\n",
                "\n",
                "            break\n",
                "\n",
                "    return array\n",
                "\n",
                "\n",
                "print(PlusOne(B))"
            ]
        },
        {
            "cell_type": "code",
            "execution_count": 67,
            "metadata": {},
            "outputs": [
                {
                    "name": "stdout",
                    "output_type": "stream",
                    "text": [
                        "[9, 5, 4, 6, 9, 9]\n"
                    ]
                }
            ],
            "source": [
                "A = [9, 5, 4, 5, 9, 9]\n",
                "B = [9]\n",
                "C = []\n",
                "D = [5, 4, 3]\n",
                "E = [9, 9, 9]\n",
                "\n",
                "\n",
                "def plusOne(digits):\n",
                "\n",
                "    for i in range(len(digits) - 1, -1, -1):\n",
                "\n",
                "        if digits[i] < 9:\n",
                "\n",
                "            digits[i] += 1\n",
                "            return digits\n",
                "\n",
                "        digits[0]\n",
                "\n",
                "    return [1] + digits\n",
                "\n",
                "\n",
                "print(plusOne(A))"
            ]
        },
        {
            "cell_type": "code",
            "execution_count": 4,
            "metadata": {},
            "outputs": [
                {
                    "name": "stdout",
                    "output_type": "stream",
                    "text": [
                        "anagramnagaram\n",
                        "{'a': 0, 'n': 0, 'g': 0, 'r': 0, 'm': 0}\n",
                        "True\n"
                    ]
                }
            ],
            "source": [
                "def Anagram(s, t):\n",
                "\n",
                "    dict = {}\n",
                "\n",
                "    if len(s) != len(t):\n",
                "\n",
                "        return False\n",
                "\n",
                "    for i in range(0, len(s)):\n",
                "\n",
                "        if s[i] not in dict:\n",
                "\n",
                "            dict[s[i]] = 1\n",
                "        else:\n",
                "\n",
                "            dict[s[i]] += 1\n",
                "\n",
                "    for i in range(0, len(t)):\n",
                "\n",
                "        if t[i] not in dict:\n",
                "\n",
                "            return False\n",
                "\n",
                "        else:\n",
                "\n",
                "            dict[t[i]] -= 1\n",
                "\n",
                "    print(dict)\n",
                "\n",
                "    for key in dict.keys():\n",
                "\n",
                "        if dict[key] != 0:\n",
                "\n",
                "            return False\n",
                "\n",
                "    return True\n",
                "\n",
                "\n",
                "s = 'anagram'\n",
                "\n",
                "t = 'nagaram'\n",
                "\n",
                "print(s+t)\n",
                "\n",
                "print(Anagram(s, t))"
            ]
        },
        {
            "cell_type": "code",
            "execution_count": null,
            "metadata": {},
            "outputs": [],
            "source": [
                "def reverse_linked_list(head):\n",
                "\n",
                "    prev = None\n",
                "    current = head\n",
                "\n",
                "    while current:\n",
                "\n",
                "        next_node = current.next\n",
                "        current.next = prev\n",
                "        prev = current\n",
                "        current = next_node\n",
                "\n",
                "    return prev"
            ]
        },
        {
            "cell_type": "code",
            "execution_count": 84,
            "metadata": {},
            "outputs": [],
            "source": [
                "# Palindrome linked list\n",
                "\n",
                "def is_palindrome_linked_list(head):\n",
                "    values = []\n",
                "\n",
                "    current = head\n",
                "\n",
                "    while current:\n",
                "        values.append(current.val)\n",
                "        current = current.next\n",
                "\n",
                "    return values == values[::-1]"
            ]
        },
        {
            "cell_type": "code",
            "execution_count": 7,
            "metadata": {},
            "outputs": [
                {
                    "name": "stdout",
                    "output_type": "stream",
                    "text": [
                        "[1, 1, 1, 1, 1, 1, 1, 1, 1, 1]\n"
                    ]
                }
            ],
            "source": [
                "n = 10\n",
                "\n",
                "nums_skull = [1] * n\n",
                "\n",
                "print(nums_skull)\n",
                "\n",
                "# for i in range (0 , n + 1) :\n",
                "\n",
                "#     print (i)"
            ]
        },
        {
            "cell_type": "code",
            "execution_count": 18,
            "metadata": {},
            "outputs": [
                {
                    "data": {
                        "text/plain": [
                            "1"
                        ]
                    },
                    "execution_count": 18,
                    "metadata": {},
                    "output_type": "execute_result"
                }
            ],
            "source": [
                "class Solution:\n",
                "    def climbStairs(n: int) -> int:\n",
                "\n",
                "        if n < 2:\n",
                "\n",
                "            return 1\n",
                "\n",
                "        num_wys = [1] * (n + 2)\n",
                "\n",
                "        num_wys[0] = 1\n",
                "        num_wys[1] = 1\n",
                "\n",
                "        for i in range(2, n+1):\n",
                "\n",
                "            num_wys[i] = num_wys[i-2] + num_wys[i-1]\n",
                "\n",
                "        return num_wys[n]\n",
                "\n",
                "\n",
                "Solution.climbStairs(0)"
            ]
        },
        {
            "cell_type": "code",
            "execution_count": 17,
            "metadata": {},
            "outputs": [
                {
                    "data": {
                        "text/plain": [
                            "{}"
                        ]
                    },
                    "execution_count": 17,
                    "metadata": {},
                    "output_type": "execute_result"
                }
            ],
            "source": [
                "def climbStairs(n):\n",
                "    \"\"\"\n",
                "    :type n: int\n",
                "    :rtype: int\n",
                "    \"\"\"\n",
                "    memo = {}\n",
                "\n",
                "    def helper(k):\n",
                "        if k < 0:\n",
                "            return 0\n",
                "        if k == 0:\n",
                "            return 1\n",
                "        if k not in memo:\n",
                "            memo[k] = helper(k-2) + helper(k-1)\n",
                "        return memo[k]\n",
                "    return memo\n",
                "\n",
                "\n",
                "climbStairs(9)"
            ]
        },
        {
            "cell_type": "code",
            "execution_count": 13,
            "metadata": {},
            "outputs": [
                {
                    "name": "stdout",
                    "output_type": "stream",
                    "text": [
                        "Hackadat\n",
                        "25\n",
                        "Hello, my name is Hackadat and I am 30 years old.\n",
                        "Hello, my name is Bob and I am 25 years old.\n"
                    ]
                }
            ],
            "source": [
                "class Person:\n",
                "    def __init__(self, name, age):\n",
                "        self.name = name  # Instance variable for storing the person's name\n",
                "        self.age = age    # Instance variable for storing the person's age\n",
                "\n",
                "    def greet(self):\n",
                "        print(f\"Hello, my name is {self.name} and I am {self.age} years old.\")\n",
                "\n",
                "\n",
                "# Creating instances (objects) of the Person class\n",
                "person1 = Person(\"Alice\", 30)\n",
                "person2 = Person(\"Bob\", 25)\n",
                "\n",
                "person1.name = 'Hackadat'\n",
                "\n",
                "# Accessing instance variables\n",
                "print(person1.name)  # Output: \"Alice\"\n",
                "print(person2.age)   # Output: 25\n",
                "\n",
                "# Calling a method that uses instance variables\n",
                "person1.greet()  # Output: \"Hello, my name is Alice and I am 30 years old.\"\n",
                "person2.greet()  # Output: \"Hello, my name is Bob and I am 25 years old.\""
            ]
        },
        {
            "cell_type": "code",
            "execution_count": 1,
            "metadata": {},
            "outputs": [
                {
                    "name": "stdout",
                    "output_type": "stream",
                    "text": [
                        "10\n"
                    ]
                }
            ],
            "source": [
                "class MyClass:\n",
                "    def __init__(self, value):\n",
                "        self.menu = value\n",
                "\n",
                "    def set_value(self, new_value):\n",
                "\n",
                "        self.menu = new_value\n",
                "\n",
                "    def get_value(self):\n",
                "\n",
                "        return self.menu\n",
                "\n",
                "\n",
                "# Creating an instance of MyClass\n",
                "obj = MyClass(42)\n",
                "\n",
                "# Attempting to set a new value without 'self'\n",
                "obj.set_value(10)\n",
                "\n",
                "# Attempting to retrieve the value\n",
                "print(obj.get_value())  # Output: 42 (value was not updated)"
            ]
        },
        {
            "cell_type": "code",
            "execution_count": 4,
            "metadata": {},
            "outputs": [
                {
                    "name": "stdout",
                    "output_type": "stream",
                    "text": [
                        "[{'product': 'Widget', 'price': 10.0, 'quantity': 2}]\n"
                    ]
                }
            ],
            "source": [
                "class ShoppingCart:\n",
                "\n",
                "    def __init__(self):\n",
                "        self.items = []\n",
                "\n",
                "    def add_item(self, product_name, price, quantity):\n",
                "        self.items.append(\n",
                "            {\"product\": product_name, \"price\": price, \"quantity\": quantity})\n",
                "\n",
                "    def calculate_total(self, tax_rate):\n",
                "        subtotal = sum(item[\"price\"] * item[\"quantity\"] for item in self.items)\n",
                "        total = subtotal + (subtotal * tax_rate)\n",
                "        return total\n",
                "\n",
                "\n",
                "# Creating a shopping cart and adding items\n",
                "cart1 = ShoppingCart()\n",
                "cart2 = ShoppingCart()\n",
                "\n",
                "cart1.items\n",
                "\n",
                "cart2.items\n",
                "\n",
                "cart.add_item(\"Widget\", 10.0, 2)\n",
                "\n",
                "cart.add_item(\"Gadget\", 20.0, 1)\n",
                "\n",
                "print(cart.items)\n",
                "\n",
                "# # Calculating the total with a tax rate\n",
                "# total_cost = cart.calculate_total(0.1)\n",
                "# print(f\"Total cost: ${total_cost:.2f}\")"
            ]
        },
        {
            "cell_type": "code",
            "execution_count": null,
            "metadata": {},
            "outputs": [],
            "source": [
                "class Laptop :\n",
                "    \n",
                "    def __init__ (self, make ,)"
            ]
        },
        {
            "cell_type": "code",
            "execution_count": 30,
            "metadata": {},
            "outputs": [
                {
                    "name": "stdout",
                    "output_type": "stream",
                    "text": [
                        "[4]\n"
                    ]
                }
            ],
            "source": [
                "A = [2, 3, 4, 5, 6, 7, 8, 9]\n",
                "\n",
                "print(A[2:1:-1])"
            ]
        },
        {
            "cell_type": "code",
            "execution_count": 3,
            "metadata": {},
            "outputs": [
                {
                    "name": "stdout",
                    "output_type": "stream",
                    "text": [
                        "[8, 7, 6, 5, 3]\n"
                    ]
                }
            ],
            "source": [
                "A = [3, 5, 6, 7, 8]\n",
                "\n",
                "A.reverse()\n",
                "\n",
                "print(A)"
            ]
        },
        {
            "cell_type": "markdown",
            "metadata": {},
            "source": [
                "Given an integer n ,return the number of prime numbers that are strictly less than n\n"
            ]
        },
        {
            "cell_type": "markdown",
            "metadata": {},
            "source": [
                "Given an integer n , return true if it is a power of three. Otherwise , return false.\n",
                "\n",
                "An integer n is a power of three , if there exists an integer x such that n == 3<sup>x</sup>\n"
            ]
        },
        {
            "cell_type": "code",
            "execution_count": 46,
            "metadata": {},
            "outputs": [
                {
                    "data": {
                        "text/plain": [
                            "True"
                        ]
                    },
                    "execution_count": 46,
                    "metadata": {},
                    "output_type": "execute_result"
                }
            ],
            "source": [
                "def isPowerOfThree(n):\n",
                "    if n <= 0:\n",
                "        return False\n",
                "\n",
                "    while n > 1:\n",
                "        if n % 3 != 0:\n",
                "            return False\n",
                "        n /= 3\n",
                "\n",
                "    return n == 1\n",
                "\n",
                "isPowerOfThree(3)\n",
                "\n",
                "\n"
            ]
        },
        {
            "cell_type": "code",
            "execution_count": 2,
            "metadata": {},
            "outputs": [
                {
                    "name": "stdout",
                    "output_type": "stream",
                    "text": [
                        "3\n"
                    ]
                }
            ],
            "source": [
                "\n",
                "\n",
                "\n",
                "print (int(3.7))"
            ]
        },
        {
            "cell_type": "code",
            "execution_count": 4,
            "metadata": {},
            "outputs": [
                {
                    "name": "stdout",
                    "output_type": "stream",
                    "text": [
                        "1\n",
                        "1\n",
                        "2\n",
                        "1\n",
                        "2\n",
                        "3\n"
                    ]
                }
            ],
            "source": [
                "\n",
                "\n",
                "Rows = 5\n",
                "\n",
                "for i in range (1,Rows) : \n",
                "\n",
                "    for j in range (1,i) : \n",
                "        \n",
                "        print(j)"
            ]
        },
        {
            "cell_type": "code",
            "execution_count": null,
            "metadata": {},
            "outputs": [],
            "source": []
        },
        {
            "cell_type": "code",
            "execution_count": 7,
            "metadata": {},
            "outputs": [
                {
                    "name": "stdout",
                    "output_type": "stream",
                    "text": [
                        "[0, 1, 3, 0, 4, '_', '_', '_']\n",
                        "5\n"
                    ]
                }
            ],
            "source": [
                "nums = [0,1,2,2,3,0,4,2]\n",
                "\n",
                "pointer_1 = 0\n",
                "\n",
                "val = 2 \n",
                "\n",
                "for i in range (0,len(nums)) : \n",
                "    \n",
                "    if nums[i] != val : \n",
                "        \n",
                "        nums[pointer_1] = nums[i]\n",
                "        \n",
                "        pointer_1 += 1 \n",
                "        \n",
                "        \n",
                "for i in range (pointer_1, len(nums)) : \n",
                "    \n",
                "    nums[i] = '_'\n",
                "\n",
                "print(nums)        \n",
                "print(pointer_1)\n",
                "        "
            ]
        },
        {
            "cell_type": "code",
            "execution_count": 1,
            "metadata": {},
            "outputs": [
                {
                    "name": "stdout",
                    "output_type": "stream",
                    "text": [
                        "5\n"
                    ]
                }
            ],
            "source": [
                "def calcDroneMinEnergy(route):\n",
                "    # Start with no energy consumption\n",
                "    min_energy = 0\n",
                "    current_energy = 0\n",
                "\n",
                "    for i in range(1, len(route)):\n",
                "        # Calculate the change in altitude\n",
                "        delta_z = route[i][2] - route[i - 1][2]\n",
                "        \n",
                "        # Update the current energy level\n",
                "        current_energy -= delta_z\n",
                "\n",
                "        # If current energy is negative, that means we need more energy for ascent\n",
                "        if current_energy < min_energy:\n",
                "            min_energy = current_energy\n",
                "\n",
                "    # The minimum energy required is the absolute value of the minimum energy level reached\n",
                "    return abs(min_energy)\n",
                "\n",
                "# Example usage\n",
                "route = [ [0,   2, 10],[3,   5,  0],[9,  20,  6],[10, 12, 15],[10, 10,  8] ]\n",
                "print(calcDroneMinEnergy(route))  # Output will be 2\n"
            ]
        },
        {
            "cell_type": "markdown",
            "metadata": {},
            "source": [
                "## List Comprehension Practice "
            ]
        },
        {
            "cell_type": "code",
            "execution_count": 15,
            "metadata": {},
            "outputs": [
                {
                    "name": "stdout",
                    "output_type": "stream",
                    "text": [
                        "[0, 4, 16, 36, 64]\n"
                    ]
                }
            ],
            "source": [
                "x = list(range(10))\n",
                "\n",
                "y = [val ** 2 for val in x if val%2 == 0 ]\n",
                "\n",
                "print(y)\n",
                "\n"
            ]
        },
        {
            "cell_type": "code",
            "execution_count": 9,
            "metadata": {},
            "outputs": [
                {
                    "name": "stdout",
                    "output_type": "stream",
                    "text": [
                        "['hanis1', 'Giant1']\n"
                    ]
                }
            ],
            "source": [
                "names = ['bluxter' , 'esyde' , 'hanis' , 'Audi' , 'Giant']\n",
                "\n",
                "a_names = [name + '1' for name in names if 'a' in name ]\n",
                "\n",
                "print (a_names)"
            ]
        },
        {
            "cell_type": "code",
            "execution_count": 10,
            "metadata": {},
            "outputs": [
                {
                    "name": "stdout",
                    "output_type": "stream",
                    "text": [
                        "['H', 'E', 'L', 'L', 'O']\n"
                    ]
                }
            ],
            "source": [
                "\n",
                "string_list = [c.upper() for c in \"hello\"]\n",
                "print(string_list)\n"
            ]
        },
        {
            "cell_type": "code",
            "execution_count": 7,
            "metadata": {},
            "outputs": [
                {
                    "name": "stdout",
                    "output_type": "stream",
                    "text": [
                        "['Bluxter', 'Esyde', 'Hanis']\n"
                    ]
                }
            ],
            "source": [
                "names = ['bluxter' , 'esyde' , 'hanis' , 'Audi' , 'Giant']\n",
                "\n",
                "up_names = [name[0].upper() + name[1:] for name in names if name[0] != name[0].upper()]\n",
                "\n",
                "print(up_names)"
            ]
        },
        {
            "cell_type": "code",
            "execution_count": 1,
            "metadata": {},
            "outputs": [
                {
                    "name": "stdout",
                    "output_type": "stream",
                    "text": [
                        "Sorted values: [1, 2, 3, 4, 5]\n"
                    ]
                }
            ],
            "source": [
                "import threading\n",
                "import time\n",
                "\n",
                "def sleep_sort(values):\n",
                "    output = []  # This will store the sorted values\n",
                "    \n",
                "    # Function for each thread to execute\n",
                "    def sleep_and_append(val):\n",
                "        # Sleep for a time proportional to the value\n",
                "        time.sleep(val)\n",
                "        output.append(val)\n",
                "    \n",
                "    threads = []\n",
                "    for val in values:\n",
                "        # Create a thread for each value in the input list\n",
                "        thread = threading.Thread(target=sleep_and_append, args=(val,))\n",
                "        threads.append(thread)\n",
                "        thread.start()  # Start the thread\n",
                "\n",
                "    # Wait for all threads to complete\n",
                "    for thread in threads:\n",
                "        thread.join()\n",
                "\n",
                "    return output\n",
                "\n",
                "# Example usage\n",
                "unsorted_values = [4, 2, 3, 1, 5]\n",
                "sorted_values = sleep_sort(unsorted_values)\n",
                "print(\"Sorted values:\", sorted_values)"
            ]
        },
        {
            "cell_type": "code",
            "execution_count": 2,
            "metadata": {},
            "outputs": [
                {
                    "name": "stdout",
                    "output_type": "stream",
                    "text": [
                        "Hello, Alice!\n",
                        "15\n"
                    ]
                }
            ],
            "source": [
                "def greet(name):\n",
                "    return f\"Hello, {name}!\"\n",
                "\n",
                "def add_numbers(a, b):\n",
                "    return a + b\n",
                "\n",
                "# Create a dictionary with functions as values\n",
                "functions = {\n",
                "    'greet': greet,\n",
                "    'add': add_numbers,\n",
                "}\n",
                "\n",
                "# Calling the stored functions with parameters\n",
                "print(functions['greet']('Alice'))  # Pass the name as a parameter\n",
                "print(functions['add'](10, 5))      # Pass two numbers as parameters"
            ]
        },
        {
            "cell_type": "code",
            "execution_count": 1,
            "metadata": {},
            "outputs": [
                {
                    "data": {
                        "text/plain": [
                            "2"
                        ]
                    },
                    "execution_count": 1,
                    "metadata": {},
                    "output_type": "execute_result"
                }
            ],
            "source": [
                "5//2"
            ]
        }
    ],
    "metadata": {
        "kernelspec": {
            "display_name": "Python 3",
            "language": "python",
            "name": "python3"
        },
        "language_info": {
            "codemirror_mode": {
                "name": "ipython",
                "version": 3
            },
            "file_extension": ".py",
            "mimetype": "text/x-python",
            "name": "python",
            "nbconvert_exporter": "python",
            "pygments_lexer": "ipython3",
            "version": "3.9.13"
        },
        "orig_nbformat": 4
    },
    "nbformat": 4,
    "nbformat_minor": 2
}
