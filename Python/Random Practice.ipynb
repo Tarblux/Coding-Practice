{
 "cells": [
  {
   "cell_type": "code",
   "execution_count": 4,
   "metadata": {},
   "outputs": [
    {
     "name": "stdout",
     "output_type": "stream",
     "text": [
      "[1, 2, 3, 4, 5]\n",
      "2\n"
     ]
    }
   ],
   "source": [
    "class ListNode:\n",
    "    def __init__(self, val=0, next=None):\n",
    "        self.val = val\n",
    "        self.next = next\n",
    "        \n",
    "l1 = ListNode(2)\n",
    "\n",
    "current = l1\n",
    "\n",
    "while current : \n",
    "    \n",
    "    current = current.next \n",
    "    \n",
    "A = [1,2,3,4]\n",
    "\n",
    "B = A \n",
    "\n",
    "B.append(5)\n",
    "\n",
    "print(B)\n",
    "\n",
    "print(l1.val)"
   ]
  },
  {
   "cell_type": "code",
   "execution_count": 5,
   "metadata": {},
   "outputs": [
    {
     "name": "stdout",
     "output_type": "stream",
     "text": [
      "1\n"
     ]
    }
   ],
   "source": [
    "class Solution : \n",
    "    \n",
    "    class_variable = 5\n",
    "    \n",
    "    def hammingDistance(cls, x:int, y:int) -> int : \n",
    "        \n",
    "        xor = x ^ y\n",
    "        \n",
    "        differences = 0\n",
    "        \n",
    "        while xor : \n",
    "            \n",
    "            differences += xor & 1\n",
    "            \n",
    "            xor >>= 1\n",
    "            \n",
    "        return differences\n",
    "    \n",
    "\n",
    "A = Solution()\n",
    "\n",
    "print(A.hammingDistance(3,1))"
   ]
  },
  {
   "cell_type": "code",
   "execution_count": 1,
   "metadata": {},
   "outputs": [
    {
     "name": "stdout",
     "output_type": "stream",
     "text": [
      "(1, 4)\n"
     ]
    }
   ],
   "source": [
    "A = divmod(14,10)\n",
    "\n",
    "print(A)"
   ]
  }
 ],
 "metadata": {
  "kernelspec": {
   "display_name": "Python 3",
   "language": "python",
   "name": "python3"
  },
  "language_info": {
   "codemirror_mode": {
    "name": "ipython",
    "version": 3
   },
   "file_extension": ".py",
   "mimetype": "text/x-python",
   "name": "python",
   "nbconvert_exporter": "python",
   "pygments_lexer": "ipython3",
   "version": "3.11.7"
  }
 },
 "nbformat": 4,
 "nbformat_minor": 2
}
