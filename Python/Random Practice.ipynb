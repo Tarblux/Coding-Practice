{
 "cells": [
  {
   "cell_type": "code",
   "execution_count": 4,
   "metadata": {},
   "outputs": [
    {
     "name": "stdout",
     "output_type": "stream",
     "text": [
      "[1, 2, 3, 4, 5]\n",
      "2\n"
     ]
    }
   ],
   "source": [
    "class ListNode:\n",
    "    def __init__(self, val=0, next=None):\n",
    "        self.val = val\n",
    "        self.next = next\n",
    "        \n",
    "l1 = ListNode(2)\n",
    "\n",
    "current = l1\n",
    "\n",
    "while current : \n",
    "    \n",
    "    current = current.next \n",
    "    \n",
    "A = [1,2,3,4]\n",
    "\n",
    "B = A \n",
    "\n",
    "B.append(5)\n",
    "\n",
    "print(B)\n",
    "\n",
    "print(l1.val)"
   ]
  },
  {
   "cell_type": "code",
   "execution_count": null,
   "metadata": {},
   "outputs": [],
   "source": []
  },
  {
   "cell_type": "code",
   "execution_count": 5,
   "metadata": {},
   "outputs": [
    {
     "name": "stdout",
     "output_type": "stream",
     "text": [
      "1\n"
     ]
    }
   ],
   "source": [
    "class Solution: \n",
    "    \n",
    "    class_variable = 5\n",
    "    \n",
    "    def hammingDistance(cls, x:int, y:int) -> int : \n",
    "        \n",
    "        xor = x ^ y\n",
    "        differences = 0\n",
    "        \n",
    "        while xor : \n",
    "            \n",
    "            differences += xor & 1\n",
    "            xor >>= 1\n",
    "            \n",
    "        return differences\n",
    "    \n",
    "\n",
    "A = Solution()\n",
    "\n",
    "print(A.hammingDistance(3,1))"
   ]
  },
  {
   "cell_type": "code",
   "execution_count": 1,
   "metadata": {},
   "outputs": [
    {
     "name": "stdout",
     "output_type": "stream",
     "text": [
      "(1, 4)\n"
     ]
    }
   ],
   "source": [
    "A = divmod(14,10)\n",
    "\n",
    "print(A)"
   ]
  },
  {
   "cell_type": "code",
   "execution_count": 10,
   "metadata": {},
   "outputs": [
    {
     "name": "stdout",
     "output_type": "stream",
     "text": [
      "<__main__.Phone object at 0x113916390>\n"
     ]
    }
   ],
   "source": [
    "class Phone:\n",
    "    \n",
    "    model = 'iPhone'\n",
    "    \n",
    "    version = 'XS Max'\n",
    "    \n",
    "    size = '128g'\n",
    "    \n",
    "    @classmethod\n",
    "    \n",
    "    def getStats(cls) : \n",
    "        \n",
    "        return (cls.model,cls.version,cls.size)\n",
    "    \n",
    "    # def __str__(self) : \n",
    "        \n",
    "    #     return '(model = ' + self.model + ' , version =' + self.version + ')'\n",
    "    \n",
    "\n",
    "    \n",
    "A = Phone()\n",
    "\n",
    "print(A)"
   ]
  },
  {
   "cell_type": "code",
   "execution_count": 14,
   "metadata": {},
   "outputs": [
    {
     "name": "stdout",
     "output_type": "stream",
     "text": [
      "Person(name='Alice', age=30)\n"
     ]
    }
   ],
   "source": [
    "class Person:\n",
    "    def __init__(self, name, age):\n",
    "        self.name = name\n",
    "        self.age = age\n",
    "    \n",
    "    def __str__(self):\n",
    "        return f\"Person(name='{self.name}', age={self.age})\"\n",
    "    \n",
    "# Creating an instance of Person\n",
    "person = Person(\"Alice\", 30)\n",
    "\n",
    "# Printing the object\n",
    "print(person)  # Output: Person(name='Alice', age=30)\n"
   ]
  },
  {
   "cell_type": "code",
   "execution_count": 3,
   "metadata": {},
   "outputs": [
    {
     "name": "stdout",
     "output_type": "stream",
     "text": [
      "<__main__.MyClass object at 0x1064fde10>\n"
     ]
    }
   ],
   "source": [
    "class MyClass:\n",
    "    def get_list(self):\n",
    "        return [1, 2, 3]\n",
    "\n",
    "# Method chaining is not possible here\n",
    "obj = MyClass()\n",
    "result = obj.get_list().append(4)  # This won't work because append() returns Non"
   ]
  },
  {
   "cell_type": "code",
   "execution_count": 7,
   "metadata": {},
   "outputs": [
    {
     "name": "stdout",
     "output_type": "stream",
     "text": [
      "dict_values([[1, 2, 4, 6], [5, 7, 3, 9], [0, 0, 0, 0]])\n",
      "0\n",
      "[1, 2, 4, 6]\n",
      "1\n",
      "[5, 7, 3, 9]\n",
      "2\n",
      "[0, 0, 0, 0]\n"
     ]
    }
   ],
   "source": [
    "dictionary = {}\n",
    "\n",
    "nums = [[1,2,4,6],[5,7,3,9],[0,0,0,0]]\n",
    "output = []\n",
    "\n",
    "for index,value in enumerate(nums):\n",
    "    \n",
    "    dictionary[index] = dictionary.get(index,value)\n",
    "    \n",
    "print(dictionary.values())\n",
    "    \n",
    "for index,list in enumerate(dictionary.values()):\n",
    "    \n",
    "    print(index)\n",
    "    print(list)"
   ]
  },
  {
   "cell_type": "code",
   "execution_count": 4,
   "metadata": {},
   "outputs": [
    {
     "name": "stdout",
     "output_type": "stream",
     "text": [
      "True\n",
      "2\n",
      "[]\n"
     ]
    }
   ],
   "source": [
    "start, *middle, end = [1, 2]\n",
    "print(isinstance(start,int))   # 1\n",
    "print(end)     # 2\n",
    "print(middle)  # []"
   ]
  },
  {
   "cell_type": "code",
   "execution_count": 12,
   "metadata": {},
   "outputs": [
    {
     "name": "stdout",
     "output_type": "stream",
     "text": [
      "i: 1\n",
      "v: 5\n",
      "i: 2\n",
      "v: 4\n",
      "i: 3\n",
      "v: 3\n",
      "i: 4\n",
      "v: 2\n",
      "i: 5\n",
      "v: 1\n"
     ]
    }
   ],
   "source": [
    "A = [1,2,3,4,5]\n",
    "B = [5,4,3,2,1,7]\n",
    "\n",
    "# zippy = zip(A,B)\n",
    "# print(list(zippy))\n",
    "\n",
    "for i,v in zip(A,B):\n",
    "    print('i:' , i)\n",
    "    print('v:',v)\n"
   ]
  },
  {
   "cell_type": "code",
   "execution_count": 1,
   "metadata": {},
   "outputs": [
    {
     "name": "stdout",
     "output_type": "stream",
     "text": [
      "[1, 3, 4, 3, 5, 6]\n"
     ]
    }
   ],
   "source": [
    "A = [1,3,4]\n",
    "\n",
    "B = [3,5,6]\n",
    "\n",
    "print(A+B)"
   ]
  },
  {
   "cell_type": "code",
   "execution_count": 4,
   "metadata": {},
   "outputs": [
    {
     "name": "stdout",
     "output_type": "stream",
     "text": [
      "0b1\n"
     ]
    }
   ],
   "source": [
    "# Bitmasking Practice\n",
    "\n",
    "from typing import List\n",
    "\n",
    "worddle = 'a'\n",
    "\n",
    "def bitmasker(word):\n",
    "    \n",
    "    bitmask = 0\n",
    "    \n",
    "    for char in word:\n",
    "        \n",
    "        if 'a' <= char <= 'z':\n",
    "            \n",
    "            letter = ord(char) - ord('a')\n",
    "            \n",
    "            position = 1 << letter\n",
    "            \n",
    "            bitmask = bitmask | position\n",
    "            \n",
    "    return bitmask\n",
    "\n",
    "print(bin(bitmasker(worddle)))\n",
    "            \n",
    "             "
   ]
  },
  {
   "cell_type": "code",
   "execution_count": 2,
   "metadata": {},
   "outputs": [
    {
     "name": "stdout",
     "output_type": "stream",
     "text": [
      "[2, 4]\n"
     ]
    }
   ],
   "source": [
    "A = [1,2,3,4,5]\n",
    "\n",
    "B = [[1,2],[3,4],[5,6],[7,8]]\n",
    "\n",
    "C = [index + 1 for index,_ in B[:2]]\n",
    "\n",
    "print(C)"
   ]
  },
  {
   "cell_type": "code",
   "execution_count": 10,
   "metadata": {},
   "outputs": [
    {
     "name": "stdout",
     "output_type": "stream",
     "text": [
      "[1, 6, 7, 8, 9, 10, 1, 1, 1, 1, 1, 1, 1, 1, 1]\n",
      "[2, 7, 8, 9, 10, 11, 2, 7, 8, 9, 10, 11, 2, 2, 7, 8, 9, 10, 11, 2, 2, 2, 7, 8, 9, 10, 11, 2, 2, 2, 2, 7, 8, 9, 10, 11, 2, 2, 2, 2, 2, 7, 8, 9, 10, 11, 2, 2, 2, 2, 2, 2, 7, 8, 9, 10, 11, 2, 2, 2, 2, 2, 2, 2, 7, 8, 9, 10, 11, 2, 2, 2, 2, 2, 2, 2, 2, 7, 8, 9, 10, 11, 2, 2, 2, 2, 2, 2, 2, 2]\n"
     ]
    }
   ],
   "source": [
    "digits = [1,6,7,8,9,10]\n",
    "\n",
    "zug = []\n",
    "\n",
    "while len(digits) < 15:\n",
    "\n",
    "    for digit in digits:\n",
    "        \n",
    "        zug.append(digit+1)\n",
    "        \n",
    "    digits.append(1) \n",
    "    \n",
    "     \n",
    "    \n",
    "print(digits)\n",
    "print(zug)"
   ]
  },
  {
   "cell_type": "code",
   "execution_count": 5,
   "metadata": {},
   "outputs": [
    {
     "name": "stdout",
     "output_type": "stream",
     "text": [
      "[1, 4, 7]\n",
      "[2, 5, 8]\n",
      "[3, 6, 9]\n"
     ]
    }
   ],
   "source": [
    "#Zip Object Practice \n",
    "\n",
    "matrix = [[1,2,3],[4,5,6],[7,8,9]]\n",
    "\n",
    "for tuple in zip(*matrix):\n",
    "    \n",
    "    print(list(tuple))"
   ]
  },
  {
   "cell_type": "code",
   "execution_count": 10,
   "metadata": {},
   "outputs": [
    {
     "name": "stdout",
     "output_type": "stream",
     "text": [
      "{'x0': 'deger', 'x1': 'dic', 'x2': 'richard', 'x3': 'seth'}\n"
     ]
    }
   ],
   "source": [
    "names = ['deger','dic','richard','seth']\n",
    "\n",
    "tags = ['x'+ str(num) for num in range(len(names))]\n",
    "\n",
    "dicter = dict(zip(tags,names))\n",
    "\n",
    "print(dicter)"
   ]
  },
  {
   "cell_type": "code",
   "execution_count": 1,
   "metadata": {},
   "outputs": [
    {
     "name": "stdout",
     "output_type": "stream",
     "text": [
      "Counter({1: 2, 2: 1, 3: 1, 4: 1, 5: 1, 6: 1, 7: 1, 8: 1, 0: 1, 9: 1})\n"
     ]
    }
   ],
   "source": [
    "from collections import Counter\n",
    "\n",
    "numbers = [1,2,3,4,5,6,7,8,1,0,9]\n",
    "\n",
    "counts = Counter(numbers)\n",
    "\n",
    "print(counts)"
   ]
  },
  {
   "cell_type": "code",
   "execution_count": 4,
   "metadata": {},
   "outputs": [
    {
     "name": "stdout",
     "output_type": "stream",
     "text": [
      "defaultdict(<class 'int'>, {'esyde': 1, 'wesbank': 1, 'waza': 2})\n",
      "Gotcha\n",
      "0\n",
      "defaultdict(<class 'int'>, {'esyde': 1, 'wesbank': 1, 'waza': 2, 'ref': 0, 'whipper': 0})\n"
     ]
    }
   ],
   "source": [
    "import collections\n",
    "\n",
    "words = ['esyde', 'wesbank' , 'waza', 'waza']\n",
    "\n",
    "words_dict = collections.defaultdict(int)\n",
    "\n",
    "for word in words:\n",
    "    \n",
    "    words_dict[word] += 1\n",
    "    \n",
    "print(words_dict)\n",
    "\n",
    "if words_dict['ref'] > -1 : \n",
    "    \n",
    "    print('Gotcha')\n",
    "\n",
    "print(words_dict['whipper'])\n",
    "    \n",
    "print(words_dict)"
   ]
  },
  {
   "cell_type": "code",
   "execution_count": 1,
   "metadata": {},
   "outputs": [
    {
     "name": "stdout",
     "output_type": "stream",
     "text": [
      "[0, 0, 3, 0, 0]\n"
     ]
    }
   ],
   "source": [
    "A = [0] * 5\n",
    "A[2] = 3\n",
    "print(A)  # Output: [0, 0, 3, 0, 0]"
   ]
  },
  {
   "cell_type": "code",
   "execution_count": null,
   "metadata": {},
   "outputs": [],
   "source": [
    "from typing import Optional\n",
    "\n",
    "class TreeNode:\n",
    "    def __init__(self, val=0 , left = None , right = None):\n",
    "        self.val = val\n",
    "        self.left = left\n",
    "        self.right = right\n",
    "\n",
    "def findHeight(root:Optional[TreeNode]) -> int :\n",
    "    \n",
    "    if not root:\n",
    "        return 0\n",
    "    \n",
    "    left_height = findHeight(root.left) + 1\n",
    "    right_height = findHeight(root.right) + 1\n",
    "    \n",
    "    return max(left_height,right_height)"
   ]
  },
  {
   "cell_type": "code",
   "execution_count": 1,
   "metadata": {},
   "outputs": [
    {
     "name": "stdout",
     "output_type": "stream",
     "text": [
      "defaultdict(<class 'list'>, {0: [1, 2], 1: [0], 2: [0, 3, 4], 3: [2], 4: [2]})\n"
     ]
    }
   ],
   "source": [
    "# Make Adjacency List\n",
    "\n",
    "from collections import defaultdict\n",
    "\n",
    "edges = [[0,1],[0,2],[2,3],[2,4]]\n",
    "\n",
    "adj_list = defaultdict(list)\n",
    "\n",
    "for edge in edges:\n",
    "    \n",
    "    u , v = edge\n",
    "    \n",
    "    adj_list[u].append(v)\n",
    "    adj_list[v].append(u)\n",
    "    \n",
    "print(adj_list)"
   ]
  },
  {
   "cell_type": "code",
   "execution_count": null,
   "metadata": {},
   "outputs": [],
   "source": [
    "# Dfs with actual node\n",
    "\n",
    "def dfs(adjList):\n",
    "    \n",
    "  if not adjList:\n",
    "    return\n",
    "\n",
    "  visited = set()\n",
    "\n",
    "  def dfs_helper(node):\n",
    "      \n",
    "    if node in visited:\n",
    "      return\n",
    "\n",
    "    visited.add(node)\n",
    "    \n",
    "    for neighbor in adjList[node]:\n",
    "      dfs_helper(neighbor)\n",
    "      \n",
    "    return\n",
    "\n",
    "  dfs_helper(adjList[0])"
   ]
  },
  {
   "cell_type": "code",
   "execution_count": null,
   "metadata": {},
   "outputs": [],
   "source": [
    "# dfs on 2d-grid\n",
    "\n",
    "def dfs(matrix):\n",
    "    visited = set()\n",
    "    # up, down, left, right\n",
    "    directions = [(-1, 0), (1, 0), (0, -1), (0, 1)]\n",
    "\n",
    "    def dfs_helper(r, c):\n",
    "        # Check if the cell is out of bounds\n",
    "        if r < 0 or r >= len(matrix) or c < 0 or c >= len(matrix[0]):\n",
    "            return\n",
    "\n",
    "        # Check if the cell is already visited\n",
    "        if (r, c) in visited:\n",
    "            return\n",
    "\n",
    "        visited.add((r, c))\n",
    "        for dr, dc in directions:\n",
    "            dfs_helper(r + dr, c + dc)\n",
    "    \n",
    "    # Start DFS from the top-left corner\n",
    "    dfs_helper(0, 0)\n",
    "    \n",
    "    return visited\n",
    "\n",
    "# Example usage\n",
    "matrix = [\n",
    "    [0, 1, 0],\n",
    "    [1, 0, 1],\n",
    "    [0, 1, 0]\n",
    "]\n",
    "print(dfs(matrix))  # Output: {(0, 0), (1, 0), (2, 0), (1, 1), (0, 1), (0, 2), (2, 1), (1, 2), (2, 2)}"
   ]
  },
  {
   "cell_type": "code",
   "execution_count": null,
   "metadata": {},
   "outputs": [],
   "source": [
    "from typing import Optional\n",
    "\n",
    "class Node:\n",
    "    def __init__(self, val = 0, neighbors = None):\n",
    "        self.val = val\n",
    "        self.neighbors = neighbors if neighbors is not None else []\n",
    "\n",
    "class Solution:\n",
    "    \n",
    "    def __init__(self):\n",
    "        self.visited  = {}\n",
    "        \n",
    "    def dfs(self,node:Optional[ListNode]) -> Optional[ListNode]:\n",
    "        \n",
    "        if not node:\n",
    "            return \n",
    "        \n",
    "        if node in self.visited:\n",
    "            return self.visited[node]\n",
    "        \n",
    "        clone = Node(node.val)\n",
    "        self.visited[node] = clone\n",
    "        \n",
    "        clone.neighbors = [dfs(node) for node in node.neighbors]\n",
    "        \n",
    "        return clone\n",
    "        \n",
    "        \n",
    "    def cloneGraph(self, node: Optional[ListNode]) -> Optional[ListNode]:\n",
    "        \n",
    "        return self.dfs(node)"
   ]
  },
  {
   "cell_type": "markdown",
   "metadata": {},
   "source": [
    "Certainly! Here is a typical problem description for the \"Cheapest Flights Within K Stops\" problem:\n",
    "\n",
    "---\n",
    "\n",
    "### Cheapest Flights Within K Stops\n",
    "\n",
    "**Problem Statement:**\n",
    "\n",
    "You are given a list of flights, where `flights[i] = [from_i, to_i, price_i]` indicates that there is a flight from city `from_i` to city `to_i` with a cost of `price_i`.\n",
    "\n",
    "You are also given three integers: `n`, the number of cities, `src`, the starting city, and `dst`, the destination city, and `K`, the maximum number of stops you are allowed to make (from `src` to `dst`).\n",
    "\n",
    "Your task is to find the cheapest price to get from `src` to `dst` with at most `K` stops. If there is no such route, return `-1`.\n",
    "\n",
    "**Constraints:**\n",
    "\n",
    "- The number of cities `n` is between 1 and 100, inclusive.\n",
    "- There are at most 10000 flights.\n",
    "- All prices of flights are positive integers.\n",
    "- `src` and `dst` are different and are valid cities (i.e., 0 <= src, dst < n).\n",
    "- `K` is a non-negative integer.\n",
    "\n",
    "**Example:**\n",
    "\n",
    "```python\n",
    "Input:\n",
    "n = 3, flights = [[0,1,100],[1,2,100],[0,2,500]], src = 0, dst = 2, K = 1\n",
    "Output:\n",
    "200\n",
    "\n",
    "Explanation:\n",
    "The cheapest price from city 0 to city 2 with at most 1 stop costs 200, \n",
    "as the flight goes from 0 -> 1 -> 2 with a total cost of 200.\n",
    "\n",
    "Input:\n",
    "n = 3, flights = [[0,1,100],[1,2,100],[0,2,500]], src = 0, dst = 2, K = 0\n",
    "Output:\n",
    "500\n",
    "\n",
    "Explanation:\n",
    "The cheapest price from city 0 to city 2 with at most 0 stops costs 500, \n",
    "as the direct flight from 0 -> 2 costs 500.\n",
    "```\n",
    "\n",
    "**Note:**\n",
    "\n",
    "1. Your solution should handle the case where no route from `src` to `dst` exists within the specified number of stops.\n",
    "2. You can assume that the flight network is directed, i.e., flights between two cities are one-way.\n",
    "\n",
    "---\n",
    "\n",
    "This problem can typically be solved using algorithms such as Dijkstra's algorithm or a variant of the Bellman-Ford algorithm, adapted to account for the limit on the number of stops."
   ]
  },
  {
   "cell_type": "code",
   "execution_count": null,
   "metadata": {},
   "outputs": [],
   "source": [
    "# To be observed :0"
   ]
  },
  {
   "cell_type": "markdown",
   "metadata": {},
   "source": [
    "Here's a typical problem description for finding if a path exists in a graph:\n",
    "\n",
    "---\n",
    "\n",
    "### Find if Path Exists in Graph\n",
    "\n",
    "**Problem Statement:**\n",
    "\n",
    "You are given an undirected graph represented as an adjacency list and two integers, `start` and `end`, representing the starting and ending nodes respectively. You need to determine if there exists a path between `start` and `end` in the graph.\n",
    "\n",
    "**Constraints:**\n",
    "\n",
    "- The number of nodes in the graph `n` is between 1 and 1000, inclusive.\n",
    "- The number of edges in the graph `m` is between 0 and 5000, inclusive.\n",
    "- Nodes `start` and `end` are valid nodes in the graph (i.e., 0 <= start, end < n).\n",
    "\n",
    "**Example:**\n",
    "\n",
    "```python\n",
    "Input:\n",
    "n = 5, edges = [[0,1],[0,2],[2,3],[2,4]], start = 0, end = 4\n",
    "Output:\n",
    "True\n",
    "\n",
    "Explanation:\n",
    "There exists a path from node 0 to node 4: 0 -> 2 -> 4.\n",
    "\n",
    "Input:\n",
    "n = 3, edges = [[0,1],[1,2]], start = 0, end = 2\n",
    "Output:\n",
    "True\n",
    "\n",
    "Explanation:\n",
    "There exists a direct path from node 0 to node 2: 0 -> 1 -> 2.\n",
    "\n",
    "Input:\n",
    "n = 6, edges = [[0,1],[0,2],[0,5],[1,3],[1,4],[2,5],[3,4]], start = 0, end = 5\n",
    "Output:\n",
    "True\n",
    "\n",
    "Explanation:\n",
    "There exists a path from node 0 to node 5: 0 -> 5.\n",
    "\n",
    "Input:\n",
    "n = 4, edges = [[0,1],[1,2],[2,3]], start = 0, end = 3\n",
    "Output:\n",
    "False\n",
    "\n",
    "Explanation:\n",
    "There is no path from node 0 to node 3 in the given graph.\n",
    "```\n",
    "\n",
    "**Note:**\n",
    "\n",
    "1. The graph is undirected, meaning if there's an edge from node `a` to node `b`, then there's also an edge from node `b` to node `a`.\n",
    "2. You need to determine if there exists any path, not necessarily the shortest path, between `start` and `end`.\n",
    "\n",
    "---"
   ]
  },
  {
   "cell_type": "code",
   "execution_count": 8,
   "metadata": {},
   "outputs": [
    {
     "data": {
      "text/plain": [
       "True"
      ]
     },
     "execution_count": 8,
     "metadata": {},
     "output_type": "execute_result"
    }
   ],
   "source": [
    "# Find if Path Exists in Graph\n",
    "\n",
    "from typing import List , Dict\n",
    "from collections import defaultdict,deque\n",
    "\n",
    "class Solution:\n",
    "    \n",
    "    def __init__(self):\n",
    "        self.visited = set()\n",
    "    \n",
    "    def dfs(self,node:int,nodes:Dict[int,List[int]],end:int) -> None:\n",
    "        \n",
    "        if node in self.visited:\n",
    "            return\n",
    "        \n",
    "        self.visited.add(node)\n",
    "        \n",
    "        if node == end:\n",
    "            return True\n",
    "        \n",
    "        for ne in nodes[node]:\n",
    "            \n",
    "            found = False\n",
    "            \n",
    "            if ne not in self.visited:\n",
    "                found = self.dfs(ne,nodes,end)\n",
    "                \n",
    "            if found == True:\n",
    "                return True\n",
    "                \n",
    "        return False \n",
    "                \n",
    "        \n",
    "    def pathExists(self, n: int, edges: List[List[int]], start: int, end: int) -> bool:\n",
    "        \n",
    "        if not edges:\n",
    "            return start == end\n",
    "        \n",
    "        nodes = defaultdict(list)\n",
    "        \n",
    "        for u,v in edges:\n",
    "            nodes[v].append(u)\n",
    "            nodes[u].append(v)\n",
    "            \n",
    "        return self.dfs(start,nodes,end)\n",
    "    \n",
    "    \n",
    "n = 5\n",
    "edges = [[0,1],[0,2],[2,3],[2,4]]\n",
    "start = 0\n",
    "end = 4\n",
    "                  \n",
    "test = Solution()\n",
    "\n",
    "test.pathExists(n,edges,start,end)"
   ]
  }
 ],
 "metadata": {
  "kernelspec": {
   "display_name": "Python 3",
   "language": "python",
   "name": "python3"
  },
  "language_info": {
   "codemirror_mode": {
    "name": "ipython",
    "version": 3
   },
   "file_extension": ".py",
   "mimetype": "text/x-python",
   "name": "python",
   "nbconvert_exporter": "python",
   "pygments_lexer": "ipython3",
   "version": "3.12.3"
  }
 },
 "nbformat": 4,
 "nbformat_minor": 2
}
