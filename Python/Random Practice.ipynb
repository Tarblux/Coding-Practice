{
 "cells": [
  {
   "cell_type": "code",
   "execution_count": 4,
   "metadata": {},
   "outputs": [
    {
     "name": "stdout",
     "output_type": "stream",
     "text": [
      "[1, 2, 3, 4, 5]\n",
      "2\n"
     ]
    }
   ],
   "source": [
    "class ListNode:\n",
    "    def __init__(self, val=0, next=None):\n",
    "        self.val = val\n",
    "        self.next = next\n",
    "        \n",
    "l1 = ListNode(2)\n",
    "\n",
    "current = l1\n",
    "\n",
    "while current : \n",
    "    \n",
    "    current = current.next \n",
    "    \n",
    "A = [1,2,3,4]\n",
    "\n",
    "B = A \n",
    "\n",
    "B.append(5)\n",
    "\n",
    "print(B)\n",
    "\n",
    "print(l1.val)"
   ]
  },
  {
   "cell_type": "code",
   "execution_count": 5,
   "metadata": {},
   "outputs": [
    {
     "name": "stdout",
     "output_type": "stream",
     "text": [
      "1\n"
     ]
    }
   ],
   "source": [
    "class Solution: \n",
    "    \n",
    "    class_variable = 5\n",
    "    \n",
    "    def hammingDistance(cls, x:int, y:int) -> int : \n",
    "        \n",
    "        xor = x ^ y\n",
    "        differences = 0\n",
    "        \n",
    "        while xor : \n",
    "            \n",
    "            differences += xor & 1\n",
    "            xor >>= 1\n",
    "            \n",
    "        return differences\n",
    "    \n",
    "\n",
    "A = Solution()\n",
    "\n",
    "print(A.hammingDistance(3,1))"
   ]
  },
  {
   "cell_type": "code",
   "execution_count": 1,
   "metadata": {},
   "outputs": [
    {
     "name": "stdout",
     "output_type": "stream",
     "text": [
      "(1, 4)\n"
     ]
    }
   ],
   "source": [
    "A = divmod(14,10)\n",
    "\n",
    "print(A)"
   ]
  },
  {
   "cell_type": "code",
   "execution_count": 10,
   "metadata": {},
   "outputs": [
    {
     "name": "stdout",
     "output_type": "stream",
     "text": [
      "<__main__.Phone object at 0x113916390>\n"
     ]
    }
   ],
   "source": [
    "class Phone:\n",
    "    \n",
    "    model = 'iPhone'\n",
    "    \n",
    "    version = 'XS Max'\n",
    "    \n",
    "    size = '128g'\n",
    "    \n",
    "    @classmethod\n",
    "    \n",
    "    def getStats(cls) : \n",
    "        \n",
    "        return (cls.model,cls.version,cls.size)\n",
    "    \n",
    "    # def __str__(self) : \n",
    "        \n",
    "    #     return '(model = ' + self.model + ' , version =' + self.version + ')'\n",
    "    \n",
    "\n",
    "    \n",
    "A = Phone()\n",
    "\n",
    "print(A)"
   ]
  },
  {
   "cell_type": "code",
   "execution_count": 14,
   "metadata": {},
   "outputs": [
    {
     "name": "stdout",
     "output_type": "stream",
     "text": [
      "Person(name='Alice', age=30)\n"
     ]
    }
   ],
   "source": [
    "class Person:\n",
    "    def __init__(self, name, age):\n",
    "        self.name = name\n",
    "        self.age = age\n",
    "    \n",
    "    def __str__(self):\n",
    "        return f\"Person(name='{self.name}', age={self.age})\"\n",
    "    \n",
    "# Creating an instance of Person\n",
    "person = Person(\"Alice\", 30)\n",
    "\n",
    "# Printing the object\n",
    "print(person)  # Output: Person(name='Alice', age=30)\n"
   ]
  },
  {
   "cell_type": "code",
   "execution_count": 3,
   "metadata": {},
   "outputs": [
    {
     "name": "stdout",
     "output_type": "stream",
     "text": [
      "<__main__.MyClass object at 0x1064fde10>\n"
     ]
    }
   ],
   "source": [
    "class MyClass:\n",
    "    def get_list(self):\n",
    "        return [1, 2, 3]\n",
    "\n",
    "# Method chaining is not possible here\n",
    "obj = MyClass()\n",
    "result = obj.get_list().append(4)  # This won't work because append() returns Non"
   ]
  }
 ],
 "metadata": {
  "kernelspec": {
   "display_name": "Python 3",
   "language": "python",
   "name": "python3"
  },
  "language_info": {
   "codemirror_mode": {
    "name": "ipython",
    "version": 3
   },
   "file_extension": ".py",
   "mimetype": "text/x-python",
   "name": "python",
   "nbconvert_exporter": "python",
   "pygments_lexer": "ipython3",
   "version": "3.11.7"
  }
 },
 "nbformat": 4,
 "nbformat_minor": 2
}
