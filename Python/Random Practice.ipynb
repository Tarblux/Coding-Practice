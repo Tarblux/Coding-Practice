{
 "cells": [
  {
   "cell_type": "code",
   "execution_count": null,
   "metadata": {},
   "outputs": [],
   "source": [
    "class ListNode:\n",
    "    def __init__(self, val=0, next=None):\n",
    "        self.val = val\n",
    "        self.next = next\n",
    "        \n",
    "l1 = ListNode(2)\n",
    "\n",
    "current = l1\n",
    "\n",
    "while current : \n",
    "    \n",
    "    current = current.next \n",
    "    \n",
    "A = [1,2,3,4]\n",
    "\n",
    "B = A \n",
    "\n",
    "B.append(5)\n",
    "\n",
    "print(B)\n",
    "\n",
    "print(l1.val)"
   ]
  },
  {
   "cell_type": "code",
   "execution_count": null,
   "metadata": {},
   "outputs": [],
   "source": []
  },
  {
   "cell_type": "code",
   "execution_count": null,
   "metadata": {},
   "outputs": [],
   "source": [
    "class Solution: \n",
    "    \n",
    "    class_variable = 5\n",
    "    \n",
    "    def hammingDistance(cls, x:int, y:int) -> int : \n",
    "        \n",
    "        xor = x ^ y\n",
    "        differences = 0\n",
    "        \n",
    "        while xor : \n",
    "            \n",
    "            differences += xor & 1\n",
    "            xor >>= 1\n",
    "            \n",
    "        return differences\n",
    "    \n",
    "\n",
    "A = Solution()\n",
    "\n",
    "print(A.hammingDistance(3,1))"
   ]
  },
  {
   "cell_type": "code",
   "execution_count": null,
   "metadata": {},
   "outputs": [],
   "source": [
    "A = divmod(14,10)\n",
    "\n",
    "print(A)"
   ]
  },
  {
   "cell_type": "code",
   "execution_count": null,
   "metadata": {},
   "outputs": [],
   "source": [
    "class Phone:\n",
    "    \n",
    "    model = 'iPhone'\n",
    "    \n",
    "    version = 'XS Max'\n",
    "    \n",
    "    size = '128g'\n",
    "    \n",
    "    @classmethod\n",
    "    \n",
    "    def getStats(cls) : \n",
    "        \n",
    "        return (cls.model,cls.version,cls.size)\n",
    "    \n",
    "    # def __str__(self) : \n",
    "        \n",
    "    #     return '(model = ' + self.model + ' , version =' + self.version + ')'\n",
    "    \n",
    "\n",
    "    \n",
    "A = Phone()\n",
    "\n",
    "print(A)"
   ]
  },
  {
   "cell_type": "code",
   "execution_count": null,
   "metadata": {},
   "outputs": [],
   "source": [
    "class Person:\n",
    "    def __init__(self, name, age):\n",
    "        self.name = name\n",
    "        self.age = age\n",
    "    \n",
    "    def __str__(self):\n",
    "        return f\"Person(name='{self.name}', age={self.age})\"\n",
    "    \n",
    "# Creating an instance of Person\n",
    "person = Person(\"Alice\", 30)\n",
    "\n",
    "# Printing the object\n",
    "print(person)  # Output: Person(name='Alice', age=30)\n"
   ]
  },
  {
   "cell_type": "code",
   "execution_count": null,
   "metadata": {},
   "outputs": [],
   "source": [
    "class MyClass:\n",
    "    def get_list(self):\n",
    "        return [1, 2, 3]\n",
    "\n",
    "# Method chaining is not possible here\n",
    "obj = MyClass()\n",
    "result = obj.get_list().append(4)  # This won't work because append() returns Non"
   ]
  },
  {
   "cell_type": "code",
   "execution_count": null,
   "metadata": {},
   "outputs": [],
   "source": [
    "dictionary = {}\n",
    "\n",
    "nums = [[1,2,4,6],[5,7,3,9],[0,0,0,0]]\n",
    "output = []\n",
    "\n",
    "for index,value in enumerate(nums):\n",
    "    \n",
    "    dictionary[index] = dictionary.get(index,value)\n",
    "    \n",
    "print(dictionary.values())\n",
    "    \n",
    "for index,list in enumerate(dictionary.values()):\n",
    "    \n",
    "    print(index)\n",
    "    print(list)"
   ]
  },
  {
   "cell_type": "code",
   "execution_count": null,
   "metadata": {},
   "outputs": [],
   "source": [
    "start, *middle, end = [1, 2]\n",
    "print(isinstance(start,int))   # 1\n",
    "print(end)     # 2\n",
    "print(middle)  # []"
   ]
  },
  {
   "cell_type": "code",
   "execution_count": null,
   "metadata": {},
   "outputs": [],
   "source": [
    "A = [1,2,3,4,5]\n",
    "B = [5,4,3,2,1,7]\n",
    "\n",
    "# zippy = zip(A,B)\n",
    "# print(list(zippy))\n",
    "\n",
    "for i,v in zip(A,B):\n",
    "    print('i:' , i)\n",
    "    print('v:',v)\n"
   ]
  },
  {
   "cell_type": "code",
   "execution_count": null,
   "metadata": {},
   "outputs": [],
   "source": [
    "A = [1,3,4]\n",
    "\n",
    "B = [3,5,6]\n",
    "\n",
    "print(A+B)"
   ]
  },
  {
   "cell_type": "code",
   "execution_count": null,
   "metadata": {},
   "outputs": [],
   "source": [
    "# Bitmasking Practice\n",
    "\n",
    "from typing import List\n",
    "\n",
    "worddle = 'a'\n",
    "\n",
    "def bitmasker(word):\n",
    "    \n",
    "    bitmask = 0\n",
    "    \n",
    "    for char in word:\n",
    "        \n",
    "        if 'a' <= char <= 'z':\n",
    "            \n",
    "            letter = ord(char) - ord('a')\n",
    "            \n",
    "            position = 1 << letter\n",
    "            \n",
    "            bitmask = bitmask | position\n",
    "            \n",
    "    return bitmask\n",
    "\n",
    "print(bin(bitmasker(worddle)))\n",
    "            \n",
    "             "
   ]
  },
  {
   "cell_type": "code",
   "execution_count": null,
   "metadata": {},
   "outputs": [],
   "source": [
    "A = [1,2,3,4,5]\n",
    "\n",
    "B = [[1,2],[3,4],[5,6],[7,8]]\n",
    "\n",
    "C = [index + 1 for index,_ in B[:2]]\n",
    "\n",
    "print(C)"
   ]
  },
  {
   "cell_type": "code",
   "execution_count": 27,
   "metadata": {},
   "outputs": [
    {
     "name": "stdout",
     "output_type": "stream",
     "text": [
      "[1, 6, 7, 8, 9, 10, 1, 1, 1, 1, 1, 1, 1, 1, 1]\n",
      "[2, 7, 8, 9, 10, 11, 2, 7, 8, 9, 10, 11, 2, 2, 7, 8, 9, 10, 11, 2, 2, 2, 7, 8, 9, 10, 11, 2, 2, 2, 2, 7, 8, 9, 10, 11, 2, 2, 2, 2, 2, 7, 8, 9, 10, 11, 2, 2, 2, 2, 2, 2, 7, 8, 9, 10, 11, 2, 2, 2, 2, 2, 2, 2, 7, 8, 9, 10, 11, 2, 2, 2, 2, 2, 2, 2, 2, 7, 8, 9, 10, 11, 2, 2, 2, 2, 2, 2, 2, 2]\n"
     ]
    }
   ],
   "source": [
    "digits = [1,6,7,8,9,10]\n",
    "\n",
    "zug = []\n",
    "\n",
    "while len(digits) < 15:\n",
    "\n",
    "    for digit in digits:\n",
    "        \n",
    "        zug.append(digit+1)\n",
    "        \n",
    "    digits.append(1) \n",
    "    \n",
    "     \n",
    "    \n",
    "print(digits)\n",
    "print(zug)"
   ]
  },
  {
   "cell_type": "code",
   "execution_count": null,
   "metadata": {},
   "outputs": [],
   "source": [
    "#Zip Object Practice \n",
    "\n",
    "matrix = [[1,2,3],[4,5,6],[7,8,9]]\n",
    "\n",
    "for tuple in zip(*matrix):\n",
    "    \n",
    "    print(list(tuple))"
   ]
  },
  {
   "cell_type": "code",
   "execution_count": null,
   "metadata": {},
   "outputs": [],
   "source": [
    "names = ['deger','dic','richard','seth']\n",
    "\n",
    "tags = ['x'+ str(num) for num in range(len(names))]\n",
    "\n",
    "dicter = dict(zip(tags,names))\n",
    "\n",
    "print(dicter)"
   ]
  },
  {
   "cell_type": "code",
   "execution_count": null,
   "metadata": {},
   "outputs": [],
   "source": [
    "from collections import Counter\n",
    "\n",
    "numbers = [1,2,3,4,5,6,7,8,1,0,9]\n",
    "\n",
    "counts = Counter(numbers)\n",
    "\n",
    "print(counts)"
   ]
  },
  {
   "cell_type": "code",
   "execution_count": null,
   "metadata": {},
   "outputs": [],
   "source": [
    "import collections\n",
    "\n",
    "words = ['esyde', 'wesbank' , 'waza', 'waza']\n",
    "\n",
    "words_dict = collections.defaultdict(int)\n",
    "\n",
    "for word in words:\n",
    "    \n",
    "    words_dict[word] += 1\n",
    "    \n",
    "print(words_dict)\n",
    "\n",
    "if words_dict['ref'] > -1 : \n",
    "    \n",
    "    print('Gotcha')\n",
    "\n",
    "print(words_dict['whipper'])\n",
    "    \n",
    "print(words_dict)"
   ]
  },
  {
   "cell_type": "code",
   "execution_count": null,
   "metadata": {},
   "outputs": [],
   "source": [
    "A = [0] * 5\n",
    "A[2] = 3\n",
    "print(A)  # Output: [0, 0, 3, 0, 0]"
   ]
  },
  {
   "cell_type": "code",
   "execution_count": null,
   "metadata": {},
   "outputs": [],
   "source": [
    "from typing import Optional\n",
    "\n",
    "class TreeNode:\n",
    "    def __init__(self, val=0 , left = None , right = None):\n",
    "        self.val = val\n",
    "        self.left = left\n",
    "        self.right = right\n",
    "\n",
    "def findHeight(root:Optional[TreeNode]) -> int :\n",
    "    \n",
    "    if not root:\n",
    "        return 0\n",
    "    \n",
    "    left_height = findHeight(root.left) + 1\n",
    "    right_height = findHeight(root.right) + 1\n",
    "    \n",
    "    return max(left_height,right_height)"
   ]
  },
  {
   "cell_type": "code",
   "execution_count": null,
   "metadata": {},
   "outputs": [],
   "source": [
    "mat = [[7,6,5]]\n",
    "\n",
    "mat = zip(*mat)\n",
    "\n",
    "print (list(mat))\n",
    "\n",
    "[(7,), (6,), (5,)]"
   ]
  },
  {
   "cell_type": "code",
   "execution_count": null,
   "metadata": {},
   "outputs": [],
   "source": [
    "# Convert integer into constituent digits \n",
    "\n",
    "def converter(num:int) -> List[int]:\n",
    "    \n",
    "    digits = []\n",
    "    \n",
    "    while num > 0:\n",
    "        \n",
    "        digit = num % 10\n",
    "        digits.append(digit)\n",
    "        num //= 10\n",
    "        \n",
    "    return digits[::-1]\n",
    "\n",
    "converter(45648555)"
   ]
  },
  {
   "cell_type": "code",
   "execution_count": 5,
   "metadata": {},
   "outputs": [
    {
     "name": "stdout",
     "output_type": "stream",
     "text": [
      "qi\n"
     ]
    }
   ],
   "source": [
    "name = 'Tariq'\n",
    "\n",
    "print(name[50:2:-1])"
   ]
  },
  {
   "cell_type": "code",
   "execution_count": 6,
   "metadata": {},
   "outputs": [
    {
     "name": "stdout",
     "output_type": "stream",
     "text": [
      "dict_keys(['tariq', 'whip', 'a'])\n"
     ]
    }
   ],
   "source": [
    "names = ['tariq' , 'whip' , 'a']\n",
    "\n",
    "mexi = { name:1 for name in names}"
   ]
  },
  {
   "cell_type": "code",
   "execution_count": 5,
   "metadata": {},
   "outputs": [
    {
     "data": {
      "text/plain": [
       "[-2, 0, 1, 4, 9, 21]"
      ]
     },
     "execution_count": 5,
     "metadata": {},
     "output_type": "execute_result"
    }
   ],
   "source": [
    "from typing import List\n",
    "\n",
    "def bubbleSort(array:List[int]) -> List[int]:\n",
    "    \n",
    "    for pos in range(len(array)):\n",
    "        \n",
    "        swapped = False\n",
    "        for j in range(1,len(array)-pos):\n",
    "            \n",
    "            if array[j-1] > array[j]:\n",
    "                array[j-1] , array[j] = array[j] , array[j-1]\n",
    "                swapped = True\n",
    "            \n",
    "        if not swapped:\n",
    "            return array\n",
    "        \n",
    "    return array\n",
    "\n",
    "data  = [4,0,1,9,21,-2]\n",
    "\n",
    "bubbleSort(data)\n",
    "\n"
   ]
  },
  {
   "cell_type": "code",
   "execution_count": 2,
   "metadata": {},
   "outputs": [
    {
     "data": {
      "text/plain": [
       "[-2, 0, 1, 5, 89]"
      ]
     },
     "execution_count": 2,
     "metadata": {},
     "output_type": "execute_result"
    }
   ],
   "source": [
    "def selectionSort(array):\n",
    "    \n",
    "    min_idx = 0\n",
    "    \n",
    "    for pos in range(len(array)):\n",
    "        \n",
    "        min_idx = pos \n",
    "        \n",
    "        for j  in range(pos+1,len(array)):\n",
    "            \n",
    "            if array[j] < array[min_idx]:\n",
    "                min_idx = j\n",
    "                \n",
    "        array[pos] , array[min_idx] = array[min_idx] , array[pos]\n",
    "    \n",
    "    return array\n",
    "\n",
    "selectionSort([5,0,-2,1,89])"
   ]
  },
  {
   "cell_type": "code",
   "execution_count": 2,
   "metadata": {},
   "outputs": [
    {
     "data": {
      "text/plain": [
       "[3, 4, 5]"
      ]
     },
     "execution_count": 2,
     "metadata": {},
     "output_type": "execute_result"
    }
   ],
   "source": [
    "# Extract digits from integer\n",
    "\n",
    "def getDigits(num):\n",
    "    \n",
    "    output = []\n",
    "    \n",
    "    while num :\n",
    "        num , digit = divmod(num,10)\n",
    "        output.append(digit)\n",
    "        \n",
    "    return output[::-1]\n",
    "\n",
    "getDigits(345)"
   ]
  },
  {
   "cell_type": "code",
   "execution_count": null,
   "metadata": {},
   "outputs": [],
   "source": [
    "# using conditions to index a list\n",
    "\n",
    "x = -5\n",
    "result = [1, -1][x < 0]  # x < 0 is True, so result = -1\n",
    "print(result)  # Output: -1\n",
    "\n",
    "x = 5\n",
    "result = [1, -1][x < 0]  # x < 0 is False, so result = 1\n",
    "print(result)  # Output: 1\n",
    "\n",
    "\n",
    "x = 15\n",
    "\n",
    "result = [\"Small\", \"Medium\", \"Large\"][(x > 10) + (x > 20)]\n",
    "print(result)  # Output: \"Medium\"\n"
   ]
  },
  {
   "cell_type": "code",
   "execution_count": 4,
   "metadata": {},
   "outputs": [
    {
     "data": {
      "text/plain": [
       "[-12, 0, 1, 7, 8, 13, 21]"
      ]
     },
     "execution_count": 4,
     "metadata": {},
     "output_type": "execute_result"
    }
   ],
   "source": [
    "# Quicksort\n",
    "\n",
    "from typing import List\n",
    "\n",
    "class Solution:\n",
    "    \n",
    "    def partition(self,array:List[int], start:int, end:int) -> int:\n",
    "        \n",
    "        pivot = array[end]\n",
    "        split = start - 1\n",
    "        \n",
    "        for i in range(start,end):\n",
    "            \n",
    "            if array[i] <= pivot:\n",
    "                \n",
    "                split += 1\n",
    "                array[i] , array[split] = array[split] , array[i]\n",
    "                \n",
    "        array[split + 1] , array[end] = array[end] , array[split+1]\n",
    "        \n",
    "        return split + 1\n",
    "        \n",
    "        \n",
    "    def quickSort(self,array:List[int],start:int,end:int) -> List[int]:\n",
    "        \n",
    "        if start >= end:\n",
    "            return\n",
    "        \n",
    "        pivot = self.partition(array,start,end)\n",
    "        \n",
    "        self.quickSort(array,start,pivot-1)\n",
    "        self.quickSort(array,pivot+1,end)\n",
    "        \n",
    "        return array \n",
    "    \n",
    "test = Solution()\n",
    "data = [1,0,-12,21,13,7,8]\n",
    "\n",
    "test.quickSort(data,0,len(data)-1)"
   ]
  },
  {
   "cell_type": "code",
   "execution_count": 5,
   "metadata": {},
   "outputs": [
    {
     "data": {
      "text/plain": [
       "[-9, 0, 4, 12, 16, 31, 100]"
      ]
     },
     "execution_count": 5,
     "metadata": {},
     "output_type": "execute_result"
    }
   ],
   "source": [
    "# Mergesort\n",
    "\n",
    "from typing import List\n",
    "\n",
    "class Solution:\n",
    "    \n",
    "    def merge(self,array:List[int],left:List[int],right:List[int]) -> None:\n",
    "        \n",
    "        i = j = k = 0\n",
    "        \n",
    "        while i < len(left) and j < len(right):\n",
    "            \n",
    "            if left[i] <= right[j]:\n",
    "                array[k] = left[i]\n",
    "                i += 1\n",
    "            else:\n",
    "                array[k] = right[j]\n",
    "                j += 1\n",
    "                \n",
    "            k += 1\n",
    "            \n",
    "        while i < len(left):\n",
    "            \n",
    "            array[k] = left[i]\n",
    "            k += 1\n",
    "            i += 1\n",
    "            \n",
    "        while j < len(right):\n",
    "            \n",
    "            array[k] = right[j]\n",
    "            k += 1\n",
    "            j += 1\n",
    "            \n",
    "    def mergeSort(self,array:List[int]) -> List[int]:\n",
    "        \n",
    "        if len(array) < 2:\n",
    "            return\n",
    "        \n",
    "        mid = len(array) // 2\n",
    "        left = array[:mid]\n",
    "        right = array[mid:]\n",
    "        \n",
    "        self.mergeSort(left)\n",
    "        self.mergeSort(right)\n",
    "        \n",
    "        self.merge(array,left,right)\n",
    "        \n",
    "        return array\n",
    "    \n",
    "    \n",
    "test = Solution()\n",
    "data = [4,-9,0,31,12,16,100]\n",
    "\n",
    "test.mergeSort(data)\n",
    "                \n",
    "        \n",
    "        "
   ]
  },
  {
   "cell_type": "code",
   "execution_count": null,
   "metadata": {},
   "outputs": [],
   "source": [
    "# Zig-Jag Conversion\n",
    "\n",
    "s = 'PAYPALISHIRING'\n",
    "rows = 4 \n",
    "\n",
    "mat = [['P',' ',' ','I',' ',' ','N'],\n",
    "       ['A',' ','L','S',' ','I','G'],\n",
    "       ['Y','A',' ','H','R',' ',' '],\n",
    "       ['P',' ',' ','I',' ',' ',' ']]\n"
   ]
  },
  {
   "cell_type": "code",
   "execution_count": 2,
   "metadata": {},
   "outputs": [
    {
     "name": "stdout",
     "output_type": "stream",
     "text": [
      "['hello', 'world', '!', 'Python']\n"
     ]
    }
   ],
   "source": [
    "# Used to filter out empty strings or objects from a list\n",
    "\n",
    "strings = [\"hello\", \"\", \"world\", \"\", \"!\", \"Python\", \"\"]\n",
    "\n",
    "non_empty_strings = filter(None, strings)\n",
    "print(list(non_empty_strings))  # Outputs: ['hello', 'world', '!', 'Python']\n"
   ]
  },
  {
   "cell_type": "code",
   "execution_count": 18,
   "metadata": {},
   "outputs": [
    {
     "name": "stdout",
     "output_type": "stream",
     "text": [
      "[[1, 2, 3, 4, 5], [6, 7, 8, 9, 10]]\n"
     ]
    }
   ],
   "source": [
    "# Converting between 1D to 2D array and vice versa\n",
    "\n",
    "array_1D = [1,2,3,4,5,6,7,8,9,10]\n",
    "array_2D = [[1,2,3],[10,9,6],[0,8,4]]\n",
    "\n",
    "output_1D = []\n",
    "output_2D = [[0 for _ in range(5)] for _ in range(2)]\n",
    "\n",
    "# Convert 1D to 2 x 5 , m = 2 , n = 5    \n",
    "\n",
    "for i in range(2):\n",
    "    for j in range(5):\n",
    "        \n",
    "        k = i * 5 + j\n",
    "        output_2D[i][j] = array_1D[k]\n",
    "        \n",
    "print(output_2D)\n"
   ]
  },
  {
   "cell_type": "code",
   "execution_count": null,
   "metadata": {},
   "outputs": [],
   "source": [
    "# Converting between 1D to 2D array and vice versa without making grid\n",
    "\n",
    "array_2d = []\n",
    "\n",
    "for i in range(rows):\n",
    "    row = []\n",
    "    for j in range(cols):\n",
    "        k = i * cols + j  # Calculate the index in the 1D array\n",
    "        row.append(array_1d[k])\n",
    "    array_2d.append(row)\n",
    "\n",
    "# Output the 2D array\n",
    "for row in array_2d:\n",
    "    print(row)"
   ]
  },
  {
   "cell_type": "code",
   "execution_count": 22,
   "metadata": {},
   "outputs": [
    {
     "name": "stdout",
     "output_type": "stream",
     "text": [
      "[1, 2, 3, 4, 5, 6, 7, 8, 9]\n"
     ]
    }
   ],
   "source": [
    "# Converting from 2D to 1D array\n",
    "\n",
    "array_2d = [\n",
    "    [1, 2, 3],\n",
    "    [4, 5, 6],\n",
    "    [7, 8, 9]\n",
    "]\n",
    "\n",
    "# Flattening using for loop\n",
    "output = []\n",
    "for row in array_2d:\n",
    "    output.extend(row)\n",
    "\n",
    "print(output)\n",
    "\n"
   ]
  },
  {
   "cell_type": "code",
   "execution_count": null,
   "metadata": {},
   "outputs": [],
   "source": [
    "from typing import List\n",
    "\n",
    "class Solution:\n",
    "    def construct2DArray(self, original: List[int], m: int, n: int) -> List[List[int]]:\n",
    "        # Check if the number of elements matches the required size of the 2D array\n",
    "        if len(original) != m * n:\n",
    "            return []\n",
    "        \n",
    "        # Initialize the 2D array with zeros or any placeholder\n",
    "        result = [[0] * n for _ in range(m)]\n",
    "        \n",
    "        # Fill the 2D array using the formula\n",
    "        for k in range(len(original)):\n",
    "            i = k // n  # Row index\n",
    "            j = k % n   # Column index\n",
    "            result[i][j] = original[k]\n",
    "        \n",
    "        return result\n",
    "\n",
    "# Example Usage\n",
    "original = [1, 2, 3, 4]\n",
    "m = 2\n",
    "n = 2\n",
    "\n",
    "sol = Solution()\n",
    "output = sol.construct2DArray(original, m, n)\n",
    "print(output)"
   ]
  },
  {
   "cell_type": "code",
   "execution_count": 33,
   "metadata": {},
   "outputs": [
    {
     "name": "stdout",
     "output_type": "stream",
     "text": [
      "{1, 2, 3, 4, 5, 6, 7}\n",
      "{3}\n",
      "{1, 2, 4, 5, 6, 7}\n"
     ]
    }
   ],
   "source": [
    "#set operators practice\n",
    "\n",
    "set_A = set([1,2,3])\n",
    "set_B = set([3,4,5,6,7])\n",
    "\n",
    "union = set_A | set_B\n",
    "print(union)\n",
    "\n",
    "intersection = set_A & set_B\n",
    "print(intersection)\n",
    "\n",
    "symet = set_A.symmetric_difference(set_B)\n",
    "print(symet)"
   ]
  },
  {
   "cell_type": "code",
   "execution_count": 2,
   "metadata": {},
   "outputs": [
    {
     "data": {
      "text/plain": [
       "6"
      ]
     },
     "execution_count": 2,
     "metadata": {},
     "output_type": "execute_result"
    }
   ],
   "source": [
    "# Gcd calculation\n",
    "\n",
    "a = 18 \n",
    "b = 102\n",
    "\n",
    "def gcd(a,b):\n",
    "    \n",
    "    while b != 0:\n",
    "        a,b = b , a%b       \n",
    "    return a\n",
    "\n",
    "gcd(a,b)\n"
   ]
  },
  {
   "cell_type": "code",
   "execution_count": 10,
   "metadata": {},
   "outputs": [
    {
     "name": "stdout",
     "output_type": "stream",
     "text": [
      "defaultdict(<class 'int'>, {(0, 2): 1, (0, 7): 4, (1, 7): 1, (1, 8): 1, (1, 9): 1, (2, 1): 4, (2, 2): 1, (2, 4): 5, (3, 1): 1, (3, 4): 1, (3, 5): 1, (3, 8): 6, (3, 10): 2, (4, 1): 1, (4, 4): 1, (4, 5): 1, (4, 8): 1, (4, 9): 1, (4, 10): 1, (5, 10): 1, (6, 7): 5, (6, 8): 1, (6, 9): 1, (7, 7): 1, (7, 8): 1})\n"
     ]
    },
    {
     "data": {
      "text/plain": [
       "6"
      ]
     },
     "execution_count": 10,
     "metadata": {},
     "output_type": "execute_result"
    }
   ],
   "source": [
    "# Trying max area island with alex's union find : \n",
    "\n",
    "from typing import List,Generator,Tuple\n",
    "from collections import defaultdict\n",
    "\n",
    "class UnionFind:\n",
    "\n",
    "    def __init__(self):\n",
    "        self.parent = {}\n",
    "        self.rank = defaultdict(int)\n",
    "\n",
    "    def find(self,x):\n",
    "        \n",
    "        if x not in self.parent:\n",
    "            self.parent[x] = x\n",
    "            self.rank[x] = 1\n",
    "\n",
    "        if self.parent[x] != x:\n",
    "            self.parent[x] = self.find(self.parent[x])\n",
    "        return self.parent[x]\n",
    "\n",
    "    def union(self,x,y):\n",
    "\n",
    "        rootX = self.find(x)\n",
    "        rootY = self.find(y)\n",
    "\n",
    "        if rootX != rootY:\n",
    "\n",
    "            if self.rank[rootX] > self.rank[rootY]:\n",
    "                self.parent[rootY] = rootX\n",
    "                self.rank[rootX] += self.rank[rootY]\n",
    "            elif self.rank[rootX] < self.rank[rootY]:\n",
    "                self.parent[rootX] = rootY\n",
    "                self.rank[rootY] += self.rank[rootX]\n",
    "            else:\n",
    "                self.parent[rootY] = rootX\n",
    "                self.rank[rootX] += self.rank[rootY]\n",
    "\n",
    "        return True\n",
    "\n",
    "class Solution:\n",
    "\n",
    "    def neighbors(self,matrix:List[List[int]],r:int,c:int) -> Generator[Tuple[int,int],None,None]:\n",
    "\n",
    "        directions = [(0,-1),(0,1),(1,0),(-1,0)]\n",
    "\n",
    "        for dr,dc in directions:\n",
    "            nr = r + dr\n",
    "            nc = c + dc\n",
    "\n",
    "            if nr >= 0 and nr < len(matrix) and nc >= 0 and nc < len(matrix[0]) and matrix[nr][nc] == 1:\n",
    "                yield (nr,nc)\n",
    "        \n",
    "    def maxAreaOfIsland(self, grid: List[List[int]]) -> int:\n",
    "\n",
    "        uf = UnionFind()\n",
    "\n",
    "        for r in range(len(grid)):\n",
    "            for c in range(len(grid[0])):\n",
    "\n",
    "                if grid[r][c] == 1:\n",
    "                    uf.parent[(r,c)] = (r,c)\n",
    "                    uf.rank[(r,c)] = 1\n",
    "\n",
    "        for r in range(len(grid)):\n",
    "            for c in range(len(grid[0])):\n",
    "\n",
    "                if grid[r][c] == 1:\n",
    "                    for neighbor in self.neighbors(grid,r,c):\n",
    "                        uf.union((r,c),neighbor)\n",
    "\n",
    "        print(uf.rank)\n",
    "        return max(uf.rank.values())\n",
    "    \n",
    "grid = [[0,0,1,0,0,0,0,1,0,0,0,0,0],[0,0,0,0,0,0,0,1,1,1,0,0,0],\n",
    "        [0,1,1,0,1,0,0,0,0,0,0,0,0],[0,1,0,0,1,1,0,0,1,0,1,0,0],\n",
    "        [0,1,0,0,1,1,0,0,1,1,1,0,0],[0,0,0,0,0,0,0,0,0,0,1,0,0],\n",
    "        [0,0,0,0,0,0,0,1,1,1,0,0,0],[0,0,0,0,0,0,0,1,1,0,0,0,0]]\n",
    "\n",
    "test = Solution()\n",
    "test.maxAreaOfIsland(grid)\n"
   ]
  },
  {
   "cell_type": "code",
   "execution_count": 21,
   "metadata": {},
   "outputs": [
    {
     "data": {
      "text/plain": [
       "8"
      ]
     },
     "execution_count": 21,
     "metadata": {},
     "output_type": "execute_result"
    }
   ],
   "source": [
    "# Applying union find / kruskalski to find minimum spanning tree\n",
    "\n",
    "from typing import List \n",
    "from collections import defaultdict\n",
    "\n",
    "class UnionFind:\n",
    "    \n",
    "    def __init__(self):\n",
    "        self.parent = {}\n",
    "        self.rank = defaultdict(lambda:1)\n",
    "        \n",
    "    def find(self,x):\n",
    "        \n",
    "        if x not in self.parent:\n",
    "            self.parent[x] = x\n",
    "            self.rank[x] += 1\n",
    "            \n",
    "        if self.parent[x] != x:\n",
    "            self.parent[x] = self.find(self.parent[x])\n",
    "            \n",
    "        return self.parent[x]\n",
    "            \n",
    "    def union(self,x,y):\n",
    "        \n",
    "        rootX = self.find(x)\n",
    "        rootY = self.find(y)\n",
    "        \n",
    "        if rootX == rootY:\n",
    "            return False \n",
    "            \n",
    "        if self.rank[rootX] > self.rank[rootY]:\n",
    "            self.parent[rootY] = rootX\n",
    "        elif self.rank[rootX] < self.rank[rootY]:\n",
    "            self.parent[rootX] = rootY\n",
    "        else: \n",
    "            self.parent[rootY] = rootX\n",
    "            self.rank[rootX] += 1\n",
    "                \n",
    "        return True\n",
    "        \n",
    "class Solution:\n",
    "    \n",
    "    def minCostConnectPoints(self, points: List[List[int]]) -> int:\n",
    "        \n",
    "        uf = UnionFind()\n",
    "        edges = []\n",
    "        cost = 0\n",
    "        \n",
    "        for i in range(len(points)):\n",
    "            for j in range(i,len(points)):\n",
    "                if i != j:\n",
    "                    \n",
    "                    x1 , y1 = points[i]\n",
    "                    x2 , y2 = points[j]\n",
    "                    \n",
    "                    manhattan_dist = abs(x2-x1) + abs(y2-y1)\n",
    "                    edges.append((i,j,manhattan_dist))\n",
    "                    \n",
    "        edges.sort(key=lambda x : x[2])\n",
    "        \n",
    "        for u,v,weight in edges:\n",
    "            \n",
    "            if uf.find(u) != uf.find(v):\n",
    "                uf.union(u,v)\n",
    "                cost += weight\n",
    "                \n",
    "        return cost\n",
    "            \n",
    "        \n",
    "points = [[0,0],[1,2],[2,1],[3,3]]    \n",
    "test = Solution()\n",
    "test.mincost(points)"
   ]
  }
 ],
 "metadata": {
  "kernelspec": {
   "display_name": "Python 3",
   "language": "python",
   "name": "python3"
  },
  "language_info": {
   "codemirror_mode": {
    "name": "ipython",
    "version": 3
   },
   "file_extension": ".py",
   "mimetype": "text/x-python",
   "name": "python",
   "nbconvert_exporter": "python",
   "pygments_lexer": "ipython3",
   "version": "3.11.5"
  }
 },
 "nbformat": 4,
 "nbformat_minor": 2
}
