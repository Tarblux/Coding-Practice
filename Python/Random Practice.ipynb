{
 "cells": [
  {
   "cell_type": "code",
   "execution_count": 4,
   "metadata": {},
   "outputs": [
    {
     "name": "stdout",
     "output_type": "stream",
     "text": [
      "[1, 2, 3, 4, 5]\n",
      "2\n"
     ]
    }
   ],
   "source": [
    "class ListNode:\n",
    "    def __init__(self, val=0, next=None):\n",
    "        self.val = val\n",
    "        self.next = next\n",
    "        \n",
    "l1 = ListNode(2)\n",
    "\n",
    "current = l1\n",
    "\n",
    "while current : \n",
    "    \n",
    "    current = current.next \n",
    "    \n",
    "A = [1,2,3,4]\n",
    "\n",
    "B = A \n",
    "\n",
    "B.append(5)\n",
    "\n",
    "print(B)\n",
    "\n",
    "print(l1.val)"
   ]
  },
  {
   "cell_type": "code",
   "execution_count": 5,
   "metadata": {},
   "outputs": [
    {
     "name": "stdout",
     "output_type": "stream",
     "text": [
      "1\n"
     ]
    }
   ],
   "source": [
    "class Solution: \n",
    "    \n",
    "    class_variable = 5\n",
    "    \n",
    "    def hammingDistance(cls, x:int, y:int) -> int : \n",
    "        \n",
    "        xor = x ^ y\n",
    "        differences = 0\n",
    "        \n",
    "        while xor : \n",
    "            \n",
    "            differences += xor & 1\n",
    "            xor >>= 1\n",
    "            \n",
    "        return differences\n",
    "    \n",
    "\n",
    "A = Solution()\n",
    "\n",
    "print(A.hammingDistance(3,1))"
   ]
  },
  {
   "cell_type": "code",
   "execution_count": 1,
   "metadata": {},
   "outputs": [
    {
     "name": "stdout",
     "output_type": "stream",
     "text": [
      "(1, 4)\n"
     ]
    }
   ],
   "source": [
    "A = divmod(14,10)\n",
    "\n",
    "print(A)"
   ]
  },
  {
   "cell_type": "code",
   "execution_count": 10,
   "metadata": {},
   "outputs": [
    {
     "name": "stdout",
     "output_type": "stream",
     "text": [
      "<__main__.Phone object at 0x113916390>\n"
     ]
    }
   ],
   "source": [
    "class Phone:\n",
    "    \n",
    "    model = 'iPhone'\n",
    "    \n",
    "    version = 'XS Max'\n",
    "    \n",
    "    size = '128g'\n",
    "    \n",
    "    @classmethod\n",
    "    \n",
    "    def getStats(cls) : \n",
    "        \n",
    "        return (cls.model,cls.version,cls.size)\n",
    "    \n",
    "    # def __str__(self) : \n",
    "        \n",
    "    #     return '(model = ' + self.model + ' , version =' + self.version + ')'\n",
    "    \n",
    "\n",
    "    \n",
    "A = Phone()\n",
    "\n",
    "print(A)"
   ]
  },
  {
   "cell_type": "code",
   "execution_count": 14,
   "metadata": {},
   "outputs": [
    {
     "name": "stdout",
     "output_type": "stream",
     "text": [
      "Person(name='Alice', age=30)\n"
     ]
    }
   ],
   "source": [
    "class Person:\n",
    "    def __init__(self, name, age):\n",
    "        self.name = name\n",
    "        self.age = age\n",
    "    \n",
    "    def __str__(self):\n",
    "        return f\"Person(name='{self.name}', age={self.age})\"\n",
    "    \n",
    "# Creating an instance of Person\n",
    "person = Person(\"Alice\", 30)\n",
    "\n",
    "# Printing the object\n",
    "print(person)  # Output: Person(name='Alice', age=30)\n"
   ]
  },
  {
   "cell_type": "code",
   "execution_count": 3,
   "metadata": {},
   "outputs": [
    {
     "name": "stdout",
     "output_type": "stream",
     "text": [
      "<__main__.MyClass object at 0x1064fde10>\n"
     ]
    }
   ],
   "source": [
    "class MyClass:\n",
    "    def get_list(self):\n",
    "        return [1, 2, 3]\n",
    "\n",
    "# Method chaining is not possible here\n",
    "obj = MyClass()\n",
    "result = obj.get_list().append(4)  # This won't work because append() returns Non"
   ]
  },
  {
   "cell_type": "code",
   "execution_count": 7,
   "metadata": {},
   "outputs": [
    {
     "name": "stdout",
     "output_type": "stream",
     "text": [
      "dict_values([[1, 2, 4, 6], [5, 7, 3, 9], [0, 0, 0, 0]])\n",
      "0\n",
      "[1, 2, 4, 6]\n",
      "1\n",
      "[5, 7, 3, 9]\n",
      "2\n",
      "[0, 0, 0, 0]\n"
     ]
    }
   ],
   "source": [
    "dictionary = {}\n",
    "\n",
    "nums = [[1,2,4,6],[5,7,3,9],[0,0,0,0]]\n",
    "output = []\n",
    "\n",
    "for index,value in enumerate(nums):\n",
    "    \n",
    "    dictionary[index] = dictionary.get(index,value)\n",
    "    \n",
    "print(dictionary.values())\n",
    "    \n",
    "for index,list in enumerate(dictionary.values()):\n",
    "    \n",
    "    print(index)\n",
    "    print(list)"
   ]
  },
  {
   "cell_type": "code",
   "execution_count": 4,
   "metadata": {},
   "outputs": [
    {
     "name": "stdout",
     "output_type": "stream",
     "text": [
      "True\n",
      "2\n",
      "[]\n"
     ]
    }
   ],
   "source": [
    "start, *middle, end = [1, 2]\n",
    "print(isinstance(start,int))   # 1\n",
    "print(end)     # 2\n",
    "print(middle)  # []"
   ]
  },
  {
   "cell_type": "code",
   "execution_count": 12,
   "metadata": {},
   "outputs": [
    {
     "name": "stdout",
     "output_type": "stream",
     "text": [
      "i: 1\n",
      "v: 5\n",
      "i: 2\n",
      "v: 4\n",
      "i: 3\n",
      "v: 3\n",
      "i: 4\n",
      "v: 2\n",
      "i: 5\n",
      "v: 1\n"
     ]
    }
   ],
   "source": [
    "A = [1,2,3,4,5]\n",
    "B = [5,4,3,2,1,7]\n",
    "\n",
    "# zippy = zip(A,B)\n",
    "# print(list(zippy))\n",
    "\n",
    "for i,v in zip(A,B):\n",
    "    print('i:' , i)\n",
    "    print('v:',v)\n"
   ]
  },
  {
   "cell_type": "code",
   "execution_count": 1,
   "metadata": {},
   "outputs": [
    {
     "name": "stdout",
     "output_type": "stream",
     "text": [
      "[1, 3, 4, 3, 5, 6]\n"
     ]
    }
   ],
   "source": [
    "A = [1,3,4]\n",
    "\n",
    "B = [3,5,6]\n",
    "\n",
    "print(A+B)"
   ]
  },
  {
   "cell_type": "code",
   "execution_count": 4,
   "metadata": {},
   "outputs": [
    {
     "name": "stdout",
     "output_type": "stream",
     "text": [
      "0b1\n"
     ]
    }
   ],
   "source": [
    "# Bitmasking Practice\n",
    "\n",
    "from typing import List\n",
    "\n",
    "worddle = 'a'\n",
    "\n",
    "def bitmasker(word):\n",
    "    \n",
    "    bitmask = 0\n",
    "    \n",
    "    for char in word:\n",
    "        \n",
    "        if 'a' <= char <= 'z':\n",
    "            \n",
    "            letter = ord(char) - ord('a')\n",
    "            \n",
    "            position = 1 << letter\n",
    "            \n",
    "            bitmask = bitmask | position\n",
    "            \n",
    "    return bitmask\n",
    "\n",
    "print(bin(bitmasker(worddle)))\n",
    "            \n",
    "             "
   ]
  },
  {
   "cell_type": "code",
   "execution_count": 2,
   "metadata": {},
   "outputs": [
    {
     "name": "stdout",
     "output_type": "stream",
     "text": [
      "[2, 4]\n"
     ]
    }
   ],
   "source": [
    "A = [1,2,3,4,5]\n",
    "\n",
    "B = [[1,2],[3,4],[5,6],[7,8]]\n",
    "\n",
    "C = [index + 1 for index,_ in B[:2]]\n",
    "\n",
    "print(C)"
   ]
  },
  {
   "cell_type": "code",
   "execution_count": 10,
   "metadata": {},
   "outputs": [
    {
     "name": "stdout",
     "output_type": "stream",
     "text": [
      "[1, 6, 7, 8, 9, 10, 1, 1, 1, 1, 1, 1, 1, 1, 1]\n",
      "[2, 7, 8, 9, 10, 11, 2, 7, 8, 9, 10, 11, 2, 2, 7, 8, 9, 10, 11, 2, 2, 2, 7, 8, 9, 10, 11, 2, 2, 2, 2, 7, 8, 9, 10, 11, 2, 2, 2, 2, 2, 7, 8, 9, 10, 11, 2, 2, 2, 2, 2, 2, 7, 8, 9, 10, 11, 2, 2, 2, 2, 2, 2, 2, 7, 8, 9, 10, 11, 2, 2, 2, 2, 2, 2, 2, 2, 7, 8, 9, 10, 11, 2, 2, 2, 2, 2, 2, 2, 2]\n"
     ]
    }
   ],
   "source": [
    "digits = [1,6,7,8,9,10]\n",
    "\n",
    "zug = []\n",
    "\n",
    "while len(digits) < 15:\n",
    "\n",
    "    for digit in digits:\n",
    "        \n",
    "        zug.append(digit+1)\n",
    "        \n",
    "    digits.append(1) \n",
    "    \n",
    "     \n",
    "    \n",
    "print(digits)\n",
    "print(zug)"
   ]
  },
  {
   "cell_type": "code",
   "execution_count": 5,
   "metadata": {},
   "outputs": [
    {
     "name": "stdout",
     "output_type": "stream",
     "text": [
      "[1, 4, 7]\n",
      "[2, 5, 8]\n",
      "[3, 6, 9]\n"
     ]
    }
   ],
   "source": [
    "#Zip Object Practice \n",
    "\n",
    "matrix = [[1,2,3],[4,5,6],[7,8,9]]\n",
    "\n",
    "for tuple in zip(*matrix):\n",
    "    \n",
    "    print(list(tuple))"
   ]
  },
  {
   "cell_type": "code",
   "execution_count": 10,
   "metadata": {},
   "outputs": [
    {
     "name": "stdout",
     "output_type": "stream",
     "text": [
      "{'x0': 'deger', 'x1': 'dic', 'x2': 'richard', 'x3': 'seth'}\n"
     ]
    }
   ],
   "source": [
    "names = ['deger','dic','richard','seth']\n",
    "\n",
    "tags = ['x'+ str(num) for num in range(len(names))]\n",
    "\n",
    "dicter = dict(zip(tags,names))\n",
    "\n",
    "print(dicter)"
   ]
  }
 ],
 "metadata": {
  "kernelspec": {
   "display_name": "Python 3",
   "language": "python",
   "name": "python3"
  },
  "language_info": {
   "codemirror_mode": {
    "name": "ipython",
    "version": 3
   },
   "file_extension": ".py",
   "mimetype": "text/x-python",
   "name": "python",
   "nbconvert_exporter": "python",
   "pygments_lexer": "ipython3",
   "version": "3.11.7"
  }
 },
 "nbformat": 4,
 "nbformat_minor": 2
}
