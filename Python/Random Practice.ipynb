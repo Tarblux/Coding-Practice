{
 "cells": [
  {
   "cell_type": "code",
   "execution_count": null,
   "metadata": {},
   "outputs": [],
   "source": [
    "class ListNode:\n",
    "    def __init__(self, val=0, next=None):\n",
    "        self.val = val\n",
    "        self.next = next\n",
    "        \n",
    "l1 = ListNode(2)\n",
    "\n",
    "current = l1\n",
    "\n",
    "while current : \n",
    "    \n",
    "    current = current.next \n",
    "    \n",
    "A = [1,2,3,4]\n",
    "\n",
    "B = A \n",
    "\n",
    "B.append(5)\n",
    "\n",
    "print(B)\n",
    "\n",
    "print(l1.val)"
   ]
  },
  {
   "cell_type": "code",
   "execution_count": null,
   "metadata": {},
   "outputs": [],
   "source": []
  },
  {
   "cell_type": "code",
   "execution_count": null,
   "metadata": {},
   "outputs": [],
   "source": [
    "class Solution: \n",
    "    \n",
    "    class_variable = 5\n",
    "    \n",
    "    def hammingDistance(cls, x:int, y:int) -> int : \n",
    "        \n",
    "        xor = x ^ y\n",
    "        differences = 0\n",
    "        \n",
    "        while xor : \n",
    "            \n",
    "            differences += xor & 1\n",
    "            xor >>= 1\n",
    "            \n",
    "        return differences\n",
    "    \n",
    "\n",
    "A = Solution()\n",
    "\n",
    "print(A.hammingDistance(3,1))"
   ]
  },
  {
   "cell_type": "code",
   "execution_count": null,
   "metadata": {},
   "outputs": [],
   "source": [
    "A = divmod(14,10)\n",
    "\n",
    "print(A)"
   ]
  },
  {
   "cell_type": "code",
   "execution_count": null,
   "metadata": {},
   "outputs": [],
   "source": [
    "class Phone:\n",
    "    \n",
    "    model = 'iPhone'\n",
    "    \n",
    "    version = 'XS Max'\n",
    "    \n",
    "    size = '128g'\n",
    "    \n",
    "    @classmethod\n",
    "    \n",
    "    def getStats(cls) : \n",
    "        \n",
    "        return (cls.model,cls.version,cls.size)\n",
    "    \n",
    "    # def __str__(self) : \n",
    "        \n",
    "    #     return '(model = ' + self.model + ' , version =' + self.version + ')'\n",
    "    \n",
    "\n",
    "    \n",
    "A = Phone()\n",
    "\n",
    "print(A)"
   ]
  },
  {
   "cell_type": "code",
   "execution_count": null,
   "metadata": {},
   "outputs": [],
   "source": [
    "class Person:\n",
    "    def __init__(self, name, age):\n",
    "        self.name = name\n",
    "        self.age = age\n",
    "    \n",
    "    def __str__(self):\n",
    "        return f\"Person(name='{self.name}', age={self.age})\"\n",
    "    \n",
    "# Creating an instance of Person\n",
    "person = Person(\"Alice\", 30)\n",
    "\n",
    "# Printing the object\n",
    "print(person)  # Output: Person(name='Alice', age=30)\n"
   ]
  },
  {
   "cell_type": "code",
   "execution_count": null,
   "metadata": {},
   "outputs": [],
   "source": [
    "class MyClass:\n",
    "    def get_list(self):\n",
    "        return [1, 2, 3]\n",
    "\n",
    "# Method chaining is not possible here\n",
    "obj = MyClass()\n",
    "result = obj.get_list().append(4)  # This won't work because append() returns Non"
   ]
  },
  {
   "cell_type": "code",
   "execution_count": null,
   "metadata": {},
   "outputs": [],
   "source": [
    "dictionary = {}\n",
    "\n",
    "nums = [[1,2,4,6],[5,7,3,9],[0,0,0,0]]\n",
    "output = []\n",
    "\n",
    "for index,value in enumerate(nums):\n",
    "    \n",
    "    dictionary[index] = dictionary.get(index,value)\n",
    "    \n",
    "print(dictionary.values())\n",
    "    \n",
    "for index,list in enumerate(dictionary.values()):\n",
    "    \n",
    "    print(index)\n",
    "    print(list)"
   ]
  },
  {
   "cell_type": "code",
   "execution_count": null,
   "metadata": {},
   "outputs": [],
   "source": [
    "start, *middle, end = [1, 2]\n",
    "print(isinstance(start,int))   # 1\n",
    "print(end)     # 2\n",
    "print(middle)  # []"
   ]
  },
  {
   "cell_type": "code",
   "execution_count": null,
   "metadata": {},
   "outputs": [],
   "source": [
    "A = [1,2,3,4,5]\n",
    "B = [5,4,3,2,1,7]\n",
    "\n",
    "# zippy = zip(A,B)\n",
    "# print(list(zippy))\n",
    "\n",
    "for i,v in zip(A,B):\n",
    "    print('i:' , i)\n",
    "    print('v:',v)\n"
   ]
  },
  {
   "cell_type": "code",
   "execution_count": null,
   "metadata": {},
   "outputs": [],
   "source": [
    "A = [1,3,4]\n",
    "\n",
    "B = [3,5,6]\n",
    "\n",
    "print(A+B)"
   ]
  },
  {
   "cell_type": "code",
   "execution_count": null,
   "metadata": {},
   "outputs": [],
   "source": [
    "# Bitmasking Practice\n",
    "\n",
    "from typing import List\n",
    "\n",
    "worddle = 'a'\n",
    "\n",
    "def bitmasker(word):\n",
    "    \n",
    "    bitmask = 0\n",
    "    \n",
    "    for char in word:\n",
    "        \n",
    "        if 'a' <= char <= 'z':\n",
    "            \n",
    "            letter = ord(char) - ord('a')\n",
    "            \n",
    "            position = 1 << letter\n",
    "            \n",
    "            bitmask = bitmask | position\n",
    "            \n",
    "    return bitmask\n",
    "\n",
    "print(bin(bitmasker(worddle)))\n",
    "            \n",
    "             "
   ]
  },
  {
   "cell_type": "code",
   "execution_count": null,
   "metadata": {},
   "outputs": [],
   "source": [
    "A = [1,2,3,4,5]\n",
    "\n",
    "B = [[1,2],[3,4],[5,6],[7,8]]\n",
    "\n",
    "C = [index + 1 for index,_ in B[:2]]\n",
    "\n",
    "print(C)"
   ]
  },
  {
   "cell_type": "code",
   "execution_count": 27,
   "metadata": {},
   "outputs": [
    {
     "name": "stdout",
     "output_type": "stream",
     "text": [
      "[1, 6, 7, 8, 9, 10, 1, 1, 1, 1, 1, 1, 1, 1, 1]\n",
      "[2, 7, 8, 9, 10, 11, 2, 7, 8, 9, 10, 11, 2, 2, 7, 8, 9, 10, 11, 2, 2, 2, 7, 8, 9, 10, 11, 2, 2, 2, 2, 7, 8, 9, 10, 11, 2, 2, 2, 2, 2, 7, 8, 9, 10, 11, 2, 2, 2, 2, 2, 2, 7, 8, 9, 10, 11, 2, 2, 2, 2, 2, 2, 2, 7, 8, 9, 10, 11, 2, 2, 2, 2, 2, 2, 2, 2, 7, 8, 9, 10, 11, 2, 2, 2, 2, 2, 2, 2, 2]\n"
     ]
    }
   ],
   "source": [
    "digits = [1,6,7,8,9,10]\n",
    "\n",
    "zug = []\n",
    "\n",
    "while len(digits) < 15:\n",
    "\n",
    "    for digit in digits:\n",
    "        \n",
    "        zug.append(digit+1)\n",
    "        \n",
    "    digits.append(1) \n",
    "    \n",
    "     \n",
    "    \n",
    "print(digits)\n",
    "print(zug)"
   ]
  },
  {
   "cell_type": "code",
   "execution_count": null,
   "metadata": {},
   "outputs": [],
   "source": [
    "#Zip Object Practice \n",
    "\n",
    "matrix = [[1,2,3],[4,5,6],[7,8,9]]\n",
    "\n",
    "for tuple in zip(*matrix):\n",
    "    \n",
    "    print(list(tuple))"
   ]
  },
  {
   "cell_type": "code",
   "execution_count": null,
   "metadata": {},
   "outputs": [],
   "source": [
    "names = ['deger','dic','richard','seth']\n",
    "\n",
    "tags = ['x'+ str(num) for num in range(len(names))]\n",
    "\n",
    "dicter = dict(zip(tags,names))\n",
    "\n",
    "print(dicter)"
   ]
  },
  {
   "cell_type": "code",
   "execution_count": null,
   "metadata": {},
   "outputs": [],
   "source": [
    "from collections import Counter\n",
    "\n",
    "numbers = [1,2,3,4,5,6,7,8,1,0,9]\n",
    "\n",
    "counts = Counter(numbers)\n",
    "\n",
    "print(counts)"
   ]
  },
  {
   "cell_type": "code",
   "execution_count": null,
   "metadata": {},
   "outputs": [],
   "source": [
    "import collections\n",
    "\n",
    "words = ['esyde', 'wesbank' , 'waza', 'waza']\n",
    "\n",
    "words_dict = collections.defaultdict(int)\n",
    "\n",
    "for word in words:\n",
    "    \n",
    "    words_dict[word] += 1\n",
    "    \n",
    "print(words_dict)\n",
    "\n",
    "if words_dict['ref'] > -1 : \n",
    "    \n",
    "    print('Gotcha')\n",
    "\n",
    "print(words_dict['whipper'])\n",
    "    \n",
    "print(words_dict)"
   ]
  },
  {
   "cell_type": "code",
   "execution_count": null,
   "metadata": {},
   "outputs": [],
   "source": [
    "A = [0] * 5\n",
    "A[2] = 3\n",
    "print(A)  # Output: [0, 0, 3, 0, 0]"
   ]
  },
  {
   "cell_type": "code",
   "execution_count": null,
   "metadata": {},
   "outputs": [],
   "source": [
    "from typing import Optional\n",
    "\n",
    "class TreeNode:\n",
    "    def __init__(self, val=0 , left = None , right = None):\n",
    "        self.val = val\n",
    "        self.left = left\n",
    "        self.right = right\n",
    "\n",
    "def findHeight(root:Optional[TreeNode]) -> int :\n",
    "    \n",
    "    if not root:\n",
    "        return 0\n",
    "    \n",
    "    left_height = findHeight(root.left) + 1\n",
    "    right_height = findHeight(root.right) + 1\n",
    "    \n",
    "    return max(left_height,right_height)"
   ]
  },
  {
   "cell_type": "code",
   "execution_count": null,
   "metadata": {},
   "outputs": [],
   "source": [
    "mat = [[7,6,5]]\n",
    "\n",
    "mat = zip(*mat)\n",
    "\n",
    "print (list(mat))\n",
    "\n",
    "[(7,), (6,), (5,)]"
   ]
  },
  {
   "cell_type": "code",
   "execution_count": null,
   "metadata": {},
   "outputs": [],
   "source": [
    "# Convert integer into constituent digits \n",
    "\n",
    "def converter(num:int) -> List[int]:\n",
    "    \n",
    "    digits = []\n",
    "    \n",
    "    while num > 0:\n",
    "        \n",
    "        digit = num % 10\n",
    "        digits.append(digit)\n",
    "        num //= 10\n",
    "        \n",
    "    return digits[::-1]\n",
    "\n",
    "converter(45648555)"
   ]
  },
  {
   "cell_type": "code",
   "execution_count": 5,
   "metadata": {},
   "outputs": [
    {
     "name": "stdout",
     "output_type": "stream",
     "text": [
      "qi\n"
     ]
    }
   ],
   "source": [
    "name = 'Tariq'\n",
    "\n",
    "print(name[50:2:-1])"
   ]
  },
  {
   "cell_type": "code",
   "execution_count": 6,
   "metadata": {},
   "outputs": [
    {
     "name": "stdout",
     "output_type": "stream",
     "text": [
      "dict_keys(['tariq', 'whip', 'a'])\n"
     ]
    }
   ],
   "source": [
    "names = ['tariq' , 'whip' , 'a']\n",
    "\n",
    "mexi = { name:1 for name in names}"
   ]
  },
  {
   "cell_type": "code",
   "execution_count": 5,
   "metadata": {},
   "outputs": [
    {
     "data": {
      "text/plain": [
       "[-2, 0, 1, 4, 9, 21]"
      ]
     },
     "execution_count": 5,
     "metadata": {},
     "output_type": "execute_result"
    }
   ],
   "source": [
    "from typing import List\n",
    "\n",
    "def bubbleSort(array:List[int]) -> List[int]:\n",
    "    \n",
    "    for pos in range(len(array)):\n",
    "        \n",
    "        swapped = False\n",
    "        for j in range(1,len(array)-pos):\n",
    "            \n",
    "            if array[j-1] > array[j]:\n",
    "                array[j-1] , array[j] = array[j] , array[j-1]\n",
    "                swapped = True\n",
    "            \n",
    "        if not swapped:\n",
    "            return array\n",
    "        \n",
    "    return array\n",
    "\n",
    "data  = [4,0,1,9,21,-2]\n",
    "\n",
    "bubbleSort(data)\n",
    "\n"
   ]
  },
  {
   "cell_type": "code",
   "execution_count": 2,
   "metadata": {},
   "outputs": [
    {
     "data": {
      "text/plain": [
       "[-2, 0, 1, 5, 89]"
      ]
     },
     "execution_count": 2,
     "metadata": {},
     "output_type": "execute_result"
    }
   ],
   "source": [
    "def selectionSort(array):\n",
    "    \n",
    "    min_idx = 0\n",
    "    \n",
    "    for pos in range(len(array)):\n",
    "        \n",
    "        min_idx = pos \n",
    "        \n",
    "        for j  in range(pos+1,len(array)):\n",
    "            \n",
    "            if array[j] < array[min_idx]:\n",
    "                min_idx = j\n",
    "                \n",
    "        array[pos] , array[min_idx] = array[min_idx] , array[pos]\n",
    "    \n",
    "    return array\n",
    "\n",
    "selectionSort([5,0,-2,1,89])"
   ]
  },
  {
   "cell_type": "code",
   "execution_count": 2,
   "metadata": {},
   "outputs": [
    {
     "data": {
      "text/plain": [
       "[3, 4, 5]"
      ]
     },
     "execution_count": 2,
     "metadata": {},
     "output_type": "execute_result"
    }
   ],
   "source": [
    "# Extract digits from integer\n",
    "\n",
    "def getDigits(num):\n",
    "    \n",
    "    output = []\n",
    "    \n",
    "    while num :\n",
    "        num , digit = divmod(num,10)\n",
    "        output.append(digit)\n",
    "        \n",
    "    return output[::-1]\n",
    "\n",
    "getDigits(345)"
   ]
  },
  {
   "cell_type": "code",
   "execution_count": null,
   "metadata": {},
   "outputs": [],
   "source": [
    "# using conditions to index a list\n",
    "\n",
    "x = -5\n",
    "result = [1, -1][x < 0]  # x < 0 is True, so result = -1\n",
    "print(result)  # Output: -1\n",
    "\n",
    "x = 5\n",
    "result = [1, -1][x < 0]  # x < 0 is False, so result = 1\n",
    "print(result)  # Output: 1\n",
    "\n",
    "\n",
    "x = 15\n",
    "\n",
    "result = [\"Small\", \"Medium\", \"Large\"][(x > 10) + (x > 20)]\n",
    "print(result)  # Output: \"Medium\"\n"
   ]
  },
  {
   "cell_type": "code",
   "execution_count": 4,
   "metadata": {},
   "outputs": [
    {
     "data": {
      "text/plain": [
       "[-12, 0, 1, 7, 8, 13, 21]"
      ]
     },
     "execution_count": 4,
     "metadata": {},
     "output_type": "execute_result"
    }
   ],
   "source": [
    "# Quicksort\n",
    "\n",
    "from typing import List\n",
    "\n",
    "class Solution:\n",
    "    \n",
    "    def partition(self,array:List[int], start:int, end:int) -> int:\n",
    "        \n",
    "        pivot = array[end]\n",
    "        split = start - 1\n",
    "        \n",
    "        for i in range(start,end):\n",
    "            \n",
    "            if array[i] <= pivot:\n",
    "                \n",
    "                split += 1\n",
    "                array[i] , array[split] = array[split] , array[i]\n",
    "                \n",
    "        array[split + 1] , array[end] = array[end] , array[split+1]\n",
    "        \n",
    "        return split + 1\n",
    "        \n",
    "        \n",
    "    def quickSort(self,array:List[int],start:int,end:int) -> List[int]:\n",
    "        \n",
    "        if start >= end:\n",
    "            return\n",
    "        \n",
    "        pivot = self.partition(array,start,end)\n",
    "        \n",
    "        self.quickSort(array,start,pivot-1)\n",
    "        self.quickSort(array,pivot+1,end)\n",
    "        \n",
    "        return array \n",
    "    \n",
    "test = Solution()\n",
    "data = [1,0,-12,21,13,7,8]\n",
    "\n",
    "test.quickSort(data,0,len(data)-1)"
   ]
  },
  {
   "cell_type": "code",
   "execution_count": 5,
   "metadata": {},
   "outputs": [
    {
     "data": {
      "text/plain": [
       "[-9, 0, 4, 12, 16, 31, 100]"
      ]
     },
     "execution_count": 5,
     "metadata": {},
     "output_type": "execute_result"
    }
   ],
   "source": [
    "# Mergesort\n",
    "\n",
    "from typing import List\n",
    "\n",
    "class Solution:\n",
    "    \n",
    "    def merge(self,array:List[int],left:List[int],right:List[int]) -> None:\n",
    "        \n",
    "        i = j = k = 0\n",
    "        \n",
    "        while i < len(left) and j < len(right):\n",
    "            \n",
    "            if left[i] <= right[j]:\n",
    "                array[k] = left[i]\n",
    "                i += 1\n",
    "            else:\n",
    "                array[k] = right[j]\n",
    "                j += 1\n",
    "                \n",
    "            k += 1\n",
    "            \n",
    "        while i < len(left):\n",
    "            \n",
    "            array[k] = left[i]\n",
    "            k += 1\n",
    "            i += 1\n",
    "            \n",
    "        while j < len(right):\n",
    "            \n",
    "            array[k] = right[j]\n",
    "            k += 1\n",
    "            j += 1\n",
    "            \n",
    "    def mergeSort(self,array:List[int]) -> List[int]:\n",
    "        \n",
    "        if len(array) < 2:\n",
    "            return\n",
    "        \n",
    "        mid = len(array) // 2\n",
    "        left = array[:mid]\n",
    "        right = array[mid:]\n",
    "        \n",
    "        self.mergeSort(left)\n",
    "        self.mergeSort(right)\n",
    "        \n",
    "        self.merge(array,left,right)\n",
    "        \n",
    "        return array\n",
    "    \n",
    "    \n",
    "test = Solution()\n",
    "data = [4,-9,0,31,12,16,100]\n",
    "\n",
    "test.mergeSort(data)\n",
    "                \n",
    "        \n",
    "        "
   ]
  },
  {
   "cell_type": "code",
   "execution_count": null,
   "metadata": {},
   "outputs": [],
   "source": [
    "# Zig-Jag Conversion\n",
    "\n",
    "s = 'PAYPALISHIRING'\n",
    "rows = 4 \n",
    "\n",
    "mat = [['P',' ',' ','I',' ',' ','N'],\n",
    "       ['A',' ','L','S',' ','I','G'],\n",
    "       ['Y','A',' ','H','R',' ',' '],\n",
    "       ['P',' ',' ','I',' ',' ',' ']]\n"
   ]
  },
  {
   "cell_type": "code",
   "execution_count": 2,
   "metadata": {},
   "outputs": [
    {
     "name": "stdout",
     "output_type": "stream",
     "text": [
      "['hello', 'world', '!', 'Python']\n"
     ]
    }
   ],
   "source": [
    "# Used to filter out empty strings or objects from a list\n",
    "\n",
    "strings = [\"hello\", \"\", \"world\", \"\", \"!\", \"Python\", \"\"]\n",
    "\n",
    "non_empty_strings = filter(None, strings)\n",
    "print(list(non_empty_strings))  # Outputs: ['hello', 'world', '!', 'Python']\n"
   ]
  },
  {
   "cell_type": "code",
   "execution_count": 18,
   "metadata": {},
   "outputs": [
    {
     "name": "stdout",
     "output_type": "stream",
     "text": [
      "[[1, 2, 3, 4, 5], [6, 7, 8, 9, 10]]\n"
     ]
    }
   ],
   "source": [
    "# Converting between 1D to 2D array and vice versa\n",
    "\n",
    "array_1D = [1,2,3,4,5,6,7,8,9,10]\n",
    "array_2D = [[1,2,3],[10,9,6],[0,8,4]]\n",
    "\n",
    "output_1D = []\n",
    "output_2D = [[0 for _ in range(5)] for _ in range(2)]\n",
    "\n",
    "# Convert 1D to 2 x 5 , m = 2 , n = 5    \n",
    "\n",
    "for i in range(2):\n",
    "    for j in range(5):\n",
    "        \n",
    "        k = i * 5 + j\n",
    "        output_2D[i][j] = array_1D[k]\n",
    "        \n",
    "print(output_2D)\n"
   ]
  },
  {
   "cell_type": "code",
   "execution_count": null,
   "metadata": {},
   "outputs": [],
   "source": [
    "# Converting between 1D to 2D array and vice versa without making grid\n",
    "\n",
    "array_1d = [1,2,3,4,5,6,7,8,9,10]\n",
    "array_2d = []\n",
    "\n",
    "rows = len(array_2d)\n",
    "cols = len(array_2d[0])\n",
    "\n",
    "for i in range(rows):\n",
    "    row = []\n",
    "    for j in range(cols):\n",
    "        k = i * cols + j  # Calculate the index in the 1D array\n",
    "        row.append(array_1d[k])\n",
    "    array_2d.append(row)\n",
    "\n",
    "# Output the 2D array\n",
    "for row in array_2d:\n",
    "    print(row)"
   ]
  },
  {
   "cell_type": "code",
   "execution_count": 22,
   "metadata": {},
   "outputs": [
    {
     "name": "stdout",
     "output_type": "stream",
     "text": [
      "[1, 2, 3, 4, 5, 6, 7, 8, 9]\n"
     ]
    }
   ],
   "source": [
    "# Converting from 2D to 1D array\n",
    "\n",
    "array_2d = [\n",
    "    [1, 2, 3],\n",
    "    [4, 5, 6],\n",
    "    [7, 8, 9]\n",
    "]\n",
    "\n",
    "# Flattening using for loop\n",
    "output = []\n",
    "for row in array_2d:\n",
    "    output.extend(row)\n",
    "\n",
    "print(output)\n",
    "\n"
   ]
  },
  {
   "cell_type": "code",
   "execution_count": null,
   "metadata": {},
   "outputs": [],
   "source": [
    "from typing import List\n",
    "\n",
    "class Solution:\n",
    "    def construct2DArray(self, original: List[int], m: int, n: int) -> List[List[int]]:\n",
    "        # Check if the number of elements matches the required size of the 2D array\n",
    "        if len(original) != m * n:\n",
    "            return []\n",
    "        \n",
    "        # Initialize the 2D array with zeros or any placeholder\n",
    "        result = [[0] * n for _ in range(m)]\n",
    "        \n",
    "        # Fill the 2D array using the formula\n",
    "        for k in range(len(original)):\n",
    "            i = k // n  # Row index\n",
    "            j = k % n   # Column index\n",
    "            result[i][j] = original[k]\n",
    "        \n",
    "        return result\n",
    "\n",
    "# Example Usage\n",
    "original = [1, 2, 3, 4]\n",
    "m = 2\n",
    "n = 2\n",
    "\n",
    "sol = Solution()\n",
    "output = sol.construct2DArray(original, m, n)\n",
    "print(output)"
   ]
  },
  {
   "cell_type": "code",
   "execution_count": 33,
   "metadata": {},
   "outputs": [
    {
     "name": "stdout",
     "output_type": "stream",
     "text": [
      "{1, 2, 3, 4, 5, 6, 7}\n",
      "{3}\n",
      "{1, 2, 4, 5, 6, 7}\n"
     ]
    }
   ],
   "source": [
    "#set operators practice\n",
    "\n",
    "set_A = set([1,2,3])\n",
    "set_B = set([3,4,5,6,7])\n",
    "\n",
    "union = set_A | set_B\n",
    "print(union)\n",
    "\n",
    "intersection = set_A & set_B\n",
    "print(intersection)\n",
    "\n",
    "symet = set_A.symmetric_difference(set_B)\n",
    "print(symet)"
   ]
  },
  {
   "cell_type": "code",
   "execution_count": 2,
   "metadata": {},
   "outputs": [
    {
     "data": {
      "text/plain": [
       "6"
      ]
     },
     "execution_count": 2,
     "metadata": {},
     "output_type": "execute_result"
    }
   ],
   "source": [
    "# Gcd calculation\n",
    "\n",
    "a = 18 \n",
    "b = 102\n",
    "\n",
    "def gcd(a,b):\n",
    "    \n",
    "    while b != 0:\n",
    "        a,b = b , a%b       \n",
    "    return a\n",
    "\n",
    "gcd(a,b)\n"
   ]
  },
  {
   "cell_type": "code",
   "execution_count": 10,
   "metadata": {},
   "outputs": [
    {
     "name": "stdout",
     "output_type": "stream",
     "text": [
      "defaultdict(<class 'int'>, {(0, 2): 1, (0, 7): 4, (1, 7): 1, (1, 8): 1, (1, 9): 1, (2, 1): 4, (2, 2): 1, (2, 4): 5, (3, 1): 1, (3, 4): 1, (3, 5): 1, (3, 8): 6, (3, 10): 2, (4, 1): 1, (4, 4): 1, (4, 5): 1, (4, 8): 1, (4, 9): 1, (4, 10): 1, (5, 10): 1, (6, 7): 5, (6, 8): 1, (6, 9): 1, (7, 7): 1, (7, 8): 1})\n"
     ]
    },
    {
     "data": {
      "text/plain": [
       "6"
      ]
     },
     "execution_count": 10,
     "metadata": {},
     "output_type": "execute_result"
    }
   ],
   "source": [
    "# Trying max area island with alex's union find : \n",
    "\n",
    "from typing import List,Generator,Tuple\n",
    "from collections import defaultdict\n",
    "\n",
    "class UnionFind:\n",
    "\n",
    "    def __init__(self):\n",
    "        self.parent = {}\n",
    "        self.rank = defaultdict(int)\n",
    "\n",
    "    def find(self,x):\n",
    "        \n",
    "        if x not in self.parent:\n",
    "            self.parent[x] = x\n",
    "            self.rank[x] = 1\n",
    "\n",
    "        if self.parent[x] != x:\n",
    "            self.parent[x] = self.find(self.parent[x])\n",
    "        return self.parent[x]\n",
    "\n",
    "    def union(self,x,y):\n",
    "\n",
    "        rootX = self.find(x)\n",
    "        rootY = self.find(y)\n",
    "\n",
    "        if rootX != rootY:\n",
    "\n",
    "            if self.rank[rootX] > self.rank[rootY]:\n",
    "                self.parent[rootY] = rootX\n",
    "                self.rank[rootX] += self.rank[rootY]\n",
    "            elif self.rank[rootX] < self.rank[rootY]:\n",
    "                self.parent[rootX] = rootY\n",
    "                self.rank[rootY] += self.rank[rootX]\n",
    "            else:\n",
    "                self.parent[rootY] = rootX\n",
    "                self.rank[rootX] += self.rank[rootY]\n",
    "\n",
    "        return True\n",
    "\n",
    "class Solution:\n",
    "\n",
    "    def neighbors(self,matrix:List[List[int]],r:int,c:int) -> Generator[Tuple[int,int],None,None]:\n",
    "\n",
    "        directions = [(0,-1),(0,1),(1,0),(-1,0)]\n",
    "\n",
    "        for dr,dc in directions:\n",
    "            nr = r + dr\n",
    "            nc = c + dc\n",
    "\n",
    "            if nr >= 0 and nr < len(matrix) and nc >= 0 and nc < len(matrix[0]) and matrix[nr][nc] == 1:\n",
    "                yield (nr,nc)\n",
    "        \n",
    "    def maxAreaOfIsland(self, grid: List[List[int]]) -> int:\n",
    "\n",
    "        uf = UnionFind()\n",
    "\n",
    "        for r in range(len(grid)):\n",
    "            for c in range(len(grid[0])):\n",
    "\n",
    "                if grid[r][c] == 1:\n",
    "                    uf.parent[(r,c)] = (r,c)\n",
    "                    uf.rank[(r,c)] = 1\n",
    "\n",
    "        for r in range(len(grid)):\n",
    "            for c in range(len(grid[0])):\n",
    "\n",
    "                if grid[r][c] == 1:\n",
    "                    for neighbor in self.neighbors(grid,r,c):\n",
    "                        uf.union((r,c),neighbor)\n",
    "\n",
    "        print(uf.rank)\n",
    "        return max(uf.rank.values())\n",
    "    \n",
    "grid = [[0,0,1,0,0,0,0,1,0,0,0,0,0],[0,0,0,0,0,0,0,1,1,1,0,0,0],\n",
    "        [0,1,1,0,1,0,0,0,0,0,0,0,0],[0,1,0,0,1,1,0,0,1,0,1,0,0],\n",
    "        [0,1,0,0,1,1,0,0,1,1,1,0,0],[0,0,0,0,0,0,0,0,0,0,1,0,0],\n",
    "        [0,0,0,0,0,0,0,1,1,1,0,0,0],[0,0,0,0,0,0,0,1,1,0,0,0,0]]\n",
    "\n",
    "test = Solution()\n",
    "test.maxAreaOfIsland(grid)\n"
   ]
  },
  {
   "cell_type": "code",
   "execution_count": 21,
   "metadata": {},
   "outputs": [
    {
     "data": {
      "text/plain": [
       "8"
      ]
     },
     "execution_count": 21,
     "metadata": {},
     "output_type": "execute_result"
    }
   ],
   "source": [
    "# Applying union find / kruskalski to find minimum spanning tree\n",
    "\n",
    "from typing import List \n",
    "from collections import defaultdict\n",
    "\n",
    "class UnionFind:\n",
    "    \n",
    "    def __init__(self):\n",
    "        self.parent = {}\n",
    "        self.rank = defaultdict(lambda:1)\n",
    "        \n",
    "    def find(self,x):\n",
    "        \n",
    "        if x not in self.parent:\n",
    "            self.parent[x] = x\n",
    "            self.rank[x] += 1\n",
    "            \n",
    "        if self.parent[x] != x:\n",
    "            self.parent[x] = self.find(self.parent[x])\n",
    "            \n",
    "        return self.parent[x]\n",
    "            \n",
    "    def union(self,x,y):\n",
    "        \n",
    "        rootX = self.find(x)\n",
    "        rootY = self.find(y)\n",
    "        \n",
    "        if rootX == rootY:\n",
    "            return False \n",
    "            \n",
    "        if self.rank[rootX] > self.rank[rootY]:\n",
    "            self.parent[rootY] = rootX\n",
    "        elif self.rank[rootX] < self.rank[rootY]:\n",
    "            self.parent[rootX] = rootY\n",
    "        else: \n",
    "            self.parent[rootY] = rootX\n",
    "            self.rank[rootX] += 1\n",
    "                \n",
    "        return True\n",
    "        \n",
    "class Solution:\n",
    "    \n",
    "    def minCostConnectPoints(self, points: List[List[int]]) -> int:\n",
    "        \n",
    "        uf = UnionFind()\n",
    "        edges = []\n",
    "        cost = 0\n",
    "        \n",
    "        for i in range(len(points)):\n",
    "            for j in range(i,len(points)):\n",
    "                if i != j:\n",
    "                    \n",
    "                    x1 , y1 = points[i]\n",
    "                    x2 , y2 = points[j]\n",
    "                    \n",
    "                    manhattan_dist = abs(x2-x1) + abs(y2-y1)\n",
    "                    edges.append((i,j,manhattan_dist))\n",
    "                    \n",
    "        edges.sort(key=lambda x : x[2])\n",
    "        \n",
    "        for u,v,weight in edges:\n",
    "            \n",
    "            if uf.find(u) != uf.find(v):\n",
    "                uf.union(u,v)\n",
    "                cost += weight\n",
    "                \n",
    "        return cost\n",
    "            \n",
    "        \n",
    "points = [[0,0],[1,2],[2,1],[3,3]]    \n",
    "test = Solution()\n",
    "test.mincost(points)"
   ]
  },
  {
   "cell_type": "code",
   "execution_count": null,
   "metadata": {},
   "outputs": [],
   "source": [
    "# Big Dijkstra template Practice with cheapest flights within k stops , doesn't work becuase since stops are included dijkstra falls short of the mark\n",
    "\n",
    "import heapq\n",
    "from collections import defaultdict\n",
    "from typing import List\n",
    "\n",
    "\n",
    "class Solution:\n",
    "    \n",
    "    def dijkstra(self,flights:List[List[int]],src:int,dst:int,k:int,) -> int:\n",
    "        \n",
    "        visited = set()\n",
    "        heap = []\n",
    "        \n",
    "        prev_vertex = defaultdict(list)\n",
    "        graph = defaultdict(list)\n",
    "        distances = defaultdict(int)\n",
    "        \n",
    "        for u,v,w in data:\n",
    "            graph[u].append((v,w))\n",
    "            distances[u] = float('inf')\n",
    "            \n",
    "        distances[src] = 0 \n",
    "        heap.append((0,src))\n",
    "        \n",
    "        while heap:\n",
    "            \n",
    "            cur_dist , cur_node = heapq.heappop(heap)\n",
    "            \n",
    "            if cur_dist > distances[cur_node]:\n",
    "                continue\n",
    "            \n",
    "            if cur_node in visited:\n",
    "                continue\n",
    "            \n",
    "            visited.add(cur_node)\n",
    "        \n",
    "            for node , weight in graph[cur_node]:\n",
    "                \n",
    "                if node not in visited:\n",
    "                    distance = cur_dist + weight\n",
    "\n",
    "                    if distance < distances[node] and len(prev_vertex[node]) <= k:\n",
    "                        distances[node] = distance\n",
    "                        heapq.heappush(heap,(distance,node))\n",
    "                        prev_vertex[node].append(cur_node)\n",
    "                    \n",
    "        return distances[dst]\n",
    "           \n",
    "\n",
    "n = 4\n",
    "flights = [[0,1,100],[1,2,100],[2,0,100],[1,3,600],[2,3,200]] \n",
    "src = 0 \n",
    "dst = 3\n",
    "k = 1     \n",
    "        "
   ]
  },
  {
   "cell_type": "code",
   "execution_count": null,
   "metadata": {},
   "outputs": [],
   "source": [
    "# Dijkski Practice\n",
    "\n",
    "from typing import List\n",
    "from collections import defaultdict\n",
    "import heapq\n",
    "\n",
    "\n",
    "class Solution:\n",
    "    \n",
    "    def networkDelayTime(self, times: List[List[int]], n: int, k: int) -> int:\n",
    "        \n",
    "        graph = defaultdict(list)\n",
    "        \n",
    "        for u,v,w in times:\n",
    "            graph[u].append((v,w))\n",
    "        \n",
    "        \n",
    "        distances = defaultdict(lambda:float('inf'))\n",
    "        distances[k] = 0\n",
    "        parent = [''] * n\n",
    "        heap = [(0,k)]\n",
    "        \n",
    "\n",
    "        \n",
    "        while heap:\n",
    "            \n",
    "            dist , node = heapq.heappop(heap)\n",
    "            \n",
    "            for v,w in graph[node]:\n",
    "                \n",
    "                if dist + w < distances[v]:\n",
    "                    distances[v] = dist + w \n",
    "                    parent[v] = node\n",
    "                    heapq.heappush(heap,(distances[v],v))\n",
    "                    \n",
    "        max_dist = max(distances.values())\n",
    "                    \n",
    "        return max_dist if max_dist != float('inf') else -1  \n",
    "        "
   ]
  },
  {
   "cell_type": "code",
   "execution_count": null,
   "metadata": {},
   "outputs": [],
   "source": [
    "# Sleep Sorting Algorithm\n",
    "\n",
    "import threading\n",
    "import time\n",
    "\n",
    "def sleep_sort(values):\n",
    "    output = []  # This will store the sorted values\n",
    "    \n",
    "    # Function for each thread to execute\n",
    "    def sleep_and_append(val):\n",
    "        # Sleep for a time proportional to the value\n",
    "        time.sleep(val)\n",
    "        output.append(val)\n",
    "    \n",
    "    threads = []\n",
    "    for val in values:\n",
    "        # Create a thread for each value in the input list\n",
    "        thread = threading.Thread(target=sleep_and_append, args=(val,))\n",
    "        threads.append(thread)\n",
    "        thread.start()  # Start the thread\n",
    "\n",
    "    # Wait for all threads to complete\n",
    "    for thread in threads:\n",
    "        thread.join()\n",
    "\n",
    "    return output\n",
    "\n",
    "# Example usage\n",
    "unsorted_values = [4, 2, 3, 1, 5]\n",
    "sorted_values = sleep_sort(unsorted_values)\n",
    "print(\"Sorted values:\", sorted_values)"
   ]
  },
  {
   "cell_type": "code",
   "execution_count": null,
   "metadata": {},
   "outputs": [],
   "source": [
    "# Calculate Minimum Enegery Needed By a Drone\n",
    "\n",
    "def calcDroneMinEnergy(route):\n",
    "    # Start with no energy consumption\n",
    "    min_energy = 0\n",
    "    current_energy = 0\n",
    "\n",
    "    for i in range(1, len(route)):\n",
    "        # Calculate the change in altitude\n",
    "        delta_z = route[i][2] - route[i - 1][2]\n",
    "        \n",
    "        # Update the current energy level\n",
    "        current_energy -= delta_z\n",
    "\n",
    "        # If current energy is negative, that means we need more energy for ascent\n",
    "        if current_energy < min_energy:\n",
    "            min_energy = current_energy\n",
    "\n",
    "    # The minimum energy required is the absolute value of the minimum energy level reached\n",
    "    return abs(min_energy)\n",
    "\n",
    "# Example usage\n",
    "route = [ [0,   2, 10],[3,   5,  0],[9,  20,  6],[10, 12, 15],[10, 10,  8] ]\n",
    "print(calcDroneMinEnergy(route))  # Output will be 2"
   ]
  },
  {
   "cell_type": "code",
   "execution_count": null,
   "metadata": {},
   "outputs": [],
   "source": [
    "# Move all values except one specified value to the front of a list\n",
    "\n",
    "nums = [0,1,2,2,3,0,4,2]\n",
    "\n",
    "pointer_1 = 0\n",
    "\n",
    "val = 2 \n",
    "\n",
    "for i in range (0,len(nums)) : \n",
    "    \n",
    "    if nums[i] != val : \n",
    "        \n",
    "        nums[pointer_1] = nums[i]\n",
    "        \n",
    "        pointer_1 += 1 \n",
    "        \n",
    "        \n",
    "for i in range (pointer_1, len(nums)) : \n",
    "    \n",
    "    nums[i] = '_'\n",
    "\n",
    "print(nums)        \n",
    "print(pointer_1)"
   ]
  },
  {
   "cell_type": "code",
   "execution_count": null,
   "metadata": {},
   "outputs": [],
   "source": [
    "# Plus one to array\n",
    "\n",
    "A = [9, 5, 4, 5, 9, 9]\n",
    "B = [9]\n",
    "C = []\n",
    "D = [5, 4, 3]\n",
    "E = [9, 9, 9]\n",
    "\n",
    "\n",
    "def PlusOne(array):\n",
    "\n",
    "    if not array:\n",
    "\n",
    "        return 0\n",
    "\n",
    "    for i in range(len(array)-1, -1, -1):\n",
    "\n",
    "        if array[i] == 9 and i != 0:\n",
    "\n",
    "            array[i] = 0\n",
    "\n",
    "        elif array[i] == 9 and i == 0:\n",
    "\n",
    "            array[i] = 0\n",
    "\n",
    "            array.insert(0, 1)\n",
    "\n",
    "        else:\n",
    "\n",
    "            array[i] += 1\n",
    "\n",
    "            break\n",
    "\n",
    "    return array\n",
    "\n",
    "\n",
    "print(PlusOne(B))"
   ]
  },
  {
   "cell_type": "code",
   "execution_count": null,
   "metadata": {},
   "outputs": [],
   "source": [
    "# Improved above\n",
    "\n",
    "A = [9, 5, 4, 5, 9, 9]\n",
    "B = [9]\n",
    "C = []\n",
    "D = [5, 4, 3]\n",
    "E = [9, 9, 9]\n",
    "\n",
    "\n",
    "def plusOne(digits):\n",
    "\n",
    "    for i in range(len(digits) - 1, -1, -1):\n",
    "\n",
    "        if digits[i] < 9:\n",
    "\n",
    "            digits[i] += 1\n",
    "            return digits\n",
    "\n",
    "        digits[0]\n",
    "\n",
    "    return [1] + digits\n",
    "\n",
    "\n",
    "print(plusOne(A))"
   ]
  },
  {
   "cell_type": "code",
   "execution_count": 1,
   "metadata": {},
   "outputs": [],
   "source": [
    "# Find if valid anagram \n",
    "\n",
    "def Anagram(s, t):\n",
    "\n",
    "    dict = {}\n",
    "\n",
    "    if len(s) != len(t):\n",
    "\n",
    "        return False\n",
    "\n",
    "    for i in range(0, len(s)):\n",
    "\n",
    "        if s[i] not in dict:\n",
    "\n",
    "            dict[s[i]] = 1\n",
    "        else:\n",
    "\n",
    "            dict[s[i]] += 1\n",
    "\n",
    "    for i in range(0, len(t)):\n",
    "\n",
    "        if t[i] not in dict:\n",
    "\n",
    "            return False\n",
    "\n",
    "        else:\n",
    "\n",
    "            dict[t[i]] -= 1\n",
    "\n",
    "    print(dict)\n",
    "\n",
    "    for key in dict.keys():\n",
    "\n",
    "        if dict[key] != 0:\n",
    "\n",
    "            return False\n",
    "\n",
    "    return True\n",
    "\n",
    "\n",
    "s = 'anagram'\n",
    "\n",
    "t = 'nagaram'\n",
    "\n",
    "print(s+t)\n",
    "\n",
    "print(Anagram(s, t))"
   ]
  },
  {
   "cell_type": "markdown",
   "metadata": {},
   "source": [
    "**Power of Three:** \n",
    "\n",
    "Given an integer n , return true if it is a power of three. Otherwise , return false.\n",
    "\n",
    "An integer n is a power of three , if there exists an integer x such that n == 3<sup>x</sup>"
   ]
  },
  {
   "cell_type": "code",
   "execution_count": null,
   "metadata": {},
   "outputs": [],
   "source": [
    "def isPowerOfThree(n):\n",
    "    if n <= 0:\n",
    "        return False\n",
    "\n",
    "    while n > 1:\n",
    "        if n % 3 != 0:\n",
    "            return False\n",
    "        n /= 3\n",
    "\n",
    "    return n == 1\n",
    "\n",
    "isPowerOfThree(3)"
   ]
  },
  {
   "cell_type": "code",
   "execution_count": null,
   "metadata": {},
   "outputs": [],
   "source": [
    "# Finding the factorial of a number\n",
    "\n",
    "number = int(input('Give me a number'))\n",
    "\n",
    "factorial = 1\n",
    "\n",
    "if number == 1 or number == 0:\n",
    "    factorial == 1\n",
    "else:\n",
    "    for i in range(number, 0, -1):\n",
    "        factorial = factorial * i\n",
    "\n",
    "print(factorial)\n",
    "\n",
    "# This can be even simpler\n",
    "\n",
    "number = int(input('Give me a number'))\n",
    "\n",
    "factorial_2 = 1\n",
    "\n",
    "for i in range(number, 0, -1):\n",
    "    factorial_2 *= i\n",
    "\n",
    "print(factorial_2)\n",
    "\n",
    "# This can be done with recursion but that requires a different level of minerals "
   ]
  },
  {
   "cell_type": "code",
   "execution_count": null,
   "metadata": {},
   "outputs": [],
   "source": [
    "# Create a Factorial function using recursion\n",
    "\n",
    "def factorial(number):\n",
    "    if number == 1 or number == 0:\n",
    "        return 1\n",
    "    else:\n",
    "        result = number * factorial(number-1)\n",
    "        return result\n",
    "\n",
    "\n",
    "print(factorial(5))"
   ]
  },
  {
   "cell_type": "code",
   "execution_count": null,
   "metadata": {},
   "outputs": [],
   "source": [
    "# Counting number of vowels in a string \n",
    "\n",
    "user_input = input('Enter a word')\n",
    "\n",
    "vowels = ['a', 'e', 'i', 'o', 'u']\n",
    "\n",
    "vowels_count = 0\n",
    "\n",
    "split_string = list(user_input)\n",
    "\n",
    "for char in split_string:\n",
    "    if char in vowels:\n",
    "        vowels_count += 1\n",
    "    else:\n",
    "        vowels_count += 0\n",
    "\n",
    "print('There are', vowels_count, ' vowels in ', user_input)"
   ]
  },
  {
   "cell_type": "code",
   "execution_count": null,
   "metadata": {},
   "outputs": [],
   "source": [
    "# Palindrome linked list\n",
    "\n",
    "def is_palindrome_linked_list(head):\n",
    "    values = []\n",
    "\n",
    "    current = head\n",
    "\n",
    "    while current:\n",
    "        values.append(current.val)\n",
    "        current = current.next\n",
    "\n",
    "    return values == values[::-1]"
   ]
  },
  {
   "cell_type": "code",
   "execution_count": null,
   "metadata": {},
   "outputs": [],
   "source": [
    "# Reverse Linked List\n",
    "def reverse_linked_list(head):\n",
    "\n",
    "    prev = None\n",
    "    current = head\n",
    "\n",
    "    while current:\n",
    "\n",
    "        next_node = current.next\n",
    "        current.next = prev\n",
    "        prev = current\n",
    "        current = next_node\n",
    "\n",
    "    return prev"
   ]
  },
  {
   "cell_type": "code",
   "execution_count": null,
   "metadata": {},
   "outputs": [],
   "source": [
    "# Climb Stairs Algo (Dynamic Programming)\n",
    "\n",
    "class Solution:\n",
    "    def climbStairs(n: int) -> int:\n",
    "\n",
    "        if n < 2:\n",
    "\n",
    "            return 1\n",
    "\n",
    "        num_wys = [1] * (n + 2)\n",
    "\n",
    "        num_wys[0] = 1\n",
    "        num_wys[1] = 1\n",
    "\n",
    "        for i in range(2, n+1):\n",
    "\n",
    "            num_wys[i] = num_wys[i-2] + num_wys[i-1]\n",
    "\n",
    "        return num_wys[n]\n",
    "\n",
    "\n",
    "Solution.climbStairs(0)"
   ]
  },
  {
   "cell_type": "code",
   "execution_count": null,
   "metadata": {},
   "outputs": [],
   "source": [
    "def climbStairs(n):\n",
    "    \"\"\"\n",
    "    :type n: int\n",
    "    :rtype: int\n",
    "    \"\"\"\n",
    "    memo = {}\n",
    "\n",
    "    def helper(k):\n",
    "        if k < 0:\n",
    "            return 0\n",
    "        if k == 0:\n",
    "            return 1\n",
    "        if k not in memo:\n",
    "            memo[k] = helper(k-2) + helper(k-1)\n",
    "        return memo[k]\n",
    "    return memo\n",
    "\n",
    "\n",
    "climbStairs(9)"
   ]
  },
  {
   "cell_type": "code",
   "execution_count": null,
   "metadata": {},
   "outputs": [],
   "source": [
    "# Basic Recursive Function \n",
    "\n",
    "def walk(final, i) : \n",
    "    \n",
    "    if final == 0 : \n",
    "        \n",
    "        print('You are at the location')\n",
    "        \n",
    "        return \n",
    "    \n",
    "    else : \n",
    "        \n",
    "        print('You are at step ' , i )\n",
    "        \n",
    "        walk(final-1, i + 1)\n",
    "        \n",
    "        print(i)\n",
    "        \n",
    "        \n",
    "        \n",
    "walk(10, 0)"
   ]
  },
  {
   "cell_type": "code",
   "execution_count": null,
   "metadata": {},
   "outputs": [],
   "source": [
    "# Basic Count Down To Zero Recursive Function\n",
    "\n",
    "def CountToZero (n):\n",
    "    \n",
    "    print(n)\n",
    "    \n",
    "    if n == 0 : \n",
    "        \n",
    "        return\n",
    "    \n",
    "    CountToZero(n-1)\n",
    "    \n",
    "CountToZero(10)"
   ]
  },
  {
   "cell_type": "code",
   "execution_count": null,
   "metadata": {},
   "outputs": [],
   "source": [
    "# Counting Sub-Arrays Using Recursion\n",
    "\n",
    "names = [\"Adam\",[\"Bob\",[\"Chet\",\"Cat\",],\"Barb\",\"Bert\"],\"Alex\",[\"Bea\",\"Bill\"],\"Ann\"]\n",
    "\n",
    "def count_names(names) : \n",
    "    \n",
    "    count = 0\n",
    "    \n",
    "    for name in names : \n",
    "        \n",
    "        if isinstance(name,list) : \n",
    "            \n",
    "            count = count_names(name)\n",
    "        \n",
    "        else : \n",
    "            \n",
    "            count += 1\n",
    "            \n",
    "    return count \n",
    "            \n",
    "count_names(names)"
   ]
  },
  {
   "cell_type": "code",
   "execution_count": null,
   "metadata": {},
   "outputs": [],
   "source": [
    "# Trees inorder traversal\n",
    "\n",
    "def inordertraversal (root):\n",
    "    \n",
    "    murray = []\n",
    "    \n",
    "    def travis(node,array):\n",
    "        \n",
    "        if not node : \n",
    "            \n",
    "            return array\n",
    "        \n",
    "        travis(node.left,array)\n",
    "        \n",
    "        array.append(node.val)\n",
    "        \n",
    "        travis(node.right,array)\n",
    "        \n",
    "        return array\n",
    "        \n",
    "    return travis(root,murray)"
   ]
  },
  {
   "cell_type": "markdown",
   "metadata": {},
   "source": [
    "The above inorder traversal has a slight issue , the return values of each recursive call are not being stored at all and are basically discarded , the funnction luckily still works since we are appending the value but this is bad practice , here is the corrected code : \n"
   ]
  },
  {
   "cell_type": "code",
   "execution_count": null,
   "metadata": {},
   "outputs": [],
   "source": [
    "def inordertraversal (root):\n",
    "    \n",
    "    murray = []\n",
    "    \n",
    "    def travis(node,array):\n",
    "        \n",
    "        if not node : \n",
    "            \n",
    "            return array\n",
    "        \n",
    "        array = travis(node.left,array)\n",
    "        \n",
    "        array.append(node.val)\n",
    "        \n",
    "        array = travis(node.right,array)\n",
    "        \n",
    "        return array\n",
    "        \n",
    "    return travis(root,murray)"
   ]
  },
  {
   "cell_type": "code",
   "execution_count": 3,
   "metadata": {},
   "outputs": [
    {
     "data": {
      "text/plain": [
       "[[], [1], [1, 2], [1, 2, 3], [1, 3], [2], [2, 3], [3]]"
      ]
     },
     "execution_count": 3,
     "metadata": {},
     "output_type": "execute_result"
    }
   ],
   "source": [
    "# Subsets (backtracking)\n",
    "\n",
    "from typing import List\n",
    "\n",
    "class Solution:\n",
    "    def subsets(self, nums: List[int]) -> List[List[int]]:\n",
    "        \n",
    "        subs = []\n",
    "        \n",
    "        def backtrack(state:List[int],start:int):\n",
    "            \n",
    "            subs.append(state)\n",
    "            \n",
    "            for i in range(start,len(nums)):\n",
    "                backtrack(state + [nums[i]] , i + 1)\n",
    "                \n",
    "        backtrack([],0)\n",
    "        \n",
    "        return subs\n",
    "            \n",
    "\n",
    "nums = [1,2,3]\n",
    "\n",
    "test = Solution()\n",
    "test.subsets(nums)\n"
   ]
  },
  {
   "cell_type": "code",
   "execution_count": 7,
   "metadata": {},
   "outputs": [
    {
     "data": {
      "text/plain": [
       "[[1, 2, 3], [1, 3, 2], [2, 1, 3], [2, 3, 1], [3, 1, 2], [3, 2, 1]]"
      ]
     },
     "execution_count": 7,
     "metadata": {},
     "output_type": "execute_result"
    }
   ],
   "source": [
    "# Permuations\n",
    "\n",
    "from typing import List\n",
    "\n",
    "class Solution:\n",
    "    def permute(self,nums:List[int]) -> List[List[int]]:\n",
    "        \n",
    "        permutations = []\n",
    "        \n",
    "        def backtrack(state:List[int],bank:List[int]) -> None:\n",
    "            \n",
    "            if not bank:\n",
    "                permutations.append(state)\n",
    "                \n",
    "            for i in range(len(bank)):\n",
    "                backtrack(state + [bank[i]] , bank[:i] + bank[i+1:])\n",
    "        \n",
    "        backtrack([],nums)    \n",
    "        return permutations\n",
    "\n",
    "test = Solution()\n",
    "test.permute([1,2,3])\n",
    "        \n",
    "        "
   ]
  },
  {
   "cell_type": "code",
   "execution_count": 12,
   "metadata": {},
   "outputs": [
    {
     "data": {
      "text/plain": [
       "[['a', 'd'],\n",
       " ['a', 'e'],\n",
       " ['a', 'f'],\n",
       " ['b', 'd'],\n",
       " ['b', 'e'],\n",
       " ['b', 'f'],\n",
       " ['c', 'd'],\n",
       " ['c', 'e'],\n",
       " ['c', 'f']]"
      ]
     },
     "execution_count": 12,
     "metadata": {},
     "output_type": "execute_result"
    }
   ],
   "source": [
    "# Phone Letter Combinantions\n",
    "\n",
    "from typing import List\n",
    "\n",
    "class Solution:\n",
    "    def letterCombinations(self, digits: str) -> List[str]:\n",
    "\n",
    "        if not digits:\n",
    "            return []\n",
    "\n",
    "        phone= {\n",
    "            '2':['a','b','c'],\n",
    "            '3':['d','e','f'],\n",
    "            '4':['g','h','i'],\n",
    "            '5':['j','k','l'],\n",
    "            '6':['m','n','o'],\n",
    "            '7':['p','q','r','s'],\n",
    "            '8':['t','u','v'],\n",
    "            '9':['w','x','y','z']\n",
    "        }\n",
    "        \n",
    "        combinations = []\n",
    "        \n",
    "        def backtrack(state:List[str],idx:int) -> None:\n",
    "            \n",
    "            if len(state) == len(digits):\n",
    "                combinations.append(state)\n",
    "                return \n",
    "                \n",
    "            for letter in phone[digits[idx]]:\n",
    "                backtrack(state + [letter], idx + 1)\n",
    "                \n",
    "        backtrack([],0)\n",
    "                \n",
    "        return combinations\n",
    "    \n",
    "test = Solution()\n",
    "digits = \"23\"\n",
    "\n",
    "test.letterCombinations(digits)"
   ]
  },
  {
   "cell_type": "code",
   "execution_count": 20,
   "metadata": {},
   "outputs": [
    {
     "data": {
      "text/plain": [
       "True"
      ]
     },
     "execution_count": 20,
     "metadata": {},
     "output_type": "execute_result"
    }
   ],
   "source": [
    "# Word Search I (Without Variable Assingment , note the difference below and make sure you overstand !)\n",
    "\n",
    "class Solution:\n",
    "    \n",
    "    def __init__(self):\n",
    "        self.visited = set()\n",
    "        \n",
    "    def neighbors(self,board,r,c):\n",
    "        \n",
    "        directions = [(-1,0),(1,0),(0,-1),(0,1)]\n",
    "        \n",
    "        for dr,dc in directions:\n",
    "            nr = r + dr\n",
    "            nc = c + dc\n",
    "            if 0 <= nr < len(board) and 0 <= nc < len(board[0]) and (nr,nc) not in self.visited:\n",
    "                yield (nr,nc)\n",
    "                \n",
    "    def dfs(self,board,r,c,word,idx):\n",
    "        \n",
    "        if word[idx] != board[r][c]:\n",
    "            return False\n",
    "        \n",
    "        if idx == len(word) - 1 and word[idx] == board[r][c]:\n",
    "            return True\n",
    "        \n",
    "        self.visited.add((r,c))\n",
    "        \n",
    "        for nr,nc in self.neighbors(board,r,c):\n",
    "            if self.dfs(board,nr,nc,word,idx+1):\n",
    "                return True\n",
    "        \n",
    "        self.visited.remove((r,c))\n",
    "        \n",
    "        return False\n",
    "    \n",
    "    def exist(self,board: List[List[str]], word: str) -> bool:\n",
    "        \n",
    "        for r in range(len(board)):\n",
    "            for c in range(len(board[0])):\n",
    "                \n",
    "                if board[r][c] == word[0]:\n",
    "                    if self.dfs(board,r,c,word,0):\n",
    "                        return True\n",
    "        \n",
    "        return False\n",
    "\n",
    "board = [\n",
    "  ['A','B','C','E'],\n",
    "  ['S','F','C','S'],\n",
    "  ['A','D','E','E']\n",
    "]\n",
    "word = \"ABCCED\"\n",
    "\n",
    "test = Solution()\n",
    "test.exist(board,word)"
   ]
  },
  {
   "cell_type": "code",
   "execution_count": 22,
   "metadata": {},
   "outputs": [
    {
     "data": {
      "text/plain": [
       "True"
      ]
     },
     "execution_count": 22,
     "metadata": {},
     "output_type": "execute_result"
    }
   ],
   "source": [
    "# With Variable Assignment\n",
    "\n",
    "class Solution:\n",
    "    \n",
    "    def __init__(self):\n",
    "        self.visited = set()\n",
    "        \n",
    "    def neighbors(self, board, r, c):\n",
    "        directions = [(-1, 0), (1, 0), (0, -1), (0, 1)]\n",
    "        \n",
    "        for dr, dc in directions:\n",
    "            nr = r + dr\n",
    "            nc = c + dc\n",
    "            if 0 <= nr < len(board) and 0 <= nc < len(board[0]) and (nr, nc) not in self.visited:\n",
    "                yield (nr, nc)\n",
    "                \n",
    "    def dfs(self, board, r, c, word, idx):\n",
    "        \n",
    "        found = False\n",
    "        \n",
    "        if word[idx] != board[r][c]:\n",
    "            return False\n",
    "        \n",
    "        if idx == len(word) - 1:\n",
    "            return True\n",
    "        \n",
    "        self.visited.add((r, c))\n",
    "        \n",
    "        for nr, nc in self.neighbors(board, r, c):\n",
    "            found = self.dfs(board, nr, nc, word, idx + 1)\n",
    "            if found:\n",
    "                return True\n",
    "        \n",
    "        self.visited.remove((r, c))\n",
    "        \n",
    "        return found\n",
    "    \n",
    "    def exist(self, board: List[List[str]], word: str) -> bool:\n",
    "        for r in range(len(board)):\n",
    "            for c in range(len(board[0])):\n",
    "                if board[r][c] == word[0]:\n",
    "                    found = self.dfs(board, r, c, word, 0)\n",
    "                    if found:\n",
    "                        return True\n",
    "        \n",
    "        return False\n",
    "    \n",
    "board = [\n",
    "  ['A','B','C','E'],\n",
    "  ['S','F','C','S'],\n",
    "  ['A','D','E','E']\n",
    "]\n",
    "word = \"ABCCED\"\n",
    "\n",
    "test = Solution()\n",
    "test.exist(board,word)"
   ]
  },
  {
   "cell_type": "code",
   "execution_count": 11,
   "metadata": {},
   "outputs": [
    {
     "data": {
      "text/plain": [
       "[[1, 2, 3], [1, 3, 2], [2, 1, 3], [2, 3, 1], [3, 1, 2], [3, 2, 1]]"
      ]
     },
     "execution_count": 11,
     "metadata": {},
     "output_type": "execute_result"
    }
   ],
   "source": [
    "# Permutations\n",
    "\n",
    "from typing import List\n",
    "\n",
    "def permute(nums: List[int]) -> List[List[int]]:\n",
    "    \n",
    "    permutations = []\n",
    "    \n",
    "    def backtrack(state,remaining):\n",
    "        \n",
    "        if len(state) == len(nums):\n",
    "            permutations.append(state)\n",
    "            \n",
    "        for i in range(len(remaining)):\n",
    "            backtrack(state + [remaining[i]] , remaining[:i] + remaining[i+1:])\n",
    "        \n",
    "    backtrack([],nums)\n",
    "    \n",
    "    return permutations\n",
    "\n",
    "permute([1,2,3])"
   ]
  },
  {
   "cell_type": "code",
   "execution_count": null,
   "metadata": {},
   "outputs": [],
   "source": [
    "# N Queens\n",
    "\n",
    "from typing import List\n",
    "\n",
    "def solveNQueens(n: int) -> List[List[str]]:\n",
    "    \n",
    "    cols = set()\n",
    "    pos_diag = set()\n",
    "    neg_diag = set()\n",
    "    \n",
    "    output = []\n",
    "    board = [['.' for _ in range(n)] for _ in range(n) ]\n",
    "    \n",
    "    def backtrack(row):\n",
    "        \n",
    "        if row == n:\n",
    "            output.append([''.join(r) for r in board])\n",
    "            return\n",
    "        \n",
    "        for col in range(n):\n",
    "            \n",
    "            if col in cols or (row + col) in pos_diag or (row-col) in neg_diag:\n",
    "                continue\n",
    "            \n",
    "            cols.add(col)\n",
    "            pos_diag.add(row+col)\n",
    "            neg_diag.add(row-col)\n",
    "            \n",
    "            board[row][col] = 'Q'\n",
    "            \n",
    "            backtrack(row + 1)\n",
    "            \n",
    "            cols.remove(col)\n",
    "            pos_diag.remove(row+col)\n",
    "            neg_diag.remove(row-col)\n",
    "            \n",
    "            board[row][col] = '.'\n",
    "            \n",
    "    backtrack(0)\n",
    "    \n",
    "    return output"
   ]
  },
  {
   "cell_type": "code",
   "execution_count": null,
   "metadata": {},
   "outputs": [
    {
     "data": {
      "text/plain": [
       "[1, 1, 4, 2, 1, 1, 0, 0]"
      ]
     },
     "execution_count": 3,
     "metadata": {},
     "output_type": "execute_result"
    }
   ],
   "source": [
    "def dailyTemperature(temps):\n",
    "    \n",
    "    stack = [] # Mono Decreasing\n",
    "    output = [0] * len(temps)\n",
    "    \n",
    "    for i in range(len(temps)):\n",
    "        \n",
    "        cur_temp = temps[i]\n",
    "        \n",
    "        while stack and cur_temp > stack[-1][0]:\n",
    "            \n",
    "            colder_temp , colder_day = stack.pop()\n",
    "            output[colder_day] = i - colder_day\n",
    "            \n",
    "        stack.append((cur_temp,i))\n",
    "        \n",
    "    return output\n",
    "\n",
    "T = [73, 74, 75, 71, 69, 72, 76, 73]\n",
    "dailyTemperature(T)\n",
    "            "
   ]
  },
  {
   "cell_type": "code",
   "execution_count": null,
   "metadata": {},
   "outputs": [
    {
     "name": "stdout",
     "output_type": "stream",
     "text": [
      "[(0, 1), (3, 3), (5, 1), (8, 4), (10, 2)]\n"
     ]
    },
    {
     "data": {
      "text/plain": [
       "3"
      ]
     },
     "execution_count": 10,
     "metadata": {},
     "output_type": "execute_result"
    }
   ],
   "source": [
    "from typing import List \n",
    "\n",
    "# Example inputs\n",
    "target = 12\n",
    "position = [10, 8, 0, 5, 3]\n",
    "speed = [2, 4, 1, 1, 3]\n",
    "\n",
    "\n",
    "# Example output\n",
    "# Output: 3\n",
    "\n",
    "def car_fleet(target: int, position: List[int], speed: List[int]) -> int:\n",
    "    \n",
    "\n",
    "    combo = list(zip(position,speed))\n",
    "    \n",
    "    if not combo:\n",
    "        return 0 \n",
    "    \n",
    "    stack = [] # Monotonically decreasing -> time to destination\n",
    "    fleets = 1\n",
    "    \n",
    "    for i in range(len(combo)):\n",
    "        \n",
    "        pos , spd = combo[i]\n",
    "        current_ttd = (target-pos) / spd\n",
    "        \n",
    "        if stack and current_ttd < stack[-1]:\n",
    "            fleets += 1\n",
    "            \n",
    "        while stack and current_ttd < stack[-1]:  \n",
    "            stack.pop()\n",
    "            \n",
    "        stack.append(current_ttd)\n",
    "        \n",
    "    return fleets\n",
    "            \n",
    "car_fleet(12,position,speed)              "
   ]
  },
  {
   "cell_type": "code",
   "execution_count": null,
   "metadata": {},
   "outputs": [
    {
     "name": "stdout",
     "output_type": "stream",
     "text": [
      "5 % 3 1\n",
      "4 % 3 2\n",
      "3 % 3 0\n",
      "2 % 3 1\n",
      "1 % 3 2\n",
      "0 % 3 0\n",
      "[2, -1, 2]\n"
     ]
    }
   ],
   "source": [
    "# Implementation of circular array to solve next greater problem , needs some medz :\\\n",
    "\n",
    "def nextGreaterElements(nums: list[int]) -> list[int]:\n",
    "    n = len(nums)\n",
    "    res = [-1] * n  # Initialize result array with -1\n",
    "    stack = []  # Monotonic decreasing stack\n",
    "    \n",
    "    # Traverse the array in reverse, simulating a circular array\n",
    "    for i in range(2 * n - 1, -1, -1):\n",
    "        # Use modulo to simulate the circular array behavior\n",
    "        print(i , '%' , n , nums[i % n])\n",
    "        while stack and stack[-1] <= nums[i % n]:\n",
    "            stack.pop()\n",
    "        \n",
    "        # If the stack is not empty, the top is the next greater element\n",
    "        if i < n:  # Only update results for the first pass\n",
    "            res[i % n] = stack[-1] if stack else -1\n",
    "        \n",
    "        # Push the current element onto the stack\n",
    "        stack.append(nums[i % n])\n",
    "    \n",
    "    return res\n",
    "\n",
    "# Example Usage\n",
    "nums = [0, 2, 1]\n",
    "print(nextGreaterElements(nums))  # Output: [2, -1, 2]"
   ]
  },
  {
   "cell_type": "code",
   "execution_count": null,
   "metadata": {},
   "outputs": [
    {
     "name": "stdout",
     "output_type": "stream",
     "text": [
      "when i = 0 , The left is -1 and right is 6 , so area is -1 - 6 - 1 =  12\n",
      "when i = 1 , The left is 0 and right is 2 , so area is 0 - 2 - 1 =  8\n",
      "when i = 2 , The left is 0 and right is 4 , so area is 0 - 4 - 1 =  15\n",
      "when i = 3 , The left is 2 and right is 4 , so area is 2 - 4 - 1 =  6\n",
      "when i = 4 , The left is -1 and right is 6 , so area is -1 - 6 - 1 =  12\n",
      "when i = 5 , The left is 4 and right is 6 , so area is 4 - 6 - 1 =  3\n"
     ]
    },
    {
     "data": {
      "text/plain": [
       "15"
      ]
     },
     "execution_count": 11,
     "metadata": {},
     "output_type": "execute_result"
    }
   ],
   "source": [
    "def largestRectangleArea(histogram):\n",
    "    \n",
    "    max_area = 0 \n",
    "    n = len(histogram)\n",
    "    \n",
    "    for i in range(n):\n",
    "        \n",
    "        left = i - 1\n",
    "\n",
    "        while left >= 0 and histogram[left] >= histogram[i]:\n",
    "            left -= 1\n",
    "            \n",
    "        right = i + 1\n",
    "        \n",
    "        while right <= n-1  and histogram[right] >= histogram[i]:\n",
    "            right += 1\n",
    "            \n",
    "        print(f'when i = {i} , The left is {left} and right is {right} , so area is {left} - {right} - 1 =  {(right - left -1)*histogram[i]}')\n",
    "        max_area = max(max_area , (right - left -1)*histogram[i])\n",
    "        \n",
    "    return max_area\n",
    "\n",
    "\n",
    "heights  = [2,8,5,6,2,3]\n",
    "\n",
    "largestRectangleArea(heights)\n",
    "            \n",
    "        \n",
    "        "
   ]
  },
  {
   "cell_type": "code",
   "execution_count": null,
   "metadata": {},
   "outputs": [],
   "source": [
    "# Simple Sliding Window\n",
    "# Maximum  Sum of Subarray size k\n",
    "\n",
    "def max_sum_subarray(nums, k):\n",
    "    \n",
    "    \n",
    "\n"
   ]
  }
 ],
 "metadata": {
  "kernelspec": {
   "display_name": "Python 3",
   "language": "python",
   "name": "python3"
  },
  "language_info": {
   "codemirror_mode": {
    "name": "ipython",
    "version": 3
   },
   "file_extension": ".py",
   "mimetype": "text/x-python",
   "name": "python",
   "nbconvert_exporter": "python",
   "pygments_lexer": "ipython3",
   "version": "3.12.3"
  }
 },
 "nbformat": 4,
 "nbformat_minor": 2
}
