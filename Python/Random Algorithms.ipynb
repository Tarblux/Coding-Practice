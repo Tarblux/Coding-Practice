{
 "cells": [
  {
   "cell_type": "markdown",
   "metadata": {},
   "source": [
    "# General Algos"
   ]
  },
  {
   "cell_type": "markdown",
   "metadata": {},
   "source": [
    "**Plus One**"
   ]
  },
  {
   "cell_type": "code",
   "execution_count": null,
   "metadata": {},
   "outputs": [],
   "source": [
    "A = [9, 5, 4, 5, 9, 9]\n",
    "B = [9]\n",
    "C = []\n",
    "D = [5, 4, 3]\n",
    "E = [9, 9, 9]\n",
    "\n",
    "\n",
    "def PlusOne(array):\n",
    "\n",
    "    if not array:\n",
    "\n",
    "        return 0\n",
    "\n",
    "    for i in range(len(array)-1, -1, -1):\n",
    "\n",
    "        if array[i] == 9 and i != 0:\n",
    "\n",
    "            array[i] = 0\n",
    "\n",
    "        elif array[i] == 9 and i == 0:\n",
    "\n",
    "            array[i] = 0\n",
    "\n",
    "            array.insert(0, 1)\n",
    "\n",
    "        else:\n",
    "\n",
    "            array[i] += 1\n",
    "\n",
    "            break\n",
    "\n",
    "    return array\n",
    "\n",
    "\n",
    "print(PlusOne(B))"
   ]
  },
  {
   "cell_type": "code",
   "execution_count": null,
   "metadata": {},
   "outputs": [],
   "source": [
    "A = [9, 5, 4, 5, 9, 9]\n",
    "B = [9]\n",
    "C = []\n",
    "D = [5, 4, 3]\n",
    "E = [9, 9, 9]\n",
    "\n",
    "\n",
    "def plusOne(digits):\n",
    "\n",
    "    for i in range(len(digits) - 1, -1, -1):\n",
    "\n",
    "        if digits[i] < 9:\n",
    "\n",
    "            digits[i] += 1\n",
    "            return digits\n",
    "\n",
    "        digits[0]\n",
    "\n",
    "    return [1] + digits\n",
    "\n",
    "\n",
    "print(plusOne(A))"
   ]
  },
  {
   "cell_type": "markdown",
   "metadata": {},
   "source": [
    "**Valid Anagram Algo**"
   ]
  },
  {
   "cell_type": "code",
   "execution_count": null,
   "metadata": {},
   "outputs": [],
   "source": [
    "def Anagram(s, t):\n",
    "\n",
    "    dict = {}\n",
    "\n",
    "    if len(s) != len(t):\n",
    "\n",
    "        return False\n",
    "\n",
    "    for i in range(0, len(s)):\n",
    "\n",
    "        if s[i] not in dict:\n",
    "\n",
    "            dict[s[i]] = 1\n",
    "        else:\n",
    "\n",
    "            dict[s[i]] += 1\n",
    "\n",
    "    for i in range(0, len(t)):\n",
    "\n",
    "        if t[i] not in dict:\n",
    "\n",
    "            return False\n",
    "\n",
    "        else:\n",
    "\n",
    "            dict[t[i]] -= 1\n",
    "\n",
    "    print(dict)\n",
    "\n",
    "    for key in dict.keys():\n",
    "\n",
    "        if dict[key] != 0:\n",
    "\n",
    "            return False\n",
    "\n",
    "    return True\n",
    "\n",
    "\n",
    "s = 'anagram'\n",
    "\n",
    "t = 'nagaram'\n",
    "\n",
    "print(s+t)\n",
    "\n",
    "print(Anagram(s, t))"
   ]
  },
  {
   "cell_type": "markdown",
   "metadata": {},
   "source": [
    "**Power of Three:** \n",
    "\n",
    "Given an integer n , return true if it is a power of three. Otherwise , return false.\n",
    "\n",
    "An integer n is a power of three , if there exists an integer x such that n == 3<sup>x</sup>"
   ]
  },
  {
   "cell_type": "code",
   "execution_count": null,
   "metadata": {},
   "outputs": [],
   "source": [
    "def isPowerOfThree(n):\n",
    "    if n <= 0:\n",
    "        return False\n",
    "\n",
    "    while n > 1:\n",
    "        if n % 3 != 0:\n",
    "            return False\n",
    "        n /= 3\n",
    "\n",
    "    return n == 1\n",
    "\n",
    "isPowerOfThree(3)"
   ]
  },
  {
   "cell_type": "markdown",
   "metadata": {},
   "source": [
    "**Factorial**"
   ]
  },
  {
   "cell_type": "code",
   "execution_count": null,
   "metadata": {},
   "outputs": [],
   "source": [
    "# Finding the factorial of a number\n",
    "\n",
    "number = int(input('Give me a number'))\n",
    "\n",
    "factorial = 1\n",
    "\n",
    "if number == 1 or number == 0:\n",
    "    factorial == 1\n",
    "else:\n",
    "    for i in range(number, 0, -1):\n",
    "        factorial = factorial * i\n",
    "\n",
    "print(factorial)\n",
    "\n",
    "# This can be even simpler\n",
    "\n",
    "number = int(input('Give me a number'))\n",
    "\n",
    "factorial_2 = 1\n",
    "\n",
    "for i in range(number, 0, -1):\n",
    "    factorial_2 *= i\n",
    "\n",
    "print(factorial_2)\n",
    "\n",
    "# This can be done with recursion but that requires a different level of minerals "
   ]
  },
  {
   "cell_type": "code",
   "execution_count": null,
   "metadata": {},
   "outputs": [],
   "source": [
    "# Create a Factorial function using recursion\n",
    "\n",
    "def factorial(number):\n",
    "    if number == 1 or number == 0:\n",
    "        return 1\n",
    "    else:\n",
    "        result = number * factorial(number-1)\n",
    "        return result\n",
    "\n",
    "\n",
    "print(factorial(5))"
   ]
  },
  {
   "cell_type": "markdown",
   "metadata": {},
   "source": [
    "**Counting number of vowels in a string**"
   ]
  },
  {
   "cell_type": "code",
   "execution_count": null,
   "metadata": {},
   "outputs": [],
   "source": [
    "user_input = input('Enter a word')\n",
    "\n",
    "vowels = ['a', 'e', 'i', 'o', 'u']\n",
    "\n",
    "vowels_count = 0\n",
    "\n",
    "split_string = list(user_input)\n",
    "\n",
    "for char in split_string:\n",
    "    if char in vowels:\n",
    "        vowels_count += 1\n",
    "    else:\n",
    "        vowels_count += 0\n",
    "\n",
    "print('There are', vowels_count, ' vowels in ', user_input)"
   ]
  },
  {
   "cell_type": "markdown",
   "metadata": {},
   "source": [
    "**Calculating the average of a list of numbers**"
   ]
  },
  {
   "cell_type": "code",
   "execution_count": null,
   "metadata": {},
   "outputs": [],
   "source": [
    "# Accept input and split numbers\n",
    "\n",
    "user_input = input('Enter a list of numbers , separated by a space')\n",
    "\n",
    "split_input = user_input.split()\n",
    "\n",
    "numbers = []\n",
    "\n",
    "# Convert numbers to integers and add them to array\n",
    "\n",
    "for num in split_input:\n",
    "    numbers.append(int(num))\n",
    "\n",
    "# Add numbers and count\n",
    "\n",
    "sum = 0\n",
    "\n",
    "for num in numbers:\n",
    "    sum += num\n",
    "\n",
    "quantity = len(numbers)\n",
    "\n",
    "average = sum / quantity\n",
    "\n",
    "print('The average of these numbers is ', average)"
   ]
  },
  {
   "cell_type": "code",
   "execution_count": null,
   "metadata": {},
   "outputs": [],
   "source": [
    "# Define Function\n",
    "\n",
    "def calculate_average(numbers):\n",
    "    sum = 0\n",
    "    quantity = len(numbers)\n",
    "    for num in numbers:\n",
    "        sum += num\n",
    "    average = sum / quantity\n",
    "    return average\n",
    "\n",
    "# Accept user input and pass the input to the function as an argument\n",
    "\n",
    "\n",
    "user_input = input('Enter a list of numbers separated by a space')\n",
    "\n",
    "split_input = user_input.split()\n",
    "\n",
    "numbers = []\n",
    "\n",
    "for num in split_input:\n",
    "    numbers.append(int(num))\n",
    "\n",
    "average = calculate_average(numbers)\n",
    "\n",
    "print('Average is', average)"
   ]
  },
  {
   "cell_type": "markdown",
   "metadata": {},
   "source": [
    "**Sum only even numbers in a list of numbers**"
   ]
  },
  {
   "cell_type": "code",
   "execution_count": null,
   "metadata": {},
   "outputs": [],
   "source": [
    "# Prompt input and split into individual numbers\n",
    "\n",
    "user_input = input(\"type out a list of numbers , separated by a space\")\n",
    "\n",
    "user_input_split = user_input.split()\n",
    "\n",
    "number_list = []\n",
    "\n",
    "# Convert each string into an integer\n",
    "\n",
    "for num in user_input_split:\n",
    "    number_list.append(int(num))\n",
    "\n",
    "# Check if even and add to another list where applicable\n",
    "\n",
    "even_numbers = 0\n",
    "\n",
    "for num in number_list:\n",
    "    if num % 2 == 0:\n",
    "        even_numbers += num\n",
    "\n",
    "print('The sum of the even numbers is', even_numbers)"
   ]
  },
  {
   "cell_type": "markdown",
   "metadata": {},
   "source": [
    "**Guessing Random Numbers**"
   ]
  },
  {
   "cell_type": "code",
   "execution_count": null,
   "metadata": {},
   "outputs": [],
   "source": [
    "# This is a guess the number game.\n",
    "import random\n",
    "secretNumber = random.randint(1, 20)\n",
    "print('I am thinking of a number between 1 and 20.')\n",
    "\n",
    "# Ask the player to guess 6 times.\n",
    "for guessesTaken in range(1, 7):\n",
    "    print('Take a guess.')\n",
    "    guess = int(input())\n",
    "\n",
    "    if guess < secretNumber:\n",
    "        print('Your guess is too low.')\n",
    "    elif guess > secretNumber:\n",
    "        print('Your guess is too high.')\n",
    "    else:\n",
    "        break    # This condition is the correct guess!\n",
    "\n",
    "if guess == secretNumber:\n",
    "    print('Good job! You guessed my number in ' +\n",
    "          str(guessesTaken) + ' guesses!')\n",
    "else:\n",
    "    print('Nope. The number I was thinking of was ' + str(secretNumber))"
   ]
  },
  {
   "cell_type": "markdown",
   "metadata": {},
   "source": [
    "**Moving all values except one to the front of a list**"
   ]
  },
  {
   "cell_type": "code",
   "execution_count": null,
   "metadata": {},
   "outputs": [],
   "source": [
    "nums = [0,1,2,2,3,0,4,2]\n",
    "\n",
    "pointer_1 = 0\n",
    "\n",
    "val = 2 \n",
    "\n",
    "for i in range (0,len(nums)) : \n",
    "    \n",
    "    if nums[i] != val : \n",
    "        \n",
    "        nums[pointer_1] = nums[i]\n",
    "        \n",
    "        pointer_1 += 1 \n",
    "        \n",
    "        \n",
    "for i in range (pointer_1, len(nums)) : \n",
    "    \n",
    "    nums[i] = '_'\n",
    "\n",
    "print(nums)        \n",
    "print(pointer_1)"
   ]
  },
  {
   "cell_type": "markdown",
   "metadata": {},
   "source": [
    "**Calculate Minimum Enegery Needed By a Drone**"
   ]
  },
  {
   "cell_type": "code",
   "execution_count": null,
   "metadata": {},
   "outputs": [],
   "source": [
    "def calcDroneMinEnergy(route):\n",
    "    # Start with no energy consumption\n",
    "    min_energy = 0\n",
    "    current_energy = 0\n",
    "\n",
    "    for i in range(1, len(route)):\n",
    "        # Calculate the change in altitude\n",
    "        delta_z = route[i][2] - route[i - 1][2]\n",
    "        \n",
    "        # Update the current energy level\n",
    "        current_energy -= delta_z\n",
    "\n",
    "        # If current energy is negative, that means we need more energy for ascent\n",
    "        if current_energy < min_energy:\n",
    "            min_energy = current_energy\n",
    "\n",
    "    # The minimum energy required is the absolute value of the minimum energy level reached\n",
    "    return abs(min_energy)\n",
    "\n",
    "# Example usage\n",
    "route = [ [0,   2, 10],[3,   5,  0],[9,  20,  6],[10, 12, 15],[10, 10,  8] ]\n",
    "print(calcDroneMinEnergy(route))  # Output will be 2"
   ]
  },
  {
   "cell_type": "markdown",
   "metadata": {},
   "source": [
    "**Sleep Sort**"
   ]
  },
  {
   "cell_type": "code",
   "execution_count": null,
   "metadata": {},
   "outputs": [],
   "source": [
    "import threading\n",
    "import time\n",
    "\n",
    "def sleep_sort(values):\n",
    "    output = []  # This will store the sorted values\n",
    "    \n",
    "    # Function for each thread to execute\n",
    "    def sleep_and_append(val):\n",
    "        # Sleep for a time proportional to the value\n",
    "        time.sleep(val)\n",
    "        output.append(val)\n",
    "    \n",
    "    threads = []\n",
    "    for val in values:\n",
    "        # Create a thread for each value in the input list\n",
    "        thread = threading.Thread(target=sleep_and_append, args=(val,))\n",
    "        threads.append(thread)\n",
    "        thread.start()  # Start the thread\n",
    "\n",
    "    # Wait for all threads to complete\n",
    "    for thread in threads:\n",
    "        thread.join()\n",
    "\n",
    "    return output\n",
    "\n",
    "# Example usage\n",
    "unsorted_values = [4, 2, 3, 1, 5]\n",
    "sorted_values = sleep_sort(unsorted_values)\n",
    "print(\"Sorted values:\", sorted_values)"
   ]
  },
  {
   "cell_type": "markdown",
   "metadata": {},
   "source": [
    "# Linked List Aglorithms "
   ]
  },
  {
   "cell_type": "markdown",
   "metadata": {},
   "source": [
    "**Palindrome Linked List**"
   ]
  },
  {
   "cell_type": "code",
   "execution_count": null,
   "metadata": {},
   "outputs": [],
   "source": [
    "# Palindrome linked list\n",
    "\n",
    "def is_palindrome_linked_list(head):\n",
    "    values = []\n",
    "\n",
    "    current = head\n",
    "\n",
    "    while current:\n",
    "        values.append(current.val)\n",
    "        current = current.next\n",
    "\n",
    "    return values == values[::-1]"
   ]
  },
  {
   "cell_type": "markdown",
   "metadata": {},
   "source": [
    "**Reverse Linked List**"
   ]
  },
  {
   "cell_type": "code",
   "execution_count": null,
   "metadata": {},
   "outputs": [],
   "source": [
    "def reverse_linked_list(head):\n",
    "\n",
    "    prev = None\n",
    "    current = head\n",
    "\n",
    "    while current:\n",
    "\n",
    "        next_node = current.next\n",
    "        current.next = prev\n",
    "        prev = current\n",
    "        current = next_node\n",
    "\n",
    "    return prev"
   ]
  },
  {
   "cell_type": "markdown",
   "metadata": {},
   "source": [
    "# Dynamic Programming Algorithms "
   ]
  },
  {
   "cell_type": "markdown",
   "metadata": {},
   "source": [
    "**Climbing Stairs**"
   ]
  },
  {
   "cell_type": "code",
   "execution_count": null,
   "metadata": {},
   "outputs": [],
   "source": [
    "class Solution:\n",
    "    def climbStairs(n: int) -> int:\n",
    "\n",
    "        if n < 2:\n",
    "\n",
    "            return 1\n",
    "\n",
    "        num_wys = [1] * (n + 2)\n",
    "\n",
    "        num_wys[0] = 1\n",
    "        num_wys[1] = 1\n",
    "\n",
    "        for i in range(2, n+1):\n",
    "\n",
    "            num_wys[i] = num_wys[i-2] + num_wys[i-1]\n",
    "\n",
    "        return num_wys[n]\n",
    "\n",
    "\n",
    "Solution.climbStairs(0)"
   ]
  },
  {
   "cell_type": "code",
   "execution_count": null,
   "metadata": {},
   "outputs": [],
   "source": [
    "def climbStairs(n):\n",
    "    \"\"\"\n",
    "    :type n: int\n",
    "    :rtype: int\n",
    "    \"\"\"\n",
    "    memo = {}\n",
    "\n",
    "    def helper(k):\n",
    "        if k < 0:\n",
    "            return 0\n",
    "        if k == 0:\n",
    "            return 1\n",
    "        if k not in memo:\n",
    "            memo[k] = helper(k-2) + helper(k-1)\n",
    "        return memo[k]\n",
    "    return memo\n",
    "\n",
    "\n",
    "climbStairs(9)"
   ]
  }
 ],
 "metadata": {
  "language_info": {
   "name": "python"
  }
 },
 "nbformat": 4,
 "nbformat_minor": 2
}
