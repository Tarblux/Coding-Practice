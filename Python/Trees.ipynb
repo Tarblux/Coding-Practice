{
 "cells": [
  {
   "cell_type": "markdown",
   "metadata": {},
   "source": [
    "**INORDER TRAVERSAL**"
   ]
  },
  {
   "cell_type": "code",
   "execution_count": null,
   "metadata": {},
   "outputs": [],
   "source": [
    "def inordertraversal (root):\n",
    "    \n",
    "    murray = []\n",
    "    \n",
    "    def travis(node,array):\n",
    "        \n",
    "        if not node : \n",
    "            \n",
    "            return array\n",
    "        \n",
    "        travis(node.left,array)\n",
    "        \n",
    "        array.append(node.val)\n",
    "        \n",
    "        travis(node.right,array)\n",
    "        \n",
    "        return array\n",
    "        \n",
    "    return travis(root,murray)"
   ]
  }
 ],
 "metadata": {
  "language_info": {
   "name": "python"
  }
 },
 "nbformat": 4,
 "nbformat_minor": 2
}
