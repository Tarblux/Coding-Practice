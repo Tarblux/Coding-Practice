{
 "cells": [
  {
   "cell_type": "markdown",
   "metadata": {},
   "source": [
    "**INORDER TRAVERSAL**"
   ]
  },
  {
   "cell_type": "code",
   "execution_count": 1,
   "metadata": {},
   "outputs": [],
   "source": [
    "def inordertraversal (root):\n",
    "    \n",
    "    murray = []\n",
    "    \n",
    "    def travis(node,array):\n",
    "        \n",
    "        if not node : \n",
    "            \n",
    "            return array\n",
    "        \n",
    "        travis(node.left,array)\n",
    "        \n",
    "        array.append(node.val)\n",
    "        \n",
    "        travis(node.right,array)\n",
    "        \n",
    "        return array\n",
    "        \n",
    "    return travis(root,murray)"
   ]
  },
  {
   "cell_type": "markdown",
   "metadata": {},
   "source": [
    "The above inorder traversal has a slight issue , the return values of each recursive call are not being stored at all and are basically discarded , the funnction luckily still works since we are appending the value but this is bad practice , here is the corrected code : "
   ]
  },
  {
   "cell_type": "code",
   "execution_count": 1,
   "metadata": {},
   "outputs": [],
   "source": [
    "def inordertraversal (root):\n",
    "    \n",
    "    murray = []\n",
    "    \n",
    "    def travis(node,array):\n",
    "        \n",
    "        if not node : \n",
    "            \n",
    "            return array\n",
    "        \n",
    "        array = travis(node.left,array)\n",
    "        \n",
    "        array.append(node.val)\n",
    "        \n",
    "        array = travis(node.right,array)\n",
    "        \n",
    "        return array\n",
    "        \n",
    "    return travis(root,murray)"
   ]
  }
 ],
 "metadata": {
  "kernelspec": {
   "display_name": "Python 3",
   "language": "python",
   "name": "python3"
  },
  "language_info": {
   "codemirror_mode": {
    "name": "ipython",
    "version": 3
   },
   "file_extension": ".py",
   "mimetype": "text/x-python",
   "name": "python",
   "nbconvert_exporter": "python",
   "pygments_lexer": "ipython3",
   "version": "3.9.13"
  }
 },
 "nbformat": 4,
 "nbformat_minor": 2
}
