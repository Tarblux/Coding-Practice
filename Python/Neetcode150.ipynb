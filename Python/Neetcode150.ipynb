{
 "cells": [
  {
   "cell_type": "markdown",
   "metadata": {},
   "source": [
    "**Arrays and Hashing**"
   ]
  },
  {
   "cell_type": "code",
   "execution_count": null,
   "metadata": {},
   "outputs": [],
   "source": [
    "# Contains Duplicate\n",
    "\n",
    "class Solution(object):\n",
    "    def containsDuplicate(self, nums):\n",
    "        \n",
    "        \n",
    "        nums.sort()\n",
    "        \n",
    "        for i in range(1,len(nums)):\n",
    "            \n",
    "            if nums[i] == nums[i-1]:\n",
    "                return True\n",
    "            \n",
    "        return False\n",
    "    \n",
    "# TC : O(nlogn) SC: O(1)\n",
    "\n",
    "class Solution(object):\n",
    "    def containsDuplicate(self, nums):\n",
    "        \n",
    "        seen  = set()\n",
    "        \n",
    "        for num in nums:\n",
    "            \n",
    "            if num in seen:\n",
    "                return True\n",
    "            \n",
    "            seen.add(num)\n",
    "            \n",
    "        return False\n",
    "    \n",
    "# TC : O(n) SC: O(n)"
   ]
  },
  {
   "cell_type": "code",
   "execution_count": null,
   "metadata": {},
   "outputs": [],
   "source": [
    "# Valid Anagram \n",
    "\n",
    "from collections import Counter\n",
    "\n",
    "class Solution:\n",
    "    def isAnagram(self, s: str, t: str) -> bool:\n",
    "        \n",
    "        if len(s) != len(t):\n",
    "            return False\n",
    "        \n",
    "        s_counts = Counter(s)\n",
    "        t_counts = Counter(t)\n",
    "        \n",
    "        return s_counts == t_counts\n",
    "    \n",
    "# TC : O(n)\n",
    "# SC :O(1), because there are only at most 26 unique lowercase letters (assuming lowercase English letters). \n",
    "# If working with Unicode characters, it would be O(n).\n",
    "\n",
    "class Solution:\n",
    "    def isAnagram(self, s: str, t: str) -> bool:\n",
    "        return sorted(s) == sorted(t)\n",
    "    \n",
    "#TC : O(nlogn)\n",
    "#SC : O(1) if sorting is in-place; otherwise, O(n).\n"
   ]
  }
 ],
 "metadata": {
  "language_info": {
   "name": "python"
  }
 },
 "nbformat": 4,
 "nbformat_minor": 2
}
