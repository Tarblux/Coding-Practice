{
 "cells": [
  {
   "cell_type": "markdown",
   "metadata": {},
   "source": [
    "**Arrays and Hashing**"
   ]
  },
  {
   "cell_type": "code",
   "execution_count": null,
   "metadata": {},
   "outputs": [],
   "source": [
    "# Contains Duplicate\n",
    "\n",
    "class Solution(object):\n",
    "    def containsDuplicate(self, nums):\n",
    "        \n",
    "        \n",
    "        nums.sort()\n",
    "        \n",
    "        for i in range(1,len(nums)):\n",
    "            \n",
    "            if nums[i] == nums[i-1]:\n",
    "                return True\n",
    "            \n",
    "        return False\n",
    "    \n",
    "# TC : O(nlogn) SC: O(1)\n",
    "\n",
    "class Solution(object):\n",
    "    def containsDuplicate(self, nums):\n",
    "        \n",
    "        seen  = set()\n",
    "        \n",
    "        for num in nums:\n",
    "            \n",
    "            if num in seen:\n",
    "                return True\n",
    "            \n",
    "            seen.add(num)\n",
    "            \n",
    "        return False\n",
    "    \n",
    "# TC : O(n) SC: O(n)"
   ]
  },
  {
   "cell_type": "code",
   "execution_count": null,
   "metadata": {},
   "outputs": [],
   "source": [
    "# Valid Anagram \n",
    "\n",
    "from collections import Counter\n",
    "\n",
    "class Solution:\n",
    "    def isAnagram(self, s: str, t: str) -> bool:\n",
    "        \n",
    "        if len(s) != len(t):\n",
    "            return False\n",
    "        \n",
    "        s_counts = Counter(s)\n",
    "        t_counts = Counter(t)\n",
    "        \n",
    "        return s_counts == t_counts\n",
    "    \n",
    "# TC : O(n)\n",
    "# SC :O(1), because there are only at most 26 unique lowercase letters (assuming lowercase English letters). \n",
    "# If working with Unicode characters, it would be O(n).\n",
    "\n",
    "class Solution:\n",
    "    def isAnagram(self, s: str, t: str) -> bool:\n",
    "        return sorted(s) == sorted(t)\n",
    "    \n",
    "#TC : O(nlogn)\n",
    "#SC : O(1) if sorting is in-place; otherwise, O(n).\n"
   ]
  },
  {
   "cell_type": "code",
   "execution_count": null,
   "metadata": {},
   "outputs": [],
   "source": [
    "# Group Anagrams\n",
    "\n",
    "from typing import List\n",
    "from collections import defaultdict\n",
    "\n",
    "class Solution:\n",
    "    def groupAnagrams(self,strs:List[str]) -> List[List[str]]:\n",
    "        \n",
    "        anagrams = defaultdict(list)\n",
    "        \n",
    "        for word in strs:\n",
    "            \n",
    "            sorted_word = tuple(sorted(word))\n",
    "            anagrams[sorted_word].append(word)\n",
    "            \n",
    "        grouped_anagrams = [group for group in anagrams.values()]\n",
    "        \n",
    "        return grouped_anagrams\n",
    "    \n",
    "#TC: O(n * k log k) (where n is the number of words, and k is the max length of a word)\n",
    "#SC: O(n)\n",
    "        "
   ]
  },
  {
   "cell_type": "code",
   "execution_count": null,
   "metadata": {},
   "outputs": [],
   "source": [
    "# Top K Frequent Elements\n",
    "\n",
    "import heapq\n",
    "\n",
    "class Solution:\n",
    "    def topKFrequent(self, nums: List[int], k: int) -> List[int]:\n",
    "        \n",
    "        heap = []\n",
    "        counts = Counter(nums)\n",
    "        \n",
    "        \n",
    "        \n",
    "        "
   ]
  }
 ],
 "metadata": {
  "language_info": {
   "name": "python"
  }
 },
 "nbformat": 4,
 "nbformat_minor": 2
}
